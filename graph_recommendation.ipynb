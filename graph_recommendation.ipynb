{
 "cells": [
  {
   "cell_type": "markdown",
   "metadata": {},
   "source": [
    "# Exploring Practical Recommendation Systems In Neo4j\n",
    "### __An Example With Collaborative Leveraging Graph Data Science and Machgine Learning__\n",
    "\n",
    "In this notebook we explore how to get started with practical & scalable recommendation in graph. We will walk through a fundamental example with recipe recommendation on dataset containing 231k recipes and around 226K users. We will leverage Neo4j and the Graph Data Science (GDS) library to quickly predict similar recipes based on user preferences and enable sub-second, rank-ordered, recommendation queries personalized to each user.\n",
    "\n",
    "This notebook is structured as follows: \n",
    "\n",
    "1. Setup some configurations and helper functions to allow us to work with the graph. \n",
    "2. Go over the source dataset and graph we will be using along with how to query basic profiling statistics to help us understand the graph and better prepare for analysis. \n",
    "3. Briefly introduce a technique called Collaborative filtering (CF) which will be our mechanism for recommendation in this notebook\n",
    "4. Explore Applying the Cypher query language for basic CF\n",
    "5. Scaling CF with the Graph Data Science (GDS) Library, leveraging Node embeddings and an ML technique called K-Nearest Neighbor (KNN)."
   ]
  },
  {
   "cell_type": "markdown",
   "metadata": {},
   "source": [
    "## Notebook Setup"
   ]
  },
  {
   "cell_type": "code",
   "execution_count": 64,
   "metadata": {},
   "outputs": [],
   "source": [
    "from graphdatascience import GraphDataScience\n",
    "import pandas as pd\n",
    "import configparser\n",
    "import os\n",
    "import numpy as np\n",
    "import importlib\n",
    "from tqdm.notebook import tqdm\n",
    "\n",
    "# Set pandas options\n",
    "pd.set_option('display.width', 0)\n",
    "pd.set_option('display.max_colwidth', 500)\n",
    "pd.set_option('display.max_rows', 12)"
   ]
  },
  {
   "cell_type": "code",
   "execution_count": 65,
   "metadata": {},
   "outputs": [
    {
     "name": "stdout",
     "output_type": "stream",
     "text": [
      "Modules reloaded\n"
     ]
    }
   ],
   "source": [
    "# Import custom modules\n",
    "from src import queries, utils\n",
    "\n",
    "# Reload modules\n",
    "importlib.reload(queries)\n",
    "importlib.reload(utils)\n",
    "\n",
    "print('Modules reloaded')"
   ]
  },
  {
   "cell_type": "markdown",
   "metadata": {},
   "source": [
    "### Neo4j Settings\n",
    "The `NEO4J_PROPERTIES_FILE` is an ini configuration file for Neo4j properties so this notebook can connect to\n",
    "your Neo4j instance and load data. The ini file should be formatted as follows\n",
    "```\n",
    "[NEO4J]\n",
    "PASSWORD=<password>\n",
    "USERNAME=<database name, is 'neo4j' by default>\n",
    "HOST=<host uri>\n",
    "\n",
    "```\n",
    "\n",
    "Set `NEO4J_PROPERTIES_FILE` to None or any non-existent location to use the below defaults\n",
    "```\n",
    "HOST = 'neo4j://localhost'\n",
    "USERNAME = 'neo4j'\n",
    "PASSWORD = 'password'\n",
    "```"
   ]
  },
  {
   "cell_type": "code",
   "execution_count": 66,
   "metadata": {},
   "outputs": [],
   "source": [
    "NEO4J_PROPERTIES_FILE = None #'/path/to/your/file.ini'\n",
    "# Replace with your Neo4j import directory\n",
    "NEO4J_IMPORT_DIR = '/home/luigi/.config/Neo4j Desktop/Application/relate-data/dbmss/dbms-c5c50094-d809-4eeb-84f4-745becc1cd52/import'"
   ]
  },
  {
   "cell_type": "code",
   "execution_count": 67,
   "metadata": {},
   "outputs": [
    {
     "name": "stdout",
     "output_type": "stream",
     "text": [
      "Could not find database properties file, using defaults\n"
     ]
    }
   ],
   "source": [
    "# Using an ini file for credentials, otherwise providing defaults\n",
    "HOST = 'bolt://localhost:7687'\n",
    "DATABASE = 'neo4j'\n",
    "PASSWORD = 'LU?vVtYf8])9;^z'\n",
    "\n",
    "if NEO4J_PROPERTIES_FILE is not None and os.path.exists(NEO4J_PROPERTIES_FILE):\n",
    "    config = configparser.RawConfigParser()\n",
    "    config.read(NEO4J_PROPERTIES_FILE)\n",
    "    HOST = config['NEO4J']['HOST']\n",
    "    USERNAME = config['NEO4J']['USERNAME']\n",
    "    PASSWORD = config['NEO4J']['PASSWORD']\n",
    "    print('Using custom database properties')\n",
    "else:\n",
    "    print('Could not find database properties file, using defaults')"
   ]
  },
  {
   "cell_type": "code",
   "execution_count": 68,
   "metadata": {},
   "outputs": [],
   "source": [
    "# Create a connection to the database\n",
    "gds = GraphDataScience(HOST, auth=(DATABASE, PASSWORD))"
   ]
  },
  {
   "cell_type": "markdown",
   "metadata": {},
   "source": [
    "```\n",
    "//visualize schema in Neo4j Browser\n",
    "neo4j$ CALL db.schema.visualization();\n",
    "```\n",
    "![image](./image/nodes.png)"
   ]
  },
  {
   "cell_type": "markdown",
   "metadata": {},
   "source": [
    "We see that recipes are modeled as nodes and can can be \"submitted\" or \"reviewed\" by users which are also modeled as nodes. \n",
    "Additionally, News also have ingredients and it's relation with recipe. These will be useful for extended analysis, but we will not be using them in this example. Our primary interest here is to get started with users and their reviews to derive recommendations."
   ]
  },
  {
   "cell_type": "markdown",
   "metadata": {},
   "source": [
    "### Graph Data Profiling\n",
    "Before diving right into into analysis, it is helpful to inspect some high level statistics of graph to get a better sense of size and connectivity."
   ]
  },
  {
   "cell_type": "markdown",
   "metadata": {},
   "source": [
    "#### Aggregate Counts\n",
    "Let's start with high node and relationships counts. These functions assume [APOC](https://neo4j.com/developer/neo4j-apoc/) is installed on your Neo4j DB."
   ]
  },
  {
   "cell_type": "code",
   "execution_count": 69,
   "metadata": {},
   "outputs": [
    {
     "name": "stdout",
     "output_type": "stream",
     "text": [
      "\n",
      "Query executed in 0.01 seconds\n"
     ]
    },
    {
     "data": {
      "text/html": [
       "<div>\n",
       "<style scoped>\n",
       "    .dataframe tbody tr th:only-of-type {\n",
       "        vertical-align: middle;\n",
       "    }\n",
       "\n",
       "    .dataframe tbody tr th {\n",
       "        vertical-align: top;\n",
       "    }\n",
       "\n",
       "    .dataframe thead th {\n",
       "        text-align: right;\n",
       "    }\n",
       "</style>\n",
       "<table border=\"1\" class=\"dataframe\">\n",
       "  <thead>\n",
       "    <tr style=\"text-align: right;\">\n",
       "      <th></th>\n",
       "      <th>label</th>\n",
       "      <th>nodeCount</th>\n",
       "    </tr>\n",
       "  </thead>\n",
       "  <tbody>\n",
       "    <tr>\n",
       "      <th>0</th>\n",
       "      <td>User</td>\n",
       "      <td>21199</td>\n",
       "    </tr>\n",
       "    <tr>\n",
       "      <th>1</th>\n",
       "      <td>Recipe</td>\n",
       "      <td>231637</td>\n",
       "    </tr>\n",
       "  </tbody>\n",
       "</table>\n",
       "</div>"
      ],
      "text/plain": [
       "    label  nodeCount\n",
       "0    User      21199\n",
       "1  Recipe     231637"
      ]
     },
     "execution_count": 69,
     "metadata": {},
     "output_type": "execute_result"
    }
   ],
   "source": [
    "# Total node count\n",
    "queries.get_node_counts(gds)"
   ]
  },
  {
   "cell_type": "code",
   "execution_count": 70,
   "metadata": {},
   "outputs": [
    {
     "name": "stdout",
     "output_type": "stream",
     "text": [
      "\n",
      "Query executed in 0.01 seconds\n"
     ]
    },
    {
     "data": {
      "text/html": [
       "<div>\n",
       "<style scoped>\n",
       "    .dataframe tbody tr th:only-of-type {\n",
       "        vertical-align: middle;\n",
       "    }\n",
       "\n",
       "    .dataframe tbody tr th {\n",
       "        vertical-align: top;\n",
       "    }\n",
       "\n",
       "    .dataframe thead th {\n",
       "        text-align: right;\n",
       "    }\n",
       "</style>\n",
       "<table border=\"1\" class=\"dataframe\">\n",
       "  <thead>\n",
       "    <tr style=\"text-align: right;\">\n",
       "      <th></th>\n",
       "      <th>type</th>\n",
       "      <th>relationshipCount</th>\n",
       "    </tr>\n",
       "  </thead>\n",
       "  <tbody>\n",
       "    <tr>\n",
       "      <th>0</th>\n",
       "      <td>SUBMITTED</td>\n",
       "      <td>194946</td>\n",
       "    </tr>\n",
       "    <tr>\n",
       "      <th>1</th>\n",
       "      <td>REVIEWED</td>\n",
       "      <td>30000</td>\n",
       "    </tr>\n",
       "  </tbody>\n",
       "</table>\n",
       "</div>"
      ],
      "text/plain": [
       "        type  relationshipCount\n",
       "0  SUBMITTED             194946\n",
       "1   REVIEWED              30000"
      ]
     },
     "execution_count": 70,
     "metadata": {},
     "output_type": "execute_result"
    }
   ],
   "source": [
    "# total relationship counts\n",
    "queries.get_relationship_counts(gds)"
   ]
  },
  {
   "cell_type": "markdown",
   "metadata": {},
   "source": [
    "As far as search recommendation is concerns this is a relatively modestly sized graph, with only around 226K users, 231k news articles, and around 500k total creations/reviews."
   ]
  },
  {
   "cell_type": "markdown",
   "metadata": {},
   "source": [
    "#### Reviews Distributions\n",
    "Next, we can look at the distribution of events per user. It is helpful to check this distribution to make sure that:\n",
    "1. The graph is reasonably well connected as the quality of our upcoming recommendation technique will depend on a reasonably well connected graph.\n",
    "2. We do not have any large [supernodes](https://medium.com/neo4j/graph-modeling-all-about-super-nodes-d6ad7e11015b), i.e. nodes with very high numbers of relationships. What qualifies as a supernode varies greatly by use case. For this, I would be concerned about users with tens of thousands of clicks."
   ]
  },
  {
   "cell_type": "code",
   "execution_count": 71,
   "metadata": {},
   "outputs": [
    {
     "data": {
      "image/png": "[encoded data removed]",
      "text/plain": [
       "<Figure size 1600x500 with 2 Axes>"
      ]
     },
     "metadata": {},
     "output_type": "display_data"
    }
   ],
   "source": [
    "# Define the top number of rewires\n",
    "n_rew = 100\n",
    "\n",
    "# Plot interactions distribution\n",
    "utils.plot_interactions_distribution(gds, n_rew)"
   ]
  },
  {
   "cell_type": "markdown",
   "metadata": {},
   "source": [
    "The above shows the distributions for total interactions (`REVIEWED` and `SUBMITTED`) as well as reviews (just `REVIEWED`) by user. We see that the distributions have heavy left tails, showing that activity is not uniformly distributed among users, but rather there is relatively small fraction of users that account for a large number of interactions. This is somewhat expected. "
   ]
  },
  {
   "cell_type": "markdown",
   "metadata": {},
   "source": [
    "We can do a similar breakdown for Recipe below."
   ]
  },
  {
   "cell_type": "code",
   "execution_count": 72,
   "metadata": {},
   "outputs": [
    {
     "data": {
      "image/png": "[encoded data removed]",
      "text/plain": [
       "<Figure size 1600x500 with 2 Axes>"
      ]
     },
     "metadata": {},
     "output_type": "display_data"
    }
   ],
   "source": [
    "# Plot interactions distribution\n",
    "utils.plot_recipe_interactions_distribution(gds, n_rew)"
   ]
  },
  {
   "cell_type": "markdown",
   "metadata": {},
   "source": [
    "## Collaborative Filtering (CF)\n",
    "\n",
    "There are many different types of recommendations systems. In this example we will apply a technique called Collaborative Filtering (CF), which is the practice of automatically predicting a user's preferences based on the actions of similar users.\n",
    "\n",
    "### User vs Item Based CF\n",
    "Roughly speaking there are two main classes of collaborative filtering\n",
    "1. User-based, which is focuses on directly calculating similarity between users based on their interaction with items\n",
    "2. Item-based, which measures the similarity between pairs of items based on correlated user activity, such as the same users liking, viewing, rating, or otherwise similarly interacting with items\n",
    "\n",
    "Our approach today will focus on the later, item-based CF. Item-based CF will be more manageable and scalable then user-based CF for many problem domains. There are a couple reasons for this. First, because there are way fewer items then users in most applied cases so there are less entities to compare. Second, and perhaps more importantly, User preferences can also be dynamic and change overtime. For example, in a Movie example, a user could be mostly interested in Sci Fi movies but go through a brief stint in Westerns, and making recommendations for Westerns to other Sci Fi fans who historically viewed the same things may not be the best thing. Often the best indicator of a user's current interest is their most recent activity, and item based filtering gives you better flexibility to find similarities based off the most recent item(s) submitted, rated, etc."
   ]
  },
  {
   "cell_type": "markdown",
   "metadata": {},
   "source": [
    "## Basic Cypher Queries for CF\n",
    "From here we could try just using Cypher to accomplish basic Collaborative Filtering. For example, take the below user and the news they clicked. You can see a mixed interest between autos, finance, US news, and a couple other categories."
   ]
  },
  {
   "cell_type": "code",
   "execution_count": 73,
   "metadata": {},
   "outputs": [
    {
     "name": "stdout",
     "output_type": "stream",
     "text": [
      "\n",
      "Query executed in 0.02 seconds\n",
      "Selected user 424680 with 209 reviews\n"
     ]
    }
   ],
   "source": [
    "# Select a random user that has at least n_rew reviews\n",
    "random_user_query = queries.get_random_user(gds, n_rew)\n",
    "\n",
    "# Get the user ID\n",
    "USER_ID = str(random_user_query['randomUserID'][0])\n",
    "print(f\"Selected user {USER_ID} with\", random_user_query['reviewCount'][0], 'reviews')"
   ]
  },
  {
   "cell_type": "code",
   "execution_count": 74,
   "metadata": {},
   "outputs": [
    {
     "name": "stdout",
     "output_type": "stream",
     "text": [
      "\n",
      "Query executed in 0.05 seconds\n"
     ]
    },
    {
     "data": {
      "text/html": [
       "<div>\n",
       "<style scoped>\n",
       "    .dataframe tbody tr th:only-of-type {\n",
       "        vertical-align: middle;\n",
       "    }\n",
       "\n",
       "    .dataframe tbody tr th {\n",
       "        vertical-align: top;\n",
       "    }\n",
       "\n",
       "    .dataframe thead th {\n",
       "        text-align: right;\n",
       "    }\n",
       "</style>\n",
       "<table border=\"1\" class=\"dataframe\">\n",
       "  <thead>\n",
       "    <tr style=\"text-align: right;\">\n",
       "      <th></th>\n",
       "      <th>recipeID</th>\n",
       "      <th>name</th>\n",
       "      <th>nutrition</th>\n",
       "      <th>n_ingredients</th>\n",
       "      <th>interactionDate</th>\n",
       "      <th>interactionType</th>\n",
       "    </tr>\n",
       "  </thead>\n",
       "  <tbody>\n",
       "    <tr>\n",
       "      <th>0</th>\n",
       "      <td>416414</td>\n",
       "      <td>restaurant style chinese orange chicken with spring peas</td>\n",
       "      <td>[389.4, 10.0, 73.0, 28.0, 72.0, 6.0, 14.0]</td>\n",
       "      <td>18</td>\n",
       "      <td>2010-10-14</td>\n",
       "      <td>REVIEWED</td>\n",
       "    </tr>\n",
       "    <tr>\n",
       "      <th>1</th>\n",
       "      <td>333002</td>\n",
       "      <td>russian style chicken</td>\n",
       "      <td>[395.4, 23.0, 227.0, 47.0, 3.0, 11.0, 22.0]</td>\n",
       "      <td>5</td>\n",
       "      <td>2010-07-22</td>\n",
       "      <td>REVIEWED</td>\n",
       "    </tr>\n",
       "    <tr>\n",
       "      <th>2</th>\n",
       "      <td>399212</td>\n",
       "      <td>dried cherry couscous salad</td>\n",
       "      <td>[85.9, 3.0, 6.0, 4.0, 5.0, 1.0, 4.0]</td>\n",
       "      <td>10</td>\n",
       "      <td>2010-07-19</td>\n",
       "      <td>REVIEWED</td>\n",
       "    </tr>\n",
       "    <tr>\n",
       "      <th>3</th>\n",
       "      <td>169915</td>\n",
       "      <td>tortellini with vegetables</td>\n",
       "      <td>[176.2, 16.0, 34.0, 8.0, 14.0, 15.0, 4.0]</td>\n",
       "      <td>12</td>\n",
       "      <td>2010-07-18</td>\n",
       "      <td>REVIEWED</td>\n",
       "    </tr>\n",
       "    <tr>\n",
       "      <th>4</th>\n",
       "      <td>238268</td>\n",
       "      <td>favorite omelet</td>\n",
       "      <td>[580.0, 66.0, 10.0, 17.0, 84.0, 96.0, 1.0]</td>\n",
       "      <td>9</td>\n",
       "      <td>2010-07-06</td>\n",
       "      <td>REVIEWED</td>\n",
       "    </tr>\n",
       "  </tbody>\n",
       "</table>\n",
       "</div>"
      ],
      "text/plain": [
       "  recipeID                                                      name  \\\n",
       "0   416414  restaurant style chinese orange chicken with spring peas   \n",
       "1   333002                                     russian style chicken   \n",
       "2   399212                               dried cherry couscous salad   \n",
       "3   169915                                tortellini with vegetables   \n",
       "4   238268                                           favorite omelet   \n",
       "\n",
       "                                     nutrition n_ingredients interactionDate  \\\n",
       "0   [389.4, 10.0, 73.0, 28.0, 72.0, 6.0, 14.0]            18      2010-10-14   \n",
       "1  [395.4, 23.0, 227.0, 47.0, 3.0, 11.0, 22.0]             5      2010-07-22   \n",
       "2         [85.9, 3.0, 6.0, 4.0, 5.0, 1.0, 4.0]            10      2010-07-19   \n",
       "3    [176.2, 16.0, 34.0, 8.0, 14.0, 15.0, 4.0]            12      2010-07-18   \n",
       "4   [580.0, 66.0, 10.0, 17.0, 84.0, 96.0, 1.0]             9      2010-07-06   \n",
       "\n",
       "  interactionType  \n",
       "0        REVIEWED  \n",
       "1        REVIEWED  \n",
       "2        REVIEWED  \n",
       "3        REVIEWED  \n",
       "4        REVIEWED  "
      ]
     },
     "execution_count": 74,
     "metadata": {},
     "output_type": "execute_result"
    }
   ],
   "source": [
    "# Print some of the user interactions\n",
    "user_interactions = queries.get_user_interactions(gds, USER_ID)\n",
    "interacted_recipes = list(set(user_interactions['recipeID']))\n",
    "\n",
    "# Show result\n",
    "user_interactions.head()"
   ]
  },
  {
   "cell_type": "markdown",
   "metadata": {},
   "source": [
    "Assuming we can measure the similarity of user interests via commonly reviewed recipes, we can do a three hop query to find potential recommendations for user `27711` based on the activity of users that reviewed the same recipe as `27711` (or even reviewed their recipe high).\n",
    "\n",
    "With the below query we can get an aggregate count of the nodes we would need to traverse over to get the recommendations."
   ]
  },
  {
   "cell_type": "code",
   "execution_count": 75,
   "metadata": {},
   "outputs": [
    {
     "name": "stdout",
     "output_type": "stream",
     "text": [
      "\n",
      "Query executed in 0.19 seconds\n"
     ]
    },
    {
     "data": {
      "text/html": [
       "<div>\n",
       "<style scoped>\n",
       "    .dataframe tbody tr th:only-of-type {\n",
       "        vertical-align: middle;\n",
       "    }\n",
       "\n",
       "    .dataframe tbody tr th {\n",
       "        vertical-align: top;\n",
       "    }\n",
       "\n",
       "    .dataframe thead th {\n",
       "        text-align: right;\n",
       "    }\n",
       "</style>\n",
       "<table border=\"1\" class=\"dataframe\">\n",
       "  <thead>\n",
       "    <tr style=\"text-align: right;\">\n",
       "      <th></th>\n",
       "      <th>userId</th>\n",
       "      <th>interactedRecipesCount</th>\n",
       "      <th>likeUsersCount</th>\n",
       "      <th>potentialRecommendationsCount</th>\n",
       "    </tr>\n",
       "  </thead>\n",
       "  <tbody>\n",
       "    <tr>\n",
       "      <th>0</th>\n",
       "      <td>424680</td>\n",
       "      <td>197</td>\n",
       "      <td>622</td>\n",
       "      <td>74950</td>\n",
       "    </tr>\n",
       "  </tbody>\n",
       "</table>\n",
       "</div>"
      ],
      "text/plain": [
       "   userId  interactedRecipesCount  likeUsersCount  \\\n",
       "0  424680                     197             622   \n",
       "\n",
       "   potentialRecommendationsCount  \n",
       "0                          74950  "
      ]
     },
     "execution_count": 75,
     "metadata": {},
     "output_type": "execute_result"
    }
   ],
   "source": [
    "# Get the number of possible suggestions\n",
    "queries.get_hops_count(gds, USER_ID)"
   ]
  },
  {
   "cell_type": "markdown",
   "metadata": {},
   "source": [
    "While the above can work well in some cases, and while it can certainly be a massive improvement from joining SQL tables or cross-walking over document stores, notice that we get a lot of potential recommendations back (about 13K). And this is just a sample of the the total dataset.\n",
    "\n",
    "For production use cases where recommendations will need to be queried frequently, this method will have trouble scaling as the number of users, amount of content, and/or observed engagement grows. We need some other strategy to help narrow down the results. There are a few different ways we can accomplish this, but one robust and scalable way to do so is with the [Neo4j Graph Data Science (GDS) Library](https://neo4j.com/docs/graph-data-science/current/)."
   ]
  },
  {
   "cell_type": "markdown",
   "metadata": {},
   "source": [
    "### Recommendation based on favorite ingredients\n",
    "First let's make a list of excluded ingredients. Those ingredients won't be considered as they're common ingredients in recipies."
   ]
  },
  {
   "cell_type": "code",
   "execution_count": 76,
   "metadata": {},
   "outputs": [],
   "source": [
    "# Define a list of (common) ingredients to exclude\n",
    "excluded_ingr = [\n",
    "    'butter', 'salt', 'sugar', 'all-purpose flour', 'baking powder', 'baking soda', \n",
    "    'olive oil', 'pepper', 'water', 'flour', 'eggs', 'egg'\n",
    "]\n",
    "# Define how many favorite ingredients we want to take into account\n",
    "max_fav_ingr = 10\n",
    "# Define how many recipe to suggest\n",
    "n_suggestions = 5"
   ]
  },
  {
   "cell_type": "code",
   "execution_count": 77,
   "metadata": {},
   "outputs": [
    {
     "name": "stdout",
     "output_type": "stream",
     "text": [
      "\n",
      "Query executed in 0.01 seconds\n"
     ]
    },
    {
     "data": {
      "text/html": [
       "<div>\n",
       "<style scoped>\n",
       "    .dataframe tbody tr th:only-of-type {\n",
       "        vertical-align: middle;\n",
       "    }\n",
       "\n",
       "    .dataframe tbody tr th {\n",
       "        vertical-align: top;\n",
       "    }\n",
       "\n",
       "    .dataframe thead th {\n",
       "        text-align: right;\n",
       "    }\n",
       "</style>\n",
       "<table border=\"1\" class=\"dataframe\">\n",
       "  <thead>\n",
       "    <tr style=\"text-align: right;\">\n",
       "      <th></th>\n",
       "      <th>favoriteIngredient</th>\n",
       "      <th>favCount</th>\n",
       "    </tr>\n",
       "  </thead>\n",
       "  <tbody>\n",
       "    <tr>\n",
       "      <th>0</th>\n",
       "      <td>granulated sugar</td>\n",
       "      <td>257</td>\n",
       "    </tr>\n",
       "    <tr>\n",
       "      <th>1</th>\n",
       "      <td>unsalted butter</td>\n",
       "      <td>237</td>\n",
       "    </tr>\n",
       "    <tr>\n",
       "      <th>2</th>\n",
       "      <td>ground cinnamon</td>\n",
       "      <td>101</td>\n",
       "    </tr>\n",
       "    <tr>\n",
       "      <th>3</th>\n",
       "      <td>milk</td>\n",
       "      <td>92</td>\n",
       "    </tr>\n",
       "    <tr>\n",
       "      <th>4</th>\n",
       "      <td>onion</td>\n",
       "      <td>90</td>\n",
       "    </tr>\n",
       "    <tr>\n",
       "      <th>5</th>\n",
       "      <td>vanilla extract</td>\n",
       "      <td>84</td>\n",
       "    </tr>\n",
       "    <tr>\n",
       "      <th>6</th>\n",
       "      <td>brown sugar</td>\n",
       "      <td>83</td>\n",
       "    </tr>\n",
       "    <tr>\n",
       "      <th>7</th>\n",
       "      <td>orange juice</td>\n",
       "      <td>74</td>\n",
       "    </tr>\n",
       "    <tr>\n",
       "      <th>8</th>\n",
       "      <td>lemon juice</td>\n",
       "      <td>67</td>\n",
       "    </tr>\n",
       "    <tr>\n",
       "      <th>9</th>\n",
       "      <td>honey</td>\n",
       "      <td>61</td>\n",
       "    </tr>\n",
       "  </tbody>\n",
       "</table>\n",
       "</div>"
      ],
      "text/plain": [
       "  favoriteIngredient  favCount\n",
       "0   granulated sugar       257\n",
       "1    unsalted butter       237\n",
       "2    ground cinnamon       101\n",
       "3               milk        92\n",
       "4              onion        90\n",
       "5    vanilla extract        84\n",
       "6        brown sugar        83\n",
       "7       orange juice        74\n",
       "8        lemon juice        67\n",
       "9              honey        61"
      ]
     },
     "execution_count": 77,
     "metadata": {},
     "output_type": "execute_result"
    }
   ],
   "source": [
    "# Compute top 5 user ingredients\n",
    "favIngr = queries.get_user_favourite_ingredients(\n",
    "    gds, \n",
    "    USER_ID, \n",
    "    max_fav_ingr, \n",
    "    excluded_ingr\n",
    ")\n",
    "\n",
    "# Save data\n",
    "favorite_ingredients = list(favIngr['favoriteIngredient'])\n",
    "\n",
    "# Show result\n",
    "favIngr[['favoriteIngredient', 'favCount']]"
   ]
  },
  {
   "cell_type": "code",
   "execution_count": 78,
   "metadata": {},
   "outputs": [
    {
     "name": "stdout",
     "output_type": "stream",
     "text": [
      "\n",
      "Query executed in 1.72 seconds\n"
     ]
    },
    {
     "data": {
      "text/html": [
       "<div>\n",
       "<style scoped>\n",
       "    .dataframe tbody tr th:only-of-type {\n",
       "        vertical-align: middle;\n",
       "    }\n",
       "\n",
       "    .dataframe tbody tr th {\n",
       "        vertical-align: top;\n",
       "    }\n",
       "\n",
       "    .dataframe thead th {\n",
       "        text-align: right;\n",
       "    }\n",
       "</style>\n",
       "<table border=\"1\" class=\"dataframe\">\n",
       "  <thead>\n",
       "    <tr style=\"text-align: right;\">\n",
       "      <th></th>\n",
       "      <th>recipeID</th>\n",
       "      <th>recipeName</th>\n",
       "      <th>recipeIngredients</th>\n",
       "      <th>matchCount</th>\n",
       "      <th>totalIngredients</th>\n",
       "      <th>relevanceScore</th>\n",
       "    </tr>\n",
       "  </thead>\n",
       "  <tbody>\n",
       "    <tr>\n",
       "      <th>0</th>\n",
       "      <td>148850</td>\n",
       "      <td>cinnamon toast toddy</td>\n",
       "      <td>[brown sugar, ground cinnamon, unsalted butter, milk]</td>\n",
       "      <td>4</td>\n",
       "      <td>4</td>\n",
       "      <td>1.609438</td>\n",
       "    </tr>\n",
       "    <tr>\n",
       "      <th>1</th>\n",
       "      <td>275828</td>\n",
       "      <td>broiled pineapple with rum sauce</td>\n",
       "      <td>[unsalted butter, vanilla extract, brown sugar, granulated sugar, fresh pineapple, dark rum, ground cinnamon]</td>\n",
       "      <td>5</td>\n",
       "      <td>7</td>\n",
       "      <td>1.485315</td>\n",
       "    </tr>\n",
       "    <tr>\n",
       "      <th>2</th>\n",
       "      <td>138317</td>\n",
       "      <td>mexican hot cocoa</td>\n",
       "      <td>[milk, vanilla extract, nestle toll house baking cocoa, ground cinnamon, granulated sugar]</td>\n",
       "      <td>4</td>\n",
       "      <td>5</td>\n",
       "      <td>1.433408</td>\n",
       "    </tr>\n",
       "    <tr>\n",
       "      <th>3</th>\n",
       "      <td>168548</td>\n",
       "      <td>sweet plantains</td>\n",
       "      <td>[plantains, ground cinnamon, unsalted butter, vanilla extract, brown sugar]</td>\n",
       "      <td>4</td>\n",
       "      <td>5</td>\n",
       "      <td>1.433408</td>\n",
       "    </tr>\n",
       "    <tr>\n",
       "      <th>4</th>\n",
       "      <td>225069</td>\n",
       "      <td>atole</td>\n",
       "      <td>[ground cinnamon, milk, vanilla extract, masa harina, brown sugar]</td>\n",
       "      <td>4</td>\n",
       "      <td>5</td>\n",
       "      <td>1.433408</td>\n",
       "    </tr>\n",
       "  </tbody>\n",
       "</table>\n",
       "</div>"
      ],
      "text/plain": [
       "  recipeID                        recipeName  \\\n",
       "0   148850              cinnamon toast toddy   \n",
       "1   275828  broiled pineapple with rum sauce   \n",
       "2   138317                 mexican hot cocoa   \n",
       "3   168548                   sweet plantains   \n",
       "4   225069                             atole   \n",
       "\n",
       "                                                                                               recipeIngredients  \\\n",
       "0                                                          [brown sugar, ground cinnamon, unsalted butter, milk]   \n",
       "1  [unsalted butter, vanilla extract, brown sugar, granulated sugar, fresh pineapple, dark rum, ground cinnamon]   \n",
       "2                     [milk, vanilla extract, nestle toll house baking cocoa, ground cinnamon, granulated sugar]   \n",
       "3                                    [plantains, ground cinnamon, unsalted butter, vanilla extract, brown sugar]   \n",
       "4                                             [ground cinnamon, milk, vanilla extract, masa harina, brown sugar]   \n",
       "\n",
       "   matchCount  totalIngredients  relevanceScore  \n",
       "0           4                 4        1.609438  \n",
       "1           5                 7        1.485315  \n",
       "2           4                 5        1.433408  \n",
       "3           4                 5        1.433408  \n",
       "4           4                 5        1.433408  "
      ]
     },
     "execution_count": 78,
     "metadata": {},
     "output_type": "execute_result"
    }
   ],
   "source": [
    "# Suggest recipes based on user's favorites ingredients\n",
    "favIngrRec = queries.get_recipe_w_ingreds(\n",
    "    gds, \n",
    "    n_suggestions, \n",
    "    interacted_recipes, \n",
    "    favorite_ingredients, \n",
    "    excluded_ingr\n",
    ")\n",
    "\n",
    "# Show result\n",
    "favIngrRec.head()"
   ]
  },
  {
   "cell_type": "markdown",
   "metadata": {},
   "source": [
    "### Recommendation based on nutritonal properties\n",
    "In addition to suggestin recipes based on preferred ingredients, it's also possible to identify user preferences on nutritional values and make suggestions based on this data. We will study a user favorite nutritional values based on both the recipes he has submitted and reviewed."
   ]
  },
  {
   "cell_type": "code",
   "execution_count": 79,
   "metadata": {},
   "outputs": [
    {
     "name": "stdout",
     "output_type": "stream",
     "text": [
      "\n",
      "Query executed in 0.12 seconds\n"
     ]
    },
    {
     "data": {
      "text/html": [
       "<div>\n",
       "<style scoped>\n",
       "    .dataframe tbody tr th:only-of-type {\n",
       "        vertical-align: middle;\n",
       "    }\n",
       "\n",
       "    .dataframe tbody tr th {\n",
       "        vertical-align: top;\n",
       "    }\n",
       "\n",
       "    .dataframe thead th {\n",
       "        text-align: right;\n",
       "    }\n",
       "</style>\n",
       "<table border=\"1\" class=\"dataframe\">\n",
       "  <thead>\n",
       "    <tr style=\"text-align: right;\">\n",
       "      <th></th>\n",
       "      <th>recipeID</th>\n",
       "      <th>calories</th>\n",
       "      <th>totalFat</th>\n",
       "      <th>sugar</th>\n",
       "      <th>sodium</th>\n",
       "      <th>protein</th>\n",
       "    </tr>\n",
       "  </thead>\n",
       "  <tbody>\n",
       "    <tr>\n",
       "      <th>0</th>\n",
       "      <td>226512</td>\n",
       "      <td>319.7</td>\n",
       "      <td>16.0</td>\n",
       "      <td>178.0</td>\n",
       "      <td>6.0</td>\n",
       "      <td>9.0</td>\n",
       "    </tr>\n",
       "    <tr>\n",
       "      <th>1</th>\n",
       "      <td>393840</td>\n",
       "      <td>161.3</td>\n",
       "      <td>14.0</td>\n",
       "      <td>12.0</td>\n",
       "      <td>10.0</td>\n",
       "      <td>9.0</td>\n",
       "    </tr>\n",
       "    <tr>\n",
       "      <th>2</th>\n",
       "      <td>307716</td>\n",
       "      <td>219.6</td>\n",
       "      <td>31.0</td>\n",
       "      <td>16.0</td>\n",
       "      <td>2.0</td>\n",
       "      <td>5.0</td>\n",
       "    </tr>\n",
       "    <tr>\n",
       "      <th>3</th>\n",
       "      <td>324127</td>\n",
       "      <td>153.2</td>\n",
       "      <td>0.0</td>\n",
       "      <td>89.0</td>\n",
       "      <td>0.0</td>\n",
       "      <td>1.0</td>\n",
       "    </tr>\n",
       "    <tr>\n",
       "      <th>4</th>\n",
       "      <td>414823</td>\n",
       "      <td>105.2</td>\n",
       "      <td>10.0</td>\n",
       "      <td>38.0</td>\n",
       "      <td>0.0</td>\n",
       "      <td>3.0</td>\n",
       "    </tr>\n",
       "  </tbody>\n",
       "</table>\n",
       "</div>"
      ],
      "text/plain": [
       "  recipeID  calories  totalFat  sugar  sodium  protein\n",
       "0   226512     319.7      16.0  178.0     6.0      9.0\n",
       "1   393840     161.3      14.0   12.0    10.0      9.0\n",
       "2   307716     219.6      31.0   16.0     2.0      5.0\n",
       "3   324127     153.2       0.0   89.0     0.0      1.0\n",
       "4   414823     105.2      10.0   38.0     0.0      3.0"
      ]
     },
     "execution_count": 79,
     "metadata": {},
     "output_type": "execute_result"
    }
   ],
   "source": [
    "# Obtain nutritional values\n",
    "nutrVal = queries.get_user_nutritional_values(\n",
    "    gds, \n",
    "    USER_ID\n",
    ")\n",
    "\n",
    "# Show result\n",
    "nutrVal.head()"
   ]
  },
  {
   "cell_type": "code",
   "execution_count": 80,
   "metadata": {},
   "outputs": [
    {
     "data": {
      "image/png": "[encoded data removed]",
      "text/plain": [
       "<Figure size 1600x300 with 5 Axes>"
      ]
     },
     "metadata": {},
     "output_type": "display_data"
    },
    {
     "name": "stdout",
     "output_type": "stream",
     "text": [
      "50% of calories data lies between 140.40 and 373.00\n",
      "50% of total fat data lies between 4.00 and 24.00\n",
      "50% of sugar data lies between 21.50 and 116.00\n",
      "50% of sodium data lies between 1.00 and 13.00\n",
      "50% of protein data lies between 4.00 and 19.00\n"
     ]
    }
   ],
   "source": [
    "# Plot nutritional values\n",
    "utils.plot_nutritional_values(nutrVal)\n",
    "# Get nutritional values ranges\n",
    "calories_range, fat_range, sugar_range, sodium_range, protein_range = utils.get_nutritional_values(nutrVal)"
   ]
  },
  {
   "cell_type": "code",
   "execution_count": 81,
   "metadata": {},
   "outputs": [
    {
     "name": "stdout",
     "output_type": "stream",
     "text": [
      "\n",
      "Query executed in 0.07 seconds\n"
     ]
    },
    {
     "data": {
      "text/html": [
       "<div>\n",
       "<style scoped>\n",
       "    .dataframe tbody tr th:only-of-type {\n",
       "        vertical-align: middle;\n",
       "    }\n",
       "\n",
       "    .dataframe tbody tr th {\n",
       "        vertical-align: top;\n",
       "    }\n",
       "\n",
       "    .dataframe thead th {\n",
       "        text-align: right;\n",
       "    }\n",
       "</style>\n",
       "<table border=\"1\" class=\"dataframe\">\n",
       "  <thead>\n",
       "    <tr style=\"text-align: right;\">\n",
       "      <th></th>\n",
       "      <th>recipeID</th>\n",
       "      <th>recipeName</th>\n",
       "      <th>nutritionList</th>\n",
       "    </tr>\n",
       "  </thead>\n",
       "  <tbody>\n",
       "    <tr>\n",
       "      <th>0</th>\n",
       "      <td>100013</td>\n",
       "      <td>no crust pumpkin pie</td>\n",
       "      <td>[231.5, 8.0, 115.0, 12.0, 11.0, 13.0, 13.0]</td>\n",
       "    </tr>\n",
       "    <tr>\n",
       "      <th>1</th>\n",
       "      <td>100028</td>\n",
       "      <td>my special bread pudding</td>\n",
       "      <td>[171.8, 12.0, 69.0, 2.0, 7.0, 23.0, 6.0]</td>\n",
       "    </tr>\n",
       "    <tr>\n",
       "      <th>2</th>\n",
       "      <td>100068</td>\n",
       "      <td>whisky  or bourbon  baked sweet potatoes  or yams</td>\n",
       "      <td>[324.1, 9.0, 56.0, 2.0, 5.0, 18.0, 20.0]</td>\n",
       "    </tr>\n",
       "    <tr>\n",
       "      <th>3</th>\n",
       "      <td>100083</td>\n",
       "      <td>herb mustard roast potatoes</td>\n",
       "      <td>[233.4, 12.0, 12.0, 10.0, 10.0, 5.0, 12.0]</td>\n",
       "    </tr>\n",
       "    <tr>\n",
       "      <th>4</th>\n",
       "      <td>100124</td>\n",
       "      <td>sun nut bread  bread machine</td>\n",
       "      <td>[170.7, 8.0, 20.0, 4.0, 9.0, 8.0, 8.0]</td>\n",
       "    </tr>\n",
       "  </tbody>\n",
       "</table>\n",
       "</div>"
      ],
      "text/plain": [
       "  recipeID                                         recipeName  \\\n",
       "0   100013                               no crust pumpkin pie   \n",
       "1   100028                           my special bread pudding   \n",
       "2   100068  whisky  or bourbon  baked sweet potatoes  or yams   \n",
       "3   100083                        herb mustard roast potatoes   \n",
       "4   100124                       sun nut bread  bread machine   \n",
       "\n",
       "                                 nutritionList  \n",
       "0  [231.5, 8.0, 115.0, 12.0, 11.0, 13.0, 13.0]  \n",
       "1     [171.8, 12.0, 69.0, 2.0, 7.0, 23.0, 6.0]  \n",
       "2     [324.1, 9.0, 56.0, 2.0, 5.0, 18.0, 20.0]  \n",
       "3   [233.4, 12.0, 12.0, 10.0, 10.0, 5.0, 12.0]  \n",
       "4       [170.7, 8.0, 20.0, 4.0, 9.0, 8.0, 8.0]  "
      ]
     },
     "execution_count": 81,
     "metadata": {},
     "output_type": "execute_result"
    }
   ],
   "source": [
    "# Suggest recipe based on nutritional values\n",
    "nutrValRec = queries.get_recipe_nutritional_values(\n",
    "    gds, \n",
    "    n_suggestions, \n",
    "    interacted_recipes, \n",
    "    calories_range, \n",
    "    fat_range, \n",
    "    sugar_range, \n",
    "    sodium_range, \n",
    "    protein_range\n",
    ")\n",
    "\n",
    "# Show result\n",
    "nutrValRec.head()"
   ]
  },
  {
   "cell_type": "markdown",
   "metadata": {},
   "source": [
    "We can also combine the user preferences on ingredients with those on nutritional values to provide even more accurate recommendations. We can than sort the result based on most matching favorites ingredients and show first recipes with less preparation time."
   ]
  },
  {
   "cell_type": "code",
   "execution_count": 82,
   "metadata": {},
   "outputs": [
    {
     "name": "stdout",
     "output_type": "stream",
     "text": [
      "\n",
      "Query executed in 5.37 seconds\n"
     ]
    },
    {
     "data": {
      "text/html": [
       "<div>\n",
       "<style scoped>\n",
       "    .dataframe tbody tr th:only-of-type {\n",
       "        vertical-align: middle;\n",
       "    }\n",
       "\n",
       "    .dataframe tbody tr th {\n",
       "        vertical-align: top;\n",
       "    }\n",
       "\n",
       "    .dataframe thead th {\n",
       "        text-align: right;\n",
       "    }\n",
       "</style>\n",
       "<table border=\"1\" class=\"dataframe\">\n",
       "  <thead>\n",
       "    <tr style=\"text-align: right;\">\n",
       "      <th></th>\n",
       "      <th>recipeID</th>\n",
       "      <th>recipeName</th>\n",
       "      <th>recipeIngredients</th>\n",
       "      <th>nutritionList</th>\n",
       "      <th>relevanceScore</th>\n",
       "    </tr>\n",
       "  </thead>\n",
       "  <tbody>\n",
       "    <tr>\n",
       "      <th>0</th>\n",
       "      <td>148850</td>\n",
       "      <td>cinnamon toast toddy</td>\n",
       "      <td>[brown sugar, ground cinnamon, unsalted butter, milk]</td>\n",
       "      <td>[183.7, 13.0, 26.0, 5.0, 16.0, 27.0, 6.0]</td>\n",
       "      <td>1.609438</td>\n",
       "    </tr>\n",
       "    <tr>\n",
       "      <th>1</th>\n",
       "      <td>138317</td>\n",
       "      <td>mexican hot cocoa</td>\n",
       "      <td>[milk, vanilla extract, nestle toll house baking cocoa, ground cinnamon, granulated sugar]</td>\n",
       "      <td>[184.8, 11.0, 51.0, 3.0, 14.0, 23.0, 8.0]</td>\n",
       "      <td>1.433408</td>\n",
       "    </tr>\n",
       "    <tr>\n",
       "      <th>2</th>\n",
       "      <td>134062</td>\n",
       "      <td>rice pudding for babies</td>\n",
       "      <td>[milk, granulated sugar, cooked rice, vanilla extract]</td>\n",
       "      <td>[224.9, 7.0, 25.0, 2.0, 12.0, 14.0, 12.0]</td>\n",
       "      <td>1.207078</td>\n",
       "    </tr>\n",
       "    <tr>\n",
       "      <th>3</th>\n",
       "      <td>186199</td>\n",
       "      <td>macon hot vanilla</td>\n",
       "      <td>[ground cinnamon, milk, vanilla, honey]</td>\n",
       "      <td>[178.6, 13.0, 22.0, 4.0, 16.0, 27.0, 5.0]</td>\n",
       "      <td>1.207078</td>\n",
       "    </tr>\n",
       "    <tr>\n",
       "      <th>4</th>\n",
       "      <td>454195</td>\n",
       "      <td>easy hot cocoa  microwave</td>\n",
       "      <td>[baking cocoa, granulated sugar, vanilla extract, milk]</td>\n",
       "      <td>[269.0, 14.0, 101.0, 5.0, 18.0, 29.0, 13.0]</td>\n",
       "      <td>1.207078</td>\n",
       "    </tr>\n",
       "  </tbody>\n",
       "</table>\n",
       "</div>"
      ],
      "text/plain": [
       "  recipeID                 recipeName  \\\n",
       "0   148850       cinnamon toast toddy   \n",
       "1   138317          mexican hot cocoa   \n",
       "2   134062    rice pudding for babies   \n",
       "3   186199          macon hot vanilla   \n",
       "4   454195  easy hot cocoa  microwave   \n",
       "\n",
       "                                                                            recipeIngredients  \\\n",
       "0                                       [brown sugar, ground cinnamon, unsalted butter, milk]   \n",
       "1  [milk, vanilla extract, nestle toll house baking cocoa, ground cinnamon, granulated sugar]   \n",
       "2                                      [milk, granulated sugar, cooked rice, vanilla extract]   \n",
       "3                                                     [ground cinnamon, milk, vanilla, honey]   \n",
       "4                                     [baking cocoa, granulated sugar, vanilla extract, milk]   \n",
       "\n",
       "                                 nutritionList  relevanceScore  \n",
       "0    [183.7, 13.0, 26.0, 5.0, 16.0, 27.0, 6.0]        1.609438  \n",
       "1    [184.8, 11.0, 51.0, 3.0, 14.0, 23.0, 8.0]        1.433408  \n",
       "2    [224.9, 7.0, 25.0, 2.0, 12.0, 14.0, 12.0]        1.207078  \n",
       "3    [178.6, 13.0, 22.0, 4.0, 16.0, 27.0, 5.0]        1.207078  \n",
       "4  [269.0, 14.0, 101.0, 5.0, 18.0, 29.0, 13.0]        1.207078  "
      ]
     },
     "execution_count": 82,
     "metadata": {},
     "output_type": "execute_result"
    }
   ],
   "source": [
    "# Suggest recipe based on favorite ingredients and nutritional values\n",
    "fitRecFavIngr = queries.get_recipe_nutritional_ingreds(\n",
    "    gds, \n",
    "    n_suggestions, \n",
    "    interacted_recipes, \n",
    "    favorite_ingredients, \n",
    "    calories_range, \n",
    "    fat_range, \n",
    "    sugar_range, \n",
    "    sodium_range, \n",
    "    protein_range\n",
    ")\n",
    "\n",
    "# Show result\n",
    "fitRecFavIngr.head()"
   ]
  },
  {
   "cell_type": "markdown",
   "metadata": {},
   "source": [
    "### Recommendation based on website tags\n",
    "Another thing we can leverage to suggest recipes to our user is Site Tags. All recipe tags are easily obtained from the following query."
   ]
  },
  {
   "cell_type": "code",
   "execution_count": 83,
   "metadata": {},
   "outputs": [
    {
     "name": "stdout",
     "output_type": "stream",
     "text": [
      "\n",
      "Query executed in 0.88 seconds\n"
     ]
    },
    {
     "data": {
      "text/html": [
       "<div>\n",
       "<style scoped>\n",
       "    .dataframe tbody tr th:only-of-type {\n",
       "        vertical-align: middle;\n",
       "    }\n",
       "\n",
       "    .dataframe tbody tr th {\n",
       "        vertical-align: top;\n",
       "    }\n",
       "\n",
       "    .dataframe thead th {\n",
       "        text-align: right;\n",
       "    }\n",
       "</style>\n",
       "<table border=\"1\" class=\"dataframe\">\n",
       "  <thead>\n",
       "    <tr style=\"text-align: right;\">\n",
       "      <th></th>\n",
       "      <th>tag</th>\n",
       "      <th>tagCount</th>\n",
       "    </tr>\n",
       "  </thead>\n",
       "  <tbody>\n",
       "    <tr>\n",
       "      <th>0</th>\n",
       "      <td>preparation</td>\n",
       "      <td>230546</td>\n",
       "    </tr>\n",
       "    <tr>\n",
       "      <th>1</th>\n",
       "      <td>time-to-make</td>\n",
       "      <td>225326</td>\n",
       "    </tr>\n",
       "    <tr>\n",
       "      <th>2</th>\n",
       "      <td>course</td>\n",
       "      <td>218148</td>\n",
       "    </tr>\n",
       "    <tr>\n",
       "      <th>3</th>\n",
       "      <td>main-ingredient</td>\n",
       "      <td>170446</td>\n",
       "    </tr>\n",
       "    <tr>\n",
       "      <th>4</th>\n",
       "      <td>dietary</td>\n",
       "      <td>165091</td>\n",
       "    </tr>\n",
       "  </tbody>\n",
       "</table>\n",
       "</div>"
      ],
      "text/plain": [
       "               tag  tagCount\n",
       "0      preparation    230546\n",
       "1     time-to-make    225326\n",
       "2           course    218148\n",
       "3  main-ingredient    170446\n",
       "4          dietary    165091"
      ]
     },
     "execution_count": 83,
     "metadata": {},
     "output_type": "execute_result"
    }
   ],
   "source": [
    "# Get recipe taglist with count\n",
    "queries.get_recipes_taglist(gds).head()"
   ]
  },
  {
   "cell_type": "markdown",
   "metadata": {},
   "source": [
    "Here we can see that there are very common tags that we're likely to exclude from the taglist, that way we can obtain more user-specific recommendation."
   ]
  },
  {
   "cell_type": "code",
   "execution_count": 84,
   "metadata": {},
   "outputs": [],
   "source": [
    "# Define a list of (common) tags to exclude\n",
    "excluded_tags = [\n",
    "    'preparation', 'time-to-make', 'course', 'main-ingredient'\n",
    "]\n",
    "# Define how many tags we want to take into account\n",
    "n_tags = 10"
   ]
  },
  {
   "cell_type": "markdown",
   "metadata": {},
   "source": [
    "We can also just check all tags of the recipes an user has reviewed, count them, and order by count to obtain the top tags of an user."
   ]
  },
  {
   "cell_type": "code",
   "execution_count": 85,
   "metadata": {},
   "outputs": [
    {
     "name": "stdout",
     "output_type": "stream",
     "text": [
      "\n",
      "Query executed in 0.10 seconds\n"
     ]
    },
    {
     "data": {
      "text/html": [
       "<div>\n",
       "<style scoped>\n",
       "    .dataframe tbody tr th:only-of-type {\n",
       "        vertical-align: middle;\n",
       "    }\n",
       "\n",
       "    .dataframe tbody tr th {\n",
       "        vertical-align: top;\n",
       "    }\n",
       "\n",
       "    .dataframe thead th {\n",
       "        text-align: right;\n",
       "    }\n",
       "</style>\n",
       "<table border=\"1\" class=\"dataframe\">\n",
       "  <thead>\n",
       "    <tr style=\"text-align: right;\">\n",
       "      <th></th>\n",
       "      <th>tag</th>\n",
       "      <th>tagCount</th>\n",
       "    </tr>\n",
       "  </thead>\n",
       "  <tbody>\n",
       "    <tr>\n",
       "      <th>0</th>\n",
       "      <td>dietary</td>\n",
       "      <td>713</td>\n",
       "    </tr>\n",
       "    <tr>\n",
       "      <th>1</th>\n",
       "      <td>fruit</td>\n",
       "      <td>494</td>\n",
       "    </tr>\n",
       "    <tr>\n",
       "      <th>2</th>\n",
       "      <td>easy</td>\n",
       "      <td>467</td>\n",
       "    </tr>\n",
       "    <tr>\n",
       "      <th>3</th>\n",
       "      <td>low-in-something</td>\n",
       "      <td>431</td>\n",
       "    </tr>\n",
       "    <tr>\n",
       "      <th>4</th>\n",
       "      <td>number-of-servings</td>\n",
       "      <td>357</td>\n",
       "    </tr>\n",
       "  </tbody>\n",
       "</table>\n",
       "</div>"
      ],
      "text/plain": [
       "                  tag  tagCount\n",
       "0             dietary       713\n",
       "1               fruit       494\n",
       "2                easy       467\n",
       "3    low-in-something       431\n",
       "4  number-of-servings       357"
      ]
     },
     "execution_count": 85,
     "metadata": {},
     "output_type": "execute_result"
    }
   ],
   "source": [
    "# Get top user tags\n",
    "userTags = queries.get_user_top_tags(gds, USER_ID, excluded_tags)\n",
    "\n",
    "# Save tags\n",
    "top_tags = list(userTags['tag'])\n",
    "\n",
    "# Show result\n",
    "userTags.head()"
   ]
  },
  {
   "cell_type": "code",
   "execution_count": 86,
   "metadata": {},
   "outputs": [
    {
     "name": "stdout",
     "output_type": "stream",
     "text": [
      "\n",
      "Query executed in 1.67 seconds\n"
     ]
    },
    {
     "data": {
      "text/html": [
       "<div>\n",
       "<style scoped>\n",
       "    .dataframe tbody tr th:only-of-type {\n",
       "        vertical-align: middle;\n",
       "    }\n",
       "\n",
       "    .dataframe tbody tr th {\n",
       "        vertical-align: top;\n",
       "    }\n",
       "\n",
       "    .dataframe thead th {\n",
       "        text-align: right;\n",
       "    }\n",
       "</style>\n",
       "<table border=\"1\" class=\"dataframe\">\n",
       "  <thead>\n",
       "    <tr style=\"text-align: right;\">\n",
       "      <th></th>\n",
       "      <th>recipeID</th>\n",
       "      <th>recipeName</th>\n",
       "      <th>tagList</th>\n",
       "      <th>matchCount</th>\n",
       "      <th>totalTags</th>\n",
       "      <th>relevanceScore</th>\n",
       "    </tr>\n",
       "  </thead>\n",
       "  <tbody>\n",
       "    <tr>\n",
       "      <th>0</th>\n",
       "      <td>61773</td>\n",
       "      <td>cinnamon fruit dip</td>\n",
       "      <td>[15-minutes-or-less, time-to-make, course, main-ingredient, cuisine, preparation, north-american, low-protein, appetizers, eggs-dairy, fruit, easy, kid-friendly, vegetarian, dips, dietary, low-sodium, low-in-something, number-of-servings, 3-steps-or-less]</td>\n",
       "      <td>10</td>\n",
       "      <td>20</td>\n",
       "      <td>1.522261</td>\n",
       "    </tr>\n",
       "    <tr>\n",
       "      <th>1</th>\n",
       "      <td>9305</td>\n",
       "      <td>badam ka seera</td>\n",
       "      <td>[15-minutes-or-less, time-to-make, cuisine, preparation, 5-ingredients-or-less, asian, indian, easy, dietary, low-sodium, low-in-something, number-of-servings]</td>\n",
       "      <td>7</td>\n",
       "      <td>12</td>\n",
       "      <td>1.496220</td>\n",
       "    </tr>\n",
       "    <tr>\n",
       "      <th>2</th>\n",
       "      <td>143250</td>\n",
       "      <td>pesto guacamole  pestomole</td>\n",
       "      <td>[15-minutes-or-less, time-to-make, course, main-ingredient, preparation, condiments-etc, eggs-dairy, fruit, easy, vegetarian, nuts, dietary, low-sodium, low-carb, low-in-something]</td>\n",
       "      <td>8</td>\n",
       "      <td>15</td>\n",
       "      <td>1.478714</td>\n",
       "    </tr>\n",
       "    <tr>\n",
       "      <th>3</th>\n",
       "      <td>307194</td>\n",
       "      <td>microwaved corn in the husk</td>\n",
       "      <td>[15-minutes-or-less, time-to-make, preparation, for-1-or-2, 5-ingredients-or-less, easy, dietary, low-sodium, low-in-something, number-of-servings]</td>\n",
       "      <td>6</td>\n",
       "      <td>10</td>\n",
       "      <td>1.438737</td>\n",
       "    </tr>\n",
       "    <tr>\n",
       "      <th>4</th>\n",
       "      <td>330488</td>\n",
       "      <td>simply sensational truffles</td>\n",
       "      <td>[15-minutes-or-less, time-to-make, preparation, for-large-groups, 5-ingredients-or-less, easy, dietary, low-sodium, low-in-something, number-of-servings]</td>\n",
       "      <td>6</td>\n",
       "      <td>10</td>\n",
       "      <td>1.438737</td>\n",
       "    </tr>\n",
       "  </tbody>\n",
       "</table>\n",
       "</div>"
      ],
      "text/plain": [
       "  recipeID                   recipeName  \\\n",
       "0    61773           cinnamon fruit dip   \n",
       "1     9305               badam ka seera   \n",
       "2   143250   pesto guacamole  pestomole   \n",
       "3   307194  microwaved corn in the husk   \n",
       "4   330488  simply sensational truffles   \n",
       "\n",
       "                                                                                                                                                                                                                                                           tagList  \\\n",
       "0  [15-minutes-or-less, time-to-make, course, main-ingredient, cuisine, preparation, north-american, low-protein, appetizers, eggs-dairy, fruit, easy, kid-friendly, vegetarian, dips, dietary, low-sodium, low-in-something, number-of-servings, 3-steps-or-less]   \n",
       "1                                                                                                  [15-minutes-or-less, time-to-make, cuisine, preparation, 5-ingredients-or-less, asian, indian, easy, dietary, low-sodium, low-in-something, number-of-servings]   \n",
       "2                                                                             [15-minutes-or-less, time-to-make, course, main-ingredient, preparation, condiments-etc, eggs-dairy, fruit, easy, vegetarian, nuts, dietary, low-sodium, low-carb, low-in-something]   \n",
       "3                                                                                                              [15-minutes-or-less, time-to-make, preparation, for-1-or-2, 5-ingredients-or-less, easy, dietary, low-sodium, low-in-something, number-of-servings]   \n",
       "4                                                                                                        [15-minutes-or-less, time-to-make, preparation, for-large-groups, 5-ingredients-or-less, easy, dietary, low-sodium, low-in-something, number-of-servings]   \n",
       "\n",
       "   matchCount  totalTags  relevanceScore  \n",
       "0          10         20        1.522261  \n",
       "1           7         12        1.496220  \n",
       "2           8         15        1.478714  \n",
       "3           6         10        1.438737  \n",
       "4           6         10        1.438737  "
      ]
     },
     "execution_count": 86,
     "metadata": {},
     "output_type": "execute_result"
    }
   ],
   "source": [
    "# Suggest recipe based on user's top tags\n",
    "queries.find_top_tag_matching_recipes(gds, n_suggestions, interacted_recipes, top_tags).head()"
   ]
  },
  {
   "cell_type": "markdown",
   "metadata": {},
   "source": [
    "### Combine all suggestions together"
   ]
  },
  {
   "cell_type": "code",
   "execution_count": 87,
   "metadata": {},
   "outputs": [
    {
     "name": "stdout",
     "output_type": "stream",
     "text": [
      "\n",
      "Query executed in 11.58 seconds\n"
     ]
    },
    {
     "data": {
      "text/html": [
       "<div>\n",
       "<style scoped>\n",
       "    .dataframe tbody tr th:only-of-type {\n",
       "        vertical-align: middle;\n",
       "    }\n",
       "\n",
       "    .dataframe tbody tr th {\n",
       "        vertical-align: top;\n",
       "    }\n",
       "\n",
       "    .dataframe thead th {\n",
       "        text-align: right;\n",
       "    }\n",
       "</style>\n",
       "<table border=\"1\" class=\"dataframe\">\n",
       "  <thead>\n",
       "    <tr style=\"text-align: right;\">\n",
       "      <th></th>\n",
       "      <th>recipeID</th>\n",
       "      <th>recipeName</th>\n",
       "      <th>matchingIngreds</th>\n",
       "      <th>matchingTags</th>\n",
       "      <th>ingrRelScore</th>\n",
       "      <th>tagRelScore</th>\n",
       "    </tr>\n",
       "  </thead>\n",
       "  <tbody>\n",
       "    <tr>\n",
       "      <th>0</th>\n",
       "      <td>186199</td>\n",
       "      <td>macon hot vanilla</td>\n",
       "      <td>3</td>\n",
       "      <td>8</td>\n",
       "      <td>1.207078</td>\n",
       "      <td>1.177540</td>\n",
       "    </tr>\n",
       "    <tr>\n",
       "      <th>1</th>\n",
       "      <td>148850</td>\n",
       "      <td>cinnamon toast toddy</td>\n",
       "      <td>4</td>\n",
       "      <td>5</td>\n",
       "      <td>1.609438</td>\n",
       "      <td>0.761131</td>\n",
       "    </tr>\n",
       "    <tr>\n",
       "      <th>2</th>\n",
       "      <td>138317</td>\n",
       "      <td>mexican hot cocoa</td>\n",
       "      <td>4</td>\n",
       "      <td>6</td>\n",
       "      <td>1.433408</td>\n",
       "      <td>0.804719</td>\n",
       "    </tr>\n",
       "    <tr>\n",
       "      <th>3</th>\n",
       "      <td>315367</td>\n",
       "      <td>cozy hot chocolate</td>\n",
       "      <td>3</td>\n",
       "      <td>6</td>\n",
       "      <td>0.891189</td>\n",
       "      <td>1.218026</td>\n",
       "    </tr>\n",
       "    <tr>\n",
       "      <th>4</th>\n",
       "      <td>134062</td>\n",
       "      <td>rice pudding for babies</td>\n",
       "      <td>3</td>\n",
       "      <td>6</td>\n",
       "      <td>1.207078</td>\n",
       "      <td>0.883155</td>\n",
       "    </tr>\n",
       "  </tbody>\n",
       "</table>\n",
       "</div>"
      ],
      "text/plain": [
       "  recipeID               recipeName  matchingIngreds  matchingTags  \\\n",
       "0   186199        macon hot vanilla                3             8   \n",
       "1   148850     cinnamon toast toddy                4             5   \n",
       "2   138317        mexican hot cocoa                4             6   \n",
       "3   315367       cozy hot chocolate                3             6   \n",
       "4   134062  rice pudding for babies                3             6   \n",
       "\n",
       "   ingrRelScore  tagRelScore  \n",
       "0      1.207078     1.177540  \n",
       "1      1.609438     0.761131  \n",
       "2      1.433408     0.804719  \n",
       "3      0.891189     1.218026  \n",
       "4      1.207078     0.883155  "
      ]
     },
     "execution_count": 87,
     "metadata": {},
     "output_type": "execute_result"
    }
   ],
   "source": [
    "# Suggest recipe based on user's favorite ingredients, top tags\n",
    "# and nutritional values\n",
    "queries.find_matching_recipes_with_nutrition_and_tags(\n",
    "    gds, \n",
    "    n_suggestions, \n",
    "    interacted_recipes, \n",
    "    favorite_ingredients, \n",
    "    top_tags, \n",
    "    calories_range, \n",
    "    fat_range, \n",
    "    sugar_range, \n",
    "    sodium_range, \n",
    "    protein_range\n",
    ").head()"
   ]
  },
  {
   "cell_type": "markdown",
   "metadata": {},
   "source": [
    "## Evaluation"
   ]
  },
  {
   "cell_type": "code",
   "execution_count": 88,
   "metadata": {},
   "outputs": [
    {
     "data": {
      "text/html": [
       "<div>\n",
       "<style scoped>\n",
       "    .dataframe tbody tr th:only-of-type {\n",
       "        vertical-align: middle;\n",
       "    }\n",
       "\n",
       "    .dataframe tbody tr th {\n",
       "        vertical-align: top;\n",
       "    }\n",
       "\n",
       "    .dataframe thead th {\n",
       "        text-align: right;\n",
       "    }\n",
       "</style>\n",
       "<table border=\"1\" class=\"dataframe\">\n",
       "  <thead>\n",
       "    <tr style=\"text-align: right;\">\n",
       "      <th></th>\n",
       "      <th>user_id</th>\n",
       "      <th>recipe_id</th>\n",
       "      <th>date</th>\n",
       "      <th>rating</th>\n",
       "      <th>review</th>\n",
       "    </tr>\n",
       "  </thead>\n",
       "  <tbody>\n",
       "    <tr>\n",
       "      <th>0</th>\n",
       "      <td>57222</td>\n",
       "      <td>85009</td>\n",
       "      <td>2011-10-01</td>\n",
       "      <td>5</td>\n",
       "      <td>Made the cheddar bacon topping, adding a sprinkling of black pepper. Yum!</td>\n",
       "    </tr>\n",
       "    <tr>\n",
       "      <th>1</th>\n",
       "      <td>124416</td>\n",
       "      <td>120345</td>\n",
       "      <td>2011-08-06</td>\n",
       "      <td>0</td>\n",
       "      <td>Just an observation, so I will not rate.  I followed this procedure with strawberries instead of raspberries.  Perhaps this is the reason it did not work well.  Sorry to report that the strawberries I did in August were moldy in October.  They were stored in my downstairs fridge, which is very cold and infrequently opened.  Delicious and fresh-tasting prior to that, though.  So, keep a sharp eye on them.  Personally I would not keep them longer than a month.  This recipe also appears as #120...</td>\n",
       "    </tr>\n",
       "    <tr>\n",
       "      <th>2</th>\n",
       "      <td>539686</td>\n",
       "      <td>321038</td>\n",
       "      <td>2011-03-28</td>\n",
       "      <td>5</td>\n",
       "      <td>My very health conscious daughter and I tripled this recipe and love them as cookie-sized treats. Very filling and healthy too. Thanks for posting.</td>\n",
       "    </tr>\n",
       "    <tr>\n",
       "      <th>3</th>\n",
       "      <td>827374</td>\n",
       "      <td>79222</td>\n",
       "      <td>2010-11-29</td>\n",
       "      <td>3</td>\n",
       "      <td>We made this last night and really enjoyed it.  I just used canned crab meat and honestly, it didn't really seem to add much flavor to the soup. But really, this can easily just be a chunky potato soup and would be nice and tasty.  I added about 1/2 a cup of thinly sliced carrots and 1/2 a cup of peas which added some nice color, texture and flavor to things.  In addition to the listed seasonings, I used 5 Pepper Seasoning and a few dashes of Italian Seasoning to add some flavor.   Also used...</td>\n",
       "    </tr>\n",
       "    <tr>\n",
       "      <th>4</th>\n",
       "      <td>152118</td>\n",
       "      <td>79222</td>\n",
       "      <td>2011-01-02</td>\n",
       "      <td>5</td>\n",
       "      <td>I enjoyed this recipe.  The only change I made was using frozen corn instead of creamed and vegetable stock instead of chicken broth.  I also added about 1/4 cup chopped shrimp since I had some in the fridge and a splash of half and half at the end.  A bit of salt as well. Yummy.</td>\n",
       "    </tr>\n",
       "  </tbody>\n",
       "</table>\n",
       "</div>"
      ],
      "text/plain": [
       "   user_id  recipe_id        date  rating  \\\n",
       "0    57222      85009  2011-10-01       5   \n",
       "1   124416     120345  2011-08-06       0   \n",
       "2   539686     321038  2011-03-28       5   \n",
       "3   827374      79222  2010-11-29       3   \n",
       "4   152118      79222  2011-01-02       5   \n",
       "\n",
       "                                                                                                                                                                                                                                                                                                                                                                                                                                                                                                                review  \n",
       "0                                                                                                                                                                                                                                                                                                                                                                                                                                            Made the cheddar bacon topping, adding a sprinkling of black pepper. Yum!  \n",
       "1  Just an observation, so I will not rate.  I followed this procedure with strawberries instead of raspberries.  Perhaps this is the reason it did not work well.  Sorry to report that the strawberries I did in August were moldy in October.  They were stored in my downstairs fridge, which is very cold and infrequently opened.  Delicious and fresh-tasting prior to that, though.  So, keep a sharp eye on them.  Personally I would not keep them longer than a month.  This recipe also appears as #120...  \n",
       "2                                                                                                                                                                                                                                                                                                                                                                  My very health conscious daughter and I tripled this recipe and love them as cookie-sized treats. Very filling and healthy too. Thanks for posting.  \n",
       "3  We made this last night and really enjoyed it.  I just used canned crab meat and honestly, it didn't really seem to add much flavor to the soup. But really, this can easily just be a chunky potato soup and would be nice and tasty.  I added about 1/2 a cup of thinly sliced carrots and 1/2 a cup of peas which added some nice color, texture and flavor to things.  In addition to the listed seasonings, I used 5 Pepper Seasoning and a few dashes of Italian Seasoning to add some flavor.   Also used...  \n",
       "4                                                                                                                                                                                                                             I enjoyed this recipe.  The only change I made was using frozen corn instead of creamed and vegetable stock instead of chicken broth.  I also added about 1/4 cup chopped shrimp since I had some in the fridge and a splash of half and half at the end.  A bit of salt as well. Yummy.  "
      ]
     },
     "execution_count": 88,
     "metadata": {},
     "output_type": "execute_result"
    }
   ],
   "source": [
    "# Load generated test data\n",
    "test_reviewed_df = pd.read_csv(os.path.join(NEO4J_IMPORT_DIR, 'test_reviewed.csv'))\n",
    "# Load train data\n",
    "train_reviewed_df = pd.read_csv(os.path.join(NEO4J_IMPORT_DIR, 'reviewed.csv'))\n",
    "\n",
    "# Show result\n",
    "test_reviewed_df.head()"
   ]
  },
  {
   "cell_type": "code",
   "execution_count": 33,
   "metadata": {},
   "outputs": [
    {
     "data": {
      "application/vnd.jupyter.widget-view+json": {
       "model_id": "22a682571e344440a2ba4a448019b801",
       "version_major": 2,
       "version_minor": 0
      },
      "text/plain": [
       "Evaluating users:   0%|          | 0/100 [00:00<?, ?it/s]"
      ]
     },
     "metadata": {},
     "output_type": "display_data"
    },
    {
     "name": "stdout",
     "output_type": "stream",
     "text": [
      "Mean Precision: 0.00\n",
      "Mean Recall: 0.00\n",
      "Mean F1 Score: 0.00\n"
     ]
    }
   ],
   "source": [
    "# Initialize lists to store metrics for each user\n",
    "precisions = []\n",
    "recalls = []\n",
    "\n",
    "# Iterate over a sample of N unique users in the test set\n",
    "for user_id in tqdm(np.random.choice(test_reviewed_df['user_id'].unique(), size=100, replace=False), desc='Evaluating users'):\n",
    "\n",
    "    # Retrieve recipies the user has interacted with (reviewed or published)\n",
    "    interacted_recipes = list(set(queries.get_user_interactions(gds, str(user_id), verbose=False)['recipeID']))\n",
    "\n",
    "    # Compute top 5 user ingredients\n",
    "    favIngr = queries.get_user_favourite_ingredients(\n",
    "        gds, \n",
    "        str(user_id), \n",
    "        max_fav_ingr, \n",
    "        excluded_ingr,\n",
    "        verbose=False\n",
    "    )\n",
    "    # Skip if no favorite ingredients found\n",
    "    if favIngr.empty: continue\n",
    "    # Extract favorite ingredients\n",
    "    favorite_ingredients = list(favIngr['favoriteIngredient'])\n",
    "\n",
    "    # Get top user tags\n",
    "    userTags = queries.get_user_top_tags(\n",
    "        gds, \n",
    "        str(user_id), \n",
    "        excluded_tags, \n",
    "        verbose=False\n",
    "    )\n",
    "    # Skip if no tags found\n",
    "    if userTags.empty:\n",
    "        #print(f\"No tags found for user {user_id}, using default tags...\")\n",
    "        continue\n",
    "\n",
    "    # Get user top nutritional values\n",
    "    nutrVal = queries.get_user_nutritional_values(\n",
    "        gds, \n",
    "        str(user_id), \n",
    "        verbose=False\n",
    "    )\n",
    "    # Skip if no nutritional values found\n",
    "    if nutrVal.empty:\n",
    "        #print(f\"No nutritional values found for user {user_id}, using default ranges...\")\n",
    "        continue\n",
    "    # Get nutritional values ranges\n",
    "    calories_range, fat_range, sugar_range, sodium_range, protein_range = utils.get_nutritional_values(nutrVal, verbose=False)\n",
    "\n",
    "    # Get recommended recipes\n",
    "    recs_df = queries.find_matching_recipes_with_nutrition_and_tags(\n",
    "        gds, \n",
    "        n_suggestions, \n",
    "        interacted_recipes, \n",
    "        favorite_ingredients, \n",
    "        list(userTags['tag']), \n",
    "        calories_range, \n",
    "        fat_range, \n",
    "        sugar_range, \n",
    "        sodium_range, \n",
    "        protein_range,\n",
    "        verbose=False\n",
    "    )\n",
    "    # Skip if no recommendations found\n",
    "    if recs_df.empty:\n",
    "        #print(f\"No recommendations found for user {user_id}, skipping evaluation...\")\n",
    "        continue\n",
    "\n",
    "    # Filter the test set for the selected user\n",
    "    user_test_df = test_reviewed_df[test_reviewed_df['user_id'] == user_id].copy()\n",
    "    # Convert recipe_id in user_test_df to string for consistent comparison\n",
    "    user_test_df['recipe_id'] = user_test_df['recipe_id'].astype(str)\n",
    "    \n",
    "    #print(set(recs_df['RecipeID']), len(recs_df))\n",
    "    #print(set(user_test_df['recipe_id']), len(user_test_df))\n",
    "\n",
    "    # Convert recommended RecipeIDs to a set for faster checks\n",
    "    recommended_ids = set(recs_df['recipeID'])\n",
    "    # Check if each recommended recipe is in the user's test interactions\n",
    "    relevant_items = user_test_df[user_test_df['recipe_id'].isin(recommended_ids)]\n",
    "\n",
    "    # Calculate True Positives (TP): recommended & relevant\n",
    "    TP = len(relevant_items)\n",
    "    # False Positives (FP): recommended but not relevant\n",
    "    FP = len(recommended_ids) - TP\n",
    "    # False Negatives (FN): relevant but not recommended\n",
    "    FN = len(user_test_df) - TP\n",
    "    # Compute Precision and Recall\n",
    "    precision = TP / (TP + FP) if TP + FP > 0 else 0\n",
    "    recall = TP / (TP + FN) if TP + FN > 0 else 0\n",
    "\n",
    "    # Store the precision and recall for each user\n",
    "    precisions.append(precision)\n",
    "    recalls.append(recall)\n",
    "    \n",
    "# After iterating through all users, compute the mean of precision and recall\n",
    "mean_precision = np.mean(precisions)\n",
    "mean_recall = np.mean(recalls)\n",
    "\n",
    "# Compute F1 score if needed\n",
    "f1_scores = [2 * (p * r) / (p + r) if (p + r) > 0 else 0 for p, r in zip(precisions, recalls)]\n",
    "mean_f1_score = np.mean(f1_scores)\n",
    "\n",
    "# Print the final aggregated results\n",
    "print(f\"Mean Precision: {mean_precision:.2f}\")\n",
    "print(f\"Mean Recall: {mean_recall:.2f}\")\n",
    "print(f\"Mean F1 Score: {mean_f1_score:.2f}\")"
   ]
  },
  {
   "cell_type": "code",
   "execution_count": 97,
   "metadata": {},
   "outputs": [
    {
     "name": "stdout",
     "output_type": "stream",
     "text": [
      "User: 505199\n",
      "\n",
      "Query executed in 0.02 seconds\n",
      "        favoriteIngredient  favCount favRecipes\n",
      "0        corn flake crumbs         1   [299796]\n",
      "1               egg whites         1   [299796]\n",
      "2       buffalo wing sauce         1   [299796]\n",
      "3  skinless chicken breast         1   [299796]\n",
      "4            cooking spray         1   [299796]\n",
      "5          cajun seasoning         1   [299796]\n"
     ]
    },
    {
     "data": {
      "text/plain": [
       "['corn flake crumbs',\n",
       " 'egg whites',\n",
       " 'buffalo wing sauce',\n",
       " 'skinless chicken breast',\n",
       " 'cooking spray',\n",
       " 'cajun seasoning']"
      ]
     },
     "execution_count": 97,
     "metadata": {},
     "output_type": "execute_result"
    }
   ],
   "source": [
    "user_id = str(np.random.choice(test_reviewed_df['user_id'].unique(), size=1, replace=False)[0])\n",
    "print(\"User:\", user_id)\n",
    "# Compute top 5 user ingredients\n",
    "favIngr = queries.get_user_favourite_ingredients(\n",
    "    gds, \n",
    "    user_id, \n",
    "    max_fav_ingr, \n",
    "    excluded_ingr\n",
    ")\n",
    "print(favIngr)\n",
    "# Save data\n",
    "favorite_ingredients = list(favIngr['favoriteIngredient'])\n",
    "reviewed_recipes = list(set(item for sublist in favIngr['favRecipes'] for item in sublist))\n",
    "\n",
    "favorite_ingredients"
   ]
  },
  {
   "cell_type": "code",
   "execution_count": 103,
   "metadata": {},
   "outputs": [
    {
     "name": "stdout",
     "output_type": "stream",
     "text": [
      "Interacted recipes ['299796']\n",
      "User favorite ingredients: ['corn flake crumbs', 'egg whites', 'buffalo wing sauce', 'skinless chicken breast', 'cooking spray', 'cajun seasoning']\n",
      "User top tags: ['30-minutes-or-less', 'appetizers', 'main-dish', 'poultry', 'easy', 'chicken', 'meat', 'chicken-breasts']\n",
      "User nutr. val: (165.3, 165.3) (2.0, 2.0) (4.0, 4.0) (6.0, 6.0) (57.0, 57.0)\n",
      "\n",
      "Query executed in 4.18 seconds\n",
      "User recommendations:\n",
      " Empty DataFrame\n",
      "Columns: [recipeID, recipeName, recipeIngredients, nutritionList, relevanceScore]\n",
      "Index: []\n",
      "User recommendations2:\n",
      " Empty DataFrame\n",
      "Columns: [recipeID, recipeName, matchingIngreds, matchingTags, ingrRelScore, tagRelScore]\n",
      "Index: []\n"
     ]
    }
   ],
   "source": [
    "# Retrieve recipies the user has interacted with (reviewed or published)\n",
    "interacted_recipes = list(set(queries.get_user_interactions(gds, str(user_id), verbose=False)['recipeID']))\n",
    "print(\"Interacted recipes\", interacted_recipes)\n",
    "\n",
    "# Compute top 5 user ingredients\n",
    "favIngr = queries.get_user_favourite_ingredients(\n",
    "    gds, \n",
    "    str(user_id), \n",
    "    max_fav_ingr, \n",
    "    excluded_ingr,\n",
    "    verbose=False\n",
    ")\n",
    "# Extract favorite ingredients\n",
    "favorite_ingredients = list(favIngr['favoriteIngredient'])\n",
    "\n",
    "print(\"User favorite ingredients:\", favorite_ingredients)\n",
    "\n",
    "# Get top user tags\n",
    "userTags = queries.get_user_top_tags(\n",
    "    gds, \n",
    "    str(user_id), \n",
    "    excluded_tags, \n",
    "    verbose=False\n",
    ")\n",
    "\n",
    "print(\"User top tags:\", list(userTags['tag']))\n",
    "\n",
    "# Get user top nutritional values\n",
    "nutrVal = queries.get_user_nutritional_values(\n",
    "    gds, \n",
    "    str(user_id), \n",
    "    verbose=False\n",
    ")\n",
    "# Get nutritional values ranges\n",
    "calories_range, fat_range, sugar_range, sodium_range, protein_range = utils.get_nutritional_values(nutrVal, verbose=False)\n",
    "\n",
    "print(\"User nutr. val:\", calories_range, fat_range, sugar_range, sodium_range, protein_range)\n",
    "\n",
    "\n",
    "# Suggest recipe based on favorite ingreds and nutr. val\n",
    "fitRecFavIngr = queries.get_recipe_nutritional_ingreds(\n",
    "    gds, \n",
    "    n_suggestions, \n",
    "    interacted_recipes, \n",
    "    favorite_ingredients, \n",
    "    calories_range, \n",
    "    fat_range, \n",
    "    sugar_range, \n",
    "    sodium_range, \n",
    "    protein_range\n",
    ")\n",
    "    \n",
    "print(\"User recommendations:\\n\", fitRecFavIngr.head())\n",
    "\n",
    "# Get recommended recipes\n",
    "recs_df = queries.find_matching_recipes_with_nutrition_and_tags(\n",
    "    gds, \n",
    "    n_suggestions, \n",
    "    interacted_recipes, \n",
    "    favorite_ingredients, \n",
    "    list(userTags['tag']), \n",
    "    calories_range, \n",
    "    fat_range, \n",
    "    sugar_range, \n",
    "    sodium_range, \n",
    "    protein_range,\n",
    "    verbose=False\n",
    ")\n",
    "\n",
    "print(\"User recommendations2:\\n\", recs_df.head())\n",
    "\n",
    "# Filter the test set for the selected user\n",
    "user_test_df = test_reviewed_df[test_reviewed_df['user_id'] == user_id].copy()\n",
    "# Convert recipe_id in user_test_df to string for consistent comparison\n",
    "user_test_df['recipe_id'] = user_test_df['recipe_id'].astype(str)\n",
    "\n",
    "#print(set(recs_df['RecipeID']), len(recs_df))\n",
    "#print(set(user_test_df['recipe_id']), len(user_test_df))\n",
    "\n",
    "# Convert recommended RecipeIDs to a set for faster checks\n",
    "recommended_ids = set(recs_df['recipeID'])\n",
    "# Check if each recommended recipe is in the user's test interactions\n",
    "relevant_items = user_test_df[user_test_df['recipe_id'].isin(recommended_ids)]\n",
    "\n",
    "# Calculate True Positives (TP): recommended & relevant\n",
    "TP = len(relevant_items)\n",
    "# False Positives (FP): recommended but not relevant\n",
    "FP = len(recommended_ids) - TP\n",
    "# False Negatives (FN): relevant but not recommended\n",
    "FN = len(user_test_df) - TP\n",
    "# Compute Precision and Recall\n",
    "precision = TP / (TP + FP) if TP + FP > 0 else 0\n",
    "recall = TP / (TP + FN) if TP + FN > 0 else 0"
   ]
  },
  {
   "cell_type": "code",
   "execution_count": 101,
   "metadata": {},
   "outputs": [
    {
     "name": "stdout",
     "output_type": "stream",
     "text": [
      "['299796']\n"
     ]
    }
   ],
   "source": [
    "print(interacted_recipes)"
   ]
  },
  {
   "cell_type": "code",
   "execution_count": 102,
   "metadata": {},
   "outputs": [
    {
     "data": {
      "text/html": [
       "<div>\n",
       "<style scoped>\n",
       "    .dataframe tbody tr th:only-of-type {\n",
       "        vertical-align: middle;\n",
       "    }\n",
       "\n",
       "    .dataframe tbody tr th {\n",
       "        vertical-align: top;\n",
       "    }\n",
       "\n",
       "    .dataframe thead th {\n",
       "        text-align: right;\n",
       "    }\n",
       "</style>\n",
       "<table border=\"1\" class=\"dataframe\">\n",
       "  <thead>\n",
       "    <tr style=\"text-align: right;\">\n",
       "      <th></th>\n",
       "      <th>recipeID</th>\n",
       "      <th>calories</th>\n",
       "      <th>totalFat</th>\n",
       "      <th>sugar</th>\n",
       "      <th>sodium</th>\n",
       "      <th>protein</th>\n",
       "    </tr>\n",
       "  </thead>\n",
       "  <tbody>\n",
       "    <tr>\n",
       "      <th>0</th>\n",
       "      <td>299796</td>\n",
       "      <td>165.3</td>\n",
       "      <td>2.0</td>\n",
       "      <td>4.0</td>\n",
       "      <td>6.0</td>\n",
       "      <td>57.0</td>\n",
       "    </tr>\n",
       "  </tbody>\n",
       "</table>\n",
       "</div>"
      ],
      "text/plain": [
       "  recipeID  calories  totalFat  sugar  sodium  protein\n",
       "0   299796     165.3       2.0    4.0     6.0     57.0"
      ]
     },
     "execution_count": 102,
     "metadata": {},
     "output_type": "execute_result"
    }
   ],
   "source": [
    "nutrVal.head()"
   ]
  },
  {
   "cell_type": "code",
   "execution_count": 46,
   "metadata": {},
   "outputs": [
    {
     "data": {
      "text/html": [
       "<div>\n",
       "<style scoped>\n",
       "    .dataframe tbody tr th:only-of-type {\n",
       "        vertical-align: middle;\n",
       "    }\n",
       "\n",
       "    .dataframe tbody tr th {\n",
       "        vertical-align: top;\n",
       "    }\n",
       "\n",
       "    .dataframe thead th {\n",
       "        text-align: right;\n",
       "    }\n",
       "</style>\n",
       "<table border=\"1\" class=\"dataframe\">\n",
       "  <thead>\n",
       "    <tr style=\"text-align: right;\">\n",
       "      <th></th>\n",
       "      <th>recipeID</th>\n",
       "      <th>name</th>\n",
       "      <th>nutrition</th>\n",
       "      <th>n_ingredients</th>\n",
       "      <th>interactionDate</th>\n",
       "      <th>interactionType</th>\n",
       "    </tr>\n",
       "  </thead>\n",
       "  <tbody>\n",
       "    <tr>\n",
       "      <th>0</th>\n",
       "      <td>416414</td>\n",
       "      <td>restaurant style chinese orange chicken with spring peas</td>\n",
       "      <td>[389.4, 10.0, 73.0, 28.0, 72.0, 6.0, 14.0]</td>\n",
       "      <td>18</td>\n",
       "      <td>2010-10-14</td>\n",
       "      <td>REVIEWED</td>\n",
       "    </tr>\n",
       "    <tr>\n",
       "      <th>1</th>\n",
       "      <td>333002</td>\n",
       "      <td>russian style chicken</td>\n",
       "      <td>[395.4, 23.0, 227.0, 47.0, 3.0, 11.0, 22.0]</td>\n",
       "      <td>5</td>\n",
       "      <td>2010-07-22</td>\n",
       "      <td>REVIEWED</td>\n",
       "    </tr>\n",
       "    <tr>\n",
       "      <th>2</th>\n",
       "      <td>399212</td>\n",
       "      <td>dried cherry couscous salad</td>\n",
       "      <td>[85.9, 3.0, 6.0, 4.0, 5.0, 1.0, 4.0]</td>\n",
       "      <td>10</td>\n",
       "      <td>2010-07-19</td>\n",
       "      <td>REVIEWED</td>\n",
       "    </tr>\n",
       "    <tr>\n",
       "      <th>3</th>\n",
       "      <td>169915</td>\n",
       "      <td>tortellini with vegetables</td>\n",
       "      <td>[176.2, 16.0, 34.0, 8.0, 14.0, 15.0, 4.0]</td>\n",
       "      <td>12</td>\n",
       "      <td>2010-07-18</td>\n",
       "      <td>REVIEWED</td>\n",
       "    </tr>\n",
       "    <tr>\n",
       "      <th>4</th>\n",
       "      <td>238268</td>\n",
       "      <td>favorite omelet</td>\n",
       "      <td>[580.0, 66.0, 10.0, 17.0, 84.0, 96.0, 1.0]</td>\n",
       "      <td>9</td>\n",
       "      <td>2010-07-06</td>\n",
       "      <td>REVIEWED</td>\n",
       "    </tr>\n",
       "    <tr>\n",
       "      <th>...</th>\n",
       "      <td>...</td>\n",
       "      <td>...</td>\n",
       "      <td>...</td>\n",
       "      <td>...</td>\n",
       "      <td>...</td>\n",
       "      <td>...</td>\n",
       "    </tr>\n",
       "    <tr>\n",
       "      <th>974</th>\n",
       "      <td>204683</td>\n",
       "      <td>outrageous carrot cake</td>\n",
       "      <td>[387.2, 30.0, 144.0, 9.0, 9.0, 35.0, 17.0]</td>\n",
       "      <td>16</td>\n",
       "      <td>2007-01-10</td>\n",
       "      <td>SUBMITTED</td>\n",
       "    </tr>\n",
       "    <tr>\n",
       "      <th>975</th>\n",
       "      <td>204607</td>\n",
       "      <td>salmon pasta salad</td>\n",
       "      <td>[291.9, 12.0, 13.0, 9.0, 31.0, 5.0, 12.0]</td>\n",
       "      <td>14</td>\n",
       "      <td>2007-01-09</td>\n",
       "      <td>SUBMITTED</td>\n",
       "    </tr>\n",
       "    <tr>\n",
       "      <th>976</th>\n",
       "      <td>204306</td>\n",
       "      <td>cranberry   orange sauce</td>\n",
       "      <td>[99.0, 0.0, 79.0, 0.0, 0.0, 0.0, 8.0]</td>\n",
       "      <td>6</td>\n",
       "      <td>2007-01-08</td>\n",
       "      <td>SUBMITTED</td>\n",
       "    </tr>\n",
       "    <tr>\n",
       "      <th>977</th>\n",
       "      <td>204298</td>\n",
       "      <td>strawberry disaster cake</td>\n",
       "      <td>[149.9, 18.0, 32.0, 1.0, 5.0, 7.0, 3.0]</td>\n",
       "      <td>11</td>\n",
       "      <td>2007-01-08</td>\n",
       "      <td>SUBMITTED</td>\n",
       "    </tr>\n",
       "    <tr>\n",
       "      <th>978</th>\n",
       "      <td>204267</td>\n",
       "      <td>meatloaf with raisins</td>\n",
       "      <td>[297.5, 16.0, 74.0, 20.0, 40.0, 20.0, 10.0]</td>\n",
       "      <td>10</td>\n",
       "      <td>2007-01-08</td>\n",
       "      <td>SUBMITTED</td>\n",
       "    </tr>\n",
       "  </tbody>\n",
       "</table>\n",
       "<p>979 rows × 6 columns</p>\n",
       "</div>"
      ],
      "text/plain": [
       "    recipeID                                                      name  \\\n",
       "0     416414  restaurant style chinese orange chicken with spring peas   \n",
       "1     333002                                     russian style chicken   \n",
       "2     399212                               dried cherry couscous salad   \n",
       "3     169915                                tortellini with vegetables   \n",
       "4     238268                                           favorite omelet   \n",
       "..       ...                                                       ...   \n",
       "974   204683                                    outrageous carrot cake   \n",
       "975   204607                                        salmon pasta salad   \n",
       "976   204306                                  cranberry   orange sauce   \n",
       "977   204298                                  strawberry disaster cake   \n",
       "978   204267                                     meatloaf with raisins   \n",
       "\n",
       "                                       nutrition n_ingredients  \\\n",
       "0     [389.4, 10.0, 73.0, 28.0, 72.0, 6.0, 14.0]            18   \n",
       "1    [395.4, 23.0, 227.0, 47.0, 3.0, 11.0, 22.0]             5   \n",
       "2           [85.9, 3.0, 6.0, 4.0, 5.0, 1.0, 4.0]            10   \n",
       "3      [176.2, 16.0, 34.0, 8.0, 14.0, 15.0, 4.0]            12   \n",
       "4     [580.0, 66.0, 10.0, 17.0, 84.0, 96.0, 1.0]             9   \n",
       "..                                           ...           ...   \n",
       "974   [387.2, 30.0, 144.0, 9.0, 9.0, 35.0, 17.0]            16   \n",
       "975    [291.9, 12.0, 13.0, 9.0, 31.0, 5.0, 12.0]            14   \n",
       "976        [99.0, 0.0, 79.0, 0.0, 0.0, 0.0, 8.0]             6   \n",
       "977      [149.9, 18.0, 32.0, 1.0, 5.0, 7.0, 3.0]            11   \n",
       "978  [297.5, 16.0, 74.0, 20.0, 40.0, 20.0, 10.0]            10   \n",
       "\n",
       "    interactionDate interactionType  \n",
       "0        2010-10-14        REVIEWED  \n",
       "1        2010-07-22        REVIEWED  \n",
       "2        2010-07-19        REVIEWED  \n",
       "3        2010-07-18        REVIEWED  \n",
       "4        2010-07-06        REVIEWED  \n",
       "..              ...             ...  \n",
       "974      2007-01-10       SUBMITTED  \n",
       "975      2007-01-09       SUBMITTED  \n",
       "976      2007-01-08       SUBMITTED  \n",
       "977      2007-01-08       SUBMITTED  \n",
       "978      2007-01-08       SUBMITTED  \n",
       "\n",
       "[979 rows x 6 columns]"
      ]
     },
     "execution_count": 46,
     "metadata": {},
     "output_type": "execute_result"
    }
   ],
   "source": [
    "user_interactions"
   ]
  },
  {
   "cell_type": "code",
   "execution_count": null,
   "metadata": {},
   "outputs": [],
   "source": []
  }
 ],
 "metadata": {
  "kernelspec": {
   "display_name": "Python 3",
   "language": "python",
   "name": "python3"
  },
  "language_info": {
   "codemirror_mode": {
    "name": "ipython",
    "version": 3
   },
   "file_extension": ".py",
   "mimetype": "text/x-python",
   "name": "python",
   "nbconvert_exporter": "python",
   "pygments_lexer": "ipython3",
   "version": "3.10.12"
  },
  "orig_nbformat": 4
 },
 "nbformat": 4,
 "nbformat_minor": 2
}
