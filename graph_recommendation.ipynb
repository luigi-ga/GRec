{
 "cells": [
  {
   "cell_type": "markdown",
   "metadata": {},
   "source": [
    "# Exploring Practical Recommendation Systems In Neo4j\n",
    "### __An Example With Collaborative Leveraging Graph Data Science and Machgine Learning__\n",
    "\n",
    "In this notebook we explore how to get started with practical & scalable recommendation in graph. We will walk through a fundamental example with recipe recommendation on dataset containing 231k recipes and around 226K users. We will leverage Neo4j and the Graph Data Science (GDS) library to quickly predict similar recipes based on user preferences and enable sub-second, rank-ordered, recommendation queries personalized to each user.\n",
    "\n",
    "This notebook is structured as follows: \n",
    "\n",
    "1. Setup some configurations and helper functions to allow us to work with the graph. \n",
    "2. Go over the source dataset and graph we will be using along with how to query basic profiling statistics to help us understand the graph and better prepare for analysis. \n",
    "3. Briefly introduce a technique called Collaborative filtering (CF) which will be our mechanism for recommendation in this notebook\n",
    "4. Explore Applying the Cypher query language for basic CF\n",
    "5. Scaling CF with the Graph Data Science (GDS) Library, leveraging Node embeddings and an ML technique called K-Nearest Neighbor (KNN)."
   ]
  },
  {
   "cell_type": "code",
   "execution_count": 1,
   "metadata": {},
   "outputs": [],
   "source": [
    "from graphdatascience import GraphDataScience\n",
    "import pandas as pd\n",
    "import configparser\n",
    "import os\n",
    "import numpy as np\n",
    "import importlib\n",
    "from tqdm.notebook import tqdm\n",
    "\n",
    "# Set pandas options\n",
    "pd.set_option('display.width', 0)\n",
    "pd.set_option('display.max_colwidth', 500)\n",
    "pd.set_option('display.max_rows', 12)"
   ]
  },
  {
   "cell_type": "code",
   "execution_count": 2,
   "metadata": {},
   "outputs": [
    {
     "name": "stdout",
     "output_type": "stream",
     "text": [
      "Modules reloaded\n"
     ]
    }
   ],
   "source": [
    "# Import custom modules\n",
    "from src import queries, utils\n",
    "\n",
    "# Reload modules\n",
    "importlib.reload(queries)\n",
    "importlib.reload(utils)\n",
    "\n",
    "print('Modules reloaded')"
   ]
  },
  {
   "cell_type": "markdown",
   "metadata": {},
   "source": [
    "### <a id=\"N4jSettings\">Neo4j Settings</a>\n",
    "\n",
    "The `NEO4J_PROPERTIES_FILE` is an ini configuration file for Neo4j properties so this notebook can connect to\n",
    "your Neo4j instance and load data. The ini file should be formatted as follows\n",
    "```\n",
    "[NEO4J]\n",
    "PASSWORD=<password>\n",
    "USERNAME=<database name, is 'neo4j' by default>\n",
    "HOST=<host uri>\n",
    "\n",
    "```\n",
    "\n",
    "Set `NEO4J_PROPERTIES_FILE` to None or any non-existent location to use the below defaults\n",
    "```\n",
    "HOST = 'neo4j://localhost'\n",
    "USERNAME = 'neo4j'\n",
    "PASSWORD = 'password'\n",
    "```"
   ]
  },
  {
   "cell_type": "code",
   "execution_count": 3,
   "metadata": {},
   "outputs": [],
   "source": [
    "NEO4J_PROPERTIES_FILE = None #'/path/to/your/file.ini'\n",
    "# Replace with your Neo4j import directory\n",
    "NEO4J_IMPORT_DIR = '/home/luigi/.config/Neo4j Desktop/Application/relate-data/dbmss/dbms-c5c50094-d809-4eeb-84f4-745becc1cd52/import'"
   ]
  },
  {
   "cell_type": "code",
   "execution_count": 4,
   "metadata": {},
   "outputs": [
    {
     "name": "stdout",
     "output_type": "stream",
     "text": [
      "Could not find database properties file, using defaults\n"
     ]
    }
   ],
   "source": [
    "# Using an ini file for credentials, otherwise providing defaults\n",
    "HOST = 'bolt://localhost:7687'\n",
    "DATABASE = 'neo4j'\n",
    "PASSWORD = 'LU?vVtYf8])9;^z'\n",
    "\n",
    "if NEO4J_PROPERTIES_FILE is not None and os.path.exists(NEO4J_PROPERTIES_FILE):\n",
    "    config = configparser.RawConfigParser()\n",
    "    config.read(NEO4J_PROPERTIES_FILE)\n",
    "    HOST = config['NEO4J']['HOST']\n",
    "    USERNAME = config['NEO4J']['USERNAME']\n",
    "    PASSWORD = config['NEO4J']['PASSWORD']\n",
    "    print('Using custom database properties')\n",
    "else:\n",
    "    print('Could not find database properties file, using defaults')"
   ]
  },
  {
   "cell_type": "code",
   "execution_count": 5,
   "metadata": {},
   "outputs": [],
   "source": [
    "# Create a connection to the database\n",
    "gds = GraphDataScience(HOST, auth=(DATABASE, PASSWORD))"
   ]
  },
  {
   "cell_type": "markdown",
   "metadata": {},
   "source": [
    "```\n",
    "//visualize schema in Neo4j Browser\n",
    "neo4j$ CALL db.schema.visualization();\n",
    "```\n",
    "![image](./image/nodes.png)"
   ]
  },
  {
   "cell_type": "markdown",
   "metadata": {},
   "source": [
    "We see that recipes are modeled as nodes and can can be \"submitted\" or \"reviewed\" by users which are also modeled as nodes. \n",
    "Additionally, News also have ingredients and it's relation with recipe. These will be useful for extended analysis, but we will not be using them in this example. Our primary interest here is to get started with users and their reviews to derive recommendations."
   ]
  },
  {
   "cell_type": "markdown",
   "metadata": {},
   "source": [
    "### <a id=\"DataProfiling\">Graph Data Profiling</a>\n",
    "\n",
    "Before diving right into into analysis, it is helpful to inspect some high level statistics of graph to get a better sense of size and connectivity."
   ]
  },
  {
   "cell_type": "markdown",
   "metadata": {},
   "source": [
    "#### Aggregate Counts\n",
    "Let's start with high node and relationships counts. These functions assume [APOC](https://neo4j.com/developer/neo4j-apoc/) is installed on your Neo4j DB."
   ]
  },
  {
   "cell_type": "code",
   "execution_count": 6,
   "metadata": {},
   "outputs": [
    {
     "name": "stdout",
     "output_type": "stream",
     "text": [
      "\n",
      "Query executed in 0.01 seconds\n"
     ]
    },
    {
     "data": {
      "text/html": [
       "<div>\n",
       "<style scoped>\n",
       "    .dataframe tbody tr th:only-of-type {\n",
       "        vertical-align: middle;\n",
       "    }\n",
       "\n",
       "    .dataframe tbody tr th {\n",
       "        vertical-align: top;\n",
       "    }\n",
       "\n",
       "    .dataframe thead th {\n",
       "        text-align: right;\n",
       "    }\n",
       "</style>\n",
       "<table border=\"1\" class=\"dataframe\">\n",
       "  <thead>\n",
       "    <tr style=\"text-align: right;\">\n",
       "      <th></th>\n",
       "      <th>label</th>\n",
       "      <th>nodeCount</th>\n",
       "    </tr>\n",
       "  </thead>\n",
       "  <tbody>\n",
       "    <tr>\n",
       "      <th>0</th>\n",
       "      <td>User</td>\n",
       "      <td>1382</td>\n",
       "    </tr>\n",
       "    <tr>\n",
       "      <th>1</th>\n",
       "      <td>Recipe</td>\n",
       "      <td>231637</td>\n",
       "    </tr>\n",
       "  </tbody>\n",
       "</table>\n",
       "</div>"
      ],
      "text/plain": [
       "    label  nodeCount\n",
       "0    User       1382\n",
       "1  Recipe     231637"
      ]
     },
     "execution_count": 6,
     "metadata": {},
     "output_type": "execute_result"
    }
   ],
   "source": [
    "# Total node count\n",
    "queries.get_node_counts(gds)"
   ]
  },
  {
   "cell_type": "code",
   "execution_count": 7,
   "metadata": {},
   "outputs": [
    {
     "name": "stdout",
     "output_type": "stream",
     "text": [
      "\n",
      "Query executed in 0.01 seconds\n"
     ]
    },
    {
     "data": {
      "text/html": [
       "<div>\n",
       "<style scoped>\n",
       "    .dataframe tbody tr th:only-of-type {\n",
       "        vertical-align: middle;\n",
       "    }\n",
       "\n",
       "    .dataframe tbody tr th {\n",
       "        vertical-align: top;\n",
       "    }\n",
       "\n",
       "    .dataframe thead th {\n",
       "        text-align: right;\n",
       "    }\n",
       "</style>\n",
       "<table border=\"1\" class=\"dataframe\">\n",
       "  <thead>\n",
       "    <tr style=\"text-align: right;\">\n",
       "      <th></th>\n",
       "      <th>type</th>\n",
       "      <th>relationshipCount</th>\n",
       "    </tr>\n",
       "  </thead>\n",
       "  <tbody>\n",
       "    <tr>\n",
       "      <th>0</th>\n",
       "      <td>SUBMITTED</td>\n",
       "      <td>129211</td>\n",
       "    </tr>\n",
       "    <tr>\n",
       "      <th>1</th>\n",
       "      <td>REVIEWED</td>\n",
       "      <td>20000</td>\n",
       "    </tr>\n",
       "  </tbody>\n",
       "</table>\n",
       "</div>"
      ],
      "text/plain": [
       "        type  relationshipCount\n",
       "0  SUBMITTED             129211\n",
       "1   REVIEWED              20000"
      ]
     },
     "execution_count": 7,
     "metadata": {},
     "output_type": "execute_result"
    }
   ],
   "source": [
    "# total relationship counts\n",
    "queries.get_relationship_counts(gds)"
   ]
  },
  {
   "cell_type": "markdown",
   "metadata": {},
   "source": [
    "As far as search recommendation is concerns this is a relatively modestly sized graph, with only around 226K users, 231k news articles, and around 500k total creations/reviews."
   ]
  },
  {
   "cell_type": "markdown",
   "metadata": {},
   "source": [
    "#### <a id=\"RewDist\">Reviews Distributions</a>\n",
    "\n",
    "\n",
    "\n",
    "Next, we can look at the distribution of events per user. It is helpful to check this distribution to make sure that:\n",
    "1. The graph is reasonably well connected as the quality of our upcoming recommendation technique will depend on a reasonably well connected graph.\n",
    "2. We do not have any large [supernodes](https://medium.com/neo4j/graph-modeling-all-about-super-nodes-d6ad7e11015b), i.e. nodes with very high numbers of relationships. What qualifies as a supernode varies greatly by use case. For this, I would be concerned about users with tens of thousands of clicks."
   ]
  },
  {
   "cell_type": "code",
   "execution_count": 8,
   "metadata": {},
   "outputs": [
    {
     "data": {
      "image/png": "[encoded data removed]",
      "text/plain": [
       "<Figure size 1600x500 with 2 Axes>"
      ]
     },
     "metadata": {},
     "output_type": "display_data"
    }
   ],
   "source": [
    "# Define the top number of rewires\n",
    "n_rew = 100\n",
    "\n",
    "# Plot interactions distribution\n",
    "utils.plot_interactions_distribution(gds, n_rew)"
   ]
  },
  {
   "cell_type": "markdown",
   "metadata": {},
   "source": [
    "The above shows the distributions for total interactions (`REVIEWED` and `SUBMITTED`) as well as reviews (just `REVIEWED`) by user. We see that the distributions have heavy left tails, showing that activity is not uniformly distributed among users, but rather there is relatively small fraction of users that account for a large number of interactions. This is somewhat expected. "
   ]
  },
  {
   "cell_type": "markdown",
   "metadata": {},
   "source": [
    "We can do a similar breakdown for Recipe below."
   ]
  },
  {
   "cell_type": "code",
   "execution_count": 9,
   "metadata": {},
   "outputs": [
    {
     "data": {
      "image/png": "[encoded data removed]",
      "text/plain": [
       "<Figure size 1600x500 with 2 Axes>"
      ]
     },
     "metadata": {},
     "output_type": "display_data"
    }
   ],
   "source": [
    "# Plot interactions distribution\n",
    "utils.plot_recipe_interactions_distribution(gds, n_rew)"
   ]
  },
  {
   "cell_type": "markdown",
   "metadata": {},
   "source": [
    "## <a id=\"CF\">Collaborative Filtering (CF)</a>\n",
    "\n",
    "\n",
    "There are many different types of recommendations systems. In this example we will apply a technique called Collaborative Filtering (CF), which is the practice of automatically predicting a user's preferences based on the actions of similar users."
   ]
  },
  {
   "cell_type": "markdown",
   "metadata": {},
   "source": [
    "### <a id=\"UservsItemCF\">User vs Item Based CF</a>\n",
    "Roughly speaking there are two main classes of collaborative filtering\n",
    "1. User-based, which is focuses on directly calculating similarity between users based on their interaction with items\n",
    "2. Item-based, which measures the similarity between pairs of items based on correlated user activity, such as the same users liking, viewing, rating, or otherwise similarly interacting with items\n",
    "\n",
    "Our approach today will focus on the later, item-based CF. Item-based CF will be more manageable and scalable then user-based CF for many problem domains. There are a couple reasons for this. First, because there are way fewer items then users in most applied cases so there are less entities to compare. Second, and perhaps more importantly, User preferences can also be dynamic and change overtime. For example, in a Movie example, a user could be mostly interested in Sci Fi movies but go through a brief stint in Westerns, and making recommendations for Westerns to other Sci Fi fans who historically viewed the same things may not be the best thing. Often the best indicator of a user's current interest is their most recent activity, and item based filtering gives you better flexibility to find similarities based off the most recent item(s) submitted, rated, etc."
   ]
  },
  {
   "cell_type": "markdown",
   "metadata": {},
   "source": [
    "### <a id=\"BasicQueries\">Basic Cypher Queries for CF</a>\n",
    "From here we could try just using Cypher to accomplish basic Collaborative Filtering. For example, take the below user and the news they clicked. You can see a mixed interest between autos, finance, US news, and a couple other categories."
   ]
  },
  {
   "cell_type": "code",
   "execution_count": 10,
   "metadata": {},
   "outputs": [
    {
     "name": "stdout",
     "output_type": "stream",
     "text": [
      "\n",
      "Query executed in 0.02 seconds\n",
      "Selected user 27395 with 148 reviews\n"
     ]
    }
   ],
   "source": [
    "# Select a random user that has at least n_rew reviews\n",
    "random_user_query = queries.get_random_user(gds, n_rew)\n",
    "\n",
    "# Get the user ID\n",
    "USER_ID = str(random_user_query['randomUserID'][0])\n",
    "print(f\"Selected user {USER_ID} with\", random_user_query['reviewCount'][0], 'reviews')"
   ]
  },
  {
   "cell_type": "code",
   "execution_count": 11,
   "metadata": {},
   "outputs": [
    {
     "name": "stdout",
     "output_type": "stream",
     "text": [
      "\n",
      "Query executed in 0.02 seconds\n"
     ]
    },
    {
     "data": {
      "text/html": [
       "<div>\n",
       "<style scoped>\n",
       "    .dataframe tbody tr th:only-of-type {\n",
       "        vertical-align: middle;\n",
       "    }\n",
       "\n",
       "    .dataframe tbody tr th {\n",
       "        vertical-align: top;\n",
       "    }\n",
       "\n",
       "    .dataframe thead th {\n",
       "        text-align: right;\n",
       "    }\n",
       "</style>\n",
       "<table border=\"1\" class=\"dataframe\">\n",
       "  <thead>\n",
       "    <tr style=\"text-align: right;\">\n",
       "      <th></th>\n",
       "      <th>recipeID</th>\n",
       "      <th>name</th>\n",
       "      <th>nutrition</th>\n",
       "      <th>n_ingredients</th>\n",
       "      <th>interactionDate</th>\n",
       "      <th>interactionType</th>\n",
       "    </tr>\n",
       "  </thead>\n",
       "  <tbody>\n",
       "    <tr>\n",
       "      <th>0</th>\n",
       "      <td>36561</td>\n",
       "      <td>stir fried shrimp in garlic sauce</td>\n",
       "      <td>[216.6, 14.0, 1.0, 67.0, 46.0, 6.0, 2.0]</td>\n",
       "      <td>15</td>\n",
       "      <td>2004-01-05</td>\n",
       "      <td>REVIEWED</td>\n",
       "    </tr>\n",
       "    <tr>\n",
       "      <th>1</th>\n",
       "      <td>74251</td>\n",
       "      <td>black pepper butter cookies</td>\n",
       "      <td>[73.3, 6.0, 16.0, 1.0, 1.0, 12.0, 2.0]</td>\n",
       "      <td>8</td>\n",
       "      <td>2004-01-05</td>\n",
       "      <td>REVIEWED</td>\n",
       "    </tr>\n",
       "    <tr>\n",
       "      <th>2</th>\n",
       "      <td>79745</td>\n",
       "      <td>summertime italian green beans</td>\n",
       "      <td>[383.4, 51.0, 49.0, 97.0, 4.0, 26.0, 7.0]</td>\n",
       "      <td>3</td>\n",
       "      <td>2003-12-30</td>\n",
       "      <td>REVIEWED</td>\n",
       "    </tr>\n",
       "    <tr>\n",
       "      <th>3</th>\n",
       "      <td>30082</td>\n",
       "      <td>cheesecake cups</td>\n",
       "      <td>[171.5, 17.0, 41.0, 4.0, 5.0, 29.0, 4.0]</td>\n",
       "      <td>5</td>\n",
       "      <td>2003-12-15</td>\n",
       "      <td>REVIEWED</td>\n",
       "    </tr>\n",
       "    <tr>\n",
       "      <th>4</th>\n",
       "      <td>72990</td>\n",
       "      <td>chinese roast chicken</td>\n",
       "      <td>[616.3, 64.0, 38.0, 90.0, 93.0, 54.0, 4.0]</td>\n",
       "      <td>9</td>\n",
       "      <td>2003-12-14</td>\n",
       "      <td>REVIEWED</td>\n",
       "    </tr>\n",
       "  </tbody>\n",
       "</table>\n",
       "</div>"
      ],
      "text/plain": [
       "  recipeID                               name  \\\n",
       "0    36561  stir fried shrimp in garlic sauce   \n",
       "1    74251        black pepper butter cookies   \n",
       "2    79745     summertime italian green beans   \n",
       "3    30082                    cheesecake cups   \n",
       "4    72990              chinese roast chicken   \n",
       "\n",
       "                                    nutrition n_ingredients interactionDate  \\\n",
       "0    [216.6, 14.0, 1.0, 67.0, 46.0, 6.0, 2.0]            15      2004-01-05   \n",
       "1      [73.3, 6.0, 16.0, 1.0, 1.0, 12.0, 2.0]             8      2004-01-05   \n",
       "2   [383.4, 51.0, 49.0, 97.0, 4.0, 26.0, 7.0]             3      2003-12-30   \n",
       "3    [171.5, 17.0, 41.0, 4.0, 5.0, 29.0, 4.0]             5      2003-12-15   \n",
       "4  [616.3, 64.0, 38.0, 90.0, 93.0, 54.0, 4.0]             9      2003-12-14   \n",
       "\n",
       "  interactionType  \n",
       "0        REVIEWED  \n",
       "1        REVIEWED  \n",
       "2        REVIEWED  \n",
       "3        REVIEWED  \n",
       "4        REVIEWED  "
      ]
     },
     "execution_count": 11,
     "metadata": {},
     "output_type": "execute_result"
    }
   ],
   "source": [
    "# Print some of the user interactions\n",
    "user_interactions = queries.get_user_interactions(gds, USER_ID)\n",
    "interacted_recipes = list(set(user_interactions['recipeID']))\n",
    "\n",
    "# Show result\n",
    "user_interactions.head()"
   ]
  },
  {
   "cell_type": "markdown",
   "metadata": {},
   "source": [
    "Assuming we can measure the similarity of user interests via commonly reviewed recipes, we can do a three hop query to find potential recommendations for user `27711` based on the activity of users that reviewed the same recipe as `27711` (or even reviewed their recipe high).\n",
    "\n",
    "With the below query we can get an aggregate count of the nodes we would need to traverse over to get the recommendations."
   ]
  },
  {
   "cell_type": "code",
   "execution_count": 12,
   "metadata": {},
   "outputs": [
    {
     "name": "stdout",
     "output_type": "stream",
     "text": [
      "\n",
      "Query executed in 0.06 seconds\n"
     ]
    },
    {
     "data": {
      "text/html": [
       "<div>\n",
       "<style scoped>\n",
       "    .dataframe tbody tr th:only-of-type {\n",
       "        vertical-align: middle;\n",
       "    }\n",
       "\n",
       "    .dataframe tbody tr th {\n",
       "        vertical-align: top;\n",
       "    }\n",
       "\n",
       "    .dataframe thead th {\n",
       "        text-align: right;\n",
       "    }\n",
       "</style>\n",
       "<table border=\"1\" class=\"dataframe\">\n",
       "  <thead>\n",
       "    <tr style=\"text-align: right;\">\n",
       "      <th></th>\n",
       "      <th>userId</th>\n",
       "      <th>interactedRecipesCount</th>\n",
       "      <th>likeUsersCount</th>\n",
       "      <th>potentialRecommendationsCount</th>\n",
       "    </tr>\n",
       "  </thead>\n",
       "  <tbody>\n",
       "    <tr>\n",
       "      <th>0</th>\n",
       "      <td>27395</td>\n",
       "      <td>108</td>\n",
       "      <td>81</td>\n",
       "      <td>37491</td>\n",
       "    </tr>\n",
       "  </tbody>\n",
       "</table>\n",
       "</div>"
      ],
      "text/plain": [
       "  userId  interactedRecipesCount  likeUsersCount  \\\n",
       "0  27395                     108              81   \n",
       "\n",
       "   potentialRecommendationsCount  \n",
       "0                          37491  "
      ]
     },
     "execution_count": 12,
     "metadata": {},
     "output_type": "execute_result"
    }
   ],
   "source": [
    "# Get the number of possible suggestions\n",
    "queries.get_hops_count(gds, USER_ID)"
   ]
  },
  {
   "cell_type": "markdown",
   "metadata": {},
   "source": [
    "While the above can work well in some cases, and while it can certainly be a massive improvement from joining SQL tables or cross-walking over document stores, notice that we get a lot of potential recommendations back (about 13K). And this is just a sample of the the total dataset.\n",
    "\n",
    "For production use cases where recommendations will need to be queried frequently, this method will have trouble scaling as the number of users, amount of content, and/or observed engagement grows. We need some other strategy to help narrow down the results. There are a few different ways we can accomplish this, but one robust and scalable way to do so is with the [Neo4j Graph Data Science (GDS) Library](https://neo4j.com/docs/graph-data-science/current/)."
   ]
  },
  {
   "cell_type": "code",
   "execution_count": 13,
   "metadata": {},
   "outputs": [],
   "source": [
    "# Load generated test data\n",
    "test_reviewed_df = pd.read_csv(os.path.join(NEO4J_IMPORT_DIR, 'test_reviewed.csv'))"
   ]
  },
  {
   "cell_type": "markdown",
   "metadata": {},
   "source": [
    "#### <a id=\"favIngrRec\">Recommendation based on favorite ingredients</a>\n",
    "First let's make a list of excluded ingredients. Those ingredients won't be considered as they're common ingredients in recipies."
   ]
  },
  {
   "cell_type": "code",
   "execution_count": 14,
   "metadata": {},
   "outputs": [],
   "source": [
    "# Define a list of (common) ingredients to exclude\n",
    "excluded_ingr = [\n",
    "    'salt', 'butter', 'sugar', 'onion', 'water', 'eggs', 'olive oil', 'flour',\n",
    "    'milk', 'garlic cloves', 'pepper', 'brown sugar', 'garlic', 'all-purpose flour',\n",
    "    'baking powder', 'egg', 'salt and pepper', 'baking soda',\n",
    "]"
   ]
  },
  {
   "cell_type": "code",
   "execution_count": 15,
   "metadata": {},
   "outputs": [
    {
     "name": "stdout",
     "output_type": "stream",
     "text": [
      "\n",
      "Query executed in 0.02 seconds\n"
     ]
    },
    {
     "data": {
      "text/html": [
       "<div>\n",
       "<style scoped>\n",
       "    .dataframe tbody tr th:only-of-type {\n",
       "        vertical-align: middle;\n",
       "    }\n",
       "\n",
       "    .dataframe tbody tr th {\n",
       "        vertical-align: top;\n",
       "    }\n",
       "\n",
       "    .dataframe thead th {\n",
       "        text-align: right;\n",
       "    }\n",
       "</style>\n",
       "<table border=\"1\" class=\"dataframe\">\n",
       "  <thead>\n",
       "    <tr style=\"text-align: right;\">\n",
       "      <th></th>\n",
       "      <th>favoriteIngredient</th>\n",
       "      <th>favCount</th>\n",
       "    </tr>\n",
       "  </thead>\n",
       "  <tbody>\n",
       "    <tr>\n",
       "      <th>0</th>\n",
       "      <td>garlic powder</td>\n",
       "      <td>59</td>\n",
       "    </tr>\n",
       "    <tr>\n",
       "      <th>1</th>\n",
       "      <td>black pepper</td>\n",
       "      <td>53</td>\n",
       "    </tr>\n",
       "    <tr>\n",
       "      <th>2</th>\n",
       "      <td>soy sauce</td>\n",
       "      <td>32</td>\n",
       "    </tr>\n",
       "    <tr>\n",
       "      <th>3</th>\n",
       "      <td>celery</td>\n",
       "      <td>29</td>\n",
       "    </tr>\n",
       "    <tr>\n",
       "      <th>4</th>\n",
       "      <td>cream cheese</td>\n",
       "      <td>25</td>\n",
       "    </tr>\n",
       "    <tr>\n",
       "      <th>...</th>\n",
       "      <td>...</td>\n",
       "      <td>...</td>\n",
       "    </tr>\n",
       "    <tr>\n",
       "      <th>17</th>\n",
       "      <td>cinnamon</td>\n",
       "      <td>14</td>\n",
       "    </tr>\n",
       "    <tr>\n",
       "      <th>18</th>\n",
       "      <td>carrots</td>\n",
       "      <td>14</td>\n",
       "    </tr>\n",
       "    <tr>\n",
       "      <th>19</th>\n",
       "      <td>fresh mushrooms</td>\n",
       "      <td>13</td>\n",
       "    </tr>\n",
       "    <tr>\n",
       "      <th>20</th>\n",
       "      <td>salt and black pepper</td>\n",
       "      <td>13</td>\n",
       "    </tr>\n",
       "    <tr>\n",
       "      <th>21</th>\n",
       "      <td>green onions</td>\n",
       "      <td>13</td>\n",
       "    </tr>\n",
       "  </tbody>\n",
       "</table>\n",
       "<p>22 rows × 2 columns</p>\n",
       "</div>"
      ],
      "text/plain": [
       "       favoriteIngredient  favCount\n",
       "0           garlic powder        59\n",
       "1            black pepper        53\n",
       "2               soy sauce        32\n",
       "3                  celery        29\n",
       "4            cream cheese        25\n",
       "..                    ...       ...\n",
       "17               cinnamon        14\n",
       "18                carrots        14\n",
       "19        fresh mushrooms        13\n",
       "20  salt and black pepper        13\n",
       "21           green onions        13\n",
       "\n",
       "[22 rows x 2 columns]"
      ]
     },
     "execution_count": 15,
     "metadata": {},
     "output_type": "execute_result"
    }
   ],
   "source": [
    "# Compute top 5 user ingredients\n",
    "favIngr = queries.get_user_favourite_ingredients(\n",
    "    gds, \n",
    "    USER_ID, \n",
    "    excluded_ingr\n",
    ")\n",
    "\n",
    "# Extract the favorite ingredients\n",
    "favorite_ingredients = list(favIngr['favoriteIngredient'])\n",
    "\n",
    "# Show result\n",
    "favIngr[['favoriteIngredient', 'favCount']]"
   ]
  },
  {
   "cell_type": "code",
   "execution_count": 16,
   "metadata": {},
   "outputs": [
    {
     "name": "stdout",
     "output_type": "stream",
     "text": [
      "\n",
      "Query executed in 6.01 seconds\n"
     ]
    },
    {
     "data": {
      "text/html": [
       "<div>\n",
       "<style scoped>\n",
       "    .dataframe tbody tr th:only-of-type {\n",
       "        vertical-align: middle;\n",
       "    }\n",
       "\n",
       "    .dataframe tbody tr th {\n",
       "        vertical-align: top;\n",
       "    }\n",
       "\n",
       "    .dataframe thead th {\n",
       "        text-align: right;\n",
       "    }\n",
       "</style>\n",
       "<table border=\"1\" class=\"dataframe\">\n",
       "  <thead>\n",
       "    <tr style=\"text-align: right;\">\n",
       "      <th></th>\n",
       "      <th>recipeID</th>\n",
       "      <th>recipeName</th>\n",
       "      <th>recipeIngredients</th>\n",
       "      <th>matchCount</th>\n",
       "      <th>totalIngredients</th>\n",
       "      <th>relevanceScore</th>\n",
       "    </tr>\n",
       "  </thead>\n",
       "  <tbody>\n",
       "    <tr>\n",
       "      <th>0</th>\n",
       "      <td>470564</td>\n",
       "      <td>tomato garlic dressing</td>\n",
       "      <td>[mayonnaise, lemon juice, garlic powder, tomatoes]</td>\n",
       "      <td>4</td>\n",
       "      <td>4</td>\n",
       "      <td>1.609438</td>\n",
       "    </tr>\n",
       "    <tr>\n",
       "      <th>1</th>\n",
       "      <td>96923</td>\n",
       "      <td>quick ham stir fry</td>\n",
       "      <td>[soy sauce, celery, cooked ham, black pepper, cooked rice, green pepper, onion, garlic powder, vegetable oil]</td>\n",
       "      <td>6</td>\n",
       "      <td>9</td>\n",
       "      <td>1.535057</td>\n",
       "    </tr>\n",
       "    <tr>\n",
       "      <th>2</th>\n",
       "      <td>290391</td>\n",
       "      <td>asparagus tomato stir fry</td>\n",
       "      <td>[cornstarch, chicken broth, green onions, soy sauce, fresh mushrooms, asparagus spear, cooking oil, tomatoes, gingerroot]</td>\n",
       "      <td>6</td>\n",
       "      <td>9</td>\n",
       "      <td>1.535057</td>\n",
       "    </tr>\n",
       "    <tr>\n",
       "      <th>3</th>\n",
       "      <td>117703</td>\n",
       "      <td>ez asian chicken or turkey stir fry</td>\n",
       "      <td>[turkey breast, sliced water chestnuts, ground ginger, chicken broth, garlic powder, oil, cornstarch, green onions, bok choy, dry sherry, fresh mushrooms, soy sauce]</td>\n",
       "      <td>7</td>\n",
       "      <td>12</td>\n",
       "      <td>1.496220</td>\n",
       "    </tr>\n",
       "    <tr>\n",
       "      <th>4</th>\n",
       "      <td>300239</td>\n",
       "      <td>celery parmegiana</td>\n",
       "      <td>[tomatoes, onions, parmesan cheese, margarine, garlic powder, water, celery]</td>\n",
       "      <td>5</td>\n",
       "      <td>7</td>\n",
       "      <td>1.485315</td>\n",
       "    </tr>\n",
       "  </tbody>\n",
       "</table>\n",
       "</div>"
      ],
      "text/plain": [
       "  recipeID                           recipeName  \\\n",
       "0   470564               tomato garlic dressing   \n",
       "1    96923                   quick ham stir fry   \n",
       "2   290391            asparagus tomato stir fry   \n",
       "3   117703  ez asian chicken or turkey stir fry   \n",
       "4   300239                    celery parmegiana   \n",
       "\n",
       "                                                                                                                                                       recipeIngredients  \\\n",
       "0                                                                                                                     [mayonnaise, lemon juice, garlic powder, tomatoes]   \n",
       "1                                                          [soy sauce, celery, cooked ham, black pepper, cooked rice, green pepper, onion, garlic powder, vegetable oil]   \n",
       "2                                              [cornstarch, chicken broth, green onions, soy sauce, fresh mushrooms, asparagus spear, cooking oil, tomatoes, gingerroot]   \n",
       "3  [turkey breast, sliced water chestnuts, ground ginger, chicken broth, garlic powder, oil, cornstarch, green onions, bok choy, dry sherry, fresh mushrooms, soy sauce]   \n",
       "4                                                                                           [tomatoes, onions, parmesan cheese, margarine, garlic powder, water, celery]   \n",
       "\n",
       "   matchCount  totalIngredients  relevanceScore  \n",
       "0           4                 4        1.609438  \n",
       "1           6                 9        1.535057  \n",
       "2           6                 9        1.535057  \n",
       "3           7                12        1.496220  \n",
       "4           5                 7        1.485315  "
      ]
     },
     "execution_count": 16,
     "metadata": {},
     "output_type": "execute_result"
    }
   ],
   "source": [
    "# Suggest recipes based on user's favorites ingredients\n",
    "favIngrRec = queries.get_recipe_w_ingreds(\n",
    "    gds, \n",
    "    interacted_recipes, \n",
    "    favorite_ingredients, \n",
    "    excluded_ingr\n",
    ")\n",
    "\n",
    "# Show result\n",
    "favIngrRec.head()"
   ]
  },
  {
   "cell_type": "markdown",
   "metadata": {},
   "source": [
    "#### <a id=\"NutrValRec\">Recommendation based on nutritonal properties</a>\n",
    "In addition to suggestin recipes based on preferred ingredients, it's also possible to identify user preferences on nutritional values and make suggestions based on this data. We will study a user favorite nutritional values based on both the recipes he has submitted and reviewed."
   ]
  },
  {
   "cell_type": "code",
   "execution_count": 17,
   "metadata": {},
   "outputs": [
    {
     "name": "stdout",
     "output_type": "stream",
     "text": [
      "\n",
      "Query executed in 0.01 seconds\n"
     ]
    },
    {
     "data": {
      "text/html": [
       "<div>\n",
       "<style scoped>\n",
       "    .dataframe tbody tr th:only-of-type {\n",
       "        vertical-align: middle;\n",
       "    }\n",
       "\n",
       "    .dataframe tbody tr th {\n",
       "        vertical-align: top;\n",
       "    }\n",
       "\n",
       "    .dataframe thead th {\n",
       "        text-align: right;\n",
       "    }\n",
       "</style>\n",
       "<table border=\"1\" class=\"dataframe\">\n",
       "  <thead>\n",
       "    <tr style=\"text-align: right;\">\n",
       "      <th></th>\n",
       "      <th>recipeID</th>\n",
       "      <th>calories</th>\n",
       "      <th>totalFat</th>\n",
       "      <th>sugar</th>\n",
       "      <th>sodium</th>\n",
       "      <th>protein</th>\n",
       "      <th>saturatedFat</th>\n",
       "      <th>carbs</th>\n",
       "    </tr>\n",
       "  </thead>\n",
       "  <tbody>\n",
       "    <tr>\n",
       "      <th>0</th>\n",
       "      <td>45459</td>\n",
       "      <td>200.4</td>\n",
       "      <td>0.0</td>\n",
       "      <td>173.0</td>\n",
       "      <td>6.0</td>\n",
       "      <td>6.0</td>\n",
       "      <td>0.0</td>\n",
       "      <td>16.0</td>\n",
       "    </tr>\n",
       "    <tr>\n",
       "      <th>1</th>\n",
       "      <td>34519</td>\n",
       "      <td>445.4</td>\n",
       "      <td>37.0</td>\n",
       "      <td>63.0</td>\n",
       "      <td>47.0</td>\n",
       "      <td>37.0</td>\n",
       "      <td>41.0</td>\n",
       "      <td>12.0</td>\n",
       "    </tr>\n",
       "    <tr>\n",
       "      <th>2</th>\n",
       "      <td>54882</td>\n",
       "      <td>446.1</td>\n",
       "      <td>9.0</td>\n",
       "      <td>19.0</td>\n",
       "      <td>24.0</td>\n",
       "      <td>25.0</td>\n",
       "      <td>4.0</td>\n",
       "      <td>29.0</td>\n",
       "    </tr>\n",
       "    <tr>\n",
       "      <th>3</th>\n",
       "      <td>17741</td>\n",
       "      <td>277.6</td>\n",
       "      <td>17.0</td>\n",
       "      <td>27.0</td>\n",
       "      <td>45.0</td>\n",
       "      <td>45.0</td>\n",
       "      <td>20.0</td>\n",
       "      <td>8.0</td>\n",
       "    </tr>\n",
       "    <tr>\n",
       "      <th>4</th>\n",
       "      <td>16619</td>\n",
       "      <td>82.6</td>\n",
       "      <td>2.0</td>\n",
       "      <td>5.0</td>\n",
       "      <td>6.0</td>\n",
       "      <td>5.0</td>\n",
       "      <td>1.0</td>\n",
       "      <td>4.0</td>\n",
       "    </tr>\n",
       "  </tbody>\n",
       "</table>\n",
       "</div>"
      ],
      "text/plain": [
       "  recipeID  calories  totalFat  sugar  sodium  protein  saturatedFat  carbs\n",
       "0    45459     200.4       0.0  173.0     6.0      6.0           0.0   16.0\n",
       "1    34519     445.4      37.0   63.0    47.0     37.0          41.0   12.0\n",
       "2    54882     446.1       9.0   19.0    24.0     25.0           4.0   29.0\n",
       "3    17741     277.6      17.0   27.0    45.0     45.0          20.0    8.0\n",
       "4    16619      82.6       2.0    5.0     6.0      5.0           1.0    4.0"
      ]
     },
     "execution_count": 17,
     "metadata": {},
     "output_type": "execute_result"
    }
   ],
   "source": [
    "# Obtain nutritional values\n",
    "nutrVal = queries.get_user_nutritional_values(\n",
    "    gds, \n",
    "    USER_ID\n",
    ")\n",
    "\n",
    "# Show result\n",
    "nutrVal.head()"
   ]
  },
  {
   "cell_type": "code",
   "execution_count": 18,
   "metadata": {},
   "outputs": [
    {
     "data": {
      "image/png": "[encoded data removed]",
      "text/plain": [
       "<Figure size 2000x200 with 7 Axes>"
      ]
     },
     "metadata": {},
     "output_type": "display_data"
    },
    {
     "name": "stdout",
     "output_type": "stream",
     "text": [
      "50% of calories data lies between 144.70 and 434.75\n",
      "50% of total fat data lies between 6.00 and 32.00\n",
      "50% of sugar data lies between 12.00 and 64.00\n",
      "50% of sodium data lies between 8.00 and 40.00\n",
      "50% of protein data lies between 6.00 and 50.00\n",
      "50% of saturated fat data lies between 4.00 and 38.50\n",
      "50% of carbs data lies between 4.00 and 15.50\n"
     ]
    }
   ],
   "source": [
    "# Plot nutritional values\n",
    "utils.plot_nutritional_values(nutrVal)\n",
    "# Get nutritional values ranges\n",
    "calories_range, fat_range, sugar_range, sodium_range, protein_range, sat_fat_range, carbs_range = utils.get_nutritional_values(nutrVal)"
   ]
  },
  {
   "cell_type": "code",
   "execution_count": 19,
   "metadata": {},
   "outputs": [
    {
     "name": "stdout",
     "output_type": "stream",
     "text": [
      "\n",
      "Query executed in 0.46 seconds\n"
     ]
    },
    {
     "data": {
      "text/html": [
       "<div>\n",
       "<style scoped>\n",
       "    .dataframe tbody tr th:only-of-type {\n",
       "        vertical-align: middle;\n",
       "    }\n",
       "\n",
       "    .dataframe tbody tr th {\n",
       "        vertical-align: top;\n",
       "    }\n",
       "\n",
       "    .dataframe thead th {\n",
       "        text-align: right;\n",
       "    }\n",
       "</style>\n",
       "<table border=\"1\" class=\"dataframe\">\n",
       "  <thead>\n",
       "    <tr style=\"text-align: right;\">\n",
       "      <th></th>\n",
       "      <th>recipeID</th>\n",
       "      <th>recipeName</th>\n",
       "      <th>nutritionList</th>\n",
       "    </tr>\n",
       "  </thead>\n",
       "  <tbody>\n",
       "    <tr>\n",
       "      <th>0</th>\n",
       "      <td>100026</td>\n",
       "      <td>baking powder meatballs</td>\n",
       "      <td>[312.1, 29.0, 9.0, 39.0, 35.0, 32.0, 5.0]</td>\n",
       "    </tr>\n",
       "    <tr>\n",
       "      <th>1</th>\n",
       "      <td>10003</td>\n",
       "      <td>spicy corn salad with avocado dressing</td>\n",
       "      <td>[286.0, 21.0, 29.0, 23.0, 13.0, 17.0, 14.0]</td>\n",
       "    </tr>\n",
       "    <tr>\n",
       "      <th>2</th>\n",
       "      <td>100058</td>\n",
       "      <td>daddy s chili con carne</td>\n",
       "      <td>[308.8, 11.0, 32.0, 27.0, 41.0, 14.0, 13.0]</td>\n",
       "    </tr>\n",
       "    <tr>\n",
       "      <th>3</th>\n",
       "      <td>100083</td>\n",
       "      <td>herb mustard roast potatoes</td>\n",
       "      <td>[233.4, 12.0, 12.0, 10.0, 10.0, 5.0, 12.0]</td>\n",
       "    </tr>\n",
       "    <tr>\n",
       "      <th>4</th>\n",
       "      <td>100085</td>\n",
       "      <td>sausage cheese english muffins</td>\n",
       "      <td>[245.9, 15.0, 8.0, 20.0, 25.0, 14.0, 8.0]</td>\n",
       "    </tr>\n",
       "  </tbody>\n",
       "</table>\n",
       "</div>"
      ],
      "text/plain": [
       "  recipeID                              recipeName  \\\n",
       "0   100026                 baking powder meatballs   \n",
       "1    10003  spicy corn salad with avocado dressing   \n",
       "2   100058                 daddy s chili con carne   \n",
       "3   100083             herb mustard roast potatoes   \n",
       "4   100085          sausage cheese english muffins   \n",
       "\n",
       "                                 nutritionList  \n",
       "0    [312.1, 29.0, 9.0, 39.0, 35.0, 32.0, 5.0]  \n",
       "1  [286.0, 21.0, 29.0, 23.0, 13.0, 17.0, 14.0]  \n",
       "2  [308.8, 11.0, 32.0, 27.0, 41.0, 14.0, 13.0]  \n",
       "3   [233.4, 12.0, 12.0, 10.0, 10.0, 5.0, 12.0]  \n",
       "4    [245.9, 15.0, 8.0, 20.0, 25.0, 14.0, 8.0]  "
      ]
     },
     "execution_count": 19,
     "metadata": {},
     "output_type": "execute_result"
    }
   ],
   "source": [
    "# Suggest recipe based on nutritional values\n",
    "nutrValRec = queries.get_recipe_nutritional_values(\n",
    "    gds, \n",
    "    interacted_recipes, \n",
    "    calories_range, \n",
    "    fat_range, \n",
    "    sugar_range, \n",
    "    sodium_range, \n",
    "    protein_range,\n",
    "    sat_fat_range,\n",
    "    carbs_range\n",
    ")\n",
    "\n",
    "# Show result\n",
    "nutrValRec.head()"
   ]
  },
  {
   "cell_type": "markdown",
   "metadata": {},
   "source": [
    "We can also combine the user preferences on ingredients with those on nutritional values to provide even more accurate recommendations. We can than sort the result based on most matching favorites ingredients and show first recipes with less preparation time."
   ]
  },
  {
   "cell_type": "code",
   "execution_count": 20,
   "metadata": {},
   "outputs": [
    {
     "name": "stdout",
     "output_type": "stream",
     "text": [
      "\n",
      "Query executed in 3.84 seconds\n"
     ]
    },
    {
     "data": {
      "text/html": [
       "<div>\n",
       "<style scoped>\n",
       "    .dataframe tbody tr th:only-of-type {\n",
       "        vertical-align: middle;\n",
       "    }\n",
       "\n",
       "    .dataframe tbody tr th {\n",
       "        vertical-align: top;\n",
       "    }\n",
       "\n",
       "    .dataframe thead th {\n",
       "        text-align: right;\n",
       "    }\n",
       "</style>\n",
       "<table border=\"1\" class=\"dataframe\">\n",
       "  <thead>\n",
       "    <tr style=\"text-align: right;\">\n",
       "      <th></th>\n",
       "      <th>recipeID</th>\n",
       "      <th>recipeName</th>\n",
       "      <th>recipeIngredients</th>\n",
       "      <th>nutritionList</th>\n",
       "      <th>relevanceScore</th>\n",
       "    </tr>\n",
       "  </thead>\n",
       "  <tbody>\n",
       "    <tr>\n",
       "      <th>0</th>\n",
       "      <td>284321</td>\n",
       "      <td>garlic chicken and corn stir fry</td>\n",
       "      <td>[celery, soy sauce, chicken broth, vegetable oil, onion powder, black pepper, cornstarch, red bell pepper, cooked rice, garlic cloves, boneless skinless chicken thighs, frozen corn]</td>\n",
       "      <td>[318.1, 9.0, 10.0, 18.0, 39.0, 6.0, 15.0]</td>\n",
       "      <td>1.282475</td>\n",
       "    </tr>\n",
       "    <tr>\n",
       "      <th>1</th>\n",
       "      <td>36765</td>\n",
       "      <td>vegetable pork stir fry</td>\n",
       "      <td>[fresh mushrooms, green pepper, reduced sodium soy sauce, garlic, carrot, cornstarch, zucchini, cooked rice, pork tenderloin, vegetable oil, chicken broth, celery ribs]</td>\n",
       "      <td>[252.5, 7.0, 13.0, 15.0, 33.0, 5.0, 11.0]</td>\n",
       "      <td>1.282475</td>\n",
       "    </tr>\n",
       "    <tr>\n",
       "      <th>2</th>\n",
       "      <td>337419</td>\n",
       "      <td>black bean soup from dried beans</td>\n",
       "      <td>[onion, dried black beans, black pepper, chicken bouillon cubes, garlic powder, oil, celery, carrots, salt]</td>\n",
       "      <td>[272.3, 9.0, 17.0, 31.0, 27.0, 5.0, 13.0]</td>\n",
       "      <td>1.279214</td>\n",
       "    </tr>\n",
       "    <tr>\n",
       "      <th>3</th>\n",
       "      <td>251746</td>\n",
       "      <td>vermicelli olive pasta salad</td>\n",
       "      <td>[vegetable oil, green pepper, accent seasoning, vermicelli, celery, green olives, water chestnuts, onion, lawry's seasoned salt, mayonnaise, lemon juice, parmesan cheese, black olives]</td>\n",
       "      <td>[299.3, 26.0, 12.0, 32.0, 10.0, 12.0, 10.0]</td>\n",
       "      <td>1.218026</td>\n",
       "    </tr>\n",
       "    <tr>\n",
       "      <th>4</th>\n",
       "      <td>150920</td>\n",
       "      <td>no cream creamy broccoli soup</td>\n",
       "      <td>[oil, fresh broccoli, milk, minute white rice, celery, chicken broth, water, onion, parmesan cheese, carrots]</td>\n",
       "      <td>[160.7, 11.0, 11.0, 19.0, 15.0, 13.0, 5.0]</td>\n",
       "      <td>1.198948</td>\n",
       "    </tr>\n",
       "  </tbody>\n",
       "</table>\n",
       "</div>"
      ],
      "text/plain": [
       "  recipeID                        recipeName  \\\n",
       "0   284321  garlic chicken and corn stir fry   \n",
       "1    36765           vegetable pork stir fry   \n",
       "2   337419  black bean soup from dried beans   \n",
       "3   251746      vermicelli olive pasta salad   \n",
       "4   150920     no cream creamy broccoli soup   \n",
       "\n",
       "                                                                                                                                                                          recipeIngredients  \\\n",
       "0     [celery, soy sauce, chicken broth, vegetable oil, onion powder, black pepper, cornstarch, red bell pepper, cooked rice, garlic cloves, boneless skinless chicken thighs, frozen corn]   \n",
       "1                  [fresh mushrooms, green pepper, reduced sodium soy sauce, garlic, carrot, cornstarch, zucchini, cooked rice, pork tenderloin, vegetable oil, chicken broth, celery ribs]   \n",
       "2                                                                               [onion, dried black beans, black pepper, chicken bouillon cubes, garlic powder, oil, celery, carrots, salt]   \n",
       "3  [vegetable oil, green pepper, accent seasoning, vermicelli, celery, green olives, water chestnuts, onion, lawry's seasoned salt, mayonnaise, lemon juice, parmesan cheese, black olives]   \n",
       "4                                                                             [oil, fresh broccoli, milk, minute white rice, celery, chicken broth, water, onion, parmesan cheese, carrots]   \n",
       "\n",
       "                                 nutritionList  relevanceScore  \n",
       "0    [318.1, 9.0, 10.0, 18.0, 39.0, 6.0, 15.0]        1.282475  \n",
       "1    [252.5, 7.0, 13.0, 15.0, 33.0, 5.0, 11.0]        1.282475  \n",
       "2    [272.3, 9.0, 17.0, 31.0, 27.0, 5.0, 13.0]        1.279214  \n",
       "3  [299.3, 26.0, 12.0, 32.0, 10.0, 12.0, 10.0]        1.218026  \n",
       "4   [160.7, 11.0, 11.0, 19.0, 15.0, 13.0, 5.0]        1.198948  "
      ]
     },
     "execution_count": 20,
     "metadata": {},
     "output_type": "execute_result"
    }
   ],
   "source": [
    "# Suggest recipe based on favorite ingredients and nutritional values\n",
    "fitRecFavIngr = queries.get_recipe_nutritional_ingreds(\n",
    "    gds, \n",
    "    interacted_recipes, \n",
    "    favorite_ingredients, \n",
    "    calories_range, \n",
    "    fat_range, \n",
    "    sugar_range, \n",
    "    sodium_range, \n",
    "    protein_range,\n",
    "    sat_fat_range,\n",
    "    carbs_range,\n",
    ")\n",
    "\n",
    "# Show result\n",
    "fitRecFavIngr.head()"
   ]
  },
  {
   "cell_type": "markdown",
   "metadata": {},
   "source": [
    "#### <a id=\"TagsRec\">Recommendation based on website tags</a>\n",
    "Another thing we can leverage to suggest recipes to our user is Site Tags. All recipe tags are easily obtained from the following query."
   ]
  },
  {
   "cell_type": "code",
   "execution_count": 21,
   "metadata": {},
   "outputs": [
    {
     "name": "stdout",
     "output_type": "stream",
     "text": [
      "\n",
      "Query executed in 0.78 seconds\n"
     ]
    },
    {
     "data": {
      "text/html": [
       "<div>\n",
       "<style scoped>\n",
       "    .dataframe tbody tr th:only-of-type {\n",
       "        vertical-align: middle;\n",
       "    }\n",
       "\n",
       "    .dataframe tbody tr th {\n",
       "        vertical-align: top;\n",
       "    }\n",
       "\n",
       "    .dataframe thead th {\n",
       "        text-align: right;\n",
       "    }\n",
       "</style>\n",
       "<table border=\"1\" class=\"dataframe\">\n",
       "  <thead>\n",
       "    <tr style=\"text-align: right;\">\n",
       "      <th></th>\n",
       "      <th>tag</th>\n",
       "      <th>tagCount</th>\n",
       "    </tr>\n",
       "  </thead>\n",
       "  <tbody>\n",
       "    <tr>\n",
       "      <th>0</th>\n",
       "      <td>preparation</td>\n",
       "      <td>230546</td>\n",
       "    </tr>\n",
       "    <tr>\n",
       "      <th>1</th>\n",
       "      <td>time-to-make</td>\n",
       "      <td>225326</td>\n",
       "    </tr>\n",
       "    <tr>\n",
       "      <th>2</th>\n",
       "      <td>course</td>\n",
       "      <td>218148</td>\n",
       "    </tr>\n",
       "    <tr>\n",
       "      <th>3</th>\n",
       "      <td>main-ingredient</td>\n",
       "      <td>170446</td>\n",
       "    </tr>\n",
       "    <tr>\n",
       "      <th>4</th>\n",
       "      <td>dietary</td>\n",
       "      <td>165091</td>\n",
       "    </tr>\n",
       "  </tbody>\n",
       "</table>\n",
       "</div>"
      ],
      "text/plain": [
       "               tag  tagCount\n",
       "0      preparation    230546\n",
       "1     time-to-make    225326\n",
       "2           course    218148\n",
       "3  main-ingredient    170446\n",
       "4          dietary    165091"
      ]
     },
     "execution_count": 21,
     "metadata": {},
     "output_type": "execute_result"
    }
   ],
   "source": [
    "# Get recipe taglist with count\n",
    "queries.get_recipes_taglist(gds).head()"
   ]
  },
  {
   "cell_type": "markdown",
   "metadata": {},
   "source": [
    "Here we can see that there are very common tags that we're likely to exclude from the taglist, that way we can obtain more user-specific recommendation."
   ]
  },
  {
   "cell_type": "code",
   "execution_count": 22,
   "metadata": {},
   "outputs": [],
   "source": [
    "# Define a list of (common) tags to exclude\n",
    "excluded_tags = [\n",
    "    'preparation', 'time-to-make', 'course', 'main-ingredient', 'dietary', 'easy', \n",
    "    'occasion', 'cuisine', 'low-in-something', 'main-dish', 'equipment', '60-minutes-or-less',\n",
    "    'number-of-servings', 'meat', '30-minutes-or-less', 'vegetables', 'taste-mood',\n",
    "    '4-hours-or-less', 'north-american', '3-steps-or-less',\n",
    "]"
   ]
  },
  {
   "cell_type": "markdown",
   "metadata": {},
   "source": [
    "We can also just check all tags of the recipes an user has reviewed, count them, and order by count to obtain the top tags of an user."
   ]
  },
  {
   "cell_type": "code",
   "execution_count": 23,
   "metadata": {},
   "outputs": [
    {
     "name": "stdout",
     "output_type": "stream",
     "text": [
      "\n",
      "Query executed in 0.01 seconds\n"
     ]
    },
    {
     "data": {
      "text/html": [
       "<div>\n",
       "<style scoped>\n",
       "    .dataframe tbody tr th:only-of-type {\n",
       "        vertical-align: middle;\n",
       "    }\n",
       "\n",
       "    .dataframe tbody tr th {\n",
       "        vertical-align: top;\n",
       "    }\n",
       "\n",
       "    .dataframe thead th {\n",
       "        text-align: right;\n",
       "    }\n",
       "</style>\n",
       "<table border=\"1\" class=\"dataframe\">\n",
       "  <thead>\n",
       "    <tr style=\"text-align: right;\">\n",
       "      <th></th>\n",
       "      <th>tag</th>\n",
       "      <th>tagCount</th>\n",
       "    </tr>\n",
       "  </thead>\n",
       "  <tbody>\n",
       "    <tr>\n",
       "      <th>0</th>\n",
       "      <td>oven</td>\n",
       "      <td>90</td>\n",
       "    </tr>\n",
       "    <tr>\n",
       "      <th>1</th>\n",
       "      <td>to-go</td>\n",
       "      <td>79</td>\n",
       "    </tr>\n",
       "    <tr>\n",
       "      <th>2</th>\n",
       "      <td>weeknight</td>\n",
       "      <td>68</td>\n",
       "    </tr>\n",
       "    <tr>\n",
       "      <th>3</th>\n",
       "      <td>healthy</td>\n",
       "      <td>65</td>\n",
       "    </tr>\n",
       "    <tr>\n",
       "      <th>4</th>\n",
       "      <td>stove-top</td>\n",
       "      <td>64</td>\n",
       "    </tr>\n",
       "    <tr>\n",
       "      <th>...</th>\n",
       "      <td>...</td>\n",
       "      <td>...</td>\n",
       "    </tr>\n",
       "    <tr>\n",
       "      <th>30</th>\n",
       "      <td>presentation</td>\n",
       "      <td>38</td>\n",
       "    </tr>\n",
       "    <tr>\n",
       "      <th>31</th>\n",
       "      <td>poultry</td>\n",
       "      <td>38</td>\n",
       "    </tr>\n",
       "    <tr>\n",
       "      <th>32</th>\n",
       "      <td>pasta</td>\n",
       "      <td>36</td>\n",
       "    </tr>\n",
       "    <tr>\n",
       "      <th>33</th>\n",
       "      <td>beginner-cook</td>\n",
       "      <td>35</td>\n",
       "    </tr>\n",
       "    <tr>\n",
       "      <th>34</th>\n",
       "      <td>american</td>\n",
       "      <td>35</td>\n",
       "    </tr>\n",
       "  </tbody>\n",
       "</table>\n",
       "<p>35 rows × 2 columns</p>\n",
       "</div>"
      ],
      "text/plain": [
       "              tag  tagCount\n",
       "0            oven        90\n",
       "1           to-go        79\n",
       "2       weeknight        68\n",
       "3         healthy        65\n",
       "4       stove-top        64\n",
       "..            ...       ...\n",
       "30   presentation        38\n",
       "31        poultry        38\n",
       "32          pasta        36\n",
       "33  beginner-cook        35\n",
       "34       american        35\n",
       "\n",
       "[35 rows x 2 columns]"
      ]
     },
     "execution_count": 23,
     "metadata": {},
     "output_type": "execute_result"
    }
   ],
   "source": [
    "# Get top user tags\n",
    "userTags = queries.get_user_top_tags(gds, USER_ID, excluded_tags)\n",
    "\n",
    "# Extract the top tags\n",
    "top_tags = list(userTags['tag'])\n",
    "\n",
    "# Show result\n",
    "userTags"
   ]
  },
  {
   "cell_type": "code",
   "execution_count": 24,
   "metadata": {},
   "outputs": [
    {
     "name": "stdout",
     "output_type": "stream",
     "text": [
      "\n",
      "Query executed in 12.14 seconds\n"
     ]
    },
    {
     "data": {
      "text/html": [
       "<div>\n",
       "<style scoped>\n",
       "    .dataframe tbody tr th:only-of-type {\n",
       "        vertical-align: middle;\n",
       "    }\n",
       "\n",
       "    .dataframe tbody tr th {\n",
       "        vertical-align: top;\n",
       "    }\n",
       "\n",
       "    .dataframe thead th {\n",
       "        text-align: right;\n",
       "    }\n",
       "</style>\n",
       "<table border=\"1\" class=\"dataframe\">\n",
       "  <thead>\n",
       "    <tr style=\"text-align: right;\">\n",
       "      <th></th>\n",
       "      <th>recipeID</th>\n",
       "      <th>recipeName</th>\n",
       "      <th>tagList</th>\n",
       "      <th>matchCount</th>\n",
       "      <th>totalTags</th>\n",
       "      <th>relevanceScore</th>\n",
       "    </tr>\n",
       "  </thead>\n",
       "  <tbody>\n",
       "    <tr>\n",
       "      <th>0</th>\n",
       "      <td>140009</td>\n",
       "      <td>fresh fruit kebabs</td>\n",
       "      <td>[15-minutes-or-less, time-to-make, course, main-ingredient, cuisine, preparation, occasion, north-american, low-protein, healthy, appetizers, desserts, fruit, easy, no-cook, beginner-cook, dinner-party, holiday-event, kid-friendly, low-fat, vegetarian, dietary, low-sodium, low-cholesterol, low-saturated-fat, low-calorie, inexpensive, healthy-2, free-of-something, low-in-something, brunch, to-go, technique]</td>\n",
       "      <td>20</td>\n",
       "      <td>33</td>\n",
       "      <td>2.137188</td>\n",
       "    </tr>\n",
       "    <tr>\n",
       "      <th>1</th>\n",
       "      <td>42053</td>\n",
       "      <td>zesty dijon green beans</td>\n",
       "      <td>[weeknight, time-to-make, course, main-ingredient, cuisine, preparation, occasion, north-american, low-protein, healthy, lunch, side-dishes, vegetables, american, southern-united-states, easy, beginner-cook, potluck, dinner-party, holiday-event, low-fat, picnic, romantic, stove-top, dietary, low-sodium, low-cholesterol, low-saturated-fat, low-calorie, low-carb, inexpensive, healthy-2, low-in-something, taste-mood, to-go, equipment]</td>\n",
       "      <td>21</td>\n",
       "      <td>36</td>\n",
       "      <td>2.106369</td>\n",
       "    </tr>\n",
       "    <tr>\n",
       "      <th>2</th>\n",
       "      <td>51262</td>\n",
       "      <td>lemon pepper mushrooms</td>\n",
       "      <td>[30-minutes-or-less, time-to-make, course, main-ingredient, cuisine, preparation, occasion, north-american, low-protein, healthy, appetizers, lunch, side-dishes, eggs-dairy, vegetables, american, oven, potluck, dinner-party, finger-food, vegetarian, dietary, low-sodium, low-cholesterol, low-saturated-fat, low-calorie, low-carb, inexpensive, mushrooms, healthy-2, low-in-something, to-go, equipment, presentation]</td>\n",
       "      <td>20</td>\n",
       "      <td>34</td>\n",
       "      <td>2.091381</td>\n",
       "    </tr>\n",
       "    <tr>\n",
       "      <th>3</th>\n",
       "      <td>20265</td>\n",
       "      <td>fruit salad for 5 a day</td>\n",
       "      <td>[15-minutes-or-less, time-to-make, course, main-ingredient, cuisine, preparation, occasion, north-american, low-protein, healthy, 5-ingredients-or-less, lunch, salads, side-dishes, fruit, easy, no-cook, beginner-cook, potluck, kid-friendly, low-fat, picnic, vegetarian, dietary, low-sodium, low-cholesterol, low-saturated-fat, low-calorie, brown-bag, inexpensive, healthy-2, low-in-something, to-go, 3-steps-or-less, technique]</td>\n",
       "      <td>20</td>\n",
       "      <td>35</td>\n",
       "      <td>2.047725</td>\n",
       "    </tr>\n",
       "    <tr>\n",
       "      <th>4</th>\n",
       "      <td>9990</td>\n",
       "      <td>aunt edna s dill pickles</td>\n",
       "      <td>[15-minutes-or-less, time-to-make, course, main-ingredient, preparation, occasion, low-protein, healthy, appetizers, canning, lunch, side-dishes, vegetables, potluck, dinner-party, heirloom-historical, holiday-event, low-fat, picnic, summer, vegan, vegetarian, dietary, low-cholesterol, seasonal, low-saturated-fat, low-calorie, comfort-food, low-carb, low-in-something, taste-mood, to-go, number-of-servings, presentation, technique]</td>\n",
       "      <td>20</td>\n",
       "      <td>35</td>\n",
       "      <td>2.047725</td>\n",
       "    </tr>\n",
       "  </tbody>\n",
       "</table>\n",
       "</div>"
      ],
      "text/plain": [
       "  recipeID                recipeName  \\\n",
       "0   140009        fresh fruit kebabs   \n",
       "1    42053   zesty dijon green beans   \n",
       "2    51262    lemon pepper mushrooms   \n",
       "3    20265   fruit salad for 5 a day   \n",
       "4     9990  aunt edna s dill pickles   \n",
       "\n",
       "                                                                                                                                                                                                                                                                                                                                                                                                                                               tagList  \\\n",
       "0                            [15-minutes-or-less, time-to-make, course, main-ingredient, cuisine, preparation, occasion, north-american, low-protein, healthy, appetizers, desserts, fruit, easy, no-cook, beginner-cook, dinner-party, holiday-event, kid-friendly, low-fat, vegetarian, dietary, low-sodium, low-cholesterol, low-saturated-fat, low-calorie, inexpensive, healthy-2, free-of-something, low-in-something, brunch, to-go, technique]   \n",
       "1  [weeknight, time-to-make, course, main-ingredient, cuisine, preparation, occasion, north-american, low-protein, healthy, lunch, side-dishes, vegetables, american, southern-united-states, easy, beginner-cook, potluck, dinner-party, holiday-event, low-fat, picnic, romantic, stove-top, dietary, low-sodium, low-cholesterol, low-saturated-fat, low-calorie, low-carb, inexpensive, healthy-2, low-in-something, taste-mood, to-go, equipment]   \n",
       "2                       [30-minutes-or-less, time-to-make, course, main-ingredient, cuisine, preparation, occasion, north-american, low-protein, healthy, appetizers, lunch, side-dishes, eggs-dairy, vegetables, american, oven, potluck, dinner-party, finger-food, vegetarian, dietary, low-sodium, low-cholesterol, low-saturated-fat, low-calorie, low-carb, inexpensive, mushrooms, healthy-2, low-in-something, to-go, equipment, presentation]   \n",
       "3          [15-minutes-or-less, time-to-make, course, main-ingredient, cuisine, preparation, occasion, north-american, low-protein, healthy, 5-ingredients-or-less, lunch, salads, side-dishes, fruit, easy, no-cook, beginner-cook, potluck, kid-friendly, low-fat, picnic, vegetarian, dietary, low-sodium, low-cholesterol, low-saturated-fat, low-calorie, brown-bag, inexpensive, healthy-2, low-in-something, to-go, 3-steps-or-less, technique]   \n",
       "4   [15-minutes-or-less, time-to-make, course, main-ingredient, preparation, occasion, low-protein, healthy, appetizers, canning, lunch, side-dishes, vegetables, potluck, dinner-party, heirloom-historical, holiday-event, low-fat, picnic, summer, vegan, vegetarian, dietary, low-cholesterol, seasonal, low-saturated-fat, low-calorie, comfort-food, low-carb, low-in-something, taste-mood, to-go, number-of-servings, presentation, technique]   \n",
       "\n",
       "   matchCount  totalTags  relevanceScore  \n",
       "0          20         33        2.137188  \n",
       "1          21         36        2.106369  \n",
       "2          20         34        2.091381  \n",
       "3          20         35        2.047725  \n",
       "4          20         35        2.047725  "
      ]
     },
     "execution_count": 24,
     "metadata": {},
     "output_type": "execute_result"
    }
   ],
   "source": [
    "# Suggest recipe based on user's top tags\n",
    "queries.find_top_tag_matching_recipes(gds, interacted_recipes, top_tags).head()"
   ]
  },
  {
   "cell_type": "markdown",
   "metadata": {},
   "source": [
    "#### <a id=\"AllRecs\">Combine all suggestions together</a>"
   ]
  },
  {
   "cell_type": "code",
   "execution_count": 25,
   "metadata": {},
   "outputs": [
    {
     "name": "stdout",
     "output_type": "stream",
     "text": [
      "\n",
      "Query executed in 8.32 seconds\n"
     ]
    },
    {
     "data": {
      "text/html": [
       "<div>\n",
       "<style scoped>\n",
       "    .dataframe tbody tr th:only-of-type {\n",
       "        vertical-align: middle;\n",
       "    }\n",
       "\n",
       "    .dataframe tbody tr th {\n",
       "        vertical-align: top;\n",
       "    }\n",
       "\n",
       "    .dataframe thead th {\n",
       "        text-align: right;\n",
       "    }\n",
       "</style>\n",
       "<table border=\"1\" class=\"dataframe\">\n",
       "  <thead>\n",
       "    <tr style=\"text-align: right;\">\n",
       "      <th></th>\n",
       "      <th>recipeID</th>\n",
       "      <th>recipeName</th>\n",
       "      <th>matchingIngreds</th>\n",
       "      <th>matchingTags</th>\n",
       "      <th>ingrRelScore</th>\n",
       "      <th>tagRelScore</th>\n",
       "    </tr>\n",
       "  </thead>\n",
       "  <tbody>\n",
       "    <tr>\n",
       "      <th>0</th>\n",
       "      <td>284321</td>\n",
       "      <td>garlic chicken and corn stir fry</td>\n",
       "      <td>6</td>\n",
       "      <td>9</td>\n",
       "      <td>1.282475</td>\n",
       "      <td>1.370035</td>\n",
       "    </tr>\n",
       "    <tr>\n",
       "      <th>1</th>\n",
       "      <td>43346</td>\n",
       "      <td>spectacular spaghetti squash saute</td>\n",
       "      <td>5</td>\n",
       "      <td>12</td>\n",
       "      <td>1.129503</td>\n",
       "      <td>1.521155</td>\n",
       "    </tr>\n",
       "    <tr>\n",
       "      <th>2</th>\n",
       "      <td>36765</td>\n",
       "      <td>vegetable pork stir fry</td>\n",
       "      <td>6</td>\n",
       "      <td>10</td>\n",
       "      <td>1.282475</td>\n",
       "      <td>1.303239</td>\n",
       "    </tr>\n",
       "    <tr>\n",
       "      <th>3</th>\n",
       "      <td>89697</td>\n",
       "      <td>nat s rice sticks</td>\n",
       "      <td>3</td>\n",
       "      <td>14</td>\n",
       "      <td>0.677702</td>\n",
       "      <td>1.877678</td>\n",
       "    </tr>\n",
       "    <tr>\n",
       "      <th>4</th>\n",
       "      <td>268766</td>\n",
       "      <td>orzo garden medley</td>\n",
       "      <td>3</td>\n",
       "      <td>15</td>\n",
       "      <td>0.677702</td>\n",
       "      <td>1.803908</td>\n",
       "    </tr>\n",
       "  </tbody>\n",
       "</table>\n",
       "</div>"
      ],
      "text/plain": [
       "  recipeID                          recipeName  matchingIngreds  matchingTags  \\\n",
       "0   284321    garlic chicken and corn stir fry                6             9   \n",
       "1    43346  spectacular spaghetti squash saute                5            12   \n",
       "2    36765             vegetable pork stir fry                6            10   \n",
       "3    89697                   nat s rice sticks                3            14   \n",
       "4   268766                  orzo garden medley                3            15   \n",
       "\n",
       "   ingrRelScore  tagRelScore  \n",
       "0      1.282475     1.370035  \n",
       "1      1.129503     1.521155  \n",
       "2      1.282475     1.303239  \n",
       "3      0.677702     1.877678  \n",
       "4      0.677702     1.803908  "
      ]
     },
     "execution_count": 25,
     "metadata": {},
     "output_type": "execute_result"
    }
   ],
   "source": [
    "# Suggest recipe based on user's favorite ingredients, top tags\n",
    "# and nutritional values\n",
    "queries.find_matching_recipes_with_nutrition_and_tags(\n",
    "    gds,  \n",
    "    interacted_recipes, \n",
    "    favorite_ingredients, \n",
    "    top_tags, \n",
    "    calories_range, \n",
    "    fat_range, \n",
    "    sugar_range, \n",
    "    sodium_range, \n",
    "    protein_range,\n",
    "    sat_fat_range,\n",
    "    carbs_range,\n",
    ").head()"
   ]
  },
  {
   "cell_type": "markdown",
   "metadata": {},
   "source": [
    "## Evaluation"
   ]
  },
  {
   "cell_type": "code",
   "execution_count": 26,
   "metadata": {},
   "outputs": [
    {
     "data": {
      "text/html": [
       "<div>\n",
       "<style scoped>\n",
       "    .dataframe tbody tr th:only-of-type {\n",
       "        vertical-align: middle;\n",
       "    }\n",
       "\n",
       "    .dataframe tbody tr th {\n",
       "        vertical-align: top;\n",
       "    }\n",
       "\n",
       "    .dataframe thead th {\n",
       "        text-align: right;\n",
       "    }\n",
       "</style>\n",
       "<table border=\"1\" class=\"dataframe\">\n",
       "  <thead>\n",
       "    <tr style=\"text-align: right;\">\n",
       "      <th></th>\n",
       "      <th>user_id</th>\n",
       "      <th>recipe_id</th>\n",
       "      <th>date</th>\n",
       "      <th>rating</th>\n",
       "      <th>review</th>\n",
       "    </tr>\n",
       "  </thead>\n",
       "  <tbody>\n",
       "    <tr>\n",
       "      <th>0</th>\n",
       "      <td>1533</td>\n",
       "      <td>113227</td>\n",
       "      <td>2005-04-22</td>\n",
       "      <td>5</td>\n",
       "      <td>Stinkerbell, this recipe was great, I served it with steak and a salad.\\r\\n4 People ate the all. (I have to stop inviting the big eaters to dinner). Thanks so much and yes it is a keeper.</td>\n",
       "    </tr>\n",
       "    <tr>\n",
       "      <th>1</th>\n",
       "      <td>1533</td>\n",
       "      <td>13813</td>\n",
       "      <td>2005-05-05</td>\n",
       "      <td>5</td>\n",
       "      <td>This is amazing, everyone enjoyed it.\\r\\nWe all loved the crunch.\\r\\nI had 2 cans of pumpkin so I was all set.\\r\\nThanks for such a great treat.\\r\\nIts a keeper.</td>\n",
       "    </tr>\n",
       "    <tr>\n",
       "      <th>2</th>\n",
       "      <td>1533</td>\n",
       "      <td>110139</td>\n",
       "      <td>2005-05-05</td>\n",
       "      <td>5</td>\n",
       "      <td>Oh Tish this has been helpful.\\r\\nI made the recipe and frozen half in 4 c. serving containers.\\r\\nIt was great the first night and next day..but what came out of the freezer was so good. All i added was a little water mixed with soy sauce. add to the wok and perfect.\\r\\nIts a keeper and Im going to make it again sunday. Thanks great recipe.</td>\n",
       "    </tr>\n",
       "    <tr>\n",
       "      <th>3</th>\n",
       "      <td>1533</td>\n",
       "      <td>45218</td>\n",
       "      <td>2005-05-05</td>\n",
       "      <td>5</td>\n",
       "      <td>I had just enough raisin bran cereal to make these. They turned out lovely.\\r\\nI froze 12 of them and they did come out perfect.\\r\\nThanks so much, its a keeper.</td>\n",
       "    </tr>\n",
       "    <tr>\n",
       "      <th>4</th>\n",
       "      <td>1533</td>\n",
       "      <td>81473</td>\n",
       "      <td>2005-05-12</td>\n",
       "      <td>5</td>\n",
       "      <td>Tebo, oh my this was wonderful. I served it with Bergy's Black Bean Spareribs #23717.\\r\\nIt was such a nice combo.\\r\\nThanks so much Tebo.\\r\\nIts a keeper.</td>\n",
       "    </tr>\n",
       "  </tbody>\n",
       "</table>\n",
       "</div>"
      ],
      "text/plain": [
       "   user_id  recipe_id        date  rating  \\\n",
       "0     1533     113227  2005-04-22       5   \n",
       "1     1533      13813  2005-05-05       5   \n",
       "2     1533     110139  2005-05-05       5   \n",
       "3     1533      45218  2005-05-05       5   \n",
       "4     1533      81473  2005-05-12       5   \n",
       "\n",
       "                                                                                                                                                                                                                                                                                                                                                    review  \n",
       "0                                                                                                                                                              Stinkerbell, this recipe was great, I served it with steak and a salad.\\r\\n4 People ate the all. (I have to stop inviting the big eaters to dinner). Thanks so much and yes it is a keeper.  \n",
       "1                                                                                                                                                                                        This is amazing, everyone enjoyed it.\\r\\nWe all loved the crunch.\\r\\nI had 2 cans of pumpkin so I was all set.\\r\\nThanks for such a great treat.\\r\\nIts a keeper.  \n",
       "2  Oh Tish this has been helpful.\\r\\nI made the recipe and frozen half in 4 c. serving containers.\\r\\nIt was great the first night and next day..but what came out of the freezer was so good. All i added was a little water mixed with soy sauce. add to the wok and perfect.\\r\\nIts a keeper and Im going to make it again sunday. Thanks great recipe.  \n",
       "3                                                                                                                                                                                        I had just enough raisin bran cereal to make these. They turned out lovely.\\r\\nI froze 12 of them and they did come out perfect.\\r\\nThanks so much, its a keeper.  \n",
       "4                                                                                                                                                                                              Tebo, oh my this was wonderful. I served it with Bergy's Black Bean Spareribs #23717.\\r\\nIt was such a nice combo.\\r\\nThanks so much Tebo.\\r\\nIts a keeper.  "
      ]
     },
     "execution_count": 26,
     "metadata": {},
     "output_type": "execute_result"
    }
   ],
   "source": [
    "# Load generated test data\n",
    "test_reviewed_df = pd.read_csv(os.path.join(NEO4J_IMPORT_DIR, 'test_reviewed.csv'))\n",
    "# Load train data\n",
    "train_reviewed_df = pd.read_csv(os.path.join(NEO4J_IMPORT_DIR, 'reviewed.csv'))\n",
    "\n",
    "# Show result\n",
    "test_reviewed_df.head()"
   ]
  },
  {
   "cell_type": "code",
   "execution_count": 27,
   "metadata": {},
   "outputs": [
    {
     "data": {
      "application/vnd.jupyter.widget-view+json": {
       "model_id": "1e8212dc307b4516b265e52902a0999b",
       "version_major": 2,
       "version_minor": 0
      },
      "text/plain": [
       "Evaluating users:   0%|          | 0/50 [00:00<?, ?it/s]"
      ]
     },
     "metadata": {},
     "output_type": "display_data"
    },
    {
     "name": "stdout",
     "output_type": "stream",
     "text": [
      "No recommendations found for user 1287956, skipping evaluation...\n",
      "No recommendations found for user 1020416, skipping evaluation...\n",
      "No recommendations found for user 529278, skipping evaluation...\n",
      "No recommendations found for user 1175362, skipping evaluation...\n",
      "No recommendations found for user 104472, skipping evaluation...\n",
      "Mean Precision: 0.00\n",
      "Mean Recall: 0.01\n",
      "Mean F1 Score: 0.00\n"
     ]
    }
   ],
   "source": [
    "# Initialize lists to store metrics for each user\n",
    "precisions = []\n",
    "recalls = []\n",
    "\n",
    "# Iterate over a sample of N unique users in the test set\n",
    "for user_id in tqdm(np.random.choice(test_reviewed_df['user_id'].unique(), size=50, replace=False), desc='Evaluating users'):\n",
    "\n",
    "    # Retrieve recipies the user has interacted with (reviewed or published)\n",
    "    interacted_recipes = list(set(queries.get_user_interactions(gds, str(user_id), verbose=False)['recipeID']))\n",
    "\n",
    "    # INGREDIENTS #############################################################################################\n",
    "    favIngr = queries.get_user_favourite_ingredients(\n",
    "        gds, \n",
    "        str(user_id), \n",
    "        excluded_ingr,\n",
    "        verbose=False\n",
    "    )\n",
    "    # Skip if no favorite ingredients found\n",
    "    if favIngr.empty: continue\n",
    "    # Calculate the threshold count for the given percentile\n",
    "    # To do so, we need to remove duplicates and calculate the percentile\n",
    "    threshold_count = np.percentile(list(set(favIngr['favCount'])), 50)\n",
    "    # Filter the DataFrame for ingredients above the threshold\n",
    "    favIngr = favIngr[favIngr['favCount'] >= threshold_count]\n",
    "    # Extract favorite ingredients\n",
    "    favorite_ingredients = list(favIngr['favoriteIngredient'])\n",
    "\n",
    "\n",
    "    # TAGS ###################################################################################################\n",
    "    userTags = queries.get_user_top_tags(\n",
    "        gds, \n",
    "        str(user_id), \n",
    "        excluded_tags, \n",
    "        verbose=False\n",
    "    )\n",
    "    # Skip if no tags found\n",
    "    if userTags.empty:\n",
    "        print(f\"No tags found for user {user_id}, using default tags...\")\n",
    "        continue\n",
    "\n",
    "    # Calculate the threshold count for the given percentile\n",
    "    # To do so, we need to remove duplicates and calculate the percentile\n",
    "    threshold_count = np.percentile(list(set(userTags['tagCount'])), 50)\n",
    "    # Filter the DataFrame for tags count above the threshold\n",
    "    userTags = userTags[userTags['tagCount'] >= threshold_count]\n",
    "    # Extract the top tags\n",
    "    top_tags = list(userTags['tag'])\n",
    "\n",
    "\n",
    "    # NUTRITIONAL VALUES #######################################################################################\n",
    "    nutrVal = queries.get_user_nutritional_values(\n",
    "        gds, \n",
    "        str(user_id), \n",
    "        verbose=False\n",
    "    )\n",
    "    # Skip if no nutritional values found\n",
    "    if nutrVal.empty:\n",
    "        print(f\"No nutritional values found for user {user_id}, using default ranges...\")\n",
    "        continue\n",
    "    # Get nutritional values ranges\n",
    "    calories_range, fat_range, sugar_range, sodium_range, protein_range, sat_fat_range, carbs_range = utils.get_nutritional_values(nutrVal, verbose=False)\n",
    "\n",
    "\n",
    "    # RECOMMENDATIONS ##########################################################################################\n",
    "    recs_df = queries.find_matching_recipes_with_nutrition_and_tags(\n",
    "        gds, \n",
    "        interacted_recipes, \n",
    "        favorite_ingredients, \n",
    "        list(userTags['tag']), \n",
    "        calories_range, \n",
    "        fat_range, \n",
    "        sugar_range, \n",
    "        sodium_range, \n",
    "        protein_range,\n",
    "        sat_fat_range,\n",
    "        carbs_range,\n",
    "        verbose=False\n",
    "    )\n",
    "    # Skip if no recommendations found\n",
    "    if recs_df.empty:\n",
    "        print(f\"No recommendations found for user {user_id}, skipping evaluation...\")\n",
    "        continue\n",
    "\n",
    "    # Filter the test set for the selected user\n",
    "    user_test_df = test_reviewed_df[test_reviewed_df['user_id'] == user_id].copy()\n",
    "    # Convert recipe_id in user_test_df to string for consistent comparison\n",
    "    user_test_df['recipe_id'] = user_test_df['recipe_id'].astype(str)\n",
    "\n",
    "    # Convert recommended RecipeIDs to a set for faster checks\n",
    "    recommended_ids = set(recs_df['recipeID'])\n",
    "    # Check if each recommended recipe is in the user's test interactions\n",
    "    relevant_items = user_test_df[user_test_df['recipe_id'].isin(recommended_ids)]\n",
    "\n",
    "    # Calculate True Positives (TP): recommended & relevant\n",
    "    TP = len(relevant_items)\n",
    "    # False Positives (FP): recommended but not relevant\n",
    "    FP = len(recommended_ids) - TP\n",
    "    # False Negatives (FN): relevant but not recommended\n",
    "    FN = len(user_test_df) - TP\n",
    "    # Compute Precision and Recall\n",
    "    precision = TP / (TP + FP) if TP + FP > 0 else 0\n",
    "    recall = TP / (TP + FN) if TP + FN > 0 else 0\n",
    "\n",
    "    # Store the precision and recall for each user\n",
    "    precisions.append(precision)\n",
    "    recalls.append(recall)\n",
    "    \n",
    "# After iterating through all users, compute the mean of precision and recall\n",
    "mean_precision = np.mean(precisions)\n",
    "mean_recall = np.mean(recalls)\n",
    "\n",
    "# Compute F1 score if needed\n",
    "f1_scores = [2 * (p * r) / (p + r) if (p + r) > 0 else 0 for p, r in zip(precisions, recalls)]\n",
    "mean_f1_score = np.mean(f1_scores)\n",
    "\n",
    "# Print the final aggregated results\n",
    "print(f\"Mean Precision: {mean_precision:.2f}\")\n",
    "print(f\"Mean Recall: {mean_recall:.2f}\")\n",
    "print(f\"Mean F1 Score: {mean_f1_score:.2f}\")"
   ]
  },
  {
   "cell_type": "code",
   "execution_count": 33,
   "metadata": {},
   "outputs": [
    {
     "name": "stdout",
     "output_type": "stream",
     "text": [
      "User: 91453\n",
      "\n",
      "Query executed in 0.01 seconds\n",
      "           favoriteIngredient  favCount  \\\n",
      "0                   soy sauce        18   \n",
      "1                  sesame oil        17   \n",
      "2                  canola oil        12   \n",
      "3                      ginger        11   \n",
      "4   fresh ground black pepper        11   \n",
      "5                  cornstarch        11   \n",
      "6             unsalted butter        11   \n",
      "7                       honey        10   \n",
      "8                oyster sauce        10   \n",
      "9                  peanut oil         9   \n",
      "10            vanilla extract         8   \n",
      "\n",
      "                                                                                                                              favRecipes  \n",
      "0   [77183, 116377, 91301, 67517, 115116, 116430, 69191, 118962, 73911, 98619, 107693, 114025, 8345, 98923, 116339, 76014, 84396, 68961]  \n",
      "1            [116377, 91301, 84263, 93040, 83899, 89839, 115116, 68960, 118962, 73911, 98619, 107693, 112057, 8345, 97163, 76014, 84396]  \n",
      "2                                                 [77183, 91301, 93040, 77101, 118962, 96262, 75577, 90432, 118956, 97163, 73986, 75290]  \n",
      "3                                                      [116377, 107143, 93040, 83899, 68960, 69487, 90432, 107693, 116339, 76014, 68961]  \n",
      "4                                                   [116377, 107143, 91587, 116430, 77914, 112495, 96864, 118962, 76677, 116491, 120466]  \n",
      "5                                                      [108797, 86409, 68960, 7756, 69191, 116491, 112057, 105403, 97006, 116339, 68961]  \n",
      "6                                                       [86410, 100956, 82710, 116397, 87499, 87307, 105403, 88240, 89836, 82716, 90587]  \n",
      "7                                                          [107143, 77101, 122443, 106573, 118962, 100388, 77001, 102487, 120466, 90587]  \n",
      "8                                                             [67517, 93040, 115116, 116430, 118962, 112057, 98923, 76012, 76014, 68961]  \n",
      "9                                                                   [116377, 83899, 116430, 83029, 98619, 112057, 114025, 116339, 84396]  \n",
      "10                                                                           [102576, 77003, 118956, 87307, 79528, 105406, 82716, 75290]  \n"
     ]
    },
    {
     "data": {
      "text/plain": [
       "['soy sauce',\n",
       " 'sesame oil',\n",
       " 'canola oil',\n",
       " 'ginger',\n",
       " 'fresh ground black pepper',\n",
       " 'cornstarch',\n",
       " 'unsalted butter',\n",
       " 'honey',\n",
       " 'oyster sauce',\n",
       " 'peanut oil',\n",
       " 'vanilla extract']"
      ]
     },
     "execution_count": 33,
     "metadata": {},
     "output_type": "execute_result"
    }
   ],
   "source": [
    "user_id = str(np.random.choice(test_reviewed_df['user_id'].unique(), size=1, replace=False)[0])\n",
    "print(\"User:\", user_id)\n",
    "# Compute top 5 user ingredients\n",
    "favIngr = queries.get_user_favourite_ingredients(\n",
    "    gds, \n",
    "    user_id, \n",
    "    excluded_ingr\n",
    ")\n",
    "print(favIngr)\n",
    "# Save data\n",
    "favorite_ingredients = list(favIngr['favoriteIngredient'])\n",
    "reviewed_recipes = list(set(item for sublist in favIngr['favRecipes'] for item in sublist))\n",
    "\n",
    "favorite_ingredients"
   ]
  }
 ],
 "metadata": {
  "kernelspec": {
   "display_name": "Python 3",
   "language": "python",
   "name": "python3"
  },
  "language_info": {
   "codemirror_mode": {
    "name": "ipython",
    "version": 3
   },
   "file_extension": ".py",
   "mimetype": "text/x-python",
   "name": "python",
   "nbconvert_exporter": "python",
   "pygments_lexer": "ipython3",
   "version": "3.10.12"
  },
  "orig_nbformat": 4
 },
 "nbformat": 4,
 "nbformat_minor": 2
}
