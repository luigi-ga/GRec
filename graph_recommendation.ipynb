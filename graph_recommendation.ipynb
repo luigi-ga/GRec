{
 "cells": [
  {
   "cell_type": "markdown",
   "metadata": {},
   "source": [
    "# Exploring Practical Recommendation Systems In Neo4j\n",
    "### __An Example With Collaborative Leveraging Graph Data Science and Machgine Learning__\n",
    "\n",
    "In this notebook we explore how to get started with practical & scalable recommendation in graph. We will walk through a fundamental example with recipe recommendation on dataset containing 231k recipes and around 226K users. We will leverage Neo4j and the Graph Data Science (GDS) library to quickly predict similar recipes based on user preferences and enable sub-second, rank-ordered, recommendation queries personalized to each user.\n",
    "\n",
    "This notebook is structured as follows: \n",
    "\n",
    "1. setup some configurations and helper functions to allow us to work with the graph. \n",
    "2. Go over the source dataset and graph we will be using along with how to query basic profiling statistics to help us understand the graph and better prepare for analysis. \n",
    "3. Briefly introduce a technique called Collaborative filtering (CF) which will be our mechanism for recommendation in this notebook\n",
    "4. Explore Applying the Cypher query language for basic CF\n",
    "5. Scaling CF with the Graph Data Science (GDS) Library, leveraging Node embeddings and an ML technique called K-Nearest Neighbor (KNN)."
   ]
  },
  {
   "cell_type": "markdown",
   "metadata": {},
   "source": [
    "## Notebook Setup"
   ]
  },
  {
   "cell_type": "code",
   "execution_count": 103,
   "metadata": {},
   "outputs": [],
   "source": [
    "from graphdatascience import GraphDataScience\n",
    "import pandas as pd\n",
    "import numpy as np\n",
    "import configparser\n",
    "import os\n",
    "import time\n",
    "import matplotlib.pyplot as plt\n",
    "pd.set_option('display.width', 0)\n",
    "pd.set_option('display.max_colwidth', 500)\n",
    "pd.set_option('display.max_rows', 12)"
   ]
  },
  {
   "cell_type": "markdown",
   "metadata": {},
   "source": [
    "### Neo4j Settings\n",
    "The `NEO4J_PROPERTIES_FILE` is an ini configuration file for Neo4j properties so this notebook can connect to\n",
    "your Neo4j instance and load data. The ini file should be formatted as follows\n",
    "```\n",
    "[NEO4J]\n",
    "PASSWORD=<password>\n",
    "USERNAME=<database name, is 'neo4j' by default>\n",
    "HOST=<host uri>\n",
    "\n",
    "```\n",
    "\n",
    "Set `NEO4J_PROPERTIES_FILE` to None or any non-existent location to use the below defaults\n",
    "```\n",
    "HOST = 'neo4j://localhost'\n",
    "USERNAME = 'neo4j'\n",
    "PASSWORD = 'password'\n",
    "```"
   ]
  },
  {
   "cell_type": "code",
   "execution_count": 2,
   "metadata": {},
   "outputs": [],
   "source": [
    "NEO4J_PROPERTIES_FILE = None #'/path/to/your/file.ini'"
   ]
  },
  {
   "cell_type": "code",
   "execution_count": 3,
   "metadata": {},
   "outputs": [
    {
     "name": "stdout",
     "output_type": "stream",
     "text": [
      "Could not find database properties file, using defaults\n"
     ]
    }
   ],
   "source": [
    "# Using an ini file for credentials, otherwise providing defaults\n",
    "HOST = 'bolt://localhost:7687'\n",
    "DATABASE = 'neo4j'\n",
    "PASSWORD = 'LU?vVtYf8])9;^z'\n",
    "\n",
    "if NEO4J_PROPERTIES_FILE is not None and os.path.exists(NEO4J_PROPERTIES_FILE):\n",
    "    config = configparser.RawConfigParser()\n",
    "    config.read(NEO4J_PROPERTIES_FILE)\n",
    "    HOST = config['NEO4J']['HOST']\n",
    "    USERNAME = config['NEO4J']['USERNAME']\n",
    "    PASSWORD = config['NEO4J']['PASSWORD']\n",
    "    print('Using custom database properties')\n",
    "else:\n",
    "    print('Could not find database properties file, using defaults')"
   ]
  },
  {
   "cell_type": "code",
   "execution_count": 4,
   "metadata": {},
   "outputs": [],
   "source": [
    "gds = GraphDataScience(HOST, auth=(DATABASE, PASSWORD))"
   ]
  },
  {
   "cell_type": "markdown",
   "metadata": {},
   "source": [
    "### Helper Functions"
   ]
  },
  {
   "cell_type": "code",
   "execution_count": 5,
   "metadata": {},
   "outputs": [],
   "source": [
    "class GraphQueryError(Exception):\n",
    "    def __init__(self, message):\n",
    "        self.message = message\n",
    "\n",
    "\n",
    "def run(driver, query, params=None):\n",
    "    with driver.session() as session:\n",
    "        if params is not None:\n",
    "            return [r for r in session.run(query, params)]\n",
    "        else:\n",
    "            return [r for r in session.run(query)]\n",
    "\n",
    "def degree_counts(node_label, relationship_type, direction='BOTH'):\n",
    "    dr = direction.upper()\n",
    "    if dr not in {'BOTH', 'IN', 'OUT'}:\n",
    "        raise GraphQueryError(f\"direction must be one of {{'BOTH', 'IN', 'OUT'}}, but got {dr}\")\n",
    "\n",
    "    if dr == 'BOTH':\n",
    "        pattern = f'[(n)-[:{relationship_type}]-() | n]'\n",
    "    elif dr == 'OUT':\n",
    "        pattern = f'[(n)-[:{relationship_type}]->() | n]'\n",
    "    else:\n",
    "        pattern = f'[(n)<-[:{relationship_type}]-() | n]'\n",
    "\n",
    "    df= gds.run_cypher( f'''\n",
    "            MATCH (n:{node_label}) WITH id(n) as nodeIds, size({pattern}) AS degree\n",
    "            RETURN degree, count(degree) AS degreeCount ORDER BY degree\n",
    "        ''')\n",
    "\n",
    "    df['csum'] = df.degreeCount.cumsum()\n",
    "    n = df.degreeCount.sum()\n",
    "    df['percentile'] = df.csum/n\n",
    "    return df.drop(columns=['csum'])\n",
    "\n",
    "def get_percentiles(df, q=None):\n",
    "    if q is None:\n",
    "        q = [0.1, 0.25, 0.5, 0.75, 0.9, 0.95, 0.99]\n",
    "    q_name = ['min'] + [f'p{int(100*i)}' for i in q] + ['max']\n",
    "    p = [df.degree.min()] + [df.degree[df.percentile >= i].iloc[0] for i in q] + [df.degree.max()]\n",
    "    p_df = pd.DataFrame(np.column_stack((q_name, p)), columns=['q', 'percentile'])\n",
    "    return p_df.set_index('q')"
   ]
  },
  {
   "cell_type": "markdown",
   "metadata": {},
   "source": [
    "```\n",
    "//visualize schema in Neo4j Browser\n",
    "neo4j$ CALL db.schema.visualization();\n",
    "```\n",
    "![image](./image/nodes.png)"
   ]
  },
  {
   "cell_type": "markdown",
   "metadata": {},
   "source": [
    "We see that recipes are modeled as nodes and can can be \"created\" or \"reviewed\" by users which are also modeled as nodes. \n",
    "Additionally, News also have ingredients and it's relation with recipe. These will be useful for extended analysis, but we will not be using them in this example. Our primary interest here is to get started with users and their reviews to derive recommendations."
   ]
  },
  {
   "cell_type": "markdown",
   "metadata": {},
   "source": [
    "### Graph Data Profiling\n",
    "Before diving right into into analysis, it is helpful to inspect some high level statistics of graph to get a better sense of size and connectivity."
   ]
  },
  {
   "cell_type": "markdown",
   "metadata": {},
   "source": [
    "#### Aggregate Counts\n",
    "Let's start with high node and relationships counts. These functions assume [APOC](https://neo4j.com/developer/neo4j-apoc/) is installed on your Neo4j DB."
   ]
  },
  {
   "cell_type": "code",
   "execution_count": 6,
   "metadata": {},
   "outputs": [
    {
     "data": {
      "text/html": [
       "<div>\n",
       "<style scoped>\n",
       "    .dataframe tbody tr th:only-of-type {\n",
       "        vertical-align: middle;\n",
       "    }\n",
       "\n",
       "    .dataframe tbody tr th {\n",
       "        vertical-align: top;\n",
       "    }\n",
       "\n",
       "    .dataframe thead th {\n",
       "        text-align: right;\n",
       "    }\n",
       "</style>\n",
       "<table border=\"1\" class=\"dataframe\">\n",
       "  <thead>\n",
       "    <tr style=\"text-align: right;\">\n",
       "      <th></th>\n",
       "      <th>label</th>\n",
       "      <th>nodeCount</th>\n",
       "    </tr>\n",
       "  </thead>\n",
       "  <tbody>\n",
       "    <tr>\n",
       "      <th>0</th>\n",
       "      <td>User</td>\n",
       "      <td>226570</td>\n",
       "    </tr>\n",
       "    <tr>\n",
       "      <th>1</th>\n",
       "      <td>Recipe</td>\n",
       "      <td>231637</td>\n",
       "    </tr>\n",
       "  </tbody>\n",
       "</table>\n",
       "</div>"
      ],
      "text/plain": [
       "    label  nodeCount\n",
       "0    User     226570\n",
       "1  Recipe     231637"
      ]
     },
     "execution_count": 6,
     "metadata": {},
     "output_type": "execute_result"
    }
   ],
   "source": [
    "# total node counts\n",
    "gds.run_cypher( '''\n",
    "    CALL apoc.meta.stats()\n",
    "    YIELD labels AS nodeCounts\n",
    "    UNWIND keys(nodeCounts) AS label\n",
    "    WITH label, nodeCounts[label] AS nodeCount\n",
    "    WHERE label IN ['User','Recipe']\n",
    "    RETURN label, nodeCount\n",
    "''')"
   ]
  },
  {
   "cell_type": "code",
   "execution_count": 7,
   "metadata": {},
   "outputs": [
    {
     "data": {
      "text/html": [
       "<div>\n",
       "<style scoped>\n",
       "    .dataframe tbody tr th:only-of-type {\n",
       "        vertical-align: middle;\n",
       "    }\n",
       "\n",
       "    .dataframe tbody tr th {\n",
       "        vertical-align: top;\n",
       "    }\n",
       "\n",
       "    .dataframe thead th {\n",
       "        text-align: right;\n",
       "    }\n",
       "</style>\n",
       "<table border=\"1\" class=\"dataframe\">\n",
       "  <thead>\n",
       "    <tr style=\"text-align: right;\">\n",
       "      <th></th>\n",
       "      <th>type</th>\n",
       "      <th>relationshipCount</th>\n",
       "    </tr>\n",
       "  </thead>\n",
       "  <tbody>\n",
       "    <tr>\n",
       "      <th>0</th>\n",
       "      <td>CREATED</td>\n",
       "      <td>213598</td>\n",
       "    </tr>\n",
       "    <tr>\n",
       "      <th>1</th>\n",
       "      <td>REVIEWED</td>\n",
       "      <td>300000</td>\n",
       "    </tr>\n",
       "  </tbody>\n",
       "</table>\n",
       "</div>"
      ],
      "text/plain": [
       "       type  relationshipCount\n",
       "0   CREATED             213598\n",
       "1  REVIEWED             300000"
      ]
     },
     "execution_count": 7,
     "metadata": {},
     "output_type": "execute_result"
    }
   ],
   "source": [
    "# total relationship counts\n",
    "gds.run_cypher( '''\n",
    "    CALL apoc.meta.stats()\n",
    "    YIELD relTypesCount as relationshipCounts\n",
    "    UNWIND keys(relationshipCounts) AS type\n",
    "    WITH type, relationshipCounts[type] AS relationshipCount\n",
    "    WHERE type IN ['REVIEWED','CREATED']\n",
    "    RETURN type, relationshipCount\n",
    "''')"
   ]
  },
  {
   "cell_type": "markdown",
   "metadata": {},
   "source": [
    "As far as search recommendation is concerns this is a relatively modestly sized graph, with only around 226K users, 231k news articles, and around 500k total creations/reviews."
   ]
  },
  {
   "cell_type": "markdown",
   "metadata": {},
   "source": [
    "#### Reviews Distributions\n",
    "Next, we can look at the distribution of events per user. It is helpful to check this distribution to make sure that:\n",
    "1. The graph is reasonably well connected as the quality of our upcoming recommendation technique will depend on a reasonably well connected graph.\n",
    "2. We do not have any large [supernodes](https://medium.com/neo4j/graph-modeling-all-about-super-nodes-d6ad7e11015b), i.e. nodes with very high numbers of relationships. What qualifies as a supernode varies greatly by use case. For this, I would be concerned about users with tens of thousands of clicks."
   ]
  },
  {
   "cell_type": "code",
   "execution_count": 8,
   "metadata": {},
   "outputs": [
    {
     "data": {
      "image/png": "[encoded data removed]",
      "text/plain": [
       "<Figure size 1600x500 with 2 Axes>"
      ]
     },
     "metadata": {},
     "output_type": "display_data"
    }
   ],
   "source": [
    "all_interactions_df = degree_counts( 'User', 'REVIEWED|CREATED', 'OUT')\n",
    "reviews_df = degree_counts('User', 'REVIEWED', 'OUT')\n",
    "\n",
    "f, axs = plt.subplots(1,2,figsize=(16,5))\n",
    "\n",
    "axs[0].bar(all_interactions_df.degree[:30], all_interactions_df.degreeCount[:30], width=1, log=True)\n",
    "axs[0].set_title('User Total Interactions Distribution')\n",
    "axs[0].set_ylabel('User Count')\n",
    "axs[0].set_xlabel('Number of Total Interactions')\n",
    "plt.figtext(0.4, 0.5, get_percentiles(all_interactions_df).to_string())\n",
    "\n",
    "\n",
    "axs[1].bar(reviews_df.degree[:30], reviews_df.degreeCount[:30], width=1, log=True)\n",
    "axs[1].set_title('User Reviews Distribution')\n",
    "axs[1].set_ylabel('User Count')\n",
    "axs[1].set_xlabel('Number of Reviews')\n",
    "plt.figtext(0.83, 0.5, get_percentiles(reviews_df).to_string())\n",
    "\n",
    "plt.show()"
   ]
  },
  {
   "cell_type": "markdown",
   "metadata": {},
   "source": [
    "The above shows the distributions for total interactions (`REVIEWED` and `CREATED`) as well as reviews (just `REVIEWED`) by user. We see that the distributions have heavy left tails, showing that activity is not uniformly distributed among users, but rather there is relatively small fraction of users that account for a large number of interactions. This is somewhat expected. "
   ]
  },
  {
   "cell_type": "markdown",
   "metadata": {},
   "source": [
    "We can do a similar breakdown for Recipe below."
   ]
  },
  {
   "cell_type": "code",
   "execution_count": 9,
   "metadata": {},
   "outputs": [
    {
     "data": {
      "image/png": "[encoded data removed]",
      "text/plain": [
       "<Figure size 1600x500 with 2 Axes>"
      ]
     },
     "metadata": {},
     "output_type": "display_data"
    }
   ],
   "source": [
    "all_interactions_df = degree_counts('Recipe', 'REVIEWED|CREATED', 'IN')\n",
    "reviews_df = degree_counts('Recipe', 'REVIEWED', 'IN')\n",
    "\n",
    "f, axs = plt.subplots(1,2,figsize=(16,5))\n",
    "\n",
    "axs[0].bar(all_interactions_df.degree[:10], all_interactions_df.degreeCount[:10], width=1)\n",
    "axs[0].set_title('Recipe Total Interactions Distribution')\n",
    "axs[0].set_ylabel('Recipe Count')\n",
    "axs[0].set_xlabel('Number of Total Interactions')\n",
    "plt.figtext(0.4, 0.5, get_percentiles(all_interactions_df).to_string())\n",
    "\n",
    "\n",
    "axs[1].bar(reviews_df.degree[:10], reviews_df.degreeCount[:10], width=1)\n",
    "axs[1].set_title('Recipe Reviews Distribution')\n",
    "axs[1].set_ylabel('Recipe Count')\n",
    "axs[1].set_xlabel('Number of Reviews')\n",
    "plt.figtext(0.83, 0.5, get_percentiles(reviews_df).to_string())\n",
    "\n",
    "plt.show()"
   ]
  },
  {
   "cell_type": "markdown",
   "metadata": {},
   "source": [
    "## Collaborative Filtering (CF)\n",
    "\n",
    "There are many different types of recommendations systems. In this example we will apply a technique called Collaborative Filtering (CF), which is the practice of automatically predicting a user's preferences based on the actions of similar users.\n",
    "\n",
    "### User vs Item Based CF\n",
    "Roughly speaking there are two main classes of collaborative filtering\n",
    "1. User-based, which is focuses on directly calculating similarity between users based on their interaction with items\n",
    "2. Item-based, which measures the similarity between pairs of items based on correlated user activity, such as the same users liking, viewing, rating, or otherwise similarly interacting with items\n",
    "\n",
    "Our approach today will focus on the later, item-based CF. Item-based CF will be more manageable and scalable then user-based CF for many problem domains. There are a couple reasons for this. First, because there are way fewer items then users in most applied cases so there are less entities to compare. Second, and perhaps more importantly, User preferences can also be dynamic and change overtime. For example, in a Movie example, a user could be mostly interested in Sci Fi movies but go through a brief stint in Westerns, and making recommendations for Westerns to other Sci Fi fans who historically viewed the same things may not be the best thing. Often the best indicator of a user's current interest is their most recent activity, and item based filtering gives you better flexibility to find similarities based off the most recent item(s) created, rated, etc."
   ]
  },
  {
   "cell_type": "markdown",
   "metadata": {},
   "source": [
    "## Basic Cypher Queries for CF\n",
    "From here we could try just using Cypher to accomplish basic Collaborative Filtering. For example, take the below user and the news they clicked. You can see a mixed interest between autos, finance, US news, and a couple other categories."
   ]
  },
  {
   "cell_type": "code",
   "execution_count": 90,
   "metadata": {},
   "outputs": [
    {
     "name": "stdout",
     "output_type": "stream",
     "text": [
      "Selected user 536944\n"
     ]
    }
   ],
   "source": [
    "# Select a random user that has at least n_reviews reviews\n",
    "random_user = gds.run_cypher('''\n",
    "    MATCH (user:User)-[:REVIEWED]->(:Recipe)\n",
    "    WITH user, COUNT(*) AS reviewCount\n",
    "    WHERE reviewCount >= $n_reviews\n",
    "    WITH user, RAND() AS randomOrder\n",
    "    ORDER BY randomOrder\n",
    "    RETURN user.id AS randomUserID\n",
    "    LIMIT 1\n",
    "''', params={'n_reviews': 10})['randomUserID'][0]\n",
    "\n",
    "USER_ID = f'{random_user}'\n",
    "\n",
    "print(f\"Selected user {USER_ID}\")"
   ]
  },
  {
   "cell_type": "code",
   "execution_count": 91,
   "metadata": {},
   "outputs": [
    {
     "data": {
      "text/html": [
       "<div>\n",
       "<style scoped>\n",
       "    .dataframe tbody tr th:only-of-type {\n",
       "        vertical-align: middle;\n",
       "    }\n",
       "\n",
       "    .dataframe tbody tr th {\n",
       "        vertical-align: top;\n",
       "    }\n",
       "\n",
       "    .dataframe thead th {\n",
       "        text-align: right;\n",
       "    }\n",
       "</style>\n",
       "<table border=\"1\" class=\"dataframe\">\n",
       "  <thead>\n",
       "    <tr style=\"text-align: right;\">\n",
       "      <th></th>\n",
       "      <th>recipeID</th>\n",
       "      <th>name</th>\n",
       "      <th>tags</th>\n",
       "      <th>nutrition</th>\n",
       "      <th>n_ingredients</th>\n",
       "      <th>impressionTime</th>\n",
       "      <th>interactionType</th>\n",
       "    </tr>\n",
       "  </thead>\n",
       "  <tbody>\n",
       "    <tr>\n",
       "      <th>0</th>\n",
       "      <td>117496</td>\n",
       "      <td>chewy gingersnaps sparkle cookies</td>\n",
       "      <td>['30-minutes-or-less', 'time-to-make', 'course', 'preparation', 'occasion', 'hand-formed-cookies', 'desserts', 'easy', 'beginner-cook', 'cookies-and-brownies', 'gifts', 'inexpensive']</td>\n",
       "      <td>[120.0, 7.0, 39.0, 7.0, 2.0, 14.0, 6.0]</td>\n",
       "      <td>12</td>\n",
       "      <td>2010-01-08</td>\n",
       "      <td>REVIEWED</td>\n",
       "    </tr>\n",
       "    <tr>\n",
       "      <th>1</th>\n",
       "      <td>214643</td>\n",
       "      <td>amaranth for breakfast</td>\n",
       "      <td>['30-minutes-or-less', 'time-to-make', 'course', 'main-ingredient', 'preparation', 'for-1-or-2', 'breakfast', 'vegetarian', 'grains', 'dietary', 'low-sodium', 'low-in-something', 'pasta-rice-and-grains', 'number-of-servings']</td>\n",
       "      <td>[333.1, 19.0, 72.0, 0.0, 15.0, 46.0, 16.0]</td>\n",
       "      <td>5</td>\n",
       "      <td>2009-10-03</td>\n",
       "      <td>REVIEWED</td>\n",
       "    </tr>\n",
       "    <tr>\n",
       "      <th>2</th>\n",
       "      <td>350894</td>\n",
       "      <td>kittencal s thick and rich creamy tomato soup  low fat option</td>\n",
       "      <td>['time-to-make', 'course', 'main-ingredient', 'preparation', 'occasion', 'low-protein', 'bisques-cream-soups', 'soups-stews', 'vegetables', 'easy', 'beginner-cook', 'dinner-party', 'holiday-event', 'kid-friendly', 'vegetarian', 'winter', 'stove-top', 'dietary', 'christmas', 'low-cholesterol', 'seasonal', 'low-calorie', 'comfort-food', 'low-carb', 'inexpensive', 'healthy-2', 'low-in-something', 'tomatoes', 'taste-mood', 'equipment', '4-hours-or-less']</td>\n",
       "      <td>[124.1, 8.0, 20.0, 23.0, 7.0, 17.0, 5.0]</td>\n",
       "      <td>14</td>\n",
       "      <td>2009-04-24</td>\n",
       "      <td>REVIEWED</td>\n",
       "    </tr>\n",
       "    <tr>\n",
       "      <th>3</th>\n",
       "      <td>261889</td>\n",
       "      <td>kittencal s buttery cut out sugar cookies w  icing that hardens</td>\n",
       "      <td>['time-to-make', 'course', 'main-ingredient', 'preparation', 'occasion', 'for-large-groups', 'rolled-cookies', 'desserts', 'eggs-dairy', 'oven', 'easy', 'refrigerator', 'beginner-cook', 'holiday-event', 'kid-friendly', 'cookies-and-brownies', 'dietary', 'christmas', 'taste-mood', 'sweet', 'equipment', 'number-of-servings', '4-hours-or-less']</td>\n",
       "      <td>[144.2, 8.0, 50.0, 4.0, 3.0, 17.0, 7.0]</td>\n",
       "      <td>13</td>\n",
       "      <td>2009-02-13</td>\n",
       "      <td>REVIEWED</td>\n",
       "    </tr>\n",
       "    <tr>\n",
       "      <th>4</th>\n",
       "      <td>15220</td>\n",
       "      <td>olive garden salad dressing</td>\n",
       "      <td>['15-minutes-or-less', 'time-to-make', 'course', 'preparation', 'occasion', 'for-large-groups', 'salads', 'easy', 'no-cook', 'salad-dressings', 'dietary', 'copycat', 'novelty', 'number-of-servings', '3-steps-or-less', 'technique']</td>\n",
       "      <td>[16.9, 1.0, 2.0, 0.0, 1.0, 1.0, 0.0]</td>\n",
       "      <td>10</td>\n",
       "      <td>2009-01-17</td>\n",
       "      <td>REVIEWED</td>\n",
       "    </tr>\n",
       "    <tr>\n",
       "      <th>5</th>\n",
       "      <td>15654</td>\n",
       "      <td>overnight eggnog baked french toast</td>\n",
       "      <td>['60-minutes-or-less', 'time-to-make', 'course', 'main-ingredient', 'cuisine', 'preparation', 'occasion', 'north-american', 'breakfast', 'eggs-dairy', 'canadian', 'oven', 'holiday-event', 'eggs', 'freezer', 'dietary', 'christmas', 'low-sodium', 'oamc-freezer-make-ahead', 'low-in-something', 'equipment', 'number-of-servings']</td>\n",
       "      <td>[303.3, 26.0, 75.0, 10.0, 25.0, 44.0, 8.0]</td>\n",
       "      <td>11</td>\n",
       "      <td>2008-12-25</td>\n",
       "      <td>REVIEWED</td>\n",
       "    </tr>\n",
       "    <tr>\n",
       "      <th>6</th>\n",
       "      <td>98447</td>\n",
       "      <td>cha ching  carrot spice muffins</td>\n",
       "      <td>['30-minutes-or-less', 'time-to-make', 'course', 'main-ingredient', 'cuisine', 'preparation', 'north-american', 'breads', 'vegetables', 'oven', 'muffins', 'dietary', 'quick-breads', 'carrots', 'equipment', 'number-of-servings']</td>\n",
       "      <td>[135.3, 10.0, 34.0, 5.0, 5.0, 4.0, 6.0]</td>\n",
       "      <td>16</td>\n",
       "      <td>2008-12-20</td>\n",
       "      <td>REVIEWED</td>\n",
       "    </tr>\n",
       "    <tr>\n",
       "      <th>7</th>\n",
       "      <td>55796</td>\n",
       "      <td>healthy bean soup with kale</td>\n",
       "      <td>['30-minutes-or-less', 'time-to-make', 'course', 'main-ingredient', 'preparation', 'occasion', 'low-protein', 'healthy', 'lunch', 'main-dish', 'soups-stews', 'beans', 'vegetables', 'easy', 'potluck', 'fall', 'low-fat', 'picnic', 'winter', 'stove-top', 'dietary', 'low-cholesterol', 'seasonal', 'low-saturated-fat', 'low-calorie', 'low-carb', 'inexpensive', 'healthy-2', 'low-in-something', 'greens', 'brunch', 'to-go', 'equipment', 'presentation', 'served-hot']</td>\n",
       "      <td>[214.6, 5.0, 42.0, 32.0, 23.0, 3.0, 12.0]</td>\n",
       "      <td>12</td>\n",
       "      <td>2008-09-05</td>\n",
       "      <td>REVIEWED</td>\n",
       "    </tr>\n",
       "    <tr>\n",
       "      <th>8</th>\n",
       "      <td>250065</td>\n",
       "      <td>ww fettuccine alfredo</td>\n",
       "      <td>['60-minutes-or-less', 'time-to-make', 'course', 'main-ingredient', 'cuisine', 'preparation', 'occasion', 'main-dish', 'pasta', 'european', 'italian', 'dietary', 'one-dish-meal', 'comfort-food', 'pasta-rice-and-grains', 'taste-mood']</td>\n",
       "      <td>[442.9, 25.0, 25.0, 24.0, 47.0, 44.0, 16.0]</td>\n",
       "      <td>9</td>\n",
       "      <td>2008-08-26</td>\n",
       "      <td>REVIEWED</td>\n",
       "    </tr>\n",
       "    <tr>\n",
       "      <th>9</th>\n",
       "      <td>214051</td>\n",
       "      <td>tsr version of starbucks pumpkin scones by todd wilbur</td>\n",
       "      <td>['30-minutes-or-less', 'time-to-make', 'course', 'preparation', 'occasion', 'healthy', 'breads', 'breakfast', 'holiday-event', 'dietary', 'copycat', 'thanksgiving', 'scones', 'quick-breads', 'novelty']</td>\n",
       "      <td>[525.5, 21.0, 241.0, 22.0, 12.0, 42.0, 31.0]</td>\n",
       "      <td>15</td>\n",
       "      <td>2007-12-06</td>\n",
       "      <td>REVIEWED</td>\n",
       "    </tr>\n",
       "    <tr>\n",
       "      <th>10</th>\n",
       "      <td>53904</td>\n",
       "      <td>chocolate walnut biscotti</td>\n",
       "      <td>['weeknight', 'time-to-make', 'course', 'main-ingredient', 'preparation', 'occasion', 'desserts', 'cookies-and-brownies', 'chocolate', 'dietary', 'biscotti', 'number-of-servings', '4-hours-or-less']</td>\n",
       "      <td>[138.8, 12.0, 27.0, 2.0, 6.0, 10.0, 5.0]</td>\n",
       "      <td>9</td>\n",
       "      <td>2007-12-06</td>\n",
       "      <td>REVIEWED</td>\n",
       "    </tr>\n",
       "  </tbody>\n",
       "</table>\n",
       "</div>"
      ],
      "text/plain": [
       "   recipeID                                                             name  \\\n",
       "0    117496                                chewy gingersnaps sparkle cookies   \n",
       "1    214643                                           amaranth for breakfast   \n",
       "2    350894    kittencal s thick and rich creamy tomato soup  low fat option   \n",
       "3    261889  kittencal s buttery cut out sugar cookies w  icing that hardens   \n",
       "4     15220                                      olive garden salad dressing   \n",
       "5     15654                              overnight eggnog baked french toast   \n",
       "6     98447                                  cha ching  carrot spice muffins   \n",
       "7     55796                                      healthy bean soup with kale   \n",
       "8    250065                                            ww fettuccine alfredo   \n",
       "9    214051           tsr version of starbucks pumpkin scones by todd wilbur   \n",
       "10    53904                                        chocolate walnut biscotti   \n",
       "\n",
       "                                                                                                                                                                                                                                                                                                                                                                                                                                                                             tags  \\\n",
       "0                                                                                                                                                                                                                                                                                         ['30-minutes-or-less', 'time-to-make', 'course', 'preparation', 'occasion', 'hand-formed-cookies', 'desserts', 'easy', 'beginner-cook', 'cookies-and-brownies', 'gifts', 'inexpensive']   \n",
       "1                                                                                                                                                                                                                                               ['30-minutes-or-less', 'time-to-make', 'course', 'main-ingredient', 'preparation', 'for-1-or-2', 'breakfast', 'vegetarian', 'grains', 'dietary', 'low-sodium', 'low-in-something', 'pasta-rice-and-grains', 'number-of-servings']   \n",
       "2          ['time-to-make', 'course', 'main-ingredient', 'preparation', 'occasion', 'low-protein', 'bisques-cream-soups', 'soups-stews', 'vegetables', 'easy', 'beginner-cook', 'dinner-party', 'holiday-event', 'kid-friendly', 'vegetarian', 'winter', 'stove-top', 'dietary', 'christmas', 'low-cholesterol', 'seasonal', 'low-calorie', 'comfort-food', 'low-carb', 'inexpensive', 'healthy-2', 'low-in-something', 'tomatoes', 'taste-mood', 'equipment', '4-hours-or-less']   \n",
       "3                                                                                                                         ['time-to-make', 'course', 'main-ingredient', 'preparation', 'occasion', 'for-large-groups', 'rolled-cookies', 'desserts', 'eggs-dairy', 'oven', 'easy', 'refrigerator', 'beginner-cook', 'holiday-event', 'kid-friendly', 'cookies-and-brownies', 'dietary', 'christmas', 'taste-mood', 'sweet', 'equipment', 'number-of-servings', '4-hours-or-less']   \n",
       "4                                                                                                                                                                                                                                          ['15-minutes-or-less', 'time-to-make', 'course', 'preparation', 'occasion', 'for-large-groups', 'salads', 'easy', 'no-cook', 'salad-dressings', 'dietary', 'copycat', 'novelty', 'number-of-servings', '3-steps-or-less', 'technique']   \n",
       "5                                                                                                                                          ['60-minutes-or-less', 'time-to-make', 'course', 'main-ingredient', 'cuisine', 'preparation', 'occasion', 'north-american', 'breakfast', 'eggs-dairy', 'canadian', 'oven', 'holiday-event', 'eggs', 'freezer', 'dietary', 'christmas', 'low-sodium', 'oamc-freezer-make-ahead', 'low-in-something', 'equipment', 'number-of-servings']   \n",
       "6                                                                                                                                                                                                                                             ['30-minutes-or-less', 'time-to-make', 'course', 'main-ingredient', 'cuisine', 'preparation', 'north-american', 'breads', 'vegetables', 'oven', 'muffins', 'dietary', 'quick-breads', 'carrots', 'equipment', 'number-of-servings']   \n",
       "7   ['30-minutes-or-less', 'time-to-make', 'course', 'main-ingredient', 'preparation', 'occasion', 'low-protein', 'healthy', 'lunch', 'main-dish', 'soups-stews', 'beans', 'vegetables', 'easy', 'potluck', 'fall', 'low-fat', 'picnic', 'winter', 'stove-top', 'dietary', 'low-cholesterol', 'seasonal', 'low-saturated-fat', 'low-calorie', 'low-carb', 'inexpensive', 'healthy-2', 'low-in-something', 'greens', 'brunch', 'to-go', 'equipment', 'presentation', 'served-hot']   \n",
       "8                                                                                                                                                                                                                                       ['60-minutes-or-less', 'time-to-make', 'course', 'main-ingredient', 'cuisine', 'preparation', 'occasion', 'main-dish', 'pasta', 'european', 'italian', 'dietary', 'one-dish-meal', 'comfort-food', 'pasta-rice-and-grains', 'taste-mood']   \n",
       "9                                                                                                                                                                                                                                                                       ['30-minutes-or-less', 'time-to-make', 'course', 'preparation', 'occasion', 'healthy', 'breads', 'breakfast', 'holiday-event', 'dietary', 'copycat', 'thanksgiving', 'scones', 'quick-breads', 'novelty']   \n",
       "10                                                                                                                                                                                                                                                                         ['weeknight', 'time-to-make', 'course', 'main-ingredient', 'preparation', 'occasion', 'desserts', 'cookies-and-brownies', 'chocolate', 'dietary', 'biscotti', 'number-of-servings', '4-hours-or-less']   \n",
       "\n",
       "                                       nutrition n_ingredients impressionTime  \\\n",
       "0        [120.0, 7.0, 39.0, 7.0, 2.0, 14.0, 6.0]            12     2010-01-08   \n",
       "1     [333.1, 19.0, 72.0, 0.0, 15.0, 46.0, 16.0]             5     2009-10-03   \n",
       "2       [124.1, 8.0, 20.0, 23.0, 7.0, 17.0, 5.0]            14     2009-04-24   \n",
       "3        [144.2, 8.0, 50.0, 4.0, 3.0, 17.0, 7.0]            13     2009-02-13   \n",
       "4           [16.9, 1.0, 2.0, 0.0, 1.0, 1.0, 0.0]            10     2009-01-17   \n",
       "5     [303.3, 26.0, 75.0, 10.0, 25.0, 44.0, 8.0]            11     2008-12-25   \n",
       "6        [135.3, 10.0, 34.0, 5.0, 5.0, 4.0, 6.0]            16     2008-12-20   \n",
       "7      [214.6, 5.0, 42.0, 32.0, 23.0, 3.0, 12.0]            12     2008-09-05   \n",
       "8    [442.9, 25.0, 25.0, 24.0, 47.0, 44.0, 16.0]             9     2008-08-26   \n",
       "9   [525.5, 21.0, 241.0, 22.0, 12.0, 42.0, 31.0]            15     2007-12-06   \n",
       "10      [138.8, 12.0, 27.0, 2.0, 6.0, 10.0, 5.0]             9     2007-12-06   \n",
       "\n",
       "   interactionType  \n",
       "0         REVIEWED  \n",
       "1         REVIEWED  \n",
       "2         REVIEWED  \n",
       "3         REVIEWED  \n",
       "4         REVIEWED  \n",
       "5         REVIEWED  \n",
       "6         REVIEWED  \n",
       "7         REVIEWED  \n",
       "8         REVIEWED  \n",
       "9         REVIEWED  \n",
       "10        REVIEWED  "
      ]
     },
     "execution_count": 91,
     "metadata": {},
     "output_type": "execute_result"
    }
   ],
   "source": [
    "gds.run_cypher('''\n",
    "    MATCH (u1:User {id: $userId})\n",
    "           -[r1:CREATED|REVIEWED]->(re1:Recipe)\n",
    "    RETURN re1.id AS recipeID,\n",
    "           re1.name AS name,\n",
    "           re1.tags AS tags,\n",
    "           re1.nutrition AS nutrition,\n",
    "           re1.n_ingredients As n_ingredients,\n",
    "           COALESCE(r1.submitted, r1.date) AS impressionTime,\n",
    "           type(r1) AS interactionType\n",
    "    ORDER BY interactionType, impressionTime DESC\n",
    "    ''', params={'userId': USER_ID})\n"
   ]
  },
  {
   "cell_type": "markdown",
   "metadata": {},
   "source": [
    "Assuming we can measure the similarity of user interests via commonly reviewed recipes, we can do a three hop query to find potential recommendations for user `27711` based on the activity of users that reviewed the same recipe as `27711` (or even reviewed their recipe high).\n",
    "\n",
    "With the below query we can get an aggregate count of the nodes we would need to traverse over to get the recommendations."
   ]
  },
  {
   "cell_type": "code",
   "execution_count": 92,
   "metadata": {},
   "outputs": [
    {
     "data": {
      "text/html": [
       "<div>\n",
       "<style scoped>\n",
       "    .dataframe tbody tr th:only-of-type {\n",
       "        vertical-align: middle;\n",
       "    }\n",
       "\n",
       "    .dataframe tbody tr th {\n",
       "        vertical-align: top;\n",
       "    }\n",
       "\n",
       "    .dataframe thead th {\n",
       "        text-align: right;\n",
       "    }\n",
       "</style>\n",
       "<table border=\"1\" class=\"dataframe\">\n",
       "  <thead>\n",
       "    <tr style=\"text-align: right;\">\n",
       "      <th></th>\n",
       "      <th>userId</th>\n",
       "      <th>reviewedRecipes</th>\n",
       "      <th>likeUsers</th>\n",
       "      <th>potentialRecommendations</th>\n",
       "    </tr>\n",
       "  </thead>\n",
       "  <tbody>\n",
       "    <tr>\n",
       "      <th>0</th>\n",
       "      <td>536944</td>\n",
       "      <td>11</td>\n",
       "      <td>773</td>\n",
       "      <td>20072</td>\n",
       "    </tr>\n",
       "  </tbody>\n",
       "</table>\n",
       "</div>"
      ],
      "text/plain": [
       "   userId  reviewedRecipes  likeUsers  potentialRecommendations\n",
       "0  536944               11        773                     20072"
      ]
     },
     "execution_count": 92,
     "metadata": {},
     "output_type": "execute_result"
    }
   ],
   "source": [
    "gds.run_cypher('''\n",
    "    MATCH (u1:User {id: $userId})\n",
    "           -[r1:REVIEWED]->(re1:Recipe)\n",
    "           <-[r2:REVIEWED]-(u2:User)\n",
    "           -[r3:REVIEWED]->(re2:Recipe)\n",
    "    RETURN u1.id AS userId,\n",
    "           count(DISTINCT re1) AS reviewedRecipes,\n",
    "           count(DISTINCT u2) AS likeUsers,\n",
    "           count(DISTINCT re2) AS potentialRecommendations\n",
    "    ''', params={'userId': USER_ID})"
   ]
  },
  {
   "cell_type": "markdown",
   "metadata": {},
   "source": [
    "While the above can work well in some cases, and while it can certainly be a massive improvement from joining SQL tables or cross-walking over document stores, notice that we get a lot of potential recommendations back (about 13K). And this is just a sample of the the total dataset.\n",
    "\n",
    "For production use cases where recommendations will need to be queried frequently, this method will have trouble scaling as the number of users, amount of content, and/or observed engagement grows. We need some other strategy to help narrow down the results. There are a few different ways we can accomplish this, but one robust and scalable way to do so is with the [Neo4j Graph Data Science (GDS) Library](https://neo4j.com/docs/graph-data-science/current/)."
   ]
  },
  {
   "cell_type": "markdown",
   "metadata": {},
   "source": [
    "### Recommendation based on favorite ingredients\n",
    "First let's make a list of excluded ingredients. Those ingredients won't be considered as they're common ingredients in recipies."
   ]
  },
  {
   "cell_type": "code",
   "execution_count": 113,
   "metadata": {},
   "outputs": [],
   "source": [
    "excluded_ingr = ['butter', 'salt', 'sugar', 'all-purpose flour', 'baking powder', 'baking soda']"
   ]
  },
  {
   "cell_type": "code",
   "execution_count": 114,
   "metadata": {},
   "outputs": [
    {
     "name": "stdout",
     "output_type": "stream",
     "text": [
      "  favoriteIngredient  reviewCount\n",
      "0            vanilla            4\n",
      "1      garlic cloves            3\n",
      "2               eggs            3\n",
      "3           cinnamon            3\n",
      "4    parmesan cheese            3\n",
      "\n",
      "Query executed in 0.02 seconds\n"
     ]
    }
   ],
   "source": [
    "start_time = time.time()\n",
    "\n",
    "# Compute top 5 user ingredients\n",
    "print(gds.run_cypher('''\n",
    "    MATCH (user:User {id: $userId})-[rew:REVIEWED]->(recipe:Recipe)-[:WITH_INGREDIENTS]->(ingredient:Ingredient)\n",
    "    WHERE rew.rating = 5 AND NOT ingredient.name IN $excluded_ingr\n",
    "    WITH ingredient, COUNT(recipe) AS reviewCount\n",
    "    ORDER BY reviewCount DESC\n",
    "    LIMIT $limit\n",
    "    RETURN ingredient.name AS favoriteIngredient, reviewCount\n",
    "    ''', params={'userId': USER_ID, 'limit': 5, \n",
    "                 'excluded_ingr': excluded_ingr}))\n",
    "\n",
    "end_time = time.time()\n",
    "\n",
    "print(f'\\nQuery executed in {end_time-start_time:.2f} seconds')"
   ]
  },
  {
   "cell_type": "code",
   "execution_count": 115,
   "metadata": {},
   "outputs": [
    {
     "name": "stdout",
     "output_type": "stream",
     "text": [
      "  recipeID                          recipeName          recipeIngredients\n",
      "0   111625                      22 minute cake  [eggs, vanilla, cinnamon]\n",
      "1    94694      zucchini mandarin orange bread            [eggs, vanilla]\n",
      "2   232200  zucchini yogurt multigrain muffins                     [eggs]\n",
      "3    95938            zucchini pistachio bread           [eggs, cinnamon]\n",
      "4    35975                      zucchini bread                     [eggs]\n",
      "\n",
      "Query executed in 0.14 seconds\n"
     ]
    }
   ],
   "source": [
    "start_time = time.time()\n",
    "\n",
    "# Suggest recipes based on user's favorites ingredients\n",
    "print(gds.run_cypher('''\n",
    "    MATCH (user:User {id: $userId})-[rew :REVIEWED]->(:Recipe)-[:WITH_INGREDIENTS]->(ingredient:Ingredient)  \n",
    "    WHERE rew.rating = 5 AND NOT ingredient.name IN $excluded_ingr\n",
    "    WITH ingredient, COUNT(*) AS ingredientCount\n",
    "    ORDER BY ingredientCount DESC\n",
    "    LIMIT $limitIngr\n",
    "    WITH COLLECT(ingredient) AS favoriteIngredients\n",
    "    MATCH (recipe:Recipe)-[:WITH_INGREDIENTS]->(ingredient:Ingredient)\n",
    "    WHERE ingredient IN favoriteIngredients\n",
    "    WITH recipe, COLLECT(ingredient.name) AS recipeIngredients\n",
    "    RETURN recipe.id AS recipeID, recipe.name AS recipeName, recipeIngredients\n",
    "    LIMIT $limit\n",
    "    ''', params={\n",
    "        'userId': USER_ID, 'limit': 5, 'limitIngr':5, \n",
    "        'excluded_ingr': excluded_ingr}))\n",
    "\n",
    "end_time = time.time()\n",
    "\n",
    "print(f'\\nQuery executed in {end_time-start_time:.2f} seconds')"
   ]
  },
  {
   "cell_type": "code",
   "execution_count": 126,
   "metadata": {},
   "outputs": [
    {
     "data": {
      "image/png": "[encoded data removed]",
      "text/plain": [
       "<Figure size 640x480 with 1 Axes>"
      ]
     },
     "metadata": {},
     "output_type": "display_data"
    }
   ],
   "source": [
    "# Extract all ratings\n",
    "ratings = gds.run_cypher('''\n",
    "    MATCH (:User)-[r:REVIEWED]->(:Recipe)\n",
    "    RETURN r.rating AS rating\n",
    "    ''')\n",
    "\n",
    "# Create an histogram\n",
    "ratings['rating'].hist()\n",
    "\n",
    "# Add labels and title\n",
    "plt.xlabel('Rating')\n",
    "plt.ylabel('# of ratings')\n",
    "plt.title('Histogram of ratings')\n",
    "plt.show()"
   ]
  }
 ],
 "metadata": {
  "kernelspec": {
   "display_name": "Python 3",
   "language": "python",
   "name": "python3"
  },
  "language_info": {
   "codemirror_mode": {
    "name": "ipython",
    "version": 3
   },
   "file_extension": ".py",
   "mimetype": "text/x-python",
   "name": "python",
   "nbconvert_exporter": "python",
   "pygments_lexer": "ipython3",
   "version": "3.8.10"
  },
  "orig_nbformat": 4
 },
 "nbformat": 4,
 "nbformat_minor": 2
}
