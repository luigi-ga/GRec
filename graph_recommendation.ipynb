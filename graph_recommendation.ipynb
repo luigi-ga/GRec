{
 "cells": [
  {
   "cell_type": "markdown",
   "metadata": {},
   "source": [
    "# Exploring Practical Recommendation Systems In Neo4j\n",
    "### __An Example With Collaborative Leveraging Graph Data Science and Machgine Learning__\n",
    "\n",
    "In this notebook we explore how to get started with practical & scalable recommendation in graph. We will walk through a fundamental example with recipe recommendation on dataset containing 231k recipes and around 226K users. We will leverage Neo4j and the Graph Data Science (GDS) library to quickly predict similar recipes based on user preferences and enable sub-second, rank-ordered, recommendation queries personalized to each user.\n",
    "\n",
    "This notebook is structured as follows: \n",
    "\n",
    "1. setup some configurations and helper functions to allow us to work with the graph. \n",
    "2. Go over the source dataset and graph we will be using along with how to query basic profiling statistics to help us understand the graph and better prepare for analysis. \n",
    "3. Briefly introduce a technique called Collaborative filtering (CF) which will be our mechanism for recommendation in this notebook\n",
    "4. Explore Applying the Cypher query language for basic CF\n",
    "5. Scaling CF with the Graph Data Science (GDS) Library, leveraging Node embeddings and an ML technique called K-Nearest Neighbor (KNN)."
   ]
  },
  {
   "cell_type": "markdown",
   "metadata": {},
   "source": [
    "## Notebook Setup"
   ]
  },
  {
   "cell_type": "code",
   "execution_count": 1,
   "metadata": {},
   "outputs": [],
   "source": [
    "from graphdatascience import GraphDataScience\n",
    "import pandas as pd\n",
    "import numpy as np\n",
    "import configparser\n",
    "import os\n",
    "import time\n",
    "import matplotlib.pyplot as plt\n",
    "pd.set_option('display.width', 0)\n",
    "pd.set_option('display.max_colwidth', 500)\n",
    "pd.set_option('display.max_rows', 12)"
   ]
  },
  {
   "cell_type": "markdown",
   "metadata": {},
   "source": [
    "### Neo4j Settings\n",
    "The `NEO4J_PROPERTIES_FILE` is an ini configuration file for Neo4j properties so this notebook can connect to\n",
    "your Neo4j instance and load data. The ini file should be formatted as follows\n",
    "```\n",
    "[NEO4J]\n",
    "PASSWORD=<password>\n",
    "USERNAME=<database name, is 'neo4j' by default>\n",
    "HOST=<host uri>\n",
    "\n",
    "```\n",
    "\n",
    "Set `NEO4J_PROPERTIES_FILE` to None or any non-existent location to use the below defaults\n",
    "```\n",
    "HOST = 'neo4j://localhost'\n",
    "USERNAME = 'neo4j'\n",
    "PASSWORD = 'password'\n",
    "```"
   ]
  },
  {
   "cell_type": "code",
   "execution_count": 2,
   "metadata": {},
   "outputs": [],
   "source": [
    "NEO4J_PROPERTIES_FILE = None #'/path/to/your/file.ini'"
   ]
  },
  {
   "cell_type": "code",
   "execution_count": 3,
   "metadata": {},
   "outputs": [
    {
     "name": "stdout",
     "output_type": "stream",
     "text": [
      "Could not find database properties file, using defaults\n"
     ]
    }
   ],
   "source": [
    "# Using an ini file for credentials, otherwise providing defaults\n",
    "HOST = 'bolt://localhost:7687'\n",
    "DATABASE = 'neo4j'\n",
    "PASSWORD = 'LU?vVtYf8])9;^z'\n",
    "\n",
    "if NEO4J_PROPERTIES_FILE is not None and os.path.exists(NEO4J_PROPERTIES_FILE):\n",
    "    config = configparser.RawConfigParser()\n",
    "    config.read(NEO4J_PROPERTIES_FILE)\n",
    "    HOST = config['NEO4J']['HOST']\n",
    "    USERNAME = config['NEO4J']['USERNAME']\n",
    "    PASSWORD = config['NEO4J']['PASSWORD']\n",
    "    print('Using custom database properties')\n",
    "else:\n",
    "    print('Could not find database properties file, using defaults')"
   ]
  },
  {
   "cell_type": "code",
   "execution_count": 4,
   "metadata": {},
   "outputs": [],
   "source": [
    "gds = GraphDataScience(HOST, auth=(DATABASE, PASSWORD))"
   ]
  },
  {
   "cell_type": "markdown",
   "metadata": {},
   "source": [
    "### Helper Functions"
   ]
  },
  {
   "cell_type": "code",
   "execution_count": 5,
   "metadata": {},
   "outputs": [],
   "source": [
    "class GraphQueryError(Exception):\n",
    "    def __init__(self, message):\n",
    "        self.message = message\n",
    "\n",
    "\n",
    "def run(driver, query, params=None):\n",
    "    with driver.session() as session:\n",
    "        if params is not None:\n",
    "            return [r for r in session.run(query, params)]\n",
    "        else:\n",
    "            return [r for r in session.run(query)]\n",
    "\n",
    "def degree_counts(node_label, relationship_type, direction='BOTH'):\n",
    "    dr = direction.upper()\n",
    "    if dr not in {'BOTH', 'IN', 'OUT'}:\n",
    "        raise GraphQueryError(f\"direction must be one of {{'BOTH', 'IN', 'OUT'}}, but got {dr}\")\n",
    "\n",
    "    if dr == 'BOTH':\n",
    "        pattern = f'[(n)-[:{relationship_type}]-() | n]'\n",
    "    elif dr == 'OUT':\n",
    "        pattern = f'[(n)-[:{relationship_type}]->() | n]'\n",
    "    else:\n",
    "        pattern = f'[(n)<-[:{relationship_type}]-() | n]'\n",
    "\n",
    "    df= gds.run_cypher( f'''\n",
    "            MATCH (n:{node_label}) WITH id(n) as nodeIds, size({pattern}) AS degree\n",
    "            RETURN degree, count(degree) AS degreeCount ORDER BY degree\n",
    "        ''')\n",
    "\n",
    "    df['csum'] = df.degreeCount.cumsum()\n",
    "    n = df.degreeCount.sum()\n",
    "    df['percentile'] = df.csum/n\n",
    "    return df.drop(columns=['csum'])\n",
    "\n",
    "def get_percentiles(df, q=None):\n",
    "    if q is None:\n",
    "        q = [0.1, 0.25, 0.5, 0.75, 0.9, 0.95, 0.99]\n",
    "    q_name = ['min'] + [f'p{int(100*i)}' for i in q] + ['max']\n",
    "    p = [df.degree.min()] + [df.degree[df.percentile >= i].iloc[0] for i in q] + [df.degree.max()]\n",
    "    p_df = pd.DataFrame(np.column_stack((q_name, p)), columns=['q', 'percentile'])\n",
    "    return p_df.set_index('q')"
   ]
  },
  {
   "cell_type": "markdown",
   "metadata": {},
   "source": [
    "```\n",
    "//visualize schema in Neo4j Browser\n",
    "neo4j$ CALL db.schema.visualization();\n",
    "```\n",
    "![image](./image/nodes.png)"
   ]
  },
  {
   "cell_type": "markdown",
   "metadata": {},
   "source": [
    "We see that recipes are modeled as nodes and can can be \"submitted\" or \"reviewed\" by users which are also modeled as nodes. \n",
    "Additionally, News also have ingredients and it's relation with recipe. These will be useful for extended analysis, but we will not be using them in this example. Our primary interest here is to get started with users and their reviews to derive recommendations."
   ]
  },
  {
   "cell_type": "markdown",
   "metadata": {},
   "source": [
    "### Graph Data Profiling\n",
    "Before diving right into into analysis, it is helpful to inspect some high level statistics of graph to get a better sense of size and connectivity."
   ]
  },
  {
   "cell_type": "markdown",
   "metadata": {},
   "source": [
    "#### Aggregate Counts\n",
    "Let's start with high node and relationships counts. These functions assume [APOC](https://neo4j.com/developer/neo4j-apoc/) is installed on your Neo4j DB."
   ]
  },
  {
   "cell_type": "code",
   "execution_count": 6,
   "metadata": {},
   "outputs": [
    {
     "data": {
      "text/html": [
       "<div>\n",
       "<style scoped>\n",
       "    .dataframe tbody tr th:only-of-type {\n",
       "        vertical-align: middle;\n",
       "    }\n",
       "\n",
       "    .dataframe tbody tr th {\n",
       "        vertical-align: top;\n",
       "    }\n",
       "\n",
       "    .dataframe thead th {\n",
       "        text-align: right;\n",
       "    }\n",
       "</style>\n",
       "<table border=\"1\" class=\"dataframe\">\n",
       "  <thead>\n",
       "    <tr style=\"text-align: right;\">\n",
       "      <th></th>\n",
       "      <th>label</th>\n",
       "      <th>nodeCount</th>\n",
       "    </tr>\n",
       "  </thead>\n",
       "  <tbody>\n",
       "    <tr>\n",
       "      <th>0</th>\n",
       "      <td>User</td>\n",
       "      <td>226570</td>\n",
       "    </tr>\n",
       "    <tr>\n",
       "      <th>1</th>\n",
       "      <td>Recipe</td>\n",
       "      <td>231637</td>\n",
       "    </tr>\n",
       "  </tbody>\n",
       "</table>\n",
       "</div>"
      ],
      "text/plain": [
       "    label  nodeCount\n",
       "0    User     226570\n",
       "1  Recipe     231637"
      ]
     },
     "execution_count": 6,
     "metadata": {},
     "output_type": "execute_result"
    }
   ],
   "source": [
    "# total node counts\n",
    "gds.run_cypher( '''\n",
    "    CALL apoc.meta.stats()\n",
    "    YIELD labels AS nodeCounts\n",
    "    UNWIND keys(nodeCounts) AS label\n",
    "    WITH label, nodeCounts[label] AS nodeCount\n",
    "    WHERE label IN ['User','Recipe']\n",
    "    RETURN label, nodeCount\n",
    "''')"
   ]
  },
  {
   "cell_type": "code",
   "execution_count": 7,
   "metadata": {},
   "outputs": [
    {
     "data": {
      "text/html": [
       "<div>\n",
       "<style scoped>\n",
       "    .dataframe tbody tr th:only-of-type {\n",
       "        vertical-align: middle;\n",
       "    }\n",
       "\n",
       "    .dataframe tbody tr th {\n",
       "        vertical-align: top;\n",
       "    }\n",
       "\n",
       "    .dataframe thead th {\n",
       "        text-align: right;\n",
       "    }\n",
       "</style>\n",
       "<table border=\"1\" class=\"dataframe\">\n",
       "  <thead>\n",
       "    <tr style=\"text-align: right;\">\n",
       "      <th></th>\n",
       "      <th>type</th>\n",
       "      <th>relationshipCount</th>\n",
       "    </tr>\n",
       "  </thead>\n",
       "  <tbody>\n",
       "    <tr>\n",
       "      <th>0</th>\n",
       "      <td>SUBMITTED</td>\n",
       "      <td>213598</td>\n",
       "    </tr>\n",
       "    <tr>\n",
       "      <th>1</th>\n",
       "      <td>REVIEWED</td>\n",
       "      <td>320000</td>\n",
       "    </tr>\n",
       "  </tbody>\n",
       "</table>\n",
       "</div>"
      ],
      "text/plain": [
       "        type  relationshipCount\n",
       "0  SUBMITTED             213598\n",
       "1   REVIEWED             320000"
      ]
     },
     "execution_count": 7,
     "metadata": {},
     "output_type": "execute_result"
    }
   ],
   "source": [
    "# total relationship counts\n",
    "gds.run_cypher( '''\n",
    "    CALL apoc.meta.stats()\n",
    "    YIELD relTypesCount as relationshipCounts\n",
    "    UNWIND keys(relationshipCounts) AS type\n",
    "    WITH type, relationshipCounts[type] AS relationshipCount\n",
    "    WHERE type IN ['REVIEWED','SUBMITTED']\n",
    "    RETURN type, relationshipCount\n",
    "''')"
   ]
  },
  {
   "cell_type": "markdown",
   "metadata": {},
   "source": [
    "As far as search recommendation is concerns this is a relatively modestly sized graph, with only around 226K users, 231k news articles, and around 500k total creations/reviews."
   ]
  },
  {
   "cell_type": "markdown",
   "metadata": {},
   "source": [
    "#### Reviews Distributions\n",
    "Next, we can look at the distribution of events per user. It is helpful to check this distribution to make sure that:\n",
    "1. The graph is reasonably well connected as the quality of our upcoming recommendation technique will depend on a reasonably well connected graph.\n",
    "2. We do not have any large [supernodes](https://medium.com/neo4j/graph-modeling-all-about-super-nodes-d6ad7e11015b), i.e. nodes with very high numbers of relationships. What qualifies as a supernode varies greatly by use case. For this, I would be concerned about users with tens of thousands of clicks."
   ]
  },
  {
   "cell_type": "code",
   "execution_count": 8,
   "metadata": {},
   "outputs": [
    {
     "data": {
      "image/png": "[encoded data removed]",
      "text/plain": [
       "<Figure size 1600x500 with 2 Axes>"
      ]
     },
     "metadata": {},
     "output_type": "display_data"
    }
   ],
   "source": [
    "n_rew = 100\n",
    "\n",
    "all_interactions_df = degree_counts( 'User', 'REVIEWED|SUBMITTED', 'OUT')\n",
    "reviews_df = degree_counts('User', 'REVIEWED', 'OUT')\n",
    "\n",
    "f, axs = plt.subplots(1,2,figsize=(16,5))\n",
    "\n",
    "axs[0].bar(all_interactions_df.degree[:n_rew], all_interactions_df.degreeCount[:n_rew], width=1, log=True)\n",
    "axs[0].set_title('User Total Interactions Distribution')\n",
    "axs[0].set_ylabel('User Count')\n",
    "axs[0].set_xlabel('Number of Total Interactions')\n",
    "plt.figtext(0.4, 0.5, get_percentiles(all_interactions_df).to_string())\n",
    "\n",
    "axs[1].bar(reviews_df.degree[:n_rew], reviews_df.degreeCount[:n_rew], width=1, log=True)\n",
    "axs[1].set_title('User Reviews Distribution')\n",
    "axs[1].set_ylabel('User Count')\n",
    "axs[1].set_xlabel('Number of Reviews')\n",
    "plt.figtext(0.83, 0.5, get_percentiles(reviews_df).to_string())\n",
    "\n",
    "plt.show()"
   ]
  },
  {
   "cell_type": "markdown",
   "metadata": {},
   "source": [
    "The above shows the distributions for total interactions (`REVIEWED` and `SUBMITTED`) as well as reviews (just `REVIEWED`) by user. We see that the distributions have heavy left tails, showing that activity is not uniformly distributed among users, but rather there is relatively small fraction of users that account for a large number of interactions. This is somewhat expected. "
   ]
  },
  {
   "cell_type": "markdown",
   "metadata": {},
   "source": [
    "We can do a similar breakdown for Recipe below."
   ]
  },
  {
   "cell_type": "code",
   "execution_count": 9,
   "metadata": {},
   "outputs": [
    {
     "data": {
      "image/png": "[encoded data removed]",
      "text/plain": [
       "<Figure size 1600x500 with 2 Axes>"
      ]
     },
     "metadata": {},
     "output_type": "display_data"
    }
   ],
   "source": [
    "all_interactions_df = degree_counts('Recipe', 'REVIEWED|SUBMITTED', 'IN')\n",
    "reviews_df = degree_counts('Recipe', 'REVIEWED', 'IN')\n",
    "submit_df = degree_counts('Recipe', 'SUBMITTED', 'IN')\n",
    "\n",
    "f, axs = plt.subplots(1,2,figsize=(16,5))\n",
    "\n",
    "axs[0].bar(all_interactions_df.degree[:n_rew], all_interactions_df.degreeCount[:n_rew], width=1, log=True)\n",
    "axs[0].set_title('Recipe Total Interactions Distribution')\n",
    "axs[0].set_ylabel('Recipe Count')\n",
    "axs[0].set_xlabel('Number of Total Interactions')\n",
    "plt.figtext(0.4, 0.5, get_percentiles(all_interactions_df).to_string())\n",
    "\n",
    "\n",
    "axs[1].bar(reviews_df.degree[:n_rew], reviews_df.degreeCount[:n_rew], width=1, log=True)\n",
    "axs[1].set_title('Recipe Reviews Distribution')\n",
    "axs[1].set_ylabel('Recipe Count')\n",
    "axs[1].set_xlabel('Number of Reviews')\n",
    "plt.figtext(0.83, 0.5, get_percentiles(reviews_df).to_string())\n",
    "\n",
    "plt.show()"
   ]
  },
  {
   "cell_type": "markdown",
   "metadata": {},
   "source": [
    "## Collaborative Filtering (CF)\n",
    "\n",
    "There are many different types of recommendations systems. In this example we will apply a technique called Collaborative Filtering (CF), which is the practice of automatically predicting a user's preferences based on the actions of similar users.\n",
    "\n",
    "### User vs Item Based CF\n",
    "Roughly speaking there are two main classes of collaborative filtering\n",
    "1. User-based, which is focuses on directly calculating similarity between users based on their interaction with items\n",
    "2. Item-based, which measures the similarity between pairs of items based on correlated user activity, such as the same users liking, viewing, rating, or otherwise similarly interacting with items\n",
    "\n",
    "Our approach today will focus on the later, item-based CF. Item-based CF will be more manageable and scalable then user-based CF for many problem domains. There are a couple reasons for this. First, because there are way fewer items then users in most applied cases so there are less entities to compare. Second, and perhaps more importantly, User preferences can also be dynamic and change overtime. For example, in a Movie example, a user could be mostly interested in Sci Fi movies but go through a brief stint in Westerns, and making recommendations for Westerns to other Sci Fi fans who historically viewed the same things may not be the best thing. Often the best indicator of a user's current interest is their most recent activity, and item based filtering gives you better flexibility to find similarities based off the most recent item(s) submitted, rated, etc."
   ]
  },
  {
   "cell_type": "markdown",
   "metadata": {},
   "source": [
    "## Basic Cypher Queries for CF\n",
    "From here we could try just using Cypher to accomplish basic Collaborative Filtering. For example, take the below user and the news they clicked. You can see a mixed interest between autos, finance, US news, and a couple other categories."
   ]
  },
  {
   "cell_type": "code",
   "execution_count": 10,
   "metadata": {},
   "outputs": [
    {
     "name": "stdout",
     "output_type": "stream",
     "text": [
      "Selected user 552613 with 123 reviews\n"
     ]
    }
   ],
   "source": [
    "# Select a random user that has at least n_reviews reviews\n",
    "random_user_query = gds.run_cypher('''\n",
    "    MATCH (u:User)-[:REVIEWED]->(:Recipe)\n",
    "    WITH u, COUNT(*) AS reviewCount\n",
    "    WHERE reviewCount >= $n_reviews\n",
    "    WITH u, RAND() AS randomOrder, reviewCount\n",
    "    ORDER BY randomOrder\n",
    "    RETURN u.id AS randomUserID, reviewCount\n",
    "    LIMIT 1\n",
    "''', params={'n_reviews': 100})\n",
    "\n",
    "USER_ID = str(random_user_query['randomUserID'][0])\n",
    "\n",
    "print(f\"Selected user {USER_ID} with\", random_user_query['reviewCount'][0], 'reviews')"
   ]
  },
  {
   "cell_type": "code",
   "execution_count": 11,
   "metadata": {},
   "outputs": [
    {
     "data": {
      "text/html": [
       "<div>\n",
       "<style scoped>\n",
       "    .dataframe tbody tr th:only-of-type {\n",
       "        vertical-align: middle;\n",
       "    }\n",
       "\n",
       "    .dataframe tbody tr th {\n",
       "        vertical-align: top;\n",
       "    }\n",
       "\n",
       "    .dataframe thead th {\n",
       "        text-align: right;\n",
       "    }\n",
       "</style>\n",
       "<table border=\"1\" class=\"dataframe\">\n",
       "  <thead>\n",
       "    <tr style=\"text-align: right;\">\n",
       "      <th></th>\n",
       "      <th>recipeID</th>\n",
       "      <th>name</th>\n",
       "      <th>tags</th>\n",
       "      <th>nutrition</th>\n",
       "      <th>r.n_ingredients</th>\n",
       "      <th>impressionTime</th>\n",
       "      <th>interactionType</th>\n",
       "    </tr>\n",
       "  </thead>\n",
       "  <tbody>\n",
       "    <tr>\n",
       "      <th>0</th>\n",
       "      <td>382156</td>\n",
       "      <td>splenda strawberry blueberry smoothie</td>\n",
       "      <td>['15-minutes-or-less', 'time-to-make', 'course', 'main-ingredient', 'preparation', 'occasion', 'for-1-or-2', '5-ingredients-or-less', 'beverages', 'fruit', 'easy', 'vegan', 'vegetarian', 'smoothies', 'dietary', 'berries', 'blueberries', 'strawberries', 'taste-mood', 'sweet', 'number-of-servings', '3-steps-or-less']</td>\n",
       "      <td>[300.9, 2.0, 209.0, 0.0, 9.0, 0.0, 24.0]</td>\n",
       "      <td>4</td>\n",
       "      <td>2010-07-31</td>\n",
       "      <td>REVIEWED</td>\n",
       "    </tr>\n",
       "    <tr>\n",
       "      <th>1</th>\n",
       "      <td>377832</td>\n",
       "      <td>vera s grasshopper  adult</td>\n",
       "      <td>['15-minutes-or-less', 'time-to-make', 'course', 'main-ingredient', 'preparation', 'occasion', 'for-1-or-2', 'low-protein', '5-ingredients-or-less', 'beverages', 'eggs-dairy', 'easy', 'beginner-cook', 'cocktails', 'dietary', 'low-sodium', 'low-in-something', 'taste-mood', 'number-of-servings', '3-steps-or-less']</td>\n",
       "      <td>[689.3, 40.0, 288.0, 8.0, 18.0, 81.0, 26.0]</td>\n",
       "      <td>3</td>\n",
       "      <td>2010-07-27</td>\n",
       "      <td>REVIEWED</td>\n",
       "    </tr>\n",
       "    <tr>\n",
       "      <th>2</th>\n",
       "      <td>411621</td>\n",
       "      <td>red velvet waffles</td>\n",
       "      <td>['60-minutes-or-less', 'time-to-make', 'course', 'preparation', 'healthy', 'pancakes-and-waffles', 'breakfast', 'dietary']</td>\n",
       "      <td>[662.9, 24.0, 274.0, 30.0, 28.0, 44.0, 39.0]</td>\n",
       "      <td>10</td>\n",
       "      <td>2010-06-30</td>\n",
       "      <td>REVIEWED</td>\n",
       "    </tr>\n",
       "  </tbody>\n",
       "</table>\n",
       "</div>"
      ],
      "text/plain": [
       "  recipeID                                   name  \\\n",
       "0   382156  splenda strawberry blueberry smoothie   \n",
       "1   377832              vera s grasshopper  adult   \n",
       "2   411621                     red velvet waffles   \n",
       "\n",
       "                                                                                                                                                                                                                                                                                                                           tags  \\\n",
       "0  ['15-minutes-or-less', 'time-to-make', 'course', 'main-ingredient', 'preparation', 'occasion', 'for-1-or-2', '5-ingredients-or-less', 'beverages', 'fruit', 'easy', 'vegan', 'vegetarian', 'smoothies', 'dietary', 'berries', 'blueberries', 'strawberries', 'taste-mood', 'sweet', 'number-of-servings', '3-steps-or-less']   \n",
       "1     ['15-minutes-or-less', 'time-to-make', 'course', 'main-ingredient', 'preparation', 'occasion', 'for-1-or-2', 'low-protein', '5-ingredients-or-less', 'beverages', 'eggs-dairy', 'easy', 'beginner-cook', 'cocktails', 'dietary', 'low-sodium', 'low-in-something', 'taste-mood', 'number-of-servings', '3-steps-or-less']   \n",
       "2                                                                                                                                                                                                    ['60-minutes-or-less', 'time-to-make', 'course', 'preparation', 'healthy', 'pancakes-and-waffles', 'breakfast', 'dietary']   \n",
       "\n",
       "                                      nutrition r.n_ingredients  \\\n",
       "0      [300.9, 2.0, 209.0, 0.0, 9.0, 0.0, 24.0]               4   \n",
       "1   [689.3, 40.0, 288.0, 8.0, 18.0, 81.0, 26.0]               3   \n",
       "2  [662.9, 24.0, 274.0, 30.0, 28.0, 44.0, 39.0]              10   \n",
       "\n",
       "  impressionTime interactionType  \n",
       "0     2010-07-31        REVIEWED  \n",
       "1     2010-07-27        REVIEWED  \n",
       "2     2010-06-30        REVIEWED  "
      ]
     },
     "execution_count": 11,
     "metadata": {},
     "output_type": "execute_result"
    }
   ],
   "source": [
    "gds.run_cypher('''\n",
    "    MATCH (u:User {id: $userId})\n",
    "           -[i:SUBMITTED|REVIEWED]->(r:Recipe)\n",
    "    RETURN r.id AS recipeID,\n",
    "           r.name AS name,\n",
    "           r.tags AS tags,\n",
    "           r.nutrition AS nutrition,\n",
    "           r.n_ingredients,\n",
    "           COALESCE(i.submitted, i.date) AS impressionTime,\n",
    "           type(i) AS interactionType\n",
    "    ORDER BY interactionType, impressionTime DESC\n",
    "    LIMIT 3\n",
    "    ''', params={'userId': USER_ID})\n"
   ]
  },
  {
   "cell_type": "markdown",
   "metadata": {},
   "source": [
    "Assuming we can measure the similarity of user interests via commonly reviewed recipes, we can do a three hop query to find potential recommendations for user `27711` based on the activity of users that reviewed the same recipe as `27711` (or even reviewed their recipe high).\n",
    "\n",
    "With the below query we can get an aggregate count of the nodes we would need to traverse over to get the recommendations."
   ]
  },
  {
   "cell_type": "code",
   "execution_count": 12,
   "metadata": {},
   "outputs": [
    {
     "data": {
      "text/html": [
       "<div>\n",
       "<style scoped>\n",
       "    .dataframe tbody tr th:only-of-type {\n",
       "        vertical-align: middle;\n",
       "    }\n",
       "\n",
       "    .dataframe tbody tr th {\n",
       "        vertical-align: top;\n",
       "    }\n",
       "\n",
       "    .dataframe thead th {\n",
       "        text-align: right;\n",
       "    }\n",
       "</style>\n",
       "<table border=\"1\" class=\"dataframe\">\n",
       "  <thead>\n",
       "    <tr style=\"text-align: right;\">\n",
       "      <th></th>\n",
       "      <th>userId</th>\n",
       "      <th>reviewedRecipesCount</th>\n",
       "      <th>likeUsersCount</th>\n",
       "      <th>potentialRecommendationsCount</th>\n",
       "    </tr>\n",
       "  </thead>\n",
       "  <tbody>\n",
       "    <tr>\n",
       "      <th>0</th>\n",
       "      <td>552613</td>\n",
       "      <td>165</td>\n",
       "      <td>994</td>\n",
       "      <td>40446</td>\n",
       "    </tr>\n",
       "  </tbody>\n",
       "</table>\n",
       "</div>"
      ],
      "text/plain": [
       "   userId  reviewedRecipesCount  likeUsersCount  potentialRecommendationsCount\n",
       "0  552613                   165             994                          40446"
      ]
     },
     "execution_count": 12,
     "metadata": {},
     "output_type": "execute_result"
    }
   ],
   "source": [
    "gds.run_cypher('''\n",
    "       MATCH (u1:User {id: $userId})-[rw1:REVIEWED]->(r1:Recipe)\n",
    "       WITH u1, COLLECT(r1) AS reviewedRecipes\n",
    "       MATCH (u1)-[rw2:SUBMITTED]->(submitRecipe:Recipe)\n",
    "       WITH u1, reviewedRecipes, COLLECT(submitRecipe) AS submitRecipes\n",
    "       MATCH (u1)-[rw1]->(r1:Recipe)<-[rw2:REVIEWED]-(u2:User)-[r3:REVIEWED]->(r2:Recipe)\n",
    "       WHERE NOT (r2 IN reviewedRecipes) AND NOT (r2 IN submitRecipes)\n",
    "       RETURN u1.id AS userId,\n",
    "              COUNT(DISTINCT r1) AS reviewedRecipesCount,\n",
    "              COUNT(DISTINCT u2) AS likeUsersCount,\n",
    "              COUNT(DISTINCT r2) AS potentialRecommendationsCount\n",
    "    ''', params={'userId': USER_ID})"
   ]
  },
  {
   "cell_type": "markdown",
   "metadata": {},
   "source": [
    "While the above can work well in some cases, and while it can certainly be a massive improvement from joining SQL tables or cross-walking over document stores, notice that we get a lot of potential recommendations back (about 13K). And this is just a sample of the the total dataset.\n",
    "\n",
    "For production use cases where recommendations will need to be queried frequently, this method will have trouble scaling as the number of users, amount of content, and/or observed engagement grows. We need some other strategy to help narrow down the results. There are a few different ways we can accomplish this, but one robust and scalable way to do so is with the [Neo4j Graph Data Science (GDS) Library](https://neo4j.com/docs/graph-data-science/current/)."
   ]
  },
  {
   "cell_type": "markdown",
   "metadata": {},
   "source": [
    "### Recommendation based on favorite ingredients\n",
    "First let's make a list of excluded ingredients. Those ingredients won't be considered as they're common ingredients in recipies."
   ]
  },
  {
   "cell_type": "code",
   "execution_count": 13,
   "metadata": {},
   "outputs": [],
   "source": [
    "# Define a list of (common) ingredients to exclude\n",
    "excluded_ingr = [\n",
    "    'butter', 'salt', 'sugar', 'all-purpose flour', 'baking powder', 'baking soda', \n",
    "    'olive oil', 'pepper', 'water', 'flour', 'eggs', 'egg'\n",
    "]\n",
    "# Define how many favorite ingredients we want to take into account\n",
    "n_fav_ingr = 10\n",
    "# Define how many recipe to suggest\n",
    "n_sugestions = 5"
   ]
  },
  {
   "cell_type": "code",
   "execution_count": 14,
   "metadata": {},
   "outputs": [
    {
     "name": "stdout",
     "output_type": "stream",
     "text": [
      "\n",
      "Query executed in 0.51 seconds\n"
     ]
    },
    {
     "data": {
      "text/html": [
       "<div>\n",
       "<style scoped>\n",
       "    .dataframe tbody tr th:only-of-type {\n",
       "        vertical-align: middle;\n",
       "    }\n",
       "\n",
       "    .dataframe tbody tr th {\n",
       "        vertical-align: top;\n",
       "    }\n",
       "\n",
       "    .dataframe thead th {\n",
       "        text-align: right;\n",
       "    }\n",
       "</style>\n",
       "<table border=\"1\" class=\"dataframe\">\n",
       "  <thead>\n",
       "    <tr style=\"text-align: right;\">\n",
       "      <th></th>\n",
       "      <th>favoriteIngredient</th>\n",
       "      <th>reviewCount</th>\n",
       "    </tr>\n",
       "  </thead>\n",
       "  <tbody>\n",
       "    <tr>\n",
       "      <th>0</th>\n",
       "      <td>onion</td>\n",
       "      <td>12</td>\n",
       "    </tr>\n",
       "    <tr>\n",
       "      <th>1</th>\n",
       "      <td>salt and pepper</td>\n",
       "      <td>8</td>\n",
       "    </tr>\n",
       "    <tr>\n",
       "      <th>2</th>\n",
       "      <td>garlic clove</td>\n",
       "      <td>7</td>\n",
       "    </tr>\n",
       "    <tr>\n",
       "      <th>3</th>\n",
       "      <td>vanilla</td>\n",
       "      <td>5</td>\n",
       "    </tr>\n",
       "    <tr>\n",
       "      <th>4</th>\n",
       "      <td>garlic cloves</td>\n",
       "      <td>4</td>\n",
       "    </tr>\n",
       "    <tr>\n",
       "      <th>5</th>\n",
       "      <td>sour cream</td>\n",
       "      <td>4</td>\n",
       "    </tr>\n",
       "    <tr>\n",
       "      <th>6</th>\n",
       "      <td>honey</td>\n",
       "      <td>4</td>\n",
       "    </tr>\n",
       "    <tr>\n",
       "      <th>7</th>\n",
       "      <td>brown sugar</td>\n",
       "      <td>4</td>\n",
       "    </tr>\n",
       "    <tr>\n",
       "      <th>8</th>\n",
       "      <td>parmesan cheese</td>\n",
       "      <td>3</td>\n",
       "    </tr>\n",
       "    <tr>\n",
       "      <th>9</th>\n",
       "      <td>lemon juice</td>\n",
       "      <td>3</td>\n",
       "    </tr>\n",
       "  </tbody>\n",
       "</table>\n",
       "</div>"
      ],
      "text/plain": [
       "  favoriteIngredient  reviewCount\n",
       "0              onion           12\n",
       "1    salt and pepper            8\n",
       "2       garlic clove            7\n",
       "3            vanilla            5\n",
       "4      garlic cloves            4\n",
       "5         sour cream            4\n",
       "6              honey            4\n",
       "7        brown sugar            4\n",
       "8    parmesan cheese            3\n",
       "9        lemon juice            3"
      ]
     },
     "execution_count": 14,
     "metadata": {},
     "output_type": "execute_result"
    }
   ],
   "source": [
    "start_time = time.time()\n",
    "\n",
    "# Compute top 5 user ingredients\n",
    "favIngr = gds.run_cypher('''\n",
    "    MATCH (u:User {id: $userId})-[:REVIEWED {rating: 5}]->(r:Recipe)-[:WITH_INGREDIENTS]->(i:Ingredient)\n",
    "    WHERE NOT i.name IN $excluded_ingr\n",
    "    WITH i, COUNT(r) AS reviewCount, COLLECT(r.id) as reviewedRecipes\n",
    "    ORDER BY reviewCount DESC\n",
    "    LIMIT $limit\n",
    "    RETURN i.name AS favoriteIngredient, reviewCount, reviewedRecipes\n",
    "    ''', params={'userId': USER_ID, 'limit': n_fav_ingr, \n",
    "                 'excluded_ingr': excluded_ingr})\n",
    "\n",
    "end_time = time.time()\n",
    "\n",
    "# Save data\n",
    "favorite_ingredients = list(favIngr['favoriteIngredient'])\n",
    "reviewed_recipes = list(set(item for sublist in favIngr['reviewedRecipes'] for item in sublist))\n",
    "\n",
    "# Print execution time\n",
    "print(f'\\nQuery executed in {end_time-start_time:.2f} seconds')\n",
    "\n",
    "# Show result\n",
    "favIngr[['favoriteIngredient', 'reviewCount']]"
   ]
  },
  {
   "cell_type": "code",
   "execution_count": 15,
   "metadata": {},
   "outputs": [
    {
     "name": "stdout",
     "output_type": "stream",
     "text": [
      "\n",
      "Query executed in 4.95 seconds\n"
     ]
    },
    {
     "data": {
      "text/html": [
       "<div>\n",
       "<style scoped>\n",
       "    .dataframe tbody tr th:only-of-type {\n",
       "        vertical-align: middle;\n",
       "    }\n",
       "\n",
       "    .dataframe tbody tr th {\n",
       "        vertical-align: top;\n",
       "    }\n",
       "\n",
       "    .dataframe thead th {\n",
       "        text-align: right;\n",
       "    }\n",
       "</style>\n",
       "<table border=\"1\" class=\"dataframe\">\n",
       "  <thead>\n",
       "    <tr style=\"text-align: right;\">\n",
       "      <th></th>\n",
       "      <th>RecipeID</th>\n",
       "      <th>RecipeName</th>\n",
       "      <th>recipeIngredients</th>\n",
       "      <th>MatchCount</th>\n",
       "    </tr>\n",
       "  </thead>\n",
       "  <tbody>\n",
       "    <tr>\n",
       "      <th>0</th>\n",
       "      <td>195217</td>\n",
       "      <td>shredded pork  pulled pork  bbq</td>\n",
       "      <td>[cayenne, mustard powder, brown sugar, worcestershire sauce, lemon juice, white vinegar, pork roast, crushed red pepper flakes, liquid smoke, butter, onion, cider vinegar, salt and pepper, honey, mustard seeds, garlic cloves, white sugar]</td>\n",
       "      <td>6</td>\n",
       "    </tr>\n",
       "    <tr>\n",
       "      <th>1</th>\n",
       "      <td>157256</td>\n",
       "      <td>lentil tacos with avocado sour cream</td>\n",
       "      <td>[dry mustard, corn tortillas, peanuts, dry oregano, lemon juice, dry lentils, garlic clove, egg, chili powder, dried parsley, flour, lime, juice of, onion, ground cumin, salt, water, sour cream, avocado, green bell pepper, garlic cloves, salt and pepper, rapini]</td>\n",
       "      <td>6</td>\n",
       "    </tr>\n",
       "    <tr>\n",
       "      <th>2</th>\n",
       "      <td>213989</td>\n",
       "      <td>basic vinaigrette dressing with 8 variations</td>\n",
       "      <td>[crushed red pepper flakes, garlic, vinaigrette dressing, olive oil, oil, vinegar, parmesan cheese, bacon, lemon juice, oregano, brown sugar, fresh ground black pepper, balsamic vinegar, mayonnaise, black pepper, italian seasoning, onion, salt, celery seed, honey, garlic clove, vinaigrette, prepared mustard]</td>\n",
       "      <td>6</td>\n",
       "    </tr>\n",
       "    <tr>\n",
       "      <th>3</th>\n",
       "      <td>469362</td>\n",
       "      <td>beef and spinach pasta bake</td>\n",
       "      <td>[eggs, cooking spray, pasta, parmesan cheese, garlic cloves, onion, brown sugar, 95% lean ground beef, lean bacon, dried basil, red chili pepper flakes, tomatoes, mixed spice, white wine, salt and pepper, frozen spinach, 2% low-fat milk]</td>\n",
       "      <td>5</td>\n",
       "    </tr>\n",
       "    <tr>\n",
       "      <th>4</th>\n",
       "      <td>294735</td>\n",
       "      <td>barbecue beef brisket</td>\n",
       "      <td>[honey, salt and pepper, worcestershire sauce, red wine vinegar, garlic clove, beef brisket, chili powder, water, lemon, salt, liquid smoke, onion, tomato sauce, brown sugar]</td>\n",
       "      <td>5</td>\n",
       "    </tr>\n",
       "  </tbody>\n",
       "</table>\n",
       "</div>"
      ],
      "text/plain": [
       "  RecipeID                                    RecipeName  \\\n",
       "0   195217               shredded pork  pulled pork  bbq   \n",
       "1   157256          lentil tacos with avocado sour cream   \n",
       "2   213989  basic vinaigrette dressing with 8 variations   \n",
       "3   469362                   beef and spinach pasta bake   \n",
       "4   294735                         barbecue beef brisket   \n",
       "\n",
       "                                                                                                                                                                                                                                                                                                       recipeIngredients  \\\n",
       "0                                                                         [cayenne, mustard powder, brown sugar, worcestershire sauce, lemon juice, white vinegar, pork roast, crushed red pepper flakes, liquid smoke, butter, onion, cider vinegar, salt and pepper, honey, mustard seeds, garlic cloves, white sugar]   \n",
       "1                                                 [dry mustard, corn tortillas, peanuts, dry oregano, lemon juice, dry lentils, garlic clove, egg, chili powder, dried parsley, flour, lime, juice of, onion, ground cumin, salt, water, sour cream, avocado, green bell pepper, garlic cloves, salt and pepper, rapini]   \n",
       "2  [crushed red pepper flakes, garlic, vinaigrette dressing, olive oil, oil, vinegar, parmesan cheese, bacon, lemon juice, oregano, brown sugar, fresh ground black pepper, balsamic vinegar, mayonnaise, black pepper, italian seasoning, onion, salt, celery seed, honey, garlic clove, vinaigrette, prepared mustard]   \n",
       "3                                                                          [eggs, cooking spray, pasta, parmesan cheese, garlic cloves, onion, brown sugar, 95% lean ground beef, lean bacon, dried basil, red chili pepper flakes, tomatoes, mixed spice, white wine, salt and pepper, frozen spinach, 2% low-fat milk]   \n",
       "4                                                                                                                                         [honey, salt and pepper, worcestershire sauce, red wine vinegar, garlic clove, beef brisket, chili powder, water, lemon, salt, liquid smoke, onion, tomato sauce, brown sugar]   \n",
       "\n",
       "   MatchCount  \n",
       "0           6  \n",
       "1           6  \n",
       "2           6  \n",
       "3           5  \n",
       "4           5  "
      ]
     },
     "execution_count": 15,
     "metadata": {},
     "output_type": "execute_result"
    }
   ],
   "source": [
    "start_time = time.time()\n",
    "\n",
    "# Suggest recipes based on user's favorites ingredients\n",
    "favIngrRec = gds.run_cypher('''\n",
    "    MATCH (r:Recipe)-[:WITH_INGREDIENTS]->(i:Ingredient)\n",
    "    WHERE NOT r.id IN $reviewedRecipes\n",
    "    WITH r, COLLECT(i.name) AS recipeIngredients\n",
    "    WHERE ANY(ingredient IN recipeIngredients WHERE ingredient IN $favIngreds)\n",
    "    RETURN r.id as RecipeID, r.name AS RecipeName, recipeIngredients, SIZE([ingredient IN recipeIngredients WHERE ingredient IN $favIngreds]) AS MatchCount\n",
    "    ORDER BY MatchCount DESC\n",
    "    LIMIT $limit\n",
    "    ''', params={\n",
    "        'limit': n_sugestions, \n",
    "        'reviewedRecipes': reviewed_recipes,\n",
    "        'favIngreds': favorite_ingredients,\n",
    "        'excluded_ingr': excluded_ingr})\n",
    "\n",
    "end_time = time.time()\n",
    "\n",
    "# Print execution time\n",
    "print(f'\\nQuery executed in {end_time-start_time:.2f} seconds')\n",
    "\n",
    "# Save suggested recipes\n",
    "suggestedRec = list(favIngrRec['RecipeID'])\n",
    "\n",
    "# Show result\n",
    "favIngrRec"
   ]
  },
  {
   "cell_type": "code",
   "execution_count": 16,
   "metadata": {},
   "outputs": [
    {
     "name": "stdout",
     "output_type": "stream",
     "text": [
      "\n",
      "Query executed in 4.38 seconds\n"
     ]
    },
    {
     "data": {
      "text/html": [
       "<div>\n",
       "<style scoped>\n",
       "    .dataframe tbody tr th:only-of-type {\n",
       "        vertical-align: middle;\n",
       "    }\n",
       "\n",
       "    .dataframe tbody tr th {\n",
       "        vertical-align: top;\n",
       "    }\n",
       "\n",
       "    .dataframe thead th {\n",
       "        text-align: right;\n",
       "    }\n",
       "</style>\n",
       "<table border=\"1\" class=\"dataframe\">\n",
       "  <thead>\n",
       "    <tr style=\"text-align: right;\">\n",
       "      <th></th>\n",
       "      <th>RecipeID</th>\n",
       "      <th>RecipeName</th>\n",
       "      <th>recipeIngredients</th>\n",
       "      <th>matchCount</th>\n",
       "      <th>prepTime</th>\n",
       "    </tr>\n",
       "  </thead>\n",
       "  <tbody>\n",
       "    <tr>\n",
       "      <th>0</th>\n",
       "      <td>213989</td>\n",
       "      <td>basic vinaigrette dressing with 8 variations</td>\n",
       "      <td>[crushed red pepper flakes, garlic, vinaigrette dressing, olive oil, oil, vinegar, parmesan cheese, bacon, lemon juice, oregano, brown sugar, fresh ground black pepper, balsamic vinegar, mayonnaise, black pepper, italian seasoning, onion, salt, celery seed, honey, garlic clove, vinaigrette, prepared mustard]</td>\n",
       "      <td>6</td>\n",
       "      <td>15</td>\n",
       "    </tr>\n",
       "    <tr>\n",
       "      <th>1</th>\n",
       "      <td>157256</td>\n",
       "      <td>lentil tacos with avocado sour cream</td>\n",
       "      <td>[dry mustard, corn tortillas, peanuts, dry oregano, lemon juice, dry lentils, garlic clove, egg, chili powder, dried parsley, flour, lime, juice of, onion, ground cumin, salt, water, sour cream, avocado, green bell pepper, garlic cloves, salt and pepper, rapini]</td>\n",
       "      <td>6</td>\n",
       "      <td>130</td>\n",
       "    </tr>\n",
       "    <tr>\n",
       "      <th>2</th>\n",
       "      <td>195217</td>\n",
       "      <td>shredded pork  pulled pork  bbq</td>\n",
       "      <td>[cayenne, mustard powder, brown sugar, worcestershire sauce, lemon juice, white vinegar, pork roast, crushed red pepper flakes, liquid smoke, butter, onion, cider vinegar, salt and pepper, honey, mustard seeds, garlic cloves, white sugar]</td>\n",
       "      <td>6</td>\n",
       "      <td>195</td>\n",
       "    </tr>\n",
       "    <tr>\n",
       "      <th>3</th>\n",
       "      <td>267725</td>\n",
       "      <td>clearwater city caesar salad</td>\n",
       "      <td>[dijon mustard, wine vinegar, garlic-flavored croutons, egg yolks, cooked bacon, olive oil, garlic cloves, worcestershire sauce, romaine lettuce, salt and pepper, parmesan cheese, anchovy fillets, lemon juice, garlic clove]</td>\n",
       "      <td>5</td>\n",
       "      <td>10</td>\n",
       "    </tr>\n",
       "    <tr>\n",
       "      <th>4</th>\n",
       "      <td>254531</td>\n",
       "      <td>tagine of chicken   sweet potato</td>\n",
       "      <td>[salt &amp; pepper, basmati rice, coriander, lemon juice, ras el hanout spice mix, garlic cloves, sweet potatoes, chicken thigh, salt and pepper, greek yogurt, gingerroot, onion, olive oil, honey]</td>\n",
       "      <td>5</td>\n",
       "      <td>16</td>\n",
       "    </tr>\n",
       "  </tbody>\n",
       "</table>\n",
       "</div>"
      ],
      "text/plain": [
       "  RecipeID                                    RecipeName  \\\n",
       "0   213989  basic vinaigrette dressing with 8 variations   \n",
       "1   157256          lentil tacos with avocado sour cream   \n",
       "2   195217               shredded pork  pulled pork  bbq   \n",
       "3   267725                  clearwater city caesar salad   \n",
       "4   254531              tagine of chicken   sweet potato   \n",
       "\n",
       "                                                                                                                                                                                                                                                                                                       recipeIngredients  \\\n",
       "0  [crushed red pepper flakes, garlic, vinaigrette dressing, olive oil, oil, vinegar, parmesan cheese, bacon, lemon juice, oregano, brown sugar, fresh ground black pepper, balsamic vinegar, mayonnaise, black pepper, italian seasoning, onion, salt, celery seed, honey, garlic clove, vinaigrette, prepared mustard]   \n",
       "1                                                 [dry mustard, corn tortillas, peanuts, dry oregano, lemon juice, dry lentils, garlic clove, egg, chili powder, dried parsley, flour, lime, juice of, onion, ground cumin, salt, water, sour cream, avocado, green bell pepper, garlic cloves, salt and pepper, rapini]   \n",
       "2                                                                         [cayenne, mustard powder, brown sugar, worcestershire sauce, lemon juice, white vinegar, pork roast, crushed red pepper flakes, liquid smoke, butter, onion, cider vinegar, salt and pepper, honey, mustard seeds, garlic cloves, white sugar]   \n",
       "3                                                                                        [dijon mustard, wine vinegar, garlic-flavored croutons, egg yolks, cooked bacon, olive oil, garlic cloves, worcestershire sauce, romaine lettuce, salt and pepper, parmesan cheese, anchovy fillets, lemon juice, garlic clove]   \n",
       "4                                                                                                                       [salt & pepper, basmati rice, coriander, lemon juice, ras el hanout spice mix, garlic cloves, sweet potatoes, chicken thigh, salt and pepper, greek yogurt, gingerroot, onion, olive oil, honey]   \n",
       "\n",
       "   matchCount prepTime  \n",
       "0           6       15  \n",
       "1           6      130  \n",
       "2           6      195  \n",
       "3           5       10  \n",
       "4           5       16  "
      ]
     },
     "execution_count": 16,
     "metadata": {},
     "output_type": "execute_result"
    }
   ],
   "source": [
    "start_time = time.time()\n",
    "\n",
    "# Suggest low preparation time recipes\n",
    "lowTime = gds.run_cypher('''\n",
    "    MATCH (r:Recipe)-[:WITH_INGREDIENTS]->(i:Ingredient)\n",
    "    WHERE NOT r.id IN $reviewedRecipes\n",
    "    WITH r, COLLECT(i.name) AS recipeIngredients\n",
    "    WHERE ANY(ingredient IN recipeIngredients WHERE ingredient IN $favIngreds)\n",
    "    RETURN r.id as RecipeID, r.name AS RecipeName, recipeIngredients, SIZE([ingredient IN recipeIngredients WHERE ingredient IN $favIngreds]) AS matchCount, r.minutes as prepTime\n",
    "    ORDER BY matchCount DESC, toInteger(prepTime)\n",
    "    LIMIT $limit\n",
    "    ''', params={\n",
    "        'limit': n_sugestions, \n",
    "        'reviewedRecipes': reviewed_recipes,\n",
    "        'favIngreds': favorite_ingredients,\n",
    "        'excluded_ingr': excluded_ingr})\n",
    "\n",
    "end_time = time.time()\n",
    "\n",
    "# Print execution time\n",
    "print(f'\\nQuery executed in {end_time-start_time:.2f} seconds')\n",
    "\n",
    "# Show result\n",
    "lowTime"
   ]
  },
  {
   "cell_type": "code",
   "execution_count": 21,
   "metadata": {},
   "outputs": [
    {
     "name": "stdout",
     "output_type": "stream",
     "text": [
      "\n",
      "Query executed in 7.87 seconds\n"
     ]
    },
    {
     "data": {
      "text/html": [
       "<div>\n",
       "<style scoped>\n",
       "    .dataframe tbody tr th:only-of-type {\n",
       "        vertical-align: middle;\n",
       "    }\n",
       "\n",
       "    .dataframe tbody tr th {\n",
       "        vertical-align: top;\n",
       "    }\n",
       "\n",
       "    .dataframe thead th {\n",
       "        text-align: right;\n",
       "    }\n",
       "</style>\n",
       "<table border=\"1\" class=\"dataframe\">\n",
       "  <thead>\n",
       "    <tr style=\"text-align: right;\">\n",
       "      <th></th>\n",
       "      <th>RecipeID</th>\n",
       "      <th>RecipeName</th>\n",
       "      <th>recipeIngredients</th>\n",
       "      <th>matchCount</th>\n",
       "      <th>nutrition</th>\n",
       "    </tr>\n",
       "  </thead>\n",
       "  <tbody>\n",
       "    <tr>\n",
       "      <th>0</th>\n",
       "      <td>128416</td>\n",
       "      <td>authentic italian meatballs polpette</td>\n",
       "      <td>[onion, eggs, ground beef, salt and pepper, sweet basil, oregano, spaghetti sauce, ground pork, breadcrumbs, parmesan cheese, garlic clove]</td>\n",
       "      <td>4</td>\n",
       "      <td>[305.8, 28.0, 3.0, 8.0, 48.0, 35.0, 2.0]</td>\n",
       "    </tr>\n",
       "    <tr>\n",
       "      <th>1</th>\n",
       "      <td>252884</td>\n",
       "      <td>spinach potato bake</td>\n",
       "      <td>[garlic cloves, ground beef, mushroom, onion, milk, russet potato, ground nutmeg, cheddar cheese, sour cream, frozen chopped spinach]</td>\n",
       "      <td>3</td>\n",
       "      <td>[305.9, 26.0, 7.0, 6.0, 41.0, 39.0, 5.0]</td>\n",
       "    </tr>\n",
       "    <tr>\n",
       "      <th>2</th>\n",
       "      <td>365894</td>\n",
       "      <td>fettuccine with asparagus and shrimp</td>\n",
       "      <td>[olive oil, salt and pepper, fettuccine pasta, shrimp, asparagus, parmesan cheese, fresh parsley, lemons, garlic cloves]</td>\n",
       "      <td>3</td>\n",
       "      <td>[366.7, 17.0, 4.0, 9.0, 39.0, 13.0, 16.0]</td>\n",
       "    </tr>\n",
       "    <tr>\n",
       "      <th>3</th>\n",
       "      <td>330474</td>\n",
       "      <td>shrimp   clam chowder</td>\n",
       "      <td>[flour, onion, milk, white wine, bay leaf, canned clams, paprika, garlic cloves, parsley, half-and-half, salt and pepper, shrimp, butter, potatoes, mixed mushrooms]</td>\n",
       "      <td>3</td>\n",
       "      <td>[416.4, 29.0, 8.0, 8.0, 45.0, 56.0, 11.0]</td>\n",
       "    </tr>\n",
       "    <tr>\n",
       "      <th>4</th>\n",
       "      <td>354406</td>\n",
       "      <td>white bean  parsley and garlic mash</td>\n",
       "      <td>[vegetable stock, garlic cloves, olive oil, salt and pepper, cannellini beans, flat leaf parsley, onion]</td>\n",
       "      <td>3</td>\n",
       "      <td>[344.5, 11.0, 5.0, 0.0, 39.0, 5.0, 17.0]</td>\n",
       "    </tr>\n",
       "  </tbody>\n",
       "</table>\n",
       "</div>"
      ],
      "text/plain": [
       "  RecipeID                            RecipeName  \\\n",
       "0   128416  authentic italian meatballs polpette   \n",
       "1   252884                   spinach potato bake   \n",
       "2   365894  fettuccine with asparagus and shrimp   \n",
       "3   330474                 shrimp   clam chowder   \n",
       "4   354406   white bean  parsley and garlic mash   \n",
       "\n",
       "                                                                                                                                                      recipeIngredients  \\\n",
       "0                           [onion, eggs, ground beef, salt and pepper, sweet basil, oregano, spaghetti sauce, ground pork, breadcrumbs, parmesan cheese, garlic clove]   \n",
       "1                                 [garlic cloves, ground beef, mushroom, onion, milk, russet potato, ground nutmeg, cheddar cheese, sour cream, frozen chopped spinach]   \n",
       "2                                              [olive oil, salt and pepper, fettuccine pasta, shrimp, asparagus, parmesan cheese, fresh parsley, lemons, garlic cloves]   \n",
       "3  [flour, onion, milk, white wine, bay leaf, canned clams, paprika, garlic cloves, parsley, half-and-half, salt and pepper, shrimp, butter, potatoes, mixed mushrooms]   \n",
       "4                                                              [vegetable stock, garlic cloves, olive oil, salt and pepper, cannellini beans, flat leaf parsley, onion]   \n",
       "\n",
       "   matchCount                                  nutrition  \n",
       "0           4   [305.8, 28.0, 3.0, 8.0, 48.0, 35.0, 2.0]  \n",
       "1           3   [305.9, 26.0, 7.0, 6.0, 41.0, 39.0, 5.0]  \n",
       "2           3  [366.7, 17.0, 4.0, 9.0, 39.0, 13.0, 16.0]  \n",
       "3           3  [416.4, 29.0, 8.0, 8.0, 45.0, 56.0, 11.0]  \n",
       "4           3   [344.5, 11.0, 5.0, 0.0, 39.0, 5.0, 17.0]  "
      ]
     },
     "execution_count": 21,
     "metadata": {},
     "output_type": "execute_result"
    }
   ],
   "source": [
    "start_time = time.time()\n",
    "\n",
    "# Suggest 'fit' recipe\n",
    "fitRec = gds.run_cypher('''\n",
    "    MATCH (r:Recipe)-[:WITH_INGREDIENTS]->(i:Ingredient)\n",
    "    WHERE NOT r.id IN $reviewedRecipes\n",
    "    WITH r, COLLECT(i.name) AS recipeIngredients, apoc.convert.fromJsonList(r.nutrition) AS nutritionList\n",
    "    WHERE \n",
    "        ANY(ingredient IN recipeIngredients WHERE ingredient IN $favIngreds) \n",
    "        AND nutritionList[0] > 300 AND nutritionList[0] < 600     // CALORIES\n",
    "        AND nutritionList[1] > 10  AND nutritionList[1] < 30      // TOTAL FAT (PDV)\n",
    "        AND nutritionList[2] < 10                                 // SUGAR (PVD)\n",
    "        AND nutritionList[3] < 10                                 // SODIUM (PDV)\n",
    "        AND nutritionList[4] > 30  AND nutritionList[4] < 50      // PROTEIN\n",
    "    RETURN r.id as RecipeID, r.name AS RecipeName, recipeIngredients, SIZE([ingredient IN recipeIngredients WHERE ingredient IN $favIngreds]) AS matchCount, r.nutrition as nutrition\n",
    "    ORDER BY matchCount DESC\n",
    "    LIMIT $limit\n",
    "    ''', params={\n",
    "        'limit': n_sugestions, \n",
    "        'reviewedRecipes': reviewed_recipes,\n",
    "        'favIngreds': favorite_ingredients,\n",
    "        'excluded_ingr': excluded_ingr})\n",
    "\n",
    "end_time = time.time()\n",
    "\n",
    "# Print execution time\n",
    "print(f'\\nQuery executed in {end_time-start_time:.2f} seconds')\n",
    "\n",
    "# Show result\n",
    "fitRec"
   ]
  }
 ],
 "metadata": {
  "kernelspec": {
   "display_name": "Python 3",
   "language": "python",
   "name": "python3"
  },
  "language_info": {
   "codemirror_mode": {
    "name": "ipython",
    "version": 3
   },
   "file_extension": ".py",
   "mimetype": "text/x-python",
   "name": "python",
   "nbconvert_exporter": "python",
   "pygments_lexer": "ipython3",
   "version": "3.8.10"
  },
  "orig_nbformat": 4
 },
 "nbformat": 4,
 "nbformat_minor": 2
}
