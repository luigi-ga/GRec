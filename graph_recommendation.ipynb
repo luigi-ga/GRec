{
 "cells": [
  {
   "cell_type": "markdown",
   "metadata": {},
   "source": [
    "# Exploring Practical Recommendation Systems In Neo4j\n",
    "### __An Example With Collaborative Leveraging Graph Data Science and Machgine Learning__\n",
    "\n",
    "In this notebook we explore how to get started with practical & scalable recommendation in graph. We will walk through a fundamental example with recipe recommendation on dataset containing 231k recipes and around 226K users. We will leverage Neo4j and the Graph Data Science (GDS) library to quickly predict similar recipes based on user preferences and enable sub-second, rank-ordered, recommendation queries personalized to each user.\n",
    "\n",
    "This notebook is structured as follows: \n",
    "\n",
    "1. Setup some configurations and helper functions to allow us to work with the graph. \n",
    "2. Go over the source dataset and graph we will be using along with how to query basic profiling statistics to help us understand the graph and better prepare for analysis. \n",
    "3. Briefly introduce a technique called Collaborative filtering (CF) which will be our mechanism for recommendation in this notebook\n",
    "4. Explore Applying the Cypher query language for basic CF\n",
    "5. Scaling CF with the Graph Data Science (GDS) Library, leveraging Node embeddings and an ML technique called K-Nearest Neighbor (KNN)."
   ]
  },
  {
   "cell_type": "code",
   "execution_count": 20,
   "metadata": {},
   "outputs": [],
   "source": [
    "from graphdatascience import GraphDataScience\n",
    "import pandas as pd\n",
    "import configparser\n",
    "import os\n",
    "import numpy as np\n",
    "import importlib\n",
    "from tqdm.notebook import tqdm\n",
    "\n",
    "# Set pandas options\n",
    "pd.set_option('display.width', 0)\n",
    "pd.set_option('display.max_colwidth', 500)\n",
    "pd.set_option('display.max_rows', 12)"
   ]
  },
  {
   "cell_type": "code",
   "execution_count": 21,
   "metadata": {},
   "outputs": [
    {
     "name": "stdout",
     "output_type": "stream",
     "text": [
      "Modules reloaded\n"
     ]
    }
   ],
   "source": [
    "# Import custom modules\n",
    "from src import queries, utils\n",
    "\n",
    "# Reload modules\n",
    "importlib.reload(queries)\n",
    "importlib.reload(utils)\n",
    "\n",
    "print('Modules reloaded')"
   ]
  },
  {
   "cell_type": "markdown",
   "metadata": {},
   "source": [
    "### <a id=\"N4jSettings\">Neo4j Settings</a>\n",
    "\n",
    "The `NEO4J_PROPERTIES_FILE` is an ini configuration file for Neo4j properties so this notebook can connect to\n",
    "your Neo4j instance and load data. The ini file should be formatted as follows\n",
    "```\n",
    "[NEO4J]\n",
    "PASSWORD=<password>\n",
    "USERNAME=<database name, is 'neo4j' by default>\n",
    "HOST=<host uri>\n",
    "\n",
    "```\n",
    "\n",
    "Set `NEO4J_PROPERTIES_FILE` to None or any non-existent location to use the below defaults\n",
    "```\n",
    "HOST = 'neo4j://localhost'\n",
    "USERNAME = 'neo4j'\n",
    "PASSWORD = 'password'\n",
    "```"
   ]
  },
  {
   "cell_type": "code",
   "execution_count": 22,
   "metadata": {},
   "outputs": [],
   "source": [
    "NEO4J_PROPERTIES_FILE = None #'/path/to/your/file.ini'\n",
    "# Replace with your Neo4j import directory\n",
    "NEO4J_IMPORT_DIR = '/home/luigi/.config/Neo4j Desktop/Application/relate-data/dbmss/dbms-c5c50094-d809-4eeb-84f4-745becc1cd52/import'"
   ]
  },
  {
   "cell_type": "code",
   "execution_count": 23,
   "metadata": {},
   "outputs": [
    {
     "name": "stdout",
     "output_type": "stream",
     "text": [
      "Could not find database properties file, using defaults\n"
     ]
    }
   ],
   "source": [
    "# Using an ini file for credentials, otherwise providing defaults\n",
    "HOST = 'bolt://localhost:7687'\n",
    "DATABASE = 'neo4j'\n",
    "PASSWORD = 'LU?vVtYf8])9;^z'\n",
    "\n",
    "if NEO4J_PROPERTIES_FILE is not None and os.path.exists(NEO4J_PROPERTIES_FILE):\n",
    "    config = configparser.RawConfigParser()\n",
    "    config.read(NEO4J_PROPERTIES_FILE)\n",
    "    HOST = config['NEO4J']['HOST']\n",
    "    USERNAME = config['NEO4J']['USERNAME']\n",
    "    PASSWORD = config['NEO4J']['PASSWORD']\n",
    "    print('Using custom database properties')\n",
    "else:\n",
    "    print('Could not find database properties file, using defaults')"
   ]
  },
  {
   "cell_type": "code",
   "execution_count": 24,
   "metadata": {},
   "outputs": [],
   "source": [
    "# Create a connection to the database\n",
    "gds = GraphDataScience(HOST, auth=(DATABASE, PASSWORD))"
   ]
  },
  {
   "cell_type": "markdown",
   "metadata": {},
   "source": [
    "```\n",
    "//visualize schema in Neo4j Browser\n",
    "neo4j$ CALL db.schema.visualization();\n",
    "```\n",
    "![image](./image/nodes.png)"
   ]
  },
  {
   "cell_type": "markdown",
   "metadata": {},
   "source": [
    "We see that recipes are modeled as nodes and can can be \"submitted\" or \"reviewed\" by users which are also modeled as nodes. \n",
    "Additionally, News also have ingredients and it's relation with recipe. These will be useful for extended analysis, but we will not be using them in this example. Our primary interest here is to get started with users and their reviews to derive recommendations."
   ]
  },
  {
   "cell_type": "markdown",
   "metadata": {},
   "source": [
    "### <a id=\"DataProfiling\">Graph Data Profiling</a>\n",
    "\n",
    "Before diving right into into analysis, it is helpful to inspect some high level statistics of graph to get a better sense of size and connectivity."
   ]
  },
  {
   "cell_type": "markdown",
   "metadata": {},
   "source": [
    "#### Aggregate Counts\n",
    "Let's start with high node and relationships counts. These functions assume [APOC](https://neo4j.com/developer/neo4j-apoc/) is installed on your Neo4j DB."
   ]
  },
  {
   "cell_type": "code",
   "execution_count": 25,
   "metadata": {},
   "outputs": [
    {
     "name": "stdout",
     "output_type": "stream",
     "text": [
      "\n",
      "Query executed in 0.01 seconds\n"
     ]
    },
    {
     "data": {
      "text/html": [
       "<div>\n",
       "<style scoped>\n",
       "    .dataframe tbody tr th:only-of-type {\n",
       "        vertical-align: middle;\n",
       "    }\n",
       "\n",
       "    .dataframe tbody tr th {\n",
       "        vertical-align: top;\n",
       "    }\n",
       "\n",
       "    .dataframe thead th {\n",
       "        text-align: right;\n",
       "    }\n",
       "</style>\n",
       "<table border=\"1\" class=\"dataframe\">\n",
       "  <thead>\n",
       "    <tr style=\"text-align: right;\">\n",
       "      <th></th>\n",
       "      <th>label</th>\n",
       "      <th>nodeCount</th>\n",
       "    </tr>\n",
       "  </thead>\n",
       "  <tbody>\n",
       "    <tr>\n",
       "      <th>0</th>\n",
       "      <td>User</td>\n",
       "      <td>1382</td>\n",
       "    </tr>\n",
       "    <tr>\n",
       "      <th>1</th>\n",
       "      <td>Recipe</td>\n",
       "      <td>231637</td>\n",
       "    </tr>\n",
       "  </tbody>\n",
       "</table>\n",
       "</div>"
      ],
      "text/plain": [
       "    label  nodeCount\n",
       "0    User       1382\n",
       "1  Recipe     231637"
      ]
     },
     "execution_count": 25,
     "metadata": {},
     "output_type": "execute_result"
    }
   ],
   "source": [
    "# Total node count\n",
    "queries.get_node_counts(gds)"
   ]
  },
  {
   "cell_type": "code",
   "execution_count": 26,
   "metadata": {},
   "outputs": [
    {
     "name": "stdout",
     "output_type": "stream",
     "text": [
      "\n",
      "Query executed in 0.01 seconds\n"
     ]
    },
    {
     "data": {
      "text/html": [
       "<div>\n",
       "<style scoped>\n",
       "    .dataframe tbody tr th:only-of-type {\n",
       "        vertical-align: middle;\n",
       "    }\n",
       "\n",
       "    .dataframe tbody tr th {\n",
       "        vertical-align: top;\n",
       "    }\n",
       "\n",
       "    .dataframe thead th {\n",
       "        text-align: right;\n",
       "    }\n",
       "</style>\n",
       "<table border=\"1\" class=\"dataframe\">\n",
       "  <thead>\n",
       "    <tr style=\"text-align: right;\">\n",
       "      <th></th>\n",
       "      <th>type</th>\n",
       "      <th>relationshipCount</th>\n",
       "    </tr>\n",
       "  </thead>\n",
       "  <tbody>\n",
       "    <tr>\n",
       "      <th>0</th>\n",
       "      <td>SUBMITTED</td>\n",
       "      <td>129211</td>\n",
       "    </tr>\n",
       "    <tr>\n",
       "      <th>1</th>\n",
       "      <td>REVIEWED</td>\n",
       "      <td>20000</td>\n",
       "    </tr>\n",
       "  </tbody>\n",
       "</table>\n",
       "</div>"
      ],
      "text/plain": [
       "        type  relationshipCount\n",
       "0  SUBMITTED             129211\n",
       "1   REVIEWED              20000"
      ]
     },
     "execution_count": 26,
     "metadata": {},
     "output_type": "execute_result"
    }
   ],
   "source": [
    "# total relationship counts\n",
    "queries.get_relationship_counts(gds)"
   ]
  },
  {
   "cell_type": "markdown",
   "metadata": {},
   "source": [
    "As far as search recommendation is concerns this is a relatively modestly sized graph, with only around 226K users, 231k news articles, and around 500k total creations/reviews."
   ]
  },
  {
   "cell_type": "markdown",
   "metadata": {},
   "source": [
    "#### <a id=\"RewDist\">Reviews Distributions</a>\n",
    "\n",
    "\n",
    "\n",
    "Next, we can look at the distribution of events per user. It is helpful to check this distribution to make sure that:\n",
    "1. The graph is reasonably well connected as the quality of our upcoming recommendation technique will depend on a reasonably well connected graph.\n",
    "2. We do not have any large [supernodes](https://medium.com/neo4j/graph-modeling-all-about-super-nodes-d6ad7e11015b), i.e. nodes with very high numbers of relationships. What qualifies as a supernode varies greatly by use case. For this, I would be concerned about users with tens of thousands of clicks."
   ]
  },
  {
   "cell_type": "code",
   "execution_count": 27,
   "metadata": {},
   "outputs": [
    {
     "data": {
      "image/png": "[encoded data removed]",
      "text/plain": [
       "<Figure size 1600x500 with 2 Axes>"
      ]
     },
     "metadata": {},
     "output_type": "display_data"
    }
   ],
   "source": [
    "# Define the top number of rewires\n",
    "n_rew = 100\n",
    "\n",
    "# Plot interactions distribution\n",
    "utils.plot_interactions_distribution(gds, n_rew)"
   ]
  },
  {
   "cell_type": "markdown",
   "metadata": {},
   "source": [
    "The above shows the distributions for total interactions (`REVIEWED` and `SUBMITTED`) as well as reviews (just `REVIEWED`) by user. We see that the distributions have heavy left tails, showing that activity is not uniformly distributed among users, but rather there is relatively small fraction of users that account for a large number of interactions. This is somewhat expected. "
   ]
  },
  {
   "cell_type": "markdown",
   "metadata": {},
   "source": [
    "We can do a similar breakdown for Recipe below."
   ]
  },
  {
   "cell_type": "code",
   "execution_count": 28,
   "metadata": {},
   "outputs": [
    {
     "data": {
      "image/png": "[encoded data removed]",
      "text/plain": [
       "<Figure size 1600x500 with 2 Axes>"
      ]
     },
     "metadata": {},
     "output_type": "display_data"
    }
   ],
   "source": [
    "# Plot interactions distribution\n",
    "utils.plot_recipe_interactions_distribution(gds, n_rew)"
   ]
  },
  {
   "cell_type": "markdown",
   "metadata": {},
   "source": [
    "## <a id=\"CF\">Collaborative Filtering (CF)</a>\n",
    "\n",
    "\n",
    "There are many different types of recommendations systems. In this example we will apply a technique called Collaborative Filtering (CF), which is the practice of automatically predicting a user's preferences based on the actions of similar users."
   ]
  },
  {
   "cell_type": "markdown",
   "metadata": {},
   "source": [
    "### <a id=\"UservsItemCF\">User vs Item Based CF</a>\n",
    "Roughly speaking there are two main classes of collaborative filtering\n",
    "1. User-based, which is focuses on directly calculating similarity between users based on their interaction with items\n",
    "2. Item-based, which measures the similarity between pairs of items based on correlated user activity, such as the same users liking, viewing, rating, or otherwise similarly interacting with items\n",
    "\n",
    "Our approach today will focus on the later, item-based CF. Item-based CF will be more manageable and scalable then user-based CF for many problem domains. There are a couple reasons for this. First, because there are way fewer items then users in most applied cases so there are less entities to compare. Second, and perhaps more importantly, User preferences can also be dynamic and change overtime. For example, in a Movie example, a user could be mostly interested in Sci Fi movies but go through a brief stint in Westerns, and making recommendations for Westerns to other Sci Fi fans who historically viewed the same things may not be the best thing. Often the best indicator of a user's current interest is their most recent activity, and item based filtering gives you better flexibility to find similarities based off the most recent item(s) submitted, rated, etc."
   ]
  },
  {
   "cell_type": "markdown",
   "metadata": {},
   "source": [
    "### <a id=\"BasicQueries\">Basic Cypher Queries for CF</a>\n",
    "From here we could try just using Cypher to accomplish basic Collaborative Filtering. For example, take the below user and the news they clicked. You can see a mixed interest between autos, finance, US news, and a couple other categories."
   ]
  },
  {
   "cell_type": "code",
   "execution_count": 29,
   "metadata": {},
   "outputs": [
    {
     "name": "stdout",
     "output_type": "stream",
     "text": [
      "\n",
      "Query executed in 0.01 seconds\n",
      "Selected user 424680 with 6136 reviews\n"
     ]
    }
   ],
   "source": [
    "# Select a random user that has at least n_rew reviews\n",
    "random_user_query = queries.get_random_user(gds, n_rew)\n",
    "\n",
    "# Get the user ID\n",
    "USER_ID = str(random_user_query['randomUserID'][0])\n",
    "print(f\"Selected user {USER_ID} with\", random_user_query['reviewCount'][0], 'reviews')"
   ]
  },
  {
   "cell_type": "code",
   "execution_count": 30,
   "metadata": {},
   "outputs": [
    {
     "name": "stdout",
     "output_type": "stream",
     "text": [
      "\n",
      "Query executed in 0.25 seconds\n"
     ]
    },
    {
     "data": {
      "text/html": [
       "<div>\n",
       "<style scoped>\n",
       "    .dataframe tbody tr th:only-of-type {\n",
       "        vertical-align: middle;\n",
       "    }\n",
       "\n",
       "    .dataframe tbody tr th {\n",
       "        vertical-align: top;\n",
       "    }\n",
       "\n",
       "    .dataframe thead th {\n",
       "        text-align: right;\n",
       "    }\n",
       "</style>\n",
       "<table border=\"1\" class=\"dataframe\">\n",
       "  <thead>\n",
       "    <tr style=\"text-align: right;\">\n",
       "      <th></th>\n",
       "      <th>recipeID</th>\n",
       "      <th>name</th>\n",
       "      <th>nutrition</th>\n",
       "      <th>n_ingredients</th>\n",
       "      <th>interactionDate</th>\n",
       "      <th>interactionType</th>\n",
       "    </tr>\n",
       "  </thead>\n",
       "  <tbody>\n",
       "    <tr>\n",
       "      <th>0</th>\n",
       "      <td>423544</td>\n",
       "      <td>maple mayo for sweet potato fries</td>\n",
       "      <td>[156.5, 15.0, 48.0, 8.0, 0.0, 7.0, 5.0]</td>\n",
       "      <td>3</td>\n",
       "      <td>2011-06-28</td>\n",
       "      <td>REVIEWED</td>\n",
       "    </tr>\n",
       "    <tr>\n",
       "      <th>1</th>\n",
       "      <td>373563</td>\n",
       "      <td>chicken with fresh herb mascarpone</td>\n",
       "      <td>[370.8, 30.0, 16.0, 9.0, 65.0, 38.0, 4.0]</td>\n",
       "      <td>8</td>\n",
       "      <td>2011-06-28</td>\n",
       "      <td>REVIEWED</td>\n",
       "    </tr>\n",
       "    <tr>\n",
       "      <th>2</th>\n",
       "      <td>454927</td>\n",
       "      <td>a humdinger of a wrap</td>\n",
       "      <td>[550.4, 46.0, 24.0, 41.0, 43.0, 66.0, 16.0]</td>\n",
       "      <td>20</td>\n",
       "      <td>2011-06-28</td>\n",
       "      <td>REVIEWED</td>\n",
       "    </tr>\n",
       "    <tr>\n",
       "      <th>3</th>\n",
       "      <td>457251</td>\n",
       "      <td>mango sauce</td>\n",
       "      <td>[440.6, 3.0, 402.0, 0.0, 11.0, 3.0, 36.0]</td>\n",
       "      <td>3</td>\n",
       "      <td>2011-06-28</td>\n",
       "      <td>REVIEWED</td>\n",
       "    </tr>\n",
       "    <tr>\n",
       "      <th>4</th>\n",
       "      <td>345379</td>\n",
       "      <td>apple  dried cherry  and pecan salad with maple dressing</td>\n",
       "      <td>[320.8, 41.0, 69.0, 0.0, 2.0, 20.0, 7.0]</td>\n",
       "      <td>10</td>\n",
       "      <td>2011-06-28</td>\n",
       "      <td>REVIEWED</td>\n",
       "    </tr>\n",
       "  </tbody>\n",
       "</table>\n",
       "</div>"
      ],
      "text/plain": [
       "  recipeID                                                      name  \\\n",
       "0   423544                         maple mayo for sweet potato fries   \n",
       "1   373563                        chicken with fresh herb mascarpone   \n",
       "2   454927                                     a humdinger of a wrap   \n",
       "3   457251                                               mango sauce   \n",
       "4   345379  apple  dried cherry  and pecan salad with maple dressing   \n",
       "\n",
       "                                     nutrition n_ingredients interactionDate  \\\n",
       "0      [156.5, 15.0, 48.0, 8.0, 0.0, 7.0, 5.0]             3      2011-06-28   \n",
       "1    [370.8, 30.0, 16.0, 9.0, 65.0, 38.0, 4.0]             8      2011-06-28   \n",
       "2  [550.4, 46.0, 24.0, 41.0, 43.0, 66.0, 16.0]            20      2011-06-28   \n",
       "3    [440.6, 3.0, 402.0, 0.0, 11.0, 3.0, 36.0]             3      2011-06-28   \n",
       "4     [320.8, 41.0, 69.0, 0.0, 2.0, 20.0, 7.0]            10      2011-06-28   \n",
       "\n",
       "  interactionType  \n",
       "0        REVIEWED  \n",
       "1        REVIEWED  \n",
       "2        REVIEWED  \n",
       "3        REVIEWED  \n",
       "4        REVIEWED  "
      ]
     },
     "execution_count": 30,
     "metadata": {},
     "output_type": "execute_result"
    }
   ],
   "source": [
    "# Print some of the user interactions\n",
    "user_interactions = queries.get_user_interactions(gds, USER_ID)\n",
    "interacted_recipes = list(set(user_interactions['recipeID']))\n",
    "\n",
    "# Show result\n",
    "user_interactions.head()"
   ]
  },
  {
   "cell_type": "markdown",
   "metadata": {},
   "source": [
    "Assuming we can measure the similarity of user interests via commonly reviewed recipes, we can do a three hop query to find potential recommendations for user `27711` based on the activity of users that reviewed the same recipe as `27711` (or even reviewed their recipe high).\n",
    "\n",
    "With the below query we can get an aggregate count of the nodes we would need to traverse over to get the recommendations."
   ]
  },
  {
   "cell_type": "code",
   "execution_count": 31,
   "metadata": {},
   "outputs": [
    {
     "name": "stdout",
     "output_type": "stream",
     "text": [
      "\n",
      "Query executed in 0.43 seconds\n"
     ]
    },
    {
     "data": {
      "text/html": [
       "<div>\n",
       "<style scoped>\n",
       "    .dataframe tbody tr th:only-of-type {\n",
       "        vertical-align: middle;\n",
       "    }\n",
       "\n",
       "    .dataframe tbody tr th {\n",
       "        vertical-align: top;\n",
       "    }\n",
       "\n",
       "    .dataframe thead th {\n",
       "        text-align: right;\n",
       "    }\n",
       "</style>\n",
       "<table border=\"1\" class=\"dataframe\">\n",
       "  <thead>\n",
       "    <tr style=\"text-align: right;\">\n",
       "      <th></th>\n",
       "      <th>userID</th>\n",
       "      <th>interactedRecipesCount</th>\n",
       "      <th>likeUsersCount</th>\n",
       "      <th>potentialRecommendationsCount</th>\n",
       "    </tr>\n",
       "  </thead>\n",
       "  <tbody>\n",
       "    <tr>\n",
       "      <th>0</th>\n",
       "      <td>424680</td>\n",
       "      <td>4262</td>\n",
       "      <td>588</td>\n",
       "      <td>100989</td>\n",
       "    </tr>\n",
       "  </tbody>\n",
       "</table>\n",
       "</div>"
      ],
      "text/plain": [
       "   userID  interactedRecipesCount  likeUsersCount  \\\n",
       "0  424680                    4262             588   \n",
       "\n",
       "   potentialRecommendationsCount  \n",
       "0                         100989  "
      ]
     },
     "execution_count": 31,
     "metadata": {},
     "output_type": "execute_result"
    }
   ],
   "source": [
    "# Get the number of possible suggestions\n",
    "queries.get_hops_count(gds, USER_ID)"
   ]
  },
  {
   "cell_type": "markdown",
   "metadata": {},
   "source": [
    "While the above can work well in some cases, and while it can certainly be a massive improvement from joining SQL tables or cross-walking over document stores, notice that we get a lot of potential recommendations back (about 13K). And this is just a sample of the the total dataset.\n",
    "\n",
    "For production use cases where recommendations will need to be queried frequently, this method will have trouble scaling as the number of users, amount of content, and/or observed engagement grows. We need some other strategy to help narrow down the results. There are a few different ways we can accomplish this, but one robust and scalable way to do so is with the [Neo4j Graph Data Science (GDS) Library](https://neo4j.com/docs/graph-data-science/current/)."
   ]
  },
  {
   "cell_type": "code",
   "execution_count": 32,
   "metadata": {},
   "outputs": [],
   "source": [
    "# Load generated test data\n",
    "test_reviewed_df = pd.read_csv(os.path.join(NEO4J_IMPORT_DIR, 'test_reviewed.csv'))"
   ]
  },
  {
   "cell_type": "markdown",
   "metadata": {},
   "source": [
    "#### <a id=\"favIngrRec\">Recommendation based on favorite ingredients</a>\n",
    "First let's make a list of excluded ingredients. Those ingredients won't be considered as they're common ingredients in recipies."
   ]
  },
  {
   "cell_type": "code",
   "execution_count": 33,
   "metadata": {},
   "outputs": [],
   "source": [
    "# Define a list of (common) ingredients to exclude\n",
    "excluded_ingr = [\n",
    "    'salt', 'butter', 'sugar', 'onion', 'water', 'eggs', 'olive oil', 'flour',\n",
    "    'milk', 'garlic cloves', 'pepper', 'brown sugar', 'garlic', 'all-purpose flour',\n",
    "    'baking powder', 'egg', 'salt and pepper', 'baking soda',\n",
    "]"
   ]
  },
  {
   "cell_type": "code",
   "execution_count": 35,
   "metadata": {},
   "outputs": [
    {
     "name": "stdout",
     "output_type": "stream",
     "text": [
      "\n",
      "Query executed in 0.17 seconds\n"
     ]
    },
    {
     "data": {
      "text/html": [
       "<div>\n",
       "<style scoped>\n",
       "    .dataframe tbody tr th:only-of-type {\n",
       "        vertical-align: middle;\n",
       "    }\n",
       "\n",
       "    .dataframe tbody tr th {\n",
       "        vertical-align: top;\n",
       "    }\n",
       "\n",
       "    .dataframe thead th {\n",
       "        text-align: right;\n",
       "    }\n",
       "</style>\n",
       "<table border=\"1\" class=\"dataframe\">\n",
       "  <thead>\n",
       "    <tr style=\"text-align: right;\">\n",
       "      <th></th>\n",
       "      <th>favoriteIngredient</th>\n",
       "      <th>favCount</th>\n",
       "    </tr>\n",
       "  </thead>\n",
       "  <tbody>\n",
       "    <tr>\n",
       "      <th>0</th>\n",
       "      <td>cinnamon</td>\n",
       "      <td>539</td>\n",
       "    </tr>\n",
       "    <tr>\n",
       "      <th>1</th>\n",
       "      <td>unsalted butter</td>\n",
       "      <td>494</td>\n",
       "    </tr>\n",
       "    <tr>\n",
       "      <th>2</th>\n",
       "      <td>vanilla</td>\n",
       "      <td>488</td>\n",
       "    </tr>\n",
       "    <tr>\n",
       "      <th>3</th>\n",
       "      <td>lemon juice</td>\n",
       "      <td>479</td>\n",
       "    </tr>\n",
       "    <tr>\n",
       "      <th>4</th>\n",
       "      <td>granulated sugar</td>\n",
       "      <td>460</td>\n",
       "    </tr>\n",
       "    <tr>\n",
       "      <th>...</th>\n",
       "      <td>...</td>\n",
       "      <td>...</td>\n",
       "    </tr>\n",
       "    <tr>\n",
       "      <th>101</th>\n",
       "      <td>vinegar</td>\n",
       "      <td>82</td>\n",
       "    </tr>\n",
       "    <tr>\n",
       "      <th>102</th>\n",
       "      <td>ground black pepper</td>\n",
       "      <td>82</td>\n",
       "    </tr>\n",
       "    <tr>\n",
       "      <th>103</th>\n",
       "      <td>nuts</td>\n",
       "      <td>81</td>\n",
       "    </tr>\n",
       "    <tr>\n",
       "      <th>104</th>\n",
       "      <td>chicken stock</td>\n",
       "      <td>81</td>\n",
       "    </tr>\n",
       "    <tr>\n",
       "      <th>105</th>\n",
       "      <td>caster sugar</td>\n",
       "      <td>81</td>\n",
       "    </tr>\n",
       "  </tbody>\n",
       "</table>\n",
       "<p>106 rows × 2 columns</p>\n",
       "</div>"
      ],
      "text/plain": [
       "      favoriteIngredient  favCount\n",
       "0               cinnamon       539\n",
       "1        unsalted butter       494\n",
       "2                vanilla       488\n",
       "3            lemon juice       479\n",
       "4       granulated sugar       460\n",
       "..                   ...       ...\n",
       "101              vinegar        82\n",
       "102  ground black pepper        82\n",
       "103                 nuts        81\n",
       "104        chicken stock        81\n",
       "105         caster sugar        81\n",
       "\n",
       "[106 rows x 2 columns]"
      ]
     },
     "execution_count": 35,
     "metadata": {},
     "output_type": "execute_result"
    }
   ],
   "source": [
    "# Compute top 5 user ingredients\n",
    "favIngr = queries.get_user_favourite_ingredients(\n",
    "    gds, \n",
    "    USER_ID, \n",
    "    excluded_ingr\n",
    ")\n",
    "\n",
    "# Extract the favorite ingredients\n",
    "favorite_ingredients = list(favIngr['favoriteIngredient'])\n",
    "\n",
    "# Show result\n",
    "favIngr[['favoriteIngredient', 'favCount']]"
   ]
  },
  {
   "cell_type": "code",
   "execution_count": 16,
   "metadata": {},
   "outputs": [
    {
     "name": "stdout",
     "output_type": "stream",
     "text": [
      "\n",
      "Query executed in 5.85 seconds\n"
     ]
    },
    {
     "data": {
      "text/html": [
       "<div>\n",
       "<style scoped>\n",
       "    .dataframe tbody tr th:only-of-type {\n",
       "        vertical-align: middle;\n",
       "    }\n",
       "\n",
       "    .dataframe tbody tr th {\n",
       "        vertical-align: top;\n",
       "    }\n",
       "\n",
       "    .dataframe thead th {\n",
       "        text-align: right;\n",
       "    }\n",
       "</style>\n",
       "<table border=\"1\" class=\"dataframe\">\n",
       "  <thead>\n",
       "    <tr style=\"text-align: right;\">\n",
       "      <th></th>\n",
       "      <th>recipeID</th>\n",
       "      <th>recipeName</th>\n",
       "      <th>recipeIngredients</th>\n",
       "      <th>matchCount</th>\n",
       "      <th>totalIngredients</th>\n",
       "      <th>relevanceScore</th>\n",
       "    </tr>\n",
       "  </thead>\n",
       "  <tbody>\n",
       "    <tr>\n",
       "      <th>0</th>\n",
       "      <td>6700</td>\n",
       "      <td>cheddar bacon treat</td>\n",
       "      <td>[tomatoes, worcestershire sauce, lemon juice, pepper, sour cream, bacon, cheddar cheese, bread, paprika, garlic powder, lettuce]</td>\n",
       "      <td>8</td>\n",
       "      <td>11</td>\n",
       "      <td>1.807205</td>\n",
       "    </tr>\n",
       "    <tr>\n",
       "      <th>1</th>\n",
       "      <td>182956</td>\n",
       "      <td>toasty chicken salad sandwiches</td>\n",
       "      <td>[butter, onions, mayonnaise, paprika, lemon juice, bread, celery, cooked chicken]</td>\n",
       "      <td>6</td>\n",
       "      <td>8</td>\n",
       "      <td>1.647918</td>\n",
       "    </tr>\n",
       "    <tr>\n",
       "      <th>2</th>\n",
       "      <td>222609</td>\n",
       "      <td>scrumptious hot cheesy bacon dip</td>\n",
       "      <td>[cheddar cheese, sour cream, bread, tomatoes, mayonnaise, bacon, green onions, cream cheese]</td>\n",
       "      <td>6</td>\n",
       "      <td>8</td>\n",
       "      <td>1.647918</td>\n",
       "    </tr>\n",
       "    <tr>\n",
       "      <th>3</th>\n",
       "      <td>145366</td>\n",
       "      <td>cheddar stuffed celery</td>\n",
       "      <td>[celery, paprika, cheddar cheese, mayonnaise]</td>\n",
       "      <td>4</td>\n",
       "      <td>4</td>\n",
       "      <td>1.609438</td>\n",
       "    </tr>\n",
       "    <tr>\n",
       "      <th>4</th>\n",
       "      <td>129656</td>\n",
       "      <td>bacon   tomato dip</td>\n",
       "      <td>[tomatoes, mayonnaise, bacon, sour cream]</td>\n",
       "      <td>4</td>\n",
       "      <td>4</td>\n",
       "      <td>1.609438</td>\n",
       "    </tr>\n",
       "  </tbody>\n",
       "</table>\n",
       "</div>"
      ],
      "text/plain": [
       "  recipeID                        recipeName  \\\n",
       "0     6700               cheddar bacon treat   \n",
       "1   182956   toasty chicken salad sandwiches   \n",
       "2   222609  scrumptious hot cheesy bacon dip   \n",
       "3   145366            cheddar stuffed celery   \n",
       "4   129656                bacon   tomato dip   \n",
       "\n",
       "                                                                                                                  recipeIngredients  \\\n",
       "0  [tomatoes, worcestershire sauce, lemon juice, pepper, sour cream, bacon, cheddar cheese, bread, paprika, garlic powder, lettuce]   \n",
       "1                                                 [butter, onions, mayonnaise, paprika, lemon juice, bread, celery, cooked chicken]   \n",
       "2                                      [cheddar cheese, sour cream, bread, tomatoes, mayonnaise, bacon, green onions, cream cheese]   \n",
       "3                                                                                     [celery, paprika, cheddar cheese, mayonnaise]   \n",
       "4                                                                                         [tomatoes, mayonnaise, bacon, sour cream]   \n",
       "\n",
       "   matchCount  totalIngredients  relevanceScore  \n",
       "0           8                11        1.807205  \n",
       "1           6                 8        1.647918  \n",
       "2           6                 8        1.647918  \n",
       "3           4                 4        1.609438  \n",
       "4           4                 4        1.609438  "
      ]
     },
     "execution_count": 16,
     "metadata": {},
     "output_type": "execute_result"
    }
   ],
   "source": [
    "# Suggest recipes based on user's favorites ingredients\n",
    "favIngrRec = queries.get_recipe_w_ingreds(\n",
    "    gds, \n",
    "    interacted_recipes, \n",
    "    favorite_ingredients, \n",
    "    excluded_ingr\n",
    ")\n",
    "\n",
    "# Show result\n",
    "favIngrRec.head()"
   ]
  },
  {
   "cell_type": "markdown",
   "metadata": {},
   "source": [
    "#### <a id=\"NutrValRec\">Recommendation based on nutritonal properties</a>\n",
    "In addition to suggestin recipes based on preferred ingredients, it's also possible to identify user preferences on nutritional values and make suggestions based on this data. We will study a user favorite nutritional values based on both the recipes he has submitted and reviewed."
   ]
  },
  {
   "cell_type": "code",
   "execution_count": 17,
   "metadata": {},
   "outputs": [
    {
     "name": "stdout",
     "output_type": "stream",
     "text": [
      "\n",
      "Query executed in 0.09 seconds\n"
     ]
    },
    {
     "data": {
      "text/html": [
       "<div>\n",
       "<style scoped>\n",
       "    .dataframe tbody tr th:only-of-type {\n",
       "        vertical-align: middle;\n",
       "    }\n",
       "\n",
       "    .dataframe tbody tr th {\n",
       "        vertical-align: top;\n",
       "    }\n",
       "\n",
       "    .dataframe thead th {\n",
       "        text-align: right;\n",
       "    }\n",
       "</style>\n",
       "<table border=\"1\" class=\"dataframe\">\n",
       "  <thead>\n",
       "    <tr style=\"text-align: right;\">\n",
       "      <th></th>\n",
       "      <th>recipeID</th>\n",
       "      <th>calories</th>\n",
       "      <th>totalFat</th>\n",
       "      <th>sugar</th>\n",
       "      <th>sodium</th>\n",
       "      <th>protein</th>\n",
       "      <th>saturatedFat</th>\n",
       "      <th>carbs</th>\n",
       "    </tr>\n",
       "  </thead>\n",
       "  <tbody>\n",
       "    <tr>\n",
       "      <th>0</th>\n",
       "      <td>218117</td>\n",
       "      <td>71.8</td>\n",
       "      <td>0.0</td>\n",
       "      <td>57.0</td>\n",
       "      <td>30.0</td>\n",
       "      <td>3.0</td>\n",
       "      <td>0.0</td>\n",
       "      <td>5.0</td>\n",
       "    </tr>\n",
       "    <tr>\n",
       "      <th>1</th>\n",
       "      <td>226062</td>\n",
       "      <td>586.3</td>\n",
       "      <td>51.0</td>\n",
       "      <td>18.0</td>\n",
       "      <td>35.0</td>\n",
       "      <td>57.0</td>\n",
       "      <td>95.0</td>\n",
       "      <td>14.0</td>\n",
       "    </tr>\n",
       "    <tr>\n",
       "      <th>2</th>\n",
       "      <td>225973</td>\n",
       "      <td>154.7</td>\n",
       "      <td>13.0</td>\n",
       "      <td>37.0</td>\n",
       "      <td>8.0</td>\n",
       "      <td>2.0</td>\n",
       "      <td>22.0</td>\n",
       "      <td>6.0</td>\n",
       "    </tr>\n",
       "    <tr>\n",
       "      <th>3</th>\n",
       "      <td>268422</td>\n",
       "      <td>769.7</td>\n",
       "      <td>53.0</td>\n",
       "      <td>342.0</td>\n",
       "      <td>4.0</td>\n",
       "      <td>12.0</td>\n",
       "      <td>83.0</td>\n",
       "      <td>38.0</td>\n",
       "    </tr>\n",
       "    <tr>\n",
       "      <th>4</th>\n",
       "      <td>225975</td>\n",
       "      <td>509.1</td>\n",
       "      <td>69.0</td>\n",
       "      <td>101.0</td>\n",
       "      <td>22.0</td>\n",
       "      <td>1.0</td>\n",
       "      <td>160.0</td>\n",
       "      <td>8.0</td>\n",
       "    </tr>\n",
       "  </tbody>\n",
       "</table>\n",
       "</div>"
      ],
      "text/plain": [
       "  recipeID  calories  totalFat  sugar  sodium  protein  saturatedFat  carbs\n",
       "0   218117      71.8       0.0   57.0    30.0      3.0           0.0    5.0\n",
       "1   226062     586.3      51.0   18.0    35.0     57.0          95.0   14.0\n",
       "2   225973     154.7      13.0   37.0     8.0      2.0          22.0    6.0\n",
       "3   268422     769.7      53.0  342.0     4.0     12.0          83.0   38.0\n",
       "4   225975     509.1      69.0  101.0    22.0      1.0         160.0    8.0"
      ]
     },
     "execution_count": 17,
     "metadata": {},
     "output_type": "execute_result"
    }
   ],
   "source": [
    "# Obtain nutritional values\n",
    "nutrVal = queries.get_user_nutritional_values(\n",
    "    gds, \n",
    "    USER_ID\n",
    ")\n",
    "\n",
    "# Show result\n",
    "nutrVal.head()"
   ]
  },
  {
   "cell_type": "code",
   "execution_count": 18,
   "metadata": {},
   "outputs": [
    {
     "data": {
      "image/png": "[encoded data removed]",
      "text/plain": [
       "<Figure size 2000x200 with 7 Axes>"
      ]
     },
     "metadata": {},
     "output_type": "display_data"
    },
    {
     "name": "stdout",
     "output_type": "stream",
     "text": [
      "50% of calories data lies between 164.50 and 452.60\n",
      "50% of total fat data lies between 9.00 and 35.00\n",
      "50% of sugar data lies between 8.00 and 37.00\n",
      "50% of sodium data lies between 9.00 and 36.00\n",
      "50% of protein data lies between 5.00 and 46.00\n",
      "50% of saturated fat data lies between 8.00 and 43.00\n",
      "50% of carbs data lies between 2.00 and 13.00\n"
     ]
    }
   ],
   "source": [
    "# Plot nutritional values\n",
    "utils.plot_nutritional_values(nutrVal)\n",
    "# Get nutritional values ranges\n",
    "calories_range, fat_range, sugar_range, sodium_range, protein_range, sat_fat_range, carbs_range = utils.get_nutritional_values(nutrVal)"
   ]
  },
  {
   "cell_type": "code",
   "execution_count": 19,
   "metadata": {},
   "outputs": [
    {
     "name": "stdout",
     "output_type": "stream",
     "text": [
      "\n",
      "Query executed in 0.65 seconds\n"
     ]
    },
    {
     "data": {
      "text/html": [
       "<div>\n",
       "<style scoped>\n",
       "    .dataframe tbody tr th:only-of-type {\n",
       "        vertical-align: middle;\n",
       "    }\n",
       "\n",
       "    .dataframe tbody tr th {\n",
       "        vertical-align: top;\n",
       "    }\n",
       "\n",
       "    .dataframe thead th {\n",
       "        text-align: right;\n",
       "    }\n",
       "</style>\n",
       "<table border=\"1\" class=\"dataframe\">\n",
       "  <thead>\n",
       "    <tr style=\"text-align: right;\">\n",
       "      <th></th>\n",
       "      <th>recipeID</th>\n",
       "      <th>recipeName</th>\n",
       "      <th>nutritionList</th>\n",
       "    </tr>\n",
       "  </thead>\n",
       "  <tbody>\n",
       "    <tr>\n",
       "      <th>0</th>\n",
       "      <td>100054</td>\n",
       "      <td>grammie s spaghetti and meatballs</td>\n",
       "      <td>[196.1, 15.0, 18.0, 28.0, 27.0, 18.0, 4.0]</td>\n",
       "    </tr>\n",
       "    <tr>\n",
       "      <th>1</th>\n",
       "      <td>10009</td>\n",
       "      <td>pasta and crab meat salad</td>\n",
       "      <td>[282.5, 15.0, 28.0, 29.0, 19.0, 11.0, 12.0]</td>\n",
       "    </tr>\n",
       "    <tr>\n",
       "      <th>2</th>\n",
       "      <td>100166</td>\n",
       "      <td>artichoke chicken calzones</td>\n",
       "      <td>[208.8, 15.0, 18.0, 19.0, 30.0, 24.0, 5.0]</td>\n",
       "    </tr>\n",
       "    <tr>\n",
       "      <th>3</th>\n",
       "      <td>100193</td>\n",
       "      <td>easy delicious hamburger orzo soup</td>\n",
       "      <td>[236.4, 12.0, 27.0, 29.0, 37.0, 16.0, 7.0]</td>\n",
       "    </tr>\n",
       "    <tr>\n",
       "      <th>4</th>\n",
       "      <td>100288</td>\n",
       "      <td>lettuce wedge salad</td>\n",
       "      <td>[223.2, 26.0, 26.0, 11.0, 14.0, 37.0, 3.0]</td>\n",
       "    </tr>\n",
       "  </tbody>\n",
       "</table>\n",
       "</div>"
      ],
      "text/plain": [
       "  recipeID                          recipeName  \\\n",
       "0   100054   grammie s spaghetti and meatballs   \n",
       "1    10009           pasta and crab meat salad   \n",
       "2   100166          artichoke chicken calzones   \n",
       "3   100193  easy delicious hamburger orzo soup   \n",
       "4   100288                 lettuce wedge salad   \n",
       "\n",
       "                                 nutritionList  \n",
       "0   [196.1, 15.0, 18.0, 28.0, 27.0, 18.0, 4.0]  \n",
       "1  [282.5, 15.0, 28.0, 29.0, 19.0, 11.0, 12.0]  \n",
       "2   [208.8, 15.0, 18.0, 19.0, 30.0, 24.0, 5.0]  \n",
       "3   [236.4, 12.0, 27.0, 29.0, 37.0, 16.0, 7.0]  \n",
       "4   [223.2, 26.0, 26.0, 11.0, 14.0, 37.0, 3.0]  "
      ]
     },
     "execution_count": 19,
     "metadata": {},
     "output_type": "execute_result"
    }
   ],
   "source": [
    "# Suggest recipe based on nutritional values\n",
    "nutrValRec = queries.get_recipe_nutritional_values(\n",
    "    gds, \n",
    "    interacted_recipes, \n",
    "    calories_range, \n",
    "    fat_range, \n",
    "    sugar_range, \n",
    "    sodium_range, \n",
    "    protein_range,\n",
    "    sat_fat_range,\n",
    "    carbs_range\n",
    ")\n",
    "\n",
    "# Show result\n",
    "nutrValRec.head()"
   ]
  },
  {
   "cell_type": "markdown",
   "metadata": {},
   "source": [
    "We can also combine the user preferences on ingredients with those on nutritional values to provide even more accurate recommendations. We can than sort the result based on most matching favorites ingredients and show first recipes with less preparation time."
   ]
  },
  {
   "cell_type": "code",
   "execution_count": 20,
   "metadata": {},
   "outputs": [
    {
     "name": "stdout",
     "output_type": "stream",
     "text": [
      "\n",
      "Query executed in 3.99 seconds\n"
     ]
    },
    {
     "data": {
      "text/html": [
       "<div>\n",
       "<style scoped>\n",
       "    .dataframe tbody tr th:only-of-type {\n",
       "        vertical-align: middle;\n",
       "    }\n",
       "\n",
       "    .dataframe tbody tr th {\n",
       "        vertical-align: top;\n",
       "    }\n",
       "\n",
       "    .dataframe thead th {\n",
       "        text-align: right;\n",
       "    }\n",
       "</style>\n",
       "<table border=\"1\" class=\"dataframe\">\n",
       "  <thead>\n",
       "    <tr style=\"text-align: right;\">\n",
       "      <th></th>\n",
       "      <th>recipeID</th>\n",
       "      <th>recipeName</th>\n",
       "      <th>recipeIngredients</th>\n",
       "      <th>nutritionList</th>\n",
       "      <th>relevanceScore</th>\n",
       "    </tr>\n",
       "  </thead>\n",
       "  <tbody>\n",
       "    <tr>\n",
       "      <th>0</th>\n",
       "      <td>182956</td>\n",
       "      <td>toasty chicken salad sandwiches</td>\n",
       "      <td>[butter, onions, mayonnaise, paprika, lemon juice, bread, celery, cooked chicken]</td>\n",
       "      <td>[284.5, 25.0, 17.0, 20.0, 22.0, 13.0, 7.0]</td>\n",
       "      <td>1.647918</td>\n",
       "    </tr>\n",
       "    <tr>\n",
       "      <th>1</th>\n",
       "      <td>29389</td>\n",
       "      <td>macaroni cheese salad</td>\n",
       "      <td>[spicy mustard, celery, cheddar cheese, salt, garlic powder, paprika, green pepper, green onion, pepper, mayonnaise, frozen peas, sour cream, elbow macaroni, bacon, parsley]</td>\n",
       "      <td>[251.3, 15.0, 14.0, 19.0, 19.0, 24.0, 10.0]</td>\n",
       "      <td>1.478714</td>\n",
       "    </tr>\n",
       "    <tr>\n",
       "      <th>2</th>\n",
       "      <td>451220</td>\n",
       "      <td>kohlrabi and carrot slaw</td>\n",
       "      <td>[carrots, fresh dill, onions, black pepper, dijon mustard, kohlrabi, parsley, sour cream, lemon juice, mayonnaise]</td>\n",
       "      <td>[235.5, 24.0, 36.0, 13.0, 8.0, 24.0, 7.0]</td>\n",
       "      <td>1.438737</td>\n",
       "    </tr>\n",
       "    <tr>\n",
       "      <th>3</th>\n",
       "      <td>347066</td>\n",
       "      <td>sysco parmesan peppercorn salad dressing</td>\n",
       "      <td>[black pepper, parmesan cheese, mayonnaise, granulated garlic, sour cream]</td>\n",
       "      <td>[243.4, 32.0, 10.0, 14.0, 6.0, 34.0, 3.0]</td>\n",
       "      <td>1.433408</td>\n",
       "    </tr>\n",
       "    <tr>\n",
       "      <th>4</th>\n",
       "      <td>113105</td>\n",
       "      <td>blt sandwich</td>\n",
       "      <td>[mayonnaise, bread, bacon, tomatoes, lettuce, avocado]</td>\n",
       "      <td>[288.2, 24.0, 13.0, 21.0, 16.0, 25.0, 9.0]</td>\n",
       "      <td>1.297273</td>\n",
       "    </tr>\n",
       "  </tbody>\n",
       "</table>\n",
       "</div>"
      ],
      "text/plain": [
       "  recipeID                                recipeName  \\\n",
       "0   182956           toasty chicken salad sandwiches   \n",
       "1    29389                     macaroni cheese salad   \n",
       "2   451220                  kohlrabi and carrot slaw   \n",
       "3   347066  sysco parmesan peppercorn salad dressing   \n",
       "4   113105                              blt sandwich   \n",
       "\n",
       "                                                                                                                                                               recipeIngredients  \\\n",
       "0                                                                                              [butter, onions, mayonnaise, paprika, lemon juice, bread, celery, cooked chicken]   \n",
       "1  [spicy mustard, celery, cheddar cheese, salt, garlic powder, paprika, green pepper, green onion, pepper, mayonnaise, frozen peas, sour cream, elbow macaroni, bacon, parsley]   \n",
       "2                                                             [carrots, fresh dill, onions, black pepper, dijon mustard, kohlrabi, parsley, sour cream, lemon juice, mayonnaise]   \n",
       "3                                                                                                     [black pepper, parmesan cheese, mayonnaise, granulated garlic, sour cream]   \n",
       "4                                                                                                                         [mayonnaise, bread, bacon, tomatoes, lettuce, avocado]   \n",
       "\n",
       "                                 nutritionList  relevanceScore  \n",
       "0   [284.5, 25.0, 17.0, 20.0, 22.0, 13.0, 7.0]        1.647918  \n",
       "1  [251.3, 15.0, 14.0, 19.0, 19.0, 24.0, 10.0]        1.478714  \n",
       "2    [235.5, 24.0, 36.0, 13.0, 8.0, 24.0, 7.0]        1.438737  \n",
       "3    [243.4, 32.0, 10.0, 14.0, 6.0, 34.0, 3.0]        1.433408  \n",
       "4   [288.2, 24.0, 13.0, 21.0, 16.0, 25.0, 9.0]        1.297273  "
      ]
     },
     "execution_count": 20,
     "metadata": {},
     "output_type": "execute_result"
    }
   ],
   "source": [
    "# Suggest recipe based on favorite ingredients and nutritional values\n",
    "fitRecFavIngr = queries.get_recipe_nutritional_ingreds(\n",
    "    gds, \n",
    "    interacted_recipes, \n",
    "    favorite_ingredients, \n",
    "    calories_range, \n",
    "    fat_range, \n",
    "    sugar_range, \n",
    "    sodium_range, \n",
    "    protein_range,\n",
    "    sat_fat_range,\n",
    "    carbs_range,\n",
    ")\n",
    "\n",
    "# Show result\n",
    "fitRecFavIngr.head()"
   ]
  },
  {
   "cell_type": "markdown",
   "metadata": {},
   "source": [
    "#### <a id=\"TagsRec\">Recommendation based on website tags</a>\n",
    "Another thing we can leverage to suggest recipes to our user is Site Tags. All recipe tags are easily obtained from the following query."
   ]
  },
  {
   "cell_type": "code",
   "execution_count": 21,
   "metadata": {},
   "outputs": [
    {
     "name": "stdout",
     "output_type": "stream",
     "text": [
      "\n",
      "Query executed in 0.83 seconds\n"
     ]
    },
    {
     "data": {
      "text/html": [
       "<div>\n",
       "<style scoped>\n",
       "    .dataframe tbody tr th:only-of-type {\n",
       "        vertical-align: middle;\n",
       "    }\n",
       "\n",
       "    .dataframe tbody tr th {\n",
       "        vertical-align: top;\n",
       "    }\n",
       "\n",
       "    .dataframe thead th {\n",
       "        text-align: right;\n",
       "    }\n",
       "</style>\n",
       "<table border=\"1\" class=\"dataframe\">\n",
       "  <thead>\n",
       "    <tr style=\"text-align: right;\">\n",
       "      <th></th>\n",
       "      <th>tag</th>\n",
       "      <th>tagCount</th>\n",
       "    </tr>\n",
       "  </thead>\n",
       "  <tbody>\n",
       "    <tr>\n",
       "      <th>0</th>\n",
       "      <td>preparation</td>\n",
       "      <td>230546</td>\n",
       "    </tr>\n",
       "    <tr>\n",
       "      <th>1</th>\n",
       "      <td>time-to-make</td>\n",
       "      <td>225326</td>\n",
       "    </tr>\n",
       "    <tr>\n",
       "      <th>2</th>\n",
       "      <td>course</td>\n",
       "      <td>218148</td>\n",
       "    </tr>\n",
       "    <tr>\n",
       "      <th>3</th>\n",
       "      <td>main-ingredient</td>\n",
       "      <td>170446</td>\n",
       "    </tr>\n",
       "    <tr>\n",
       "      <th>4</th>\n",
       "      <td>dietary</td>\n",
       "      <td>165091</td>\n",
       "    </tr>\n",
       "  </tbody>\n",
       "</table>\n",
       "</div>"
      ],
      "text/plain": [
       "               tag  tagCount\n",
       "0      preparation    230546\n",
       "1     time-to-make    225326\n",
       "2           course    218148\n",
       "3  main-ingredient    170446\n",
       "4          dietary    165091"
      ]
     },
     "execution_count": 21,
     "metadata": {},
     "output_type": "execute_result"
    }
   ],
   "source": [
    "# Get recipe taglist with count\n",
    "queries.get_recipes_taglist(gds).head()"
   ]
  },
  {
   "cell_type": "markdown",
   "metadata": {},
   "source": [
    "Here we can see that there are very common tags that we're likely to exclude from the taglist, that way we can obtain more user-specific recommendation."
   ]
  },
  {
   "cell_type": "code",
   "execution_count": 22,
   "metadata": {},
   "outputs": [],
   "source": [
    "# Define a list of (common) tags to exclude\n",
    "excluded_tags = [\n",
    "    'preparation', 'time-to-make', 'course', 'main-ingredient', 'dietary', 'easy', \n",
    "    'occasion', 'cuisine', 'low-in-something', 'main-dish', 'equipment', '60-minutes-or-less',\n",
    "    'number-of-servings', 'meat', '30-minutes-or-less', 'vegetables', 'taste-mood',\n",
    "    '4-hours-or-less', 'north-american', '3-steps-or-less',\n",
    "]"
   ]
  },
  {
   "cell_type": "markdown",
   "metadata": {},
   "source": [
    "We can also just check all tags of the recipes an user has reviewed, count them, and order by count to obtain the top tags of an user."
   ]
  },
  {
   "cell_type": "code",
   "execution_count": 23,
   "metadata": {},
   "outputs": [
    {
     "name": "stdout",
     "output_type": "stream",
     "text": [
      "\n",
      "Query executed in 0.07 seconds\n"
     ]
    },
    {
     "data": {
      "text/html": [
       "<div>\n",
       "<style scoped>\n",
       "    .dataframe tbody tr th:only-of-type {\n",
       "        vertical-align: middle;\n",
       "    }\n",
       "\n",
       "    .dataframe tbody tr th {\n",
       "        vertical-align: top;\n",
       "    }\n",
       "\n",
       "    .dataframe thead th {\n",
       "        text-align: right;\n",
       "    }\n",
       "</style>\n",
       "<table border=\"1\" class=\"dataframe\">\n",
       "  <thead>\n",
       "    <tr style=\"text-align: right;\">\n",
       "      <th></th>\n",
       "      <th>tag</th>\n",
       "      <th>tagCount</th>\n",
       "    </tr>\n",
       "  </thead>\n",
       "  <tbody>\n",
       "    <tr>\n",
       "      <th>0</th>\n",
       "      <td>comfort-food</td>\n",
       "      <td>68</td>\n",
       "    </tr>\n",
       "    <tr>\n",
       "      <th>1</th>\n",
       "      <td>vegetarian</td>\n",
       "      <td>54</td>\n",
       "    </tr>\n",
       "    <tr>\n",
       "      <th>2</th>\n",
       "      <td>low-carb</td>\n",
       "      <td>54</td>\n",
       "    </tr>\n",
       "    <tr>\n",
       "      <th>3</th>\n",
       "      <td>beginner-cook</td>\n",
       "      <td>53</td>\n",
       "    </tr>\n",
       "    <tr>\n",
       "      <th>4</th>\n",
       "      <td>inexpensive</td>\n",
       "      <td>49</td>\n",
       "    </tr>\n",
       "    <tr>\n",
       "      <th>...</th>\n",
       "      <td>...</td>\n",
       "      <td>...</td>\n",
       "    </tr>\n",
       "    <tr>\n",
       "      <th>24</th>\n",
       "      <td>seafood</td>\n",
       "      <td>29</td>\n",
       "    </tr>\n",
       "    <tr>\n",
       "      <th>25</th>\n",
       "      <td>appetizers</td>\n",
       "      <td>24</td>\n",
       "    </tr>\n",
       "    <tr>\n",
       "      <th>26</th>\n",
       "      <td>poultry</td>\n",
       "      <td>24</td>\n",
       "    </tr>\n",
       "    <tr>\n",
       "      <th>27</th>\n",
       "      <td>tomatoes</td>\n",
       "      <td>23</td>\n",
       "    </tr>\n",
       "    <tr>\n",
       "      <th>28</th>\n",
       "      <td>summer</td>\n",
       "      <td>22</td>\n",
       "    </tr>\n",
       "  </tbody>\n",
       "</table>\n",
       "<p>29 rows × 2 columns</p>\n",
       "</div>"
      ],
      "text/plain": [
       "              tag  tagCount\n",
       "0    comfort-food        68\n",
       "1      vegetarian        54\n",
       "2        low-carb        54\n",
       "3   beginner-cook        53\n",
       "4     inexpensive        49\n",
       "..            ...       ...\n",
       "24        seafood        29\n",
       "25     appetizers        24\n",
       "26        poultry        24\n",
       "27       tomatoes        23\n",
       "28         summer        22\n",
       "\n",
       "[29 rows x 2 columns]"
      ]
     },
     "execution_count": 23,
     "metadata": {},
     "output_type": "execute_result"
    }
   ],
   "source": [
    "# Get top user tags\n",
    "userTags = queries.get_user_top_tags(gds, USER_ID, excluded_tags)\n",
    "\n",
    "# Extract the top tags\n",
    "top_tags = list(userTags['tag'])\n",
    "\n",
    "# Show result\n",
    "userTags"
   ]
  },
  {
   "cell_type": "code",
   "execution_count": 24,
   "metadata": {},
   "outputs": [
    {
     "name": "stdout",
     "output_type": "stream",
     "text": [
      "\n",
      "Query executed in 11.57 seconds\n"
     ]
    },
    {
     "data": {
      "text/html": [
       "<div>\n",
       "<style scoped>\n",
       "    .dataframe tbody tr th:only-of-type {\n",
       "        vertical-align: middle;\n",
       "    }\n",
       "\n",
       "    .dataframe tbody tr th {\n",
       "        vertical-align: top;\n",
       "    }\n",
       "\n",
       "    .dataframe thead th {\n",
       "        text-align: right;\n",
       "    }\n",
       "</style>\n",
       "<table border=\"1\" class=\"dataframe\">\n",
       "  <thead>\n",
       "    <tr style=\"text-align: right;\">\n",
       "      <th></th>\n",
       "      <th>recipeID</th>\n",
       "      <th>recipeName</th>\n",
       "      <th>tagList</th>\n",
       "      <th>matchCount</th>\n",
       "      <th>totalTags</th>\n",
       "      <th>relevanceScore</th>\n",
       "    </tr>\n",
       "  </thead>\n",
       "  <tbody>\n",
       "    <tr>\n",
       "      <th>0</th>\n",
       "      <td>168306</td>\n",
       "      <td>tomatoes vinaigrette</td>\n",
       "      <td>[15-minutes-or-less, time-to-make, course, main-ingredient, preparation, occasion, low-protein, healthy, side-dishes, vegetables, easy, beginner-cook, dinner-party, holiday-event, summer, vegetarian, dietary, low-sodium, low-cholesterol, seasonal, low-saturated-fat, low-calorie, low-carb, inexpensive, healthy-2, low-in-something, tomatoes, brunch]</td>\n",
       "      <td>18</td>\n",
       "      <td>28</td>\n",
       "      <td>2.164690</td>\n",
       "    </tr>\n",
       "    <tr>\n",
       "      <th>1</th>\n",
       "      <td>142761</td>\n",
       "      <td>avocado  tomato and pepper salad</td>\n",
       "      <td>[15-minutes-or-less, time-to-make, course, main-ingredient, preparation, occasion, for-1-or-2, low-protein, healthy, lunch, salads, vegetables, easy, beginner-cook, summer, vegetarian, dietary, low-sodium, low-cholesterol, seasonal, low-saturated-fat, low-calorie, low-carb, inexpensive, healthy-2, low-in-something, onions, peppers, tomatoes, number-of-servings]</td>\n",
       "      <td>18</td>\n",
       "      <td>30</td>\n",
       "      <td>2.060392</td>\n",
       "    </tr>\n",
       "    <tr>\n",
       "      <th>2</th>\n",
       "      <td>173444</td>\n",
       "      <td>no oil fresh tomato and parmesan dressing</td>\n",
       "      <td>[15-minutes-or-less, time-to-make, course, main-ingredient, preparation, occasion, low-protein, healthy, salads, vegetables, easy, beginner-cook, dinner-party, summer, vegetarian, salad-dressings, dietary, low-cholesterol, seasonal, low-saturated-fat, low-calorie, low-carb, inexpensive, healthy-2, low-in-something, tomatoes, brunch, 3-steps-or-less]</td>\n",
       "      <td>17</td>\n",
       "      <td>28</td>\n",
       "      <td>2.044430</td>\n",
       "    </tr>\n",
       "    <tr>\n",
       "      <th>3</th>\n",
       "      <td>244660</td>\n",
       "      <td>freckled zucchini with lemon dill cream</td>\n",
       "      <td>[15-minutes-or-less, time-to-make, course, main-ingredient, preparation, occasion, low-protein, healthy, side-dishes, vegetables, dinner-party, fall, summer, vegetarian, dietary, low-sodium, low-cholesterol, seasonal, low-saturated-fat, low-calorie, low-carb, inexpensive, healthy-2, low-in-something, squash, brunch]</td>\n",
       "      <td>16</td>\n",
       "      <td>26</td>\n",
       "      <td>2.028207</td>\n",
       "    </tr>\n",
       "    <tr>\n",
       "      <th>4</th>\n",
       "      <td>358977</td>\n",
       "      <td>avocado on the half shell</td>\n",
       "      <td>[15-minutes-or-less, time-to-make, course, main-ingredient, preparation, occasion, for-1-or-2, low-protein, healthy, salads, vegetables, easy, beginner-cook, dinner-party, summer, dietary, low-sodium, low-cholesterol, seasonal, low-saturated-fat, low-calorie, low-carb, inexpensive, healthy-2, low-in-something, number-of-servings]</td>\n",
       "      <td>16</td>\n",
       "      <td>26</td>\n",
       "      <td>2.028207</td>\n",
       "    </tr>\n",
       "  </tbody>\n",
       "</table>\n",
       "</div>"
      ],
      "text/plain": [
       "  recipeID                                 recipeName  \\\n",
       "0   168306                       tomatoes vinaigrette   \n",
       "1   142761           avocado  tomato and pepper salad   \n",
       "2   173444  no oil fresh tomato and parmesan dressing   \n",
       "3   244660    freckled zucchini with lemon dill cream   \n",
       "4   358977                  avocado on the half shell   \n",
       "\n",
       "                                                                                                                                                                                                                                                                                                                                                                       tagList  \\\n",
       "0                [15-minutes-or-less, time-to-make, course, main-ingredient, preparation, occasion, low-protein, healthy, side-dishes, vegetables, easy, beginner-cook, dinner-party, holiday-event, summer, vegetarian, dietary, low-sodium, low-cholesterol, seasonal, low-saturated-fat, low-calorie, low-carb, inexpensive, healthy-2, low-in-something, tomatoes, brunch]   \n",
       "1  [15-minutes-or-less, time-to-make, course, main-ingredient, preparation, occasion, for-1-or-2, low-protein, healthy, lunch, salads, vegetables, easy, beginner-cook, summer, vegetarian, dietary, low-sodium, low-cholesterol, seasonal, low-saturated-fat, low-calorie, low-carb, inexpensive, healthy-2, low-in-something, onions, peppers, tomatoes, number-of-servings]   \n",
       "2              [15-minutes-or-less, time-to-make, course, main-ingredient, preparation, occasion, low-protein, healthy, salads, vegetables, easy, beginner-cook, dinner-party, summer, vegetarian, salad-dressings, dietary, low-cholesterol, seasonal, low-saturated-fat, low-calorie, low-carb, inexpensive, healthy-2, low-in-something, tomatoes, brunch, 3-steps-or-less]   \n",
       "3                                                [15-minutes-or-less, time-to-make, course, main-ingredient, preparation, occasion, low-protein, healthy, side-dishes, vegetables, dinner-party, fall, summer, vegetarian, dietary, low-sodium, low-cholesterol, seasonal, low-saturated-fat, low-calorie, low-carb, inexpensive, healthy-2, low-in-something, squash, brunch]   \n",
       "4                                  [15-minutes-or-less, time-to-make, course, main-ingredient, preparation, occasion, for-1-or-2, low-protein, healthy, salads, vegetables, easy, beginner-cook, dinner-party, summer, dietary, low-sodium, low-cholesterol, seasonal, low-saturated-fat, low-calorie, low-carb, inexpensive, healthy-2, low-in-something, number-of-servings]   \n",
       "\n",
       "   matchCount  totalTags  relevanceScore  \n",
       "0          18         28        2.164690  \n",
       "1          18         30        2.060392  \n",
       "2          17         28        2.044430  \n",
       "3          16         26        2.028207  \n",
       "4          16         26        2.028207  "
      ]
     },
     "execution_count": 24,
     "metadata": {},
     "output_type": "execute_result"
    }
   ],
   "source": [
    "# Suggest recipe based on user's top tags\n",
    "queries.find_top_tag_matching_recipes(gds, interacted_recipes, top_tags).head()"
   ]
  },
  {
   "cell_type": "markdown",
   "metadata": {},
   "source": [
    "#### <a id=\"AllRecs\">Combine all suggestions together</a>"
   ]
  },
  {
   "cell_type": "code",
   "execution_count": 25,
   "metadata": {},
   "outputs": [
    {
     "name": "stdout",
     "output_type": "stream",
     "text": [
      "\n",
      "Query executed in 8.50 seconds\n"
     ]
    },
    {
     "data": {
      "text/html": [
       "<div>\n",
       "<style scoped>\n",
       "    .dataframe tbody tr th:only-of-type {\n",
       "        vertical-align: middle;\n",
       "    }\n",
       "\n",
       "    .dataframe tbody tr th {\n",
       "        vertical-align: top;\n",
       "    }\n",
       "\n",
       "    .dataframe thead th {\n",
       "        text-align: right;\n",
       "    }\n",
       "</style>\n",
       "<table border=\"1\" class=\"dataframe\">\n",
       "  <thead>\n",
       "    <tr style=\"text-align: right;\">\n",
       "      <th></th>\n",
       "      <th>recipeID</th>\n",
       "      <th>recipeName</th>\n",
       "      <th>matchingIngreds</th>\n",
       "      <th>matchingTags</th>\n",
       "      <th>ingrRelScore</th>\n",
       "      <th>tagRelScore</th>\n",
       "    </tr>\n",
       "  </thead>\n",
       "  <tbody>\n",
       "    <tr>\n",
       "      <th>0</th>\n",
       "      <td>451220</td>\n",
       "      <td>kohlrabi and carrot slaw</td>\n",
       "      <td>6</td>\n",
       "      <td>8</td>\n",
       "      <td>1.438737</td>\n",
       "      <td>1.360175</td>\n",
       "    </tr>\n",
       "    <tr>\n",
       "      <th>1</th>\n",
       "      <td>40925</td>\n",
       "      <td>celery nut salad</td>\n",
       "      <td>3</td>\n",
       "      <td>13</td>\n",
       "      <td>1.075056</td>\n",
       "      <td>1.604395</td>\n",
       "    </tr>\n",
       "    <tr>\n",
       "      <th>2</th>\n",
       "      <td>503674</td>\n",
       "      <td>german  style tomato  salad</td>\n",
       "      <td>4</td>\n",
       "      <td>8</td>\n",
       "      <td>1.098612</td>\n",
       "      <td>1.308640</td>\n",
       "    </tr>\n",
       "    <tr>\n",
       "      <th>3</th>\n",
       "      <td>316505</td>\n",
       "      <td>stir fry parmesan yellow squash</td>\n",
       "      <td>2</td>\n",
       "      <td>9</td>\n",
       "      <td>0.648637</td>\n",
       "      <td>1.740889</td>\n",
       "    </tr>\n",
       "    <tr>\n",
       "      <th>4</th>\n",
       "      <td>188160</td>\n",
       "      <td>mexican night salad</td>\n",
       "      <td>4</td>\n",
       "      <td>9</td>\n",
       "      <td>0.854983</td>\n",
       "      <td>1.472219</td>\n",
       "    </tr>\n",
       "  </tbody>\n",
       "</table>\n",
       "</div>"
      ],
      "text/plain": [
       "  recipeID                       recipeName  matchingIngreds  matchingTags  \\\n",
       "0   451220         kohlrabi and carrot slaw                6             8   \n",
       "1    40925                 celery nut salad                3            13   \n",
       "2   503674      german  style tomato  salad                4             8   \n",
       "3   316505  stir fry parmesan yellow squash                2             9   \n",
       "4   188160              mexican night salad                4             9   \n",
       "\n",
       "   ingrRelScore  tagRelScore  \n",
       "0      1.438737     1.360175  \n",
       "1      1.075056     1.604395  \n",
       "2      1.098612     1.308640  \n",
       "3      0.648637     1.740889  \n",
       "4      0.854983     1.472219  "
      ]
     },
     "execution_count": 25,
     "metadata": {},
     "output_type": "execute_result"
    }
   ],
   "source": [
    "# Suggest recipe based on user's favorite ingredients, top tags\n",
    "# and nutritional values\n",
    "queries.find_matching_recipes_with_nutrition_and_tags(\n",
    "    gds,  \n",
    "    interacted_recipes, \n",
    "    favorite_ingredients, \n",
    "    top_tags, \n",
    "    calories_range, \n",
    "    fat_range, \n",
    "    sugar_range, \n",
    "    sodium_range, \n",
    "    protein_range,\n",
    "    sat_fat_range,\n",
    "    carbs_range,\n",
    ").head()"
   ]
  },
  {
   "cell_type": "markdown",
   "metadata": {},
   "source": [
    "## Evaluation"
   ]
  },
  {
   "cell_type": "code",
   "execution_count": 26,
   "metadata": {},
   "outputs": [
    {
     "data": {
      "text/html": [
       "<div>\n",
       "<style scoped>\n",
       "    .dataframe tbody tr th:only-of-type {\n",
       "        vertical-align: middle;\n",
       "    }\n",
       "\n",
       "    .dataframe tbody tr th {\n",
       "        vertical-align: top;\n",
       "    }\n",
       "\n",
       "    .dataframe thead th {\n",
       "        text-align: right;\n",
       "    }\n",
       "</style>\n",
       "<table border=\"1\" class=\"dataframe\">\n",
       "  <thead>\n",
       "    <tr style=\"text-align: right;\">\n",
       "      <th></th>\n",
       "      <th>user_id</th>\n",
       "      <th>recipe_id</th>\n",
       "      <th>date</th>\n",
       "      <th>rating</th>\n",
       "      <th>review</th>\n",
       "    </tr>\n",
       "  </thead>\n",
       "  <tbody>\n",
       "    <tr>\n",
       "      <th>0</th>\n",
       "      <td>1533</td>\n",
       "      <td>113227</td>\n",
       "      <td>2005-04-22</td>\n",
       "      <td>5</td>\n",
       "      <td>Stinkerbell, this recipe was great, I served it with steak and a salad.\\r\\n4 People ate the all. (I have to stop inviting the big eaters to dinner). Thanks so much and yes it is a keeper.</td>\n",
       "    </tr>\n",
       "    <tr>\n",
       "      <th>1</th>\n",
       "      <td>1533</td>\n",
       "      <td>13813</td>\n",
       "      <td>2005-05-05</td>\n",
       "      <td>5</td>\n",
       "      <td>This is amazing, everyone enjoyed it.\\r\\nWe all loved the crunch.\\r\\nI had 2 cans of pumpkin so I was all set.\\r\\nThanks for such a great treat.\\r\\nIts a keeper.</td>\n",
       "    </tr>\n",
       "    <tr>\n",
       "      <th>2</th>\n",
       "      <td>1533</td>\n",
       "      <td>110139</td>\n",
       "      <td>2005-05-05</td>\n",
       "      <td>5</td>\n",
       "      <td>Oh Tish this has been helpful.\\r\\nI made the recipe and frozen half in 4 c. serving containers.\\r\\nIt was great the first night and next day..but what came out of the freezer was so good. All i added was a little water mixed with soy sauce. add to the wok and perfect.\\r\\nIts a keeper and Im going to make it again sunday. Thanks great recipe.</td>\n",
       "    </tr>\n",
       "    <tr>\n",
       "      <th>3</th>\n",
       "      <td>1533</td>\n",
       "      <td>45218</td>\n",
       "      <td>2005-05-05</td>\n",
       "      <td>5</td>\n",
       "      <td>I had just enough raisin bran cereal to make these. They turned out lovely.\\r\\nI froze 12 of them and they did come out perfect.\\r\\nThanks so much, its a keeper.</td>\n",
       "    </tr>\n",
       "    <tr>\n",
       "      <th>4</th>\n",
       "      <td>1533</td>\n",
       "      <td>81473</td>\n",
       "      <td>2005-05-12</td>\n",
       "      <td>5</td>\n",
       "      <td>Tebo, oh my this was wonderful. I served it with Bergy's Black Bean Spareribs #23717.\\r\\nIt was such a nice combo.\\r\\nThanks so much Tebo.\\r\\nIts a keeper.</td>\n",
       "    </tr>\n",
       "  </tbody>\n",
       "</table>\n",
       "</div>"
      ],
      "text/plain": [
       "   user_id  recipe_id        date  rating  \\\n",
       "0     1533     113227  2005-04-22       5   \n",
       "1     1533      13813  2005-05-05       5   \n",
       "2     1533     110139  2005-05-05       5   \n",
       "3     1533      45218  2005-05-05       5   \n",
       "4     1533      81473  2005-05-12       5   \n",
       "\n",
       "                                                                                                                                                                                                                                                                                                                                                    review  \n",
       "0                                                                                                                                                              Stinkerbell, this recipe was great, I served it with steak and a salad.\\r\\n4 People ate the all. (I have to stop inviting the big eaters to dinner). Thanks so much and yes it is a keeper.  \n",
       "1                                                                                                                                                                                        This is amazing, everyone enjoyed it.\\r\\nWe all loved the crunch.\\r\\nI had 2 cans of pumpkin so I was all set.\\r\\nThanks for such a great treat.\\r\\nIts a keeper.  \n",
       "2  Oh Tish this has been helpful.\\r\\nI made the recipe and frozen half in 4 c. serving containers.\\r\\nIt was great the first night and next day..but what came out of the freezer was so good. All i added was a little water mixed with soy sauce. add to the wok and perfect.\\r\\nIts a keeper and Im going to make it again sunday. Thanks great recipe.  \n",
       "3                                                                                                                                                                                        I had just enough raisin bran cereal to make these. They turned out lovely.\\r\\nI froze 12 of them and they did come out perfect.\\r\\nThanks so much, its a keeper.  \n",
       "4                                                                                                                                                                                              Tebo, oh my this was wonderful. I served it with Bergy's Black Bean Spareribs #23717.\\r\\nIt was such a nice combo.\\r\\nThanks so much Tebo.\\r\\nIts a keeper.  "
      ]
     },
     "execution_count": 26,
     "metadata": {},
     "output_type": "execute_result"
    }
   ],
   "source": [
    "# Load generated test data\n",
    "test_reviewed_df = pd.read_csv(os.path.join(NEO4J_IMPORT_DIR, 'test_reviewed.csv'))\n",
    "# Load train data\n",
    "train_reviewed_df = pd.read_csv(os.path.join(NEO4J_IMPORT_DIR, 'reviewed.csv'))\n",
    "\n",
    "# Show result\n",
    "test_reviewed_df.head()"
   ]
  },
  {
   "cell_type": "code",
   "execution_count": 27,
   "metadata": {},
   "outputs": [
    {
     "data": {
      "application/vnd.jupyter.widget-view+json": {
       "model_id": "1e8212dc307b4516b265e52902a0999b",
       "version_major": 2,
       "version_minor": 0
      },
      "text/plain": [
       "Evaluating users:   0%|          | 0/50 [00:00<?, ?it/s]"
      ]
     },
     "metadata": {},
     "output_type": "display_data"
    },
    {
     "name": "stdout",
     "output_type": "stream",
     "text": [
      "No recommendations found for user 1287956, skipping evaluation...\n",
      "No recommendations found for user 1020416, skipping evaluation...\n",
      "No recommendations found for user 529278, skipping evaluation...\n",
      "No recommendations found for user 1175362, skipping evaluation...\n",
      "No recommendations found for user 104472, skipping evaluation...\n",
      "Mean Precision: 0.00\n",
      "Mean Recall: 0.01\n",
      "Mean F1 Score: 0.00\n"
     ]
    }
   ],
   "source": [
    "# Initialize lists to store metrics for each user\n",
    "precisions = []\n",
    "recalls = []\n",
    "\n",
    "# Iterate over a sample of N unique users in the test set\n",
    "for user_id in tqdm(np.random.choice(test_reviewed_df['user_id'].unique(), size=50, replace=False), desc='Evaluating users'):\n",
    "\n",
    "    # Retrieve recipies the user has interacted with (reviewed or published)\n",
    "    interacted_recipes = list(set(queries.get_user_interactions(gds, str(user_id), verbose=False)['recipeID']))\n",
    "\n",
    "    # INGREDIENTS #############################################################################################\n",
    "    favIngr = queries.get_user_favourite_ingredients(\n",
    "        gds, \n",
    "        str(user_id), \n",
    "        excluded_ingr,\n",
    "        verbose=False\n",
    "    )\n",
    "    # Skip if no favorite ingredients found\n",
    "    if favIngr.empty: continue\n",
    "    # Calculate the threshold count for the given percentile\n",
    "    # To do so, we need to remove duplicates and calculate the percentile\n",
    "    threshold_count = np.percentile(list(set(favIngr['favCount'])), 50)\n",
    "    # Filter the DataFrame for ingredients above the threshold\n",
    "    favIngr = favIngr[favIngr['favCount'] >= threshold_count]\n",
    "    # Extract favorite ingredients\n",
    "    favorite_ingredients = list(favIngr['favoriteIngredient'])\n",
    "\n",
    "\n",
    "    # TAGS ###################################################################################################\n",
    "    userTags = queries.get_user_top_tags(\n",
    "        gds, \n",
    "        str(user_id), \n",
    "        excluded_tags, \n",
    "        verbose=False\n",
    "    )\n",
    "    # Skip if no tags found\n",
    "    if userTags.empty:\n",
    "        print(f\"No tags found for user {user_id}, using default tags...\")\n",
    "        continue\n",
    "\n",
    "    # Calculate the threshold count for the given percentile\n",
    "    # To do so, we need to remove duplicates and calculate the percentile\n",
    "    threshold_count = np.percentile(list(set(userTags['tagCount'])), 50)\n",
    "    # Filter the DataFrame for tags count above the threshold\n",
    "    userTags = userTags[userTags['tagCount'] >= threshold_count]\n",
    "    # Extract the top tags\n",
    "    top_tags = list(userTags['tag'])\n",
    "\n",
    "\n",
    "    # NUTRITIONAL VALUES #######################################################################################\n",
    "    nutrVal = queries.get_user_nutritional_values(\n",
    "        gds, \n",
    "        str(user_id), \n",
    "        verbose=False\n",
    "    )\n",
    "    # Skip if no nutritional values found\n",
    "    if nutrVal.empty:\n",
    "        print(f\"No nutritional values found for user {user_id}, using default ranges...\")\n",
    "        continue\n",
    "    # Get nutritional values ranges\n",
    "    calories_range, fat_range, sugar_range, sodium_range, protein_range, sat_fat_range, carbs_range = utils.get_nutritional_values(nutrVal, verbose=False)\n",
    "\n",
    "\n",
    "    # RECOMMENDATIONS ##########################################################################################\n",
    "    recs_df = queries.find_matching_recipes_with_nutrition_and_tags(\n",
    "        gds, \n",
    "        interacted_recipes, \n",
    "        favorite_ingredients, \n",
    "        list(userTags['tag']), \n",
    "        calories_range, \n",
    "        fat_range, \n",
    "        sugar_range, \n",
    "        sodium_range, \n",
    "        protein_range,\n",
    "        sat_fat_range,\n",
    "        carbs_range,\n",
    "        verbose=False\n",
    "    )\n",
    "    # Skip if no recommendations found\n",
    "    if recs_df.empty:\n",
    "        print(f\"No recommendations found for user {user_id}, skipping evaluation...\")\n",
    "        continue\n",
    "\n",
    "    # Filter the test set for the selected user\n",
    "    user_test_df = test_reviewed_df[test_reviewed_df['user_id'] == user_id].copy()\n",
    "    # Convert recipe_id in user_test_df to string for consistent comparison\n",
    "    user_test_df['recipe_id'] = user_test_df['recipe_id'].astype(str)\n",
    "\n",
    "    # Convert recommended RecipeIDs to a set for faster checks\n",
    "    recommended_ids = set(recs_df['recipeID'])\n",
    "    # Check if each recommended recipe is in the user's test interactions\n",
    "    relevant_items = user_test_df[user_test_df['recipe_id'].isin(recommended_ids)]\n",
    "\n",
    "    # Calculate True Positives (TP): recommended & relevant\n",
    "    TP = len(relevant_items)\n",
    "    # False Positives (FP): recommended but not relevant\n",
    "    FP = len(recommended_ids) - TP\n",
    "    # False Negatives (FN): relevant but not recommended\n",
    "    FN = len(user_test_df) - TP\n",
    "    # Compute Precision and Recall\n",
    "    precision = TP / (TP + FP) if TP + FP > 0 else 0\n",
    "    recall = TP / (TP + FN) if TP + FN > 0 else 0\n",
    "\n",
    "    # Store the precision and recall for each user\n",
    "    precisions.append(precision)\n",
    "    recalls.append(recall)\n",
    "    \n",
    "# After iterating through all users, compute the mean of precision and recall\n",
    "mean_precision = np.mean(precisions)\n",
    "mean_recall = np.mean(recalls)\n",
    "\n",
    "# Compute F1 score if needed\n",
    "f1_scores = [2 * (p * r) / (p + r) if (p + r) > 0 else 0 for p, r in zip(precisions, recalls)]\n",
    "mean_f1_score = np.mean(f1_scores)\n",
    "\n",
    "# Print the final aggregated results\n",
    "print(f\"Mean Precision: {mean_precision:.2f}\")\n",
    "print(f\"Mean Recall: {mean_recall:.2f}\")\n",
    "print(f\"Mean F1 Score: {mean_f1_score:.2f}\")"
   ]
  }
 ],
 "metadata": {
  "kernelspec": {
   "display_name": "Python 3",
   "language": "python",
   "name": "python3"
  },
  "language_info": {
   "codemirror_mode": {
    "name": "ipython",
    "version": 3
   },
   "file_extension": ".py",
   "mimetype": "text/x-python",
   "name": "python",
   "nbconvert_exporter": "python",
   "pygments_lexer": "ipython3",
   "version": "3.10.12"
  },
  "orig_nbformat": 4
 },
 "nbformat": 4,
 "nbformat_minor": 2
}
