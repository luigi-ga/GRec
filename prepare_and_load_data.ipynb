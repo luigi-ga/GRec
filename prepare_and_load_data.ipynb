{
 "cells": [
  {
   "cell_type": "code",
   "execution_count": 1,
   "metadata": {},
   "outputs": [],
   "source": [
    "import pandas as pd\n",
    "import ast\n",
    "import configparser\n",
    "import zipfile\n",
    "import os\n",
    "import textwrap\n",
    "\n",
    "from neo4j import GraphDatabase"
   ]
  },
  {
   "cell_type": "markdown",
   "metadata": {},
   "source": [
    "# Data Preparation and Neo4j Ingest\n",
    "\n",
    "In this notebook we format the \n",
    "[Food.com Recipes and Interactions Dataset](https://www.kaggle.com/datasets/shuyangli94/food-com-recipes-and-user-interactions?select=RAW_recipes.csv) [[1]](#1) and load it into a Neo4j graph. The work is divided into two primary sections in this notebook:\n",
    "\n",
    "1. __[Prepare Data (Extract & Transform)](#prepare-data)__\n",
    "2. __[Load Data Into Neo4j](#load-data)__\n",
    "\n",
    "__To run this notebook please do the following:__\n",
    " - Download the training and validation sets from [Food.com Recipes and Interactions Dataset](https://www.kaggle.com/datasets/shuyangli94/food-com-recipes-and-user-interactions?select=RAW_recipes.csv) and place into the `SOURCE_DATA_PATH` set in the below [Setup Parameters](#set-up) section.\n",
    "\n",
    " - Ensure the `NEO4J_IMPORT_DIR`, `NEO4j_IMPORT_PATH`, and `NEO4J_PROPERTIES_FILE` are set correctly for your environemnt in the below [Setup Parameters](#set-up) section.\n",
    "\n",
    "__Other Prerequisites:__\n",
    "- Neo4j. This notebook was tested with [Neo4j Desktop](https://neo4j.com/download-center/#desktop) and should work for other on-prem installations.\n",
    "- [APOC library](https://neo4j.com/labs/apoc/4.3/installation/). \n",
    "- Notebook tested with Python=3.8\n",
    "\n",
    "<a id=\"1\">[1]</a>\n",
    "Bodhisattwa Prasad Majumder, Shuyang Li, Jianmo Ni, and Julian McAuley. 2019. Generating Personalized Recipes from Historical User Preferences. In Proceedings of the 2019 Conference on Empirical Methods in Natural Language Processing and the 9th International Joint Conference on Natural Language Processing (EMNLP-IJCNLP), pages 5976–5982, Hong Kong, China. Association for Computational Linguistics."
   ]
  },
  {
   "cell_type": "markdown",
   "metadata": {},
   "source": [
    "## <a id=\"set-up\">Setup Parameters</a>"
   ]
  },
  {
   "cell_type": "markdown",
   "metadata": {},
   "source": [
    "#### Directory Settings"
   ]
  },
  {
   "cell_type": "code",
   "execution_count": 2,
   "metadata": {},
   "outputs": [],
   "source": [
    "# Data directory\n",
    "SOURCE_DATA_PATH = './data/'"
   ]
  },
  {
   "cell_type": "markdown",
   "metadata": {},
   "source": [
    "`NEO4J_IMPORT_DIR` sets the the directory to put formatted csvs in for Neo4j load.\n",
    "File locations for each OS are listed in the [Neo4j Operations Manual](https://neo4j.com/docs/operations-manual/current/configuration/file-locations). We recommend putting files in Neo4j’s `import` directory, as it keeps the environment secure. However, if you need to access files in other locations, you can find out which setting to alter in our [manual](https://neo4j.com/docs/cypher-manual/current/clauses/load-csv/#query-load-csv-introduction)."
   ]
  },
  {
   "cell_type": "code",
   "execution_count": 3,
   "metadata": {},
   "outputs": [],
   "source": [
    "NEO4J_IMPORT_DIR = '/home/luigi/.config/Neo4j Desktop/Application/relate-data/dbmss/dbms-e8e4d675-a4f4-4731-aff0-a9cc0edee8c4/import'"
   ]
  },
  {
   "cell_type": "markdown",
   "metadata": {},
   "source": [
    "`NEO4j_IMPORT_PATH` sets the path to use during CSV load. This will be 'file:///' by default and aligns with the local Neo4j `import` directory setup. \n",
    "See https://neo4j.com/developer/guide-import-csv/#_reading_csv_files for more details and customization"
   ]
  },
  {
   "cell_type": "code",
   "execution_count": 4,
   "metadata": {},
   "outputs": [],
   "source": [
    "NEO4j_IMPORT_PATH = 'file:///'"
   ]
  },
  {
   "cell_type": "markdown",
   "metadata": {},
   "source": [
    "#### Neo4j Settings\n",
    "The `NEO4J_PROPERTIES_FILE` is an ini configuration file for Neo4j properties so this notebook can connect to\n",
    "your Neo4j instance and load data. The ini file should be formatted as follows\n",
    "```\n",
    "[NEO4J]\n",
    "PASSWORD=<password>\n",
    "DATABASE=<database name, is 'neo4j' by default>\n",
    "HOST=<host uri>\n",
    "\n",
    "```\n",
    "\n",
    "Set `NEO4J_PROPERTIES_FILE` to None or any non-existent location to use the below defaults\n",
    "```\n",
    "HOST = 'neo4j://localhost'\n",
    "DATABASE = 'neo4j'\n",
    "PASSWORD = 'password'\n",
    "```"
   ]
  },
  {
   "cell_type": "code",
   "execution_count": 5,
   "metadata": {},
   "outputs": [],
   "source": [
    "NEO4J_PROPERTIES_FILE = None # 'path/to/your/neo4j_properties.ini'"
   ]
  },
  {
   "cell_type": "markdown",
   "metadata": {},
   "source": [
    "#### Impression Chunk Size\n",
    "The number of rows to work with at once when reading from source behaviors/impressions files. Recommend keeping\n",
    "this below 100,000 - ish unless you know your machine can handle more rows efficiently."
   ]
  },
  {
   "cell_type": "code",
   "execution_count": 6,
   "metadata": {},
   "outputs": [],
   "source": [
    "IMPRESSION_CHUNK_SIZE = 100_000"
   ]
  },
  {
   "cell_type": "markdown",
   "metadata": {},
   "source": [
    "## <a id=\"prepare-data\">Prepare Data (Extract & Transform)</a>\n",
    "In this section we extract and transform the source data into formatted csv files to prepare for [loading into Neo4j](#load-data).\n",
    "We will create the following csv files:\n",
    "\n",
    "__Recipes related graph elements__\n",
    "1. `recipe.csv`: Nodes representing recipes\n",
    "2. `ingredients.csv`: Nodes representing ingredients\n",
    "3. `with_ingredients.csv`: Relationship representing recipe having a set of ingredients\n",
    "4. `created.csv`: Relationship representing user creating (posting) a recipe\n",
    " \n",
    "__User and impression related graph elements__\n",
    "1. `users.csv`: Nodes representing anonymized users\n",
    "2. `reviewed.csv`: Relationship representing user reviewing a recipe"
   ]
  },
  {
   "cell_type": "markdown",
   "metadata": {},
   "source": [
    "### Unzip Source data"
   ]
  },
  {
   "cell_type": "code",
   "execution_count": 7,
   "metadata": {},
   "outputs": [],
   "source": [
    "# Extract zip file to SOURCE_DATA_PATH\n",
    "with zipfile.ZipFile(SOURCE_DATA_PATH + \"archive.zip\",\"r\") as zip_ref:\n",
    "    zip_ref.extractall(SOURCE_DATA_PATH)"
   ]
  },
  {
   "cell_type": "markdown",
   "metadata": {},
   "source": [
    "### Recipe Related Graph Elements\n",
    "\n",
    "Let's start by uploading the raw recipes csv file as a dataframe"
   ]
  },
  {
   "cell_type": "code",
   "execution_count": 8,
   "metadata": {},
   "outputs": [
    {
     "data": {
      "text/html": [
       "<div>\n",
       "<style scoped>\n",
       "    .dataframe tbody tr th:only-of-type {\n",
       "        vertical-align: middle;\n",
       "    }\n",
       "\n",
       "    .dataframe tbody tr th {\n",
       "        vertical-align: top;\n",
       "    }\n",
       "\n",
       "    .dataframe thead th {\n",
       "        text-align: right;\n",
       "    }\n",
       "</style>\n",
       "<table border=\"1\" class=\"dataframe\">\n",
       "  <thead>\n",
       "    <tr style=\"text-align: right;\">\n",
       "      <th></th>\n",
       "      <th>name</th>\n",
       "      <th>id</th>\n",
       "      <th>minutes</th>\n",
       "      <th>contributor_id</th>\n",
       "      <th>submitted</th>\n",
       "      <th>tags</th>\n",
       "      <th>nutrition</th>\n",
       "      <th>n_steps</th>\n",
       "      <th>steps</th>\n",
       "      <th>description</th>\n",
       "      <th>ingredients</th>\n",
       "      <th>n_ingredients</th>\n",
       "    </tr>\n",
       "  </thead>\n",
       "  <tbody>\n",
       "    <tr>\n",
       "      <th>0</th>\n",
       "      <td>arriba   baked winter squash mexican style</td>\n",
       "      <td>137739</td>\n",
       "      <td>55</td>\n",
       "      <td>47892</td>\n",
       "      <td>2005-09-16</td>\n",
       "      <td>['60-minutes-or-less', 'time-to-make', 'course...</td>\n",
       "      <td>[51.5, 0.0, 13.0, 0.0, 2.0, 0.0, 4.0]</td>\n",
       "      <td>11</td>\n",
       "      <td>['make a choice and proceed with recipe', 'dep...</td>\n",
       "      <td>autumn is my favorite time of year to cook! th...</td>\n",
       "      <td>['winter squash', 'mexican seasoning', 'mixed ...</td>\n",
       "      <td>7</td>\n",
       "    </tr>\n",
       "    <tr>\n",
       "      <th>1</th>\n",
       "      <td>a bit different  breakfast pizza</td>\n",
       "      <td>31490</td>\n",
       "      <td>30</td>\n",
       "      <td>26278</td>\n",
       "      <td>2002-06-17</td>\n",
       "      <td>['30-minutes-or-less', 'time-to-make', 'course...</td>\n",
       "      <td>[173.4, 18.0, 0.0, 17.0, 22.0, 35.0, 1.0]</td>\n",
       "      <td>9</td>\n",
       "      <td>['preheat oven to 425 degrees f', 'press dough...</td>\n",
       "      <td>this recipe calls for the crust to be prebaked...</td>\n",
       "      <td>['prepared pizza crust', 'sausage patty', 'egg...</td>\n",
       "      <td>6</td>\n",
       "    </tr>\n",
       "  </tbody>\n",
       "</table>\n",
       "</div>"
      ],
      "text/plain": [
       "                                         name      id  minutes  \\\n",
       "0  arriba   baked winter squash mexican style  137739       55   \n",
       "1            a bit different  breakfast pizza   31490       30   \n",
       "\n",
       "   contributor_id   submitted  \\\n",
       "0           47892  2005-09-16   \n",
       "1           26278  2002-06-17   \n",
       "\n",
       "                                                tags  \\\n",
       "0  ['60-minutes-or-less', 'time-to-make', 'course...   \n",
       "1  ['30-minutes-or-less', 'time-to-make', 'course...   \n",
       "\n",
       "                                   nutrition  n_steps  \\\n",
       "0      [51.5, 0.0, 13.0, 0.0, 2.0, 0.0, 4.0]       11   \n",
       "1  [173.4, 18.0, 0.0, 17.0, 22.0, 35.0, 1.0]        9   \n",
       "\n",
       "                                               steps  \\\n",
       "0  ['make a choice and proceed with recipe', 'dep...   \n",
       "1  ['preheat oven to 425 degrees f', 'press dough...   \n",
       "\n",
       "                                         description  \\\n",
       "0  autumn is my favorite time of year to cook! th...   \n",
       "1  this recipe calls for the crust to be prebaked...   \n",
       "\n",
       "                                         ingredients  n_ingredients  \n",
       "0  ['winter squash', 'mexican seasoning', 'mixed ...              7  \n",
       "1  ['prepared pizza crust', 'sausage patty', 'egg...              6  "
      ]
     },
     "execution_count": 8,
     "metadata": {},
     "output_type": "execute_result"
    }
   ],
   "source": [
    "# Read RAW_recipes.csv file to raw_recipes_df dataframe\n",
    "raw_recipes_df = pd.read_csv(f'{SOURCE_DATA_PATH}RAW_recipes.csv')\n",
    "raw_recipes_df.head(n=2)"
   ]
  },
  {
   "cell_type": "markdown",
   "metadata": {},
   "source": [
    "#### Recipe Nodes\n",
    "For the recipe node we will basically just drop some columns from the raw_recipes_df and just keep the following columns:\n",
    "1. `name`: recipe name\n",
    "2. `id`: recipe id\n",
    "3. `minutes`: minutes needed to prepare the recipe\n",
    "4. `tags`: food.com tags for the recipe\n",
    "5. `nutrition`: nutrition information (calories (#), total fat (PDV), sugar (PDV) , sodium (PDV) , protein (PDV) , saturated fat)\n",
    "6. `n_steps`: number of steps in the recipe\n",
    "7. `steps`: text for recipe steps in order\n",
    "8. `description`: user-provided description of the recipe\n",
    "9. `n_ingredients`: number of ingredients needed"
   ]
  },
  {
   "cell_type": "code",
   "execution_count": 9,
   "metadata": {},
   "outputs": [
    {
     "name": "stderr",
     "output_type": "stream",
     "text": [
      "<ipython-input-9-289273ee32c3>:4: SettingWithCopyWarning: \n",
      "A value is trying to be set on a copy of a slice from a DataFrame\n",
      "\n",
      "See the caveats in the documentation: https://pandas.pydata.org/pandas-docs/stable/user_guide/indexing.html#returning-a-view-versus-a-copy\n",
      "  recipes_df['name'].fillna('No Name', inplace=True)\n",
      "<ipython-input-9-289273ee32c3>:5: SettingWithCopyWarning: \n",
      "A value is trying to be set on a copy of a slice from a DataFrame\n",
      "\n",
      "See the caveats in the documentation: https://pandas.pydata.org/pandas-docs/stable/user_guide/indexing.html#returning-a-view-versus-a-copy\n",
      "  recipes_df['description'].fillna('No Description', inplace=True)\n"
     ]
    },
    {
     "data": {
      "text/html": [
       "<div>\n",
       "<style scoped>\n",
       "    .dataframe tbody tr th:only-of-type {\n",
       "        vertical-align: middle;\n",
       "    }\n",
       "\n",
       "    .dataframe tbody tr th {\n",
       "        vertical-align: top;\n",
       "    }\n",
       "\n",
       "    .dataframe thead th {\n",
       "        text-align: right;\n",
       "    }\n",
       "</style>\n",
       "<table border=\"1\" class=\"dataframe\">\n",
       "  <thead>\n",
       "    <tr style=\"text-align: right;\">\n",
       "      <th></th>\n",
       "      <th>name</th>\n",
       "      <th>id</th>\n",
       "      <th>minutes</th>\n",
       "      <th>tags</th>\n",
       "      <th>nutrition</th>\n",
       "      <th>n_steps</th>\n",
       "      <th>steps</th>\n",
       "      <th>description</th>\n",
       "      <th>n_ingredients</th>\n",
       "    </tr>\n",
       "  </thead>\n",
       "  <tbody>\n",
       "    <tr>\n",
       "      <th>0</th>\n",
       "      <td>arriba   baked winter squash mexican style</td>\n",
       "      <td>137739</td>\n",
       "      <td>55</td>\n",
       "      <td>['60-minutes-or-less', 'time-to-make', 'course...</td>\n",
       "      <td>[51.5, 0.0, 13.0, 0.0, 2.0, 0.0, 4.0]</td>\n",
       "      <td>11</td>\n",
       "      <td>['make a choice and proceed with recipe', 'dep...</td>\n",
       "      <td>autumn is my favorite time of year to cook! th...</td>\n",
       "      <td>7</td>\n",
       "    </tr>\n",
       "    <tr>\n",
       "      <th>1</th>\n",
       "      <td>a bit different  breakfast pizza</td>\n",
       "      <td>31490</td>\n",
       "      <td>30</td>\n",
       "      <td>['30-minutes-or-less', 'time-to-make', 'course...</td>\n",
       "      <td>[173.4, 18.0, 0.0, 17.0, 22.0, 35.0, 1.0]</td>\n",
       "      <td>9</td>\n",
       "      <td>['preheat oven to 425 degrees f', 'press dough...</td>\n",
       "      <td>this recipe calls for the crust to be prebaked...</td>\n",
       "      <td>6</td>\n",
       "    </tr>\n",
       "  </tbody>\n",
       "</table>\n",
       "</div>"
      ],
      "text/plain": [
       "                                         name      id  minutes  \\\n",
       "0  arriba   baked winter squash mexican style  137739       55   \n",
       "1            a bit different  breakfast pizza   31490       30   \n",
       "\n",
       "                                                tags  \\\n",
       "0  ['60-minutes-or-less', 'time-to-make', 'course...   \n",
       "1  ['30-minutes-or-less', 'time-to-make', 'course...   \n",
       "\n",
       "                                   nutrition  n_steps  \\\n",
       "0      [51.5, 0.0, 13.0, 0.0, 2.0, 0.0, 4.0]       11   \n",
       "1  [173.4, 18.0, 0.0, 17.0, 22.0, 35.0, 1.0]        9   \n",
       "\n",
       "                                               steps  \\\n",
       "0  ['make a choice and proceed with recipe', 'dep...   \n",
       "1  ['preheat oven to 425 degrees f', 'press dough...   \n",
       "\n",
       "                                         description  n_ingredients  \n",
       "0  autumn is my favorite time of year to cook! th...              7  \n",
       "1  this recipe calls for the crust to be prebaked...              6  "
      ]
     },
     "execution_count": 9,
     "metadata": {},
     "output_type": "execute_result"
    }
   ],
   "source": [
    "# Create recipes dataframe\n",
    "recipes_df = raw_recipes_df[['name', 'id', 'minutes', 'tags', 'nutrition', 'n_steps', 'steps', 'description', 'n_ingredients']]\n",
    "# Set default values\n",
    "recipes_df['name'].fillna('No Name', inplace=True)\n",
    "recipes_df['description'].fillna('No Description', inplace=True)\n",
    "# Save as csv file to NEO4J_IMPORT_DIR\n",
    "recipes_df.to_csv(f'{NEO4J_IMPORT_DIR}/recipes.csv', index = False)\n",
    "# Show dataframe\n",
    "recipes_df.head(n=2)"
   ]
  },
  {
   "cell_type": "markdown",
   "metadata": {},
   "source": [
    "#### Ingredients Nodes\n",
    "For the ingredients node we will create a set of ingredients iterating all recipies and create a dataframe with the following colums:\n",
    "1. `id`: ingredient ID\n",
    "2. `name`: ingredient name"
   ]
  },
  {
   "cell_type": "code",
   "execution_count": 10,
   "metadata": {},
   "outputs": [
    {
     "data": {
      "text/html": [
       "<div>\n",
       "<style scoped>\n",
       "    .dataframe tbody tr th:only-of-type {\n",
       "        vertical-align: middle;\n",
       "    }\n",
       "\n",
       "    .dataframe tbody tr th {\n",
       "        vertical-align: top;\n",
       "    }\n",
       "\n",
       "    .dataframe thead th {\n",
       "        text-align: right;\n",
       "    }\n",
       "</style>\n",
       "<table border=\"1\" class=\"dataframe\">\n",
       "  <thead>\n",
       "    <tr style=\"text-align: right;\">\n",
       "      <th></th>\n",
       "      <th>name</th>\n",
       "      <th>id</th>\n",
       "    </tr>\n",
       "  </thead>\n",
       "  <tbody>\n",
       "    <tr>\n",
       "      <th>0</th>\n",
       "      <td>winter squash</td>\n",
       "      <td>1</td>\n",
       "    </tr>\n",
       "    <tr>\n",
       "      <th>1</th>\n",
       "      <td>mexican seasoning</td>\n",
       "      <td>2</td>\n",
       "    </tr>\n",
       "  </tbody>\n",
       "</table>\n",
       "</div>"
      ],
      "text/plain": [
       "                name  id\n",
       "0      winter squash   1\n",
       "1  mexican seasoning   2"
      ]
     },
     "execution_count": 10,
     "metadata": {},
     "output_type": "execute_result"
    }
   ],
   "source": [
    "# Create an empty set to store unique ingredients\n",
    "ingredients_dict = dict()\n",
    "id_counter = 1\n",
    "\n",
    "# Iterate over all lists of ingredients\n",
    "for ingredients_list in raw_recipes_df['ingredients']:\n",
    "    # Iterate over all ingredients\n",
    "    for ingredient in ast.literal_eval(ingredients_list):\n",
    "        # Add ingredient to the dictionary (if not present)\n",
    "        if ingredient not in ingredients_dict:\n",
    "            ingredients_dict[ingredient] = id_counter\n",
    "            id_counter += 1\n",
    "\n",
    "# Create a dataframe from the ingredients dictionary\n",
    "ingredients_df = pd.DataFrame(list(ingredients_dict.items()), columns=['name', 'id'])\n",
    "# Save as csv file to NEO4J_IMPORT_DIR\n",
    "ingredients_df.to_csv(f'{NEO4J_IMPORT_DIR}/ingredients.csv', index = False)\n",
    "# Show dataframe\n",
    "ingredients_df.head(n=2)"
   ]
  },
  {
   "cell_type": "markdown",
   "metadata": {},
   "source": [
    "#### WithIngredients Relationship\n",
    "\n",
    "\n",
    "\n",
    "For the with_ingredients relationship we will instead create a dataframe with the following columns:\n",
    "1. `recipe_id`: id of the recipe\n",
    "2. `ingredient_id`: name of the ingredient"
   ]
  },
  {
   "cell_type": "code",
   "execution_count": 11,
   "metadata": {},
   "outputs": [
    {
     "data": {
      "text/html": [
       "<div>\n",
       "<style scoped>\n",
       "    .dataframe tbody tr th:only-of-type {\n",
       "        vertical-align: middle;\n",
       "    }\n",
       "\n",
       "    .dataframe tbody tr th {\n",
       "        vertical-align: top;\n",
       "    }\n",
       "\n",
       "    .dataframe thead th {\n",
       "        text-align: right;\n",
       "    }\n",
       "</style>\n",
       "<table border=\"1\" class=\"dataframe\">\n",
       "  <thead>\n",
       "    <tr style=\"text-align: right;\">\n",
       "      <th></th>\n",
       "      <th>recipe_id</th>\n",
       "      <th>ingredient_id</th>\n",
       "    </tr>\n",
       "  </thead>\n",
       "  <tbody>\n",
       "    <tr>\n",
       "      <th>0</th>\n",
       "      <td>137739</td>\n",
       "      <td>1</td>\n",
       "    </tr>\n",
       "    <tr>\n",
       "      <th>1</th>\n",
       "      <td>137739</td>\n",
       "      <td>2</td>\n",
       "    </tr>\n",
       "  </tbody>\n",
       "</table>\n",
       "</div>"
      ],
      "text/plain": [
       "   recipe_id  ingredient_id\n",
       "0     137739              1\n",
       "1     137739              2"
      ]
     },
     "execution_count": 11,
     "metadata": {},
     "output_type": "execute_result"
    }
   ],
   "source": [
    "# Initialize an empty list for 'WITH_INGREDIENTS' relation\n",
    "recipe_ingr_data = []\n",
    "\n",
    "# Iterate through raw_recipes_df recipes\n",
    "for index, row in raw_recipes_df.iterrows():\n",
    "    # Iterate through the recipe's ingredients list\n",
    "    for ingredient in ast.literal_eval(row['ingredients']):\n",
    "        # Add to relation the entry <recipe_id>, <ingredient_id>\n",
    "        recipe_ingr_data.append({'recipe_id':row['id'], 'ingredient_id':ingredients_dict[ingredient]})\n",
    "\n",
    "# Create with_ingredients dataframe from recipe_ingr_data\n",
    "with_ingredients_df = pd.DataFrame(recipe_ingr_data)\n",
    "# Save as csv file to NEO4J_IMPORT_DIR\n",
    "with_ingredients_df.to_csv(f'{NEO4J_IMPORT_DIR}/with_ingredients.csv', index = False)\n",
    "# Show dataframe\n",
    "with_ingredients_df.head(n=2)"
   ]
  },
  {
   "cell_type": "markdown",
   "metadata": {},
   "source": [
    "#### Created Relationships\n",
    "\n",
    "The created relationship will include data about which user created a recipe with the following columns:\n",
    "1. `recipe_id`: recipe ID\n",
    "2. `user_id`: user ID of the contributor (user who created the recipe)\n",
    "3. `submitted`: date recipe was submitted"
   ]
  },
  {
   "cell_type": "code",
   "execution_count": 12,
   "metadata": {},
   "outputs": [
    {
     "data": {
      "text/html": [
       "<div>\n",
       "<style scoped>\n",
       "    .dataframe tbody tr th:only-of-type {\n",
       "        vertical-align: middle;\n",
       "    }\n",
       "\n",
       "    .dataframe tbody tr th {\n",
       "        vertical-align: top;\n",
       "    }\n",
       "\n",
       "    .dataframe thead th {\n",
       "        text-align: right;\n",
       "    }\n",
       "</style>\n",
       "<table border=\"1\" class=\"dataframe\">\n",
       "  <thead>\n",
       "    <tr style=\"text-align: right;\">\n",
       "      <th></th>\n",
       "      <th>recipe_id</th>\n",
       "      <th>user_id</th>\n",
       "      <th>submitted</th>\n",
       "    </tr>\n",
       "  </thead>\n",
       "  <tbody>\n",
       "    <tr>\n",
       "      <th>0</th>\n",
       "      <td>137739</td>\n",
       "      <td>47892</td>\n",
       "      <td>2005-09-16</td>\n",
       "    </tr>\n",
       "    <tr>\n",
       "      <th>1</th>\n",
       "      <td>31490</td>\n",
       "      <td>26278</td>\n",
       "      <td>2002-06-17</td>\n",
       "    </tr>\n",
       "  </tbody>\n",
       "</table>\n",
       "</div>"
      ],
      "text/plain": [
       "   recipe_id  user_id   submitted\n",
       "0     137739    47892  2005-09-16\n",
       "1      31490    26278  2002-06-17"
      ]
     },
     "execution_count": 12,
     "metadata": {},
     "output_type": "execute_result"
    }
   ],
   "source": [
    "# Create created_df dataframe\n",
    "created_df = raw_recipes_df[['id', 'contributor_id', 'submitted']].drop_duplicates()\n",
    "# Rename columns \n",
    "created_df = created_df.rename(columns={'id': 'recipe_id', 'contributor_id':'user_id'})\n",
    "# Save as csv file to NEO4J_IMPORT_DIR\n",
    "created_df.to_csv(f'{NEO4J_IMPORT_DIR}/created.csv', index = False)\n",
    "# Show dataframe\n",
    "created_df.head(n=2)"
   ]
  },
  {
   "cell_type": "markdown",
   "metadata": {},
   "source": [
    "### User and Impression Related Graph Elements\n",
    "\n",
    "The reviewed relation is just given by the RAW_interactions.csv, hence we can keep it as it is with the following columns:\n",
    "1. `user_id`: user_id\n",
    "2. `recipe_id`: recipe_id\n",
    "3. `date`: date of interaction\n",
    "4. `rating`: given rating (0 to 5)\n",
    "5. `review`: review text"
   ]
  },
  {
   "cell_type": "code",
   "execution_count": 13,
   "metadata": {},
   "outputs": [
    {
     "data": {
      "text/html": [
       "<div>\n",
       "<style scoped>\n",
       "    .dataframe tbody tr th:only-of-type {\n",
       "        vertical-align: middle;\n",
       "    }\n",
       "\n",
       "    .dataframe tbody tr th {\n",
       "        vertical-align: top;\n",
       "    }\n",
       "\n",
       "    .dataframe thead th {\n",
       "        text-align: right;\n",
       "    }\n",
       "</style>\n",
       "<table border=\"1\" class=\"dataframe\">\n",
       "  <thead>\n",
       "    <tr style=\"text-align: right;\">\n",
       "      <th></th>\n",
       "      <th>user_id</th>\n",
       "      <th>recipe_id</th>\n",
       "      <th>date</th>\n",
       "      <th>rating</th>\n",
       "      <th>review</th>\n",
       "    </tr>\n",
       "  </thead>\n",
       "  <tbody>\n",
       "    <tr>\n",
       "      <th>0</th>\n",
       "      <td>38094</td>\n",
       "      <td>40893</td>\n",
       "      <td>2003-02-17</td>\n",
       "      <td>4</td>\n",
       "      <td>Great with a salad. Cooked on top of stove for...</td>\n",
       "    </tr>\n",
       "    <tr>\n",
       "      <th>1</th>\n",
       "      <td>1293707</td>\n",
       "      <td>40893</td>\n",
       "      <td>2011-12-21</td>\n",
       "      <td>5</td>\n",
       "      <td>So simple, so delicious! Great for chilly fall...</td>\n",
       "    </tr>\n",
       "  </tbody>\n",
       "</table>\n",
       "</div>"
      ],
      "text/plain": [
       "   user_id  recipe_id        date  rating  \\\n",
       "0    38094      40893  2003-02-17       4   \n",
       "1  1293707      40893  2011-12-21       5   \n",
       "\n",
       "                                              review  \n",
       "0  Great with a salad. Cooked on top of stove for...  \n",
       "1  So simple, so delicious! Great for chilly fall...  "
      ]
     },
     "execution_count": 13,
     "metadata": {},
     "output_type": "execute_result"
    }
   ],
   "source": [
    "# Read RAW_recipes.csv file to raw_recipes_df dataframe\n",
    "reviewed_df = pd.read_csv(f'{SOURCE_DATA_PATH}RAW_interactions.csv')\n",
    "# Save as csv file to NEO4J_IMPORT_DIR\n",
    "reviewed_df.to_csv(f'{NEO4J_IMPORT_DIR}/reviewed.csv', index = False)\n",
    "# Show dataframe\n",
    "reviewed_df.head(n=2)"
   ]
  },
  {
   "cell_type": "markdown",
   "metadata": {},
   "source": [
    "#### User Nodes\n",
    "\n",
    "For the user nodes, we will just keep unique 'user_id' from the ratings data:"
   ]
  },
  {
   "cell_type": "code",
   "execution_count": 14,
   "metadata": {},
   "outputs": [
    {
     "data": {
      "text/html": [
       "<div>\n",
       "<style scoped>\n",
       "    .dataframe tbody tr th:only-of-type {\n",
       "        vertical-align: middle;\n",
       "    }\n",
       "\n",
       "    .dataframe tbody tr th {\n",
       "        vertical-align: top;\n",
       "    }\n",
       "\n",
       "    .dataframe thead th {\n",
       "        text-align: right;\n",
       "    }\n",
       "</style>\n",
       "<table border=\"1\" class=\"dataframe\">\n",
       "  <thead>\n",
       "    <tr style=\"text-align: right;\">\n",
       "      <th></th>\n",
       "      <th>id</th>\n",
       "    </tr>\n",
       "  </thead>\n",
       "  <tbody>\n",
       "    <tr>\n",
       "      <th>0</th>\n",
       "      <td>38094</td>\n",
       "    </tr>\n",
       "    <tr>\n",
       "      <th>1</th>\n",
       "      <td>1293707</td>\n",
       "    </tr>\n",
       "  </tbody>\n",
       "</table>\n",
       "</div>"
      ],
      "text/plain": [
       "        id\n",
       "0    38094\n",
       "1  1293707"
      ]
     },
     "execution_count": 14,
     "metadata": {},
     "output_type": "execute_result"
    }
   ],
   "source": [
    "# Create user dataframe\n",
    "user_df = reviewed_df[['user_id']].drop_duplicates().rename(columns={'user_id': 'id'})\n",
    "# Save as csv file to NEO4J_IMPORT_DIR\n",
    "user_df.to_csv(f'{NEO4J_IMPORT_DIR}/users.csv', index = False)\n",
    "# Show dataframe\n",
    "user_df.head(n=2)"
   ]
  },
  {
   "cell_type": "markdown",
   "metadata": {},
   "source": [
    "## <a id=\"load-data\">Load Data Into Neo4j</a>\n",
    "\n",
    "In this section we will load the above transformed data into Neo4j. As a good rule of practice for Neo4j bulk loading,\n",
    "I have found it ideal if you can follow the below pattern. Note that for this to work, each node should have some sort\n",
    "of external unique id, or you must otherwise create one at ingest time.\n",
    "\n",
    "1. __Set a uniqueness constraint__ on a property for each node label\n",
    "2. __Load nodes__ using `MERGE` which is similar to an upsert pattern on the above uniqueness constraint and is very well optimized in Neo4j\n",
    "3. __Load relationships__ using `MATCH` and `MERGE` to find adjacent nodes on uniqueness constraint and upsert respectively"
   ]
  },
  {
   "cell_type": "code",
   "execution_count": 15,
   "metadata": {},
   "outputs": [
    {
     "name": "stdout",
     "output_type": "stream",
     "text": [
      "Could not find database properties file, using defaults\n"
     ]
    }
   ],
   "source": [
    "## Using an ini file for credentials, otherwise providing defaults\n",
    "HOST = 'bolt://localhost:7687'\n",
    "DATABASE = 'neo4j'\n",
    "PASSWORD = 'LU?vVtYf8])9;^z'\n",
    "\n",
    "if NEO4J_PROPERTIES_FILE is not None and os.path.exists(NEO4J_PROPERTIES_FILE):\n",
    "    config = configparser.RawConfigParser()\n",
    "    config.read(NEO4J_PROPERTIES_FILE)\n",
    "    HOST = config['NEO4J']['HOST']\n",
    "    DATABASE = config['NEO4J']['DATABASE']\n",
    "    PASSWORD = config['NEO4J']['PASSWORD']\n",
    "    print('Using custom database properties')\n",
    "else:\n",
    "    print('Could not find database properties file, using defaults')"
   ]
  },
  {
   "cell_type": "code",
   "execution_count": 16,
   "metadata": {},
   "outputs": [],
   "source": [
    "# helper function\n",
    "def run(driver, query, params=None):\n",
    "    with driver.session() as session:\n",
    "        if params is not None:\n",
    "            return [r for r in session.run(query, params)]\n",
    "        else:\n",
    "            return [r for r in session.run(query)]"
   ]
  },
  {
   "cell_type": "code",
   "execution_count": 17,
   "metadata": {},
   "outputs": [],
   "source": [
    "driver = GraphDatabase.driver(HOST, auth=(DATABASE, PASSWORD))"
   ]
  },
  {
   "cell_type": "markdown",
   "metadata": {},
   "source": [
    "### Set Uniqueness Constraints\n",
    "First, let's clear the database"
   ]
  },
  {
   "cell_type": "code",
   "execution_count": 18,
   "metadata": {},
   "outputs": [
    {
     "data": {
      "text/plain": [
       "[<Record updates=473149 executions=474 runtime=19 batches=475 failedBatches=0 batchErrors={} failedCommits=0 commitErrors={} wasTerminated=False>]"
      ]
     },
     "execution_count": 18,
     "metadata": {},
     "output_type": "execute_result"
    }
   ],
   "source": [
    "# Delete all previous nodes and relations\n",
    "run(driver, textwrap.dedent(\"\"\"\\\n",
    "    CALL apoc.periodic.commit(\n",
    "        \"MATCH (n)\n",
    "        WITH n LIMIT $limit\n",
    "        DETACH DELETE n \n",
    "        RETURN COUNT(*)\", \n",
    "    {limit:1000})\n",
    "    \"\"\"))"
   ]
  },
  {
   "cell_type": "markdown",
   "metadata": {},
   "source": [
    "### Set Uniqueness Constraints\n",
    "This step is critical for performant loading with merge patterns"
   ]
  },
  {
   "cell_type": "code",
   "execution_count": 19,
   "metadata": {},
   "outputs": [
    {
     "data": {
      "text/plain": [
       "[]"
      ]
     },
     "execution_count": 19,
     "metadata": {},
     "output_type": "execute_result"
    }
   ],
   "source": [
    "run(driver,'CREATE CONSTRAINT user_id_unique IF NOT EXISTS FOR (user:User) REQUIRE user.id  IS UNIQUE')\n",
    "run(driver,'CREATE CONSTRAINT recipe_id_unique IF NOT EXISTS FOR (recipe:Recipe) REQUIRE recipe.id IS UNIQUE')\n",
    "run(driver,'CREATE CONSTRAINT ingredient_id_unique IF NOT EXISTS FOR (ingredient:Ingredient) REQUIRE ingredient.id IS UNIQUE')"
   ]
  },
  {
   "cell_type": "markdown",
   "metadata": {},
   "source": [
    "### Load Nodes"
   ]
  },
  {
   "cell_type": "code",
   "execution_count": 20,
   "metadata": {},
   "outputs": [
    {
     "data": {
      "text/plain": [
       "[]"
      ]
     },
     "execution_count": 20,
     "metadata": {},
     "output_type": "execute_result"
    }
   ],
   "source": [
    "# User nodes\n",
    "run(driver, textwrap.dedent(\"\"\"\\\n",
    "    LOAD CSV WITH HEADERS FROM $file AS row\n",
    "    CALL { WITH row  \n",
    "        MERGE(user:User {id:row.id})\n",
    "    } IN TRANSACTIONS OF 10000 ROWS\n",
    "    \"\"\"),\n",
    "    params = {'file': NEO4j_IMPORT_PATH + 'users.csv'}\n",
    ")"
   ]
  },
  {
   "cell_type": "code",
   "execution_count": 21,
   "metadata": {},
   "outputs": [
    {
     "data": {
      "text/plain": [
       "[]"
      ]
     },
     "execution_count": 21,
     "metadata": {},
     "output_type": "execute_result"
    }
   ],
   "source": [
    "# Recipe nodes\n",
    "run(driver, textwrap.dedent(\"\"\"\\\n",
    "    LOAD CSV WITH HEADERS FROM $file AS row\n",
    "    CALL { WITH row\n",
    "        MERGE(recipe:Recipe {\n",
    "            id: row.id,\n",
    "            name: row.name,\n",
    "            minutes: row.minutes,\n",
    "            tags: row.tags,\n",
    "            nutrition: row.nutrition,\n",
    "            n_steps: row.n_steps,\n",
    "            steps: row.steps,\n",
    "            description: row.description,\n",
    "            n_ingredients: row.n_ingredients })\n",
    "    } IN TRANSACTIONS OF 10000 ROWS\n",
    "    \"\"\"),\n",
    "    params = {'file': NEO4j_IMPORT_PATH + 'recipes.csv'}\n",
    ")"
   ]
  },
  {
   "cell_type": "code",
   "execution_count": 22,
   "metadata": {},
   "outputs": [
    {
     "data": {
      "text/plain": [
       "[]"
      ]
     },
     "execution_count": 22,
     "metadata": {},
     "output_type": "execute_result"
    }
   ],
   "source": [
    "# Ingredient nodes\n",
    "run(driver, textwrap.dedent(\"\"\"\\\n",
    "    LOAD CSV WITH HEADERS FROM $file AS row\n",
    "    CALL { WITH row\n",
    "        MERGE(ingredient:Ingredient {\n",
    "            id: row.id,\n",
    "            name: row.name })\n",
    "    } IN TRANSACTIONS OF 10000 ROWS\n",
    "    \"\"\"),\n",
    "    params = {'file': NEO4j_IMPORT_PATH + 'ingredients.csv'}\n",
    ")"
   ]
  },
  {
   "cell_type": "markdown",
   "metadata": {},
   "source": [
    "### Load Relationships"
   ]
  },
  {
   "cell_type": "code",
   "execution_count": 23,
   "metadata": {},
   "outputs": [],
   "source": [
    "# WithIngredients relationship\n",
    "run(driver, textwrap.dedent(\"\"\"\\\n",
    "    LOAD CSV WITH HEADERS FROM $file AS row\n",
    "    CALL { WITH row\n",
    "        MATCH(recipe:Recipe {recipe_id: row.recipe_id})\n",
    "        MATCH(ingredient:Ingredient {ingr_id: row.ingredient_id})\n",
    "        MERGE(recipe)-[r:WITH_INGREDIENTS]->(ingredient)\n",
    "    } IN TRANSACTIONS OF 10000 ROWS\n",
    "    \"\"\"),\n",
    "    params = {'file': NEO4j_IMPORT_PATH + 'with_ingredients.csv'}\n",
    ")"
   ]
  },
  {
   "cell_type": "code",
   "execution_count": null,
   "metadata": {},
   "outputs": [],
   "source": [
    "# Created relationship\n",
    "run(driver, textwrap.dedent(\"\"\"\\\n",
    "    LOAD CSV WITH HEADERS FROM $file AS row\n",
    "    CALL { WITH row        \n",
    "        MATCH(user:User {user_id: row.user_id})\n",
    "        MATCH(recipe:Recipe {recipe_id: row.recipe_id})\n",
    "        MERGE(user)-[r:CREATED {submitted: date(row.submitted)}]->(recipe)\n",
    "    } IN TRANSACTIONS OF 10000 ROWS\n",
    "    \"\"\"),\n",
    "    params = {'file': NEO4j_IMPORT_PATH + 'created.csv'}\n",
    ")"
   ]
  },
  {
   "cell_type": "code",
   "execution_count": null,
   "metadata": {},
   "outputs": [],
   "source": [
    "# Rewiewed relationship\n",
    "run(driver, textwrap.dedent(\"\"\"\\\n",
    "    LOAD CSV WITH HEADERS FROM $file AS row\n",
    "    CALL { WITH row        \n",
    "        MATCH(user:User {user_id: row.user_id})\n",
    "        MATCH(recipe:Recipe {recipe_id: row.recipe_id})\n",
    "        MERGE(user)-[r:REVIEWED {\n",
    "                date: date(row.date),\n",
    "                rating: row.rating,\n",
    "                review: row.review }]->(recipe)\n",
    "    } IN TRANSACTIONS OF 10000 ROWS\n",
    "    \"\"\"),\n",
    "    params = {'file': NEO4j_IMPORT_PATH + 'reviewed.csv'}\n",
    ")"
   ]
  },
  {
   "cell_type": "code",
   "execution_count": null,
   "metadata": {},
   "outputs": [],
   "source": [
    "driver.close()"
   ]
  }
 ],
 "metadata": {
  "kernelspec": {
   "display_name": "Python 3",
   "language": "python",
   "name": "python3"
  },
  "language_info": {
   "codemirror_mode": {
    "name": "ipython",
    "version": 3
   },
   "file_extension": ".py",
   "mimetype": "text/x-python",
   "name": "python",
   "nbconvert_exporter": "python",
   "pygments_lexer": "ipython3",
   "version": "3.8.10"
  },
  "orig_nbformat": 4
 },
 "nbformat": 4,
 "nbformat_minor": 2
}
