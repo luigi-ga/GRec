{
 "cells": [
  {
   "cell_type": "code",
   "execution_count": 1,
   "metadata": {},
   "outputs": [],
   "source": [
    "import os\n",
    "import ast\n",
    "import zipfile\n",
    "import textwrap\n",
    "import subprocess\n",
    "import configparser\n",
    "import pandas as pd\n",
    "from queries import *\n",
    "\n",
    "from neo4j import GraphDatabase"
   ]
  },
  {
   "cell_type": "markdown",
   "metadata": {},
   "source": [
    "# Data Preparation and Neo4j Ingest\n",
    "\n",
    "In this notebook we format the \n",
    "[Food.com Recipes and Interactions Dataset](https://www.kaggle.com/datasets/shuyangli94/food-com-recipes-and-user-interactions?select=RAW_recipes.csv) [[1]](#1) and load it into a Neo4j graph. The work is divided into two primary sections in this notebook:\n",
    "\n",
    "1. __[Prepare Data (Extract & Transform)](#prepare-data)__\n",
    "2. __[Load Data Into Neo4j](#load-data)__\n",
    "\n",
    "__To run this notebook please do the following:__\n",
    " - Download the training and validation sets from [Food.com Recipes and Interactions Dataset](https://www.kaggle.com/datasets/shuyangli94/food-com-recipes-and-user-interactions?select=RAW_recipes.csv) and place into the `SOURCE_DATA_PATH` set in the below [Setup Parameters](#set-up) section (optional if kaggle API keys are in the system).\n",
    "\n",
    " - Ensure the `NEO4J_IMPORT_DIR`, `NEO4j_IMPORT_PATH`, and `NEO4J_PROPERTIES_FILE` are set correctly for your environemnt in the below [Setup Parameters](#set-up) section.\n",
    "\n",
    "__Other Prerequisites:__\n",
    "- Neo4j. This notebook was tested with [Neo4j Desktop](https://neo4j.com/download-center/#desktop) and should work for other on-prem installations.\n",
    "- [APOC library](https://neo4j.com/labs/apoc/4.3/installation/). \n",
    "- [GDS Library](https://neo4j.com/docs/graph-data-science/current/installation/neo4j-desktop/).\n",
    "- Notebook tested with Python=3.10\n",
    "\n",
    "<a id=\"1\">[1]</a>\n",
    "Bodhisattwa Prasad Majumder, Shuyang Li, Jianmo Ni, and Julian McAuley. 2019. Generating Personalized Recipes from Historical User Preferences. In Proceedings of the 2019 Conference on Empirical Methods in Natural Language Processing and the 9th International Joint Conference on Natural Language Processing (EMNLP-IJCNLP), pages 5976–5982, Hong Kong, China. Association for Computational Linguistics."
   ]
  },
  {
   "cell_type": "markdown",
   "metadata": {},
   "source": [
    "## <a id=\"set-up\">Setup Parameters</a>"
   ]
  },
  {
   "cell_type": "markdown",
   "metadata": {},
   "source": [
    "#### Directory Settings"
   ]
  },
  {
   "cell_type": "code",
   "execution_count": 2,
   "metadata": {},
   "outputs": [],
   "source": [
    "# Data directory\n",
    "SOURCE_DATA_PATH = './data/'"
   ]
  },
  {
   "cell_type": "markdown",
   "metadata": {},
   "source": [
    "`NEO4J_IMPORT_DIR` sets the the directory to put formatted csvs in for Neo4j load.\n",
    "File locations for each OS are listed in the [Neo4j Operations Manual](https://neo4j.com/docs/operations-manual/current/configuration/file-locations). We recommend putting files in Neo4j’s `import` directory, as it keeps the environment secure. However, if you need to access files in other locations, you can find out which setting to alter in our [manual](https://neo4j.com/docs/cypher-manual/current/clauses/load-csv/#query-load-csv-introduction)."
   ]
  },
  {
   "cell_type": "code",
   "execution_count": 3,
   "metadata": {},
   "outputs": [],
   "source": [
    "# Replace with your Neo4j import directory\n",
    "NEO4J_IMPORT_DIR = '/home/luigi/.config/Neo4j Desktop/Application/relate-data/dbmss/dbms-c5c50094-d809-4eeb-84f4-745becc1cd52/import'"
   ]
  },
  {
   "cell_type": "markdown",
   "metadata": {},
   "source": [
    "`NEO4j_IMPORT_PATH` sets the path to use during CSV load. This will be 'file:///' by default and aligns with the local Neo4j `import` directory setup. \n",
    "See https://neo4j.com/developer/guide-import-csv/#_reading_csv_files for more details and customization"
   ]
  },
  {
   "cell_type": "code",
   "execution_count": 4,
   "metadata": {},
   "outputs": [],
   "source": [
    "NEO4j_IMPORT_PATH = 'file:///'"
   ]
  },
  {
   "cell_type": "markdown",
   "metadata": {},
   "source": [
    "#### Neo4j Settings\n",
    "The `NEO4J_PROPERTIES_FILE` is an ini configuration file for Neo4j properties so this notebook can connect to\n",
    "your Neo4j instance and load data. The ini file should be formatted as follows\n",
    "```\n",
    "[NEO4J]\n",
    "PASSWORD=<password>\n",
    "DATABASE=<database name, is 'neo4j' by default>\n",
    "HOST=<host uri>\n",
    "\n",
    "```\n",
    "\n",
    "Set `NEO4J_PROPERTIES_FILE` to None or any non-existent location to use the below defaults\n",
    "```\n",
    "HOST = 'neo4j://localhost'\n",
    "DATABASE = 'neo4j'\n",
    "PASSWORD = 'password'\n",
    "```"
   ]
  },
  {
   "cell_type": "code",
   "execution_count": 5,
   "metadata": {},
   "outputs": [],
   "source": [
    "NEO4J_PROPERTIES_FILE = None # 'path/to/your/neo4j_properties.ini'"
   ]
  },
  {
   "cell_type": "markdown",
   "metadata": {},
   "source": [
    "#### Impression Chunk Size\n",
    "The number of rows to work with at once when reading from source behaviors/impressions files. Recommend keeping\n",
    "this below 100,000 - ish unless you know your machine can handle more rows efficiently."
   ]
  },
  {
   "cell_type": "code",
   "execution_count": 6,
   "metadata": {},
   "outputs": [],
   "source": [
    "IMPRESSION_CHUNK_SIZE = 100_000"
   ]
  },
  {
   "cell_type": "markdown",
   "metadata": {},
   "source": [
    "## <a id=\"prepare-data\">Prepare Data (Extract & Transform)</a>\n",
    "In this section we extract and transform the source data into formatted csv files to prepare for [loading into Neo4j](#load-data).\n",
    "We will create the following csv files:\n",
    "\n",
    "__Recipes related graph elements__\n",
    "1. `recipe.csv`: Nodes representing recipes\n",
    "2. `ingredients.csv`: Nodes representing ingredients\n",
    "3. `with_ingredients.csv`: Relationship representing recipe having a set of ingredients\n",
    "4. `submitted.csv`: Relationship representing user creating (posting) a recipe\n",
    " \n",
    "__User and impression related graph elements__\n",
    "1. `users.csv`: Nodes representing anonymized users\n",
    "2. `reviewed.csv`: Relationship representing user reviewing a recipe"
   ]
  },
  {
   "cell_type": "markdown",
   "metadata": {},
   "source": [
    "### Download or extract needed data files"
   ]
  },
  {
   "cell_type": "code",
   "execution_count": 7,
   "metadata": {},
   "outputs": [
    {
     "name": "stdout",
     "output_type": "stream",
     "text": [
      "Dataset extracted successfully.\n"
     ]
    }
   ],
   "source": [
    "try:\n",
    "    # If the zip dataset has not been downloaded, download it\n",
    "    if not os.path.exists(os.path.join(SOURCE_DATA_PATH, 'archive.zip')):\n",
    "        # Create data directory\n",
    "        os.makedirs(SOURCE_DATA_PATH, exist_ok=True)\n",
    "        # Download the dataset\n",
    "        subprocess.run(f'kaggle datasets download -d shuyangli94/food-com-recipes-and-user-interactions --path {SOURCE_DATA_PATH}', shell=True, check=True)\n",
    "        # Rename dataset to archive.zip\n",
    "        os.rename(os.path.join(SOURCE_DATA_PATH, \"food-com-recipes-and-user-interactions.zip\"), os.path.join(SOURCE_DATA_PATH, \"archive.zip\"))\n",
    "        # Print message\n",
    "        print(\"Dataset downloaded successfully.\")\n",
    "\n",
    "    # Extract zip file to SOURCE_DATA_PATH\n",
    "    with zipfile.ZipFile(os.path.join(SOURCE_DATA_PATH, \"archive.zip\"), \"r\") as zip_ref:\n",
    "        zip_ref.extractall(SOURCE_DATA_PATH)\n",
    "    # Print message\n",
    "    print(\"Dataset extracted successfully.\")\n",
    "\n",
    "except FileNotFoundError as fnf_error:\n",
    "    print(f\"Error: {fnf_error}\")\n",
    "    print(\"Kaggle API credentials file not found. Please ensure kaggle.json is configured correctly.\")\n",
    "except subprocess.CalledProcessError as cpe_error:\n",
    "    print(f\"Error during dataset download: {cpe_error}\")\n",
    "    print(\"There was an error downloading the dataset. Please check your Kaggle API setup and dataset path.\")\n",
    "except Exception as e:\n",
    "    print(f\"An error occurred: {e}\")"
   ]
  },
  {
   "cell_type": "markdown",
   "metadata": {},
   "source": [
    "### Recipe Related Graph Elements\n",
    "\n",
    "Let's start by uploading the raw recipes csv file as a dataframe"
   ]
  },
  {
   "cell_type": "code",
   "execution_count": 8,
   "metadata": {},
   "outputs": [
    {
     "data": {
      "text/html": [
       "<div>\n",
       "<style scoped>\n",
       "    .dataframe tbody tr th:only-of-type {\n",
       "        vertical-align: middle;\n",
       "    }\n",
       "\n",
       "    .dataframe tbody tr th {\n",
       "        vertical-align: top;\n",
       "    }\n",
       "\n",
       "    .dataframe thead th {\n",
       "        text-align: right;\n",
       "    }\n",
       "</style>\n",
       "<table border=\"1\" class=\"dataframe\">\n",
       "  <thead>\n",
       "    <tr style=\"text-align: right;\">\n",
       "      <th></th>\n",
       "      <th>name</th>\n",
       "      <th>id</th>\n",
       "      <th>minutes</th>\n",
       "      <th>contributor_id</th>\n",
       "      <th>submitted</th>\n",
       "      <th>tags</th>\n",
       "      <th>nutrition</th>\n",
       "      <th>n_steps</th>\n",
       "      <th>steps</th>\n",
       "      <th>description</th>\n",
       "      <th>ingredients</th>\n",
       "      <th>n_ingredients</th>\n",
       "    </tr>\n",
       "  </thead>\n",
       "  <tbody>\n",
       "    <tr>\n",
       "      <th>0</th>\n",
       "      <td>arriba   baked winter squash mexican style</td>\n",
       "      <td>137739</td>\n",
       "      <td>55</td>\n",
       "      <td>47892</td>\n",
       "      <td>2005-09-16</td>\n",
       "      <td>['60-minutes-or-less', 'time-to-make', 'course...</td>\n",
       "      <td>[51.5, 0.0, 13.0, 0.0, 2.0, 0.0, 4.0]</td>\n",
       "      <td>11</td>\n",
       "      <td>['make a choice and proceed with recipe', 'dep...</td>\n",
       "      <td>autumn is my favorite time of year to cook! th...</td>\n",
       "      <td>['winter squash', 'mexican seasoning', 'mixed ...</td>\n",
       "      <td>7</td>\n",
       "    </tr>\n",
       "    <tr>\n",
       "      <th>1</th>\n",
       "      <td>a bit different  breakfast pizza</td>\n",
       "      <td>31490</td>\n",
       "      <td>30</td>\n",
       "      <td>26278</td>\n",
       "      <td>2002-06-17</td>\n",
       "      <td>['30-minutes-or-less', 'time-to-make', 'course...</td>\n",
       "      <td>[173.4, 18.0, 0.0, 17.0, 22.0, 35.0, 1.0]</td>\n",
       "      <td>9</td>\n",
       "      <td>['preheat oven to 425 degrees f', 'press dough...</td>\n",
       "      <td>this recipe calls for the crust to be prebaked...</td>\n",
       "      <td>['prepared pizza crust', 'sausage patty', 'egg...</td>\n",
       "      <td>6</td>\n",
       "    </tr>\n",
       "  </tbody>\n",
       "</table>\n",
       "</div>"
      ],
      "text/plain": [
       "                                         name      id  minutes  \\\n",
       "0  arriba   baked winter squash mexican style  137739       55   \n",
       "1            a bit different  breakfast pizza   31490       30   \n",
       "\n",
       "   contributor_id   submitted  \\\n",
       "0           47892  2005-09-16   \n",
       "1           26278  2002-06-17   \n",
       "\n",
       "                                                tags  \\\n",
       "0  ['60-minutes-or-less', 'time-to-make', 'course...   \n",
       "1  ['30-minutes-or-less', 'time-to-make', 'course...   \n",
       "\n",
       "                                   nutrition  n_steps  \\\n",
       "0      [51.5, 0.0, 13.0, 0.0, 2.0, 0.0, 4.0]       11   \n",
       "1  [173.4, 18.0, 0.0, 17.0, 22.0, 35.0, 1.0]        9   \n",
       "\n",
       "                                               steps  \\\n",
       "0  ['make a choice and proceed with recipe', 'dep...   \n",
       "1  ['preheat oven to 425 degrees f', 'press dough...   \n",
       "\n",
       "                                         description  \\\n",
       "0  autumn is my favorite time of year to cook! th...   \n",
       "1  this recipe calls for the crust to be prebaked...   \n",
       "\n",
       "                                         ingredients  n_ingredients  \n",
       "0  ['winter squash', 'mexican seasoning', 'mixed ...              7  \n",
       "1  ['prepared pizza crust', 'sausage patty', 'egg...              6  "
      ]
     },
     "execution_count": 8,
     "metadata": {},
     "output_type": "execute_result"
    }
   ],
   "source": [
    "# Read RAW_recipes.csv file to raw_recipes_df dataframe\n",
    "raw_recipes_df = pd.read_csv(os.path.join(SOURCE_DATA_PATH, 'RAW_recipes.csv'))\n",
    "raw_recipes_df.head(n=2)"
   ]
  },
  {
   "cell_type": "markdown",
   "metadata": {},
   "source": [
    "#### Recipe Nodes\n",
    "For the recipe node we will basically just drop some columns from the raw_recipes_df and just keep the following columns:\n",
    "1. `name`: recipe name\n",
    "2. `id`: recipe id\n",
    "3. `minutes`: minutes needed to prepare the recipe\n",
    "4. `tags`: food.com tags for the recipe\n",
    "5. `nutrition`: nutrition information (calories (#), total fat (PDV), sugar (PDV) , sodium (PDV) , protein (PDV) , saturated fat)\n",
    "6. `n_steps`: number of steps in the recipe\n",
    "7. `steps`: text for recipe steps in order\n",
    "8. `description`: user-provided description of the recipe\n",
    "9. `n_ingredients`: number of ingredients needed"
   ]
  },
  {
   "cell_type": "code",
   "execution_count": 9,
   "metadata": {},
   "outputs": [
    {
     "data": {
      "text/html": [
       "<div>\n",
       "<style scoped>\n",
       "    .dataframe tbody tr th:only-of-type {\n",
       "        vertical-align: middle;\n",
       "    }\n",
       "\n",
       "    .dataframe tbody tr th {\n",
       "        vertical-align: top;\n",
       "    }\n",
       "\n",
       "    .dataframe thead th {\n",
       "        text-align: right;\n",
       "    }\n",
       "</style>\n",
       "<table border=\"1\" class=\"dataframe\">\n",
       "  <thead>\n",
       "    <tr style=\"text-align: right;\">\n",
       "      <th></th>\n",
       "      <th>name</th>\n",
       "      <th>id</th>\n",
       "      <th>minutes</th>\n",
       "      <th>tags</th>\n",
       "      <th>nutrition</th>\n",
       "      <th>n_steps</th>\n",
       "      <th>steps</th>\n",
       "      <th>description</th>\n",
       "      <th>n_ingredients</th>\n",
       "    </tr>\n",
       "  </thead>\n",
       "  <tbody>\n",
       "    <tr>\n",
       "      <th>0</th>\n",
       "      <td>arriba   baked winter squash mexican style</td>\n",
       "      <td>137739</td>\n",
       "      <td>55</td>\n",
       "      <td>['60-minutes-or-less', 'time-to-make', 'course...</td>\n",
       "      <td>[51.5, 0.0, 13.0, 0.0, 2.0, 0.0, 4.0]</td>\n",
       "      <td>11</td>\n",
       "      <td>['make a choice and proceed with recipe', 'dep...</td>\n",
       "      <td>autumn is my favorite time of year to cook! th...</td>\n",
       "      <td>7</td>\n",
       "    </tr>\n",
       "    <tr>\n",
       "      <th>1</th>\n",
       "      <td>a bit different  breakfast pizza</td>\n",
       "      <td>31490</td>\n",
       "      <td>30</td>\n",
       "      <td>['30-minutes-or-less', 'time-to-make', 'course...</td>\n",
       "      <td>[173.4, 18.0, 0.0, 17.0, 22.0, 35.0, 1.0]</td>\n",
       "      <td>9</td>\n",
       "      <td>['preheat oven to 425 degrees f', 'press dough...</td>\n",
       "      <td>this recipe calls for the crust to be prebaked...</td>\n",
       "      <td>6</td>\n",
       "    </tr>\n",
       "  </tbody>\n",
       "</table>\n",
       "</div>"
      ],
      "text/plain": [
       "                                         name      id  minutes  \\\n",
       "0  arriba   baked winter squash mexican style  137739       55   \n",
       "1            a bit different  breakfast pizza   31490       30   \n",
       "\n",
       "                                                tags  \\\n",
       "0  ['60-minutes-or-less', 'time-to-make', 'course...   \n",
       "1  ['30-minutes-or-less', 'time-to-make', 'course...   \n",
       "\n",
       "                                   nutrition  n_steps  \\\n",
       "0      [51.5, 0.0, 13.0, 0.0, 2.0, 0.0, 4.0]       11   \n",
       "1  [173.4, 18.0, 0.0, 17.0, 22.0, 35.0, 1.0]        9   \n",
       "\n",
       "                                               steps  \\\n",
       "0  ['make a choice and proceed with recipe', 'dep...   \n",
       "1  ['preheat oven to 425 degrees f', 'press dough...   \n",
       "\n",
       "                                         description  n_ingredients  \n",
       "0  autumn is my favorite time of year to cook! th...              7  \n",
       "1  this recipe calls for the crust to be prebaked...              6  "
      ]
     },
     "execution_count": 9,
     "metadata": {},
     "output_type": "execute_result"
    }
   ],
   "source": [
    "# Create recipes dataframe as a copy to avoid SettingWithCopyWarning\n",
    "recipes_df = raw_recipes_df[['name', 'id', 'minutes', 'tags', 'nutrition', 'n_steps', 'steps', 'description', 'n_ingredients']].copy()\n",
    "\n",
    "# Set default values without using inplace=True\n",
    "recipes_df['name'] = recipes_df['name'].fillna('No Name')\n",
    "recipes_df['description'] = recipes_df['description'].fillna('No Description')\n",
    "\n",
    "# Save as csv file to NEO4J_IMPORT_DIR\n",
    "recipes_df.to_csv(os.path.join(NEO4J_IMPORT_DIR, 'recipes.csv'), index=False)\n",
    "\n",
    "# Show dataframe\n",
    "recipes_df.head(n=2)"
   ]
  },
  {
   "cell_type": "markdown",
   "metadata": {},
   "source": [
    "#### Ingredients Nodes\n",
    "For the ingredients node we will create a set of ingredients iterating all recipies and create a dataframe with the following colums:\n",
    "1. `id`: ingredient ID\n",
    "2. `name`: ingredient name"
   ]
  },
  {
   "cell_type": "code",
   "execution_count": 10,
   "metadata": {},
   "outputs": [
    {
     "data": {
      "text/html": [
       "<div>\n",
       "<style scoped>\n",
       "    .dataframe tbody tr th:only-of-type {\n",
       "        vertical-align: middle;\n",
       "    }\n",
       "\n",
       "    .dataframe tbody tr th {\n",
       "        vertical-align: top;\n",
       "    }\n",
       "\n",
       "    .dataframe thead th {\n",
       "        text-align: right;\n",
       "    }\n",
       "</style>\n",
       "<table border=\"1\" class=\"dataframe\">\n",
       "  <thead>\n",
       "    <tr style=\"text-align: right;\">\n",
       "      <th></th>\n",
       "      <th>name</th>\n",
       "      <th>id</th>\n",
       "    </tr>\n",
       "  </thead>\n",
       "  <tbody>\n",
       "    <tr>\n",
       "      <th>0</th>\n",
       "      <td>winter squash</td>\n",
       "      <td>1</td>\n",
       "    </tr>\n",
       "    <tr>\n",
       "      <th>1</th>\n",
       "      <td>mexican seasoning</td>\n",
       "      <td>2</td>\n",
       "    </tr>\n",
       "  </tbody>\n",
       "</table>\n",
       "</div>"
      ],
      "text/plain": [
       "                name  id\n",
       "0      winter squash   1\n",
       "1  mexican seasoning   2"
      ]
     },
     "execution_count": 10,
     "metadata": {},
     "output_type": "execute_result"
    }
   ],
   "source": [
    "# Create an empty set to store unique ingredients\n",
    "ingredients_dict = dict()\n",
    "id_counter = 1\n",
    "\n",
    "# Iterate over all lists of ingredients\n",
    "for ingredients_list in raw_recipes_df['ingredients']:\n",
    "    # Iterate over all ingredients\n",
    "    for ingredient in ast.literal_eval(ingredients_list):\n",
    "        # Add ingredient to the dictionary (if not present)\n",
    "        if ingredient not in ingredients_dict:\n",
    "            ingredients_dict[ingredient] = id_counter\n",
    "            id_counter += 1\n",
    "\n",
    "# Create a dataframe from the ingredients dictionary\n",
    "ingredients_df = pd.DataFrame(list(ingredients_dict.items()), columns=['name', 'id'])\n",
    "# Save as csv file to NEO4J_IMPORT_DIR\n",
    "ingredients_df.to_csv(os.path.join(NEO4J_IMPORT_DIR, 'ingredients.csv'), index = False)\n",
    "# Show dataframe\n",
    "ingredients_df.head(n=2)"
   ]
  },
  {
   "cell_type": "markdown",
   "metadata": {},
   "source": [
    "#### WithIngredients Relationship\n",
    "For the with_ingredients relationship we will instead create a dataframe with the following columns:\n",
    "1. `recipe_id`: id of the recipe\n",
    "2. `ingredient_id`: name of the ingredient"
   ]
  },
  {
   "cell_type": "code",
   "execution_count": 11,
   "metadata": {},
   "outputs": [
    {
     "data": {
      "text/html": [
       "<div>\n",
       "<style scoped>\n",
       "    .dataframe tbody tr th:only-of-type {\n",
       "        vertical-align: middle;\n",
       "    }\n",
       "\n",
       "    .dataframe tbody tr th {\n",
       "        vertical-align: top;\n",
       "    }\n",
       "\n",
       "    .dataframe thead th {\n",
       "        text-align: right;\n",
       "    }\n",
       "</style>\n",
       "<table border=\"1\" class=\"dataframe\">\n",
       "  <thead>\n",
       "    <tr style=\"text-align: right;\">\n",
       "      <th></th>\n",
       "      <th>recipe_id</th>\n",
       "      <th>ingredient_id</th>\n",
       "    </tr>\n",
       "  </thead>\n",
       "  <tbody>\n",
       "    <tr>\n",
       "      <th>0</th>\n",
       "      <td>137739</td>\n",
       "      <td>1</td>\n",
       "    </tr>\n",
       "    <tr>\n",
       "      <th>1</th>\n",
       "      <td>137739</td>\n",
       "      <td>2</td>\n",
       "    </tr>\n",
       "  </tbody>\n",
       "</table>\n",
       "</div>"
      ],
      "text/plain": [
       "   recipe_id  ingredient_id\n",
       "0     137739              1\n",
       "1     137739              2"
      ]
     },
     "execution_count": 11,
     "metadata": {},
     "output_type": "execute_result"
    }
   ],
   "source": [
    "# Initialize an empty list for 'WITH_INGREDIENTS' relation\n",
    "recipe_ingr_data = []\n",
    "\n",
    "# Iterate through raw_recipes_df recipes\n",
    "for index, row in raw_recipes_df.iterrows():\n",
    "    # Iterate through the recipe's ingredients list\n",
    "    for ingredient in ast.literal_eval(row['ingredients']):\n",
    "        # Add to relation the entry <recipe_id>, <ingredient_id>\n",
    "        recipe_ingr_data.append({'recipe_id':row['id'], 'ingredient_id':ingredients_dict[ingredient]})\n",
    "\n",
    "# Create with_ingredients dataframe from recipe_ingr_data\n",
    "with_ingredients_df = pd.DataFrame(recipe_ingr_data)\n",
    "# Save as csv file to NEO4J_IMPORT_DIR\n",
    "with_ingredients_df.to_csv(os.path.join(NEO4J_IMPORT_DIR, 'with_ingredients.csv'), index = False)\n",
    "# Show dataframe\n",
    "with_ingredients_df.head(n=2)"
   ]
  },
  {
   "cell_type": "markdown",
   "metadata": {},
   "source": [
    "#### Submitted Relationships\n",
    "\n",
    "The submitted relationship will include data about which user submitted a recipe with the following columns:\n",
    "1. `recipe_id`: recipe ID\n",
    "2. `user_id`: user ID of the contributor (user who submitted the recipe)\n",
    "3. `submitted`: date recipe was submitted"
   ]
  },
  {
   "cell_type": "code",
   "execution_count": 12,
   "metadata": {},
   "outputs": [
    {
     "data": {
      "text/html": [
       "<div>\n",
       "<style scoped>\n",
       "    .dataframe tbody tr th:only-of-type {\n",
       "        vertical-align: middle;\n",
       "    }\n",
       "\n",
       "    .dataframe tbody tr th {\n",
       "        vertical-align: top;\n",
       "    }\n",
       "\n",
       "    .dataframe thead th {\n",
       "        text-align: right;\n",
       "    }\n",
       "</style>\n",
       "<table border=\"1\" class=\"dataframe\">\n",
       "  <thead>\n",
       "    <tr style=\"text-align: right;\">\n",
       "      <th></th>\n",
       "      <th>recipe_id</th>\n",
       "      <th>user_id</th>\n",
       "      <th>submitted</th>\n",
       "    </tr>\n",
       "  </thead>\n",
       "  <tbody>\n",
       "    <tr>\n",
       "      <th>0</th>\n",
       "      <td>137739</td>\n",
       "      <td>47892</td>\n",
       "      <td>2005-09-16</td>\n",
       "    </tr>\n",
       "    <tr>\n",
       "      <th>1</th>\n",
       "      <td>31490</td>\n",
       "      <td>26278</td>\n",
       "      <td>2002-06-17</td>\n",
       "    </tr>\n",
       "  </tbody>\n",
       "</table>\n",
       "</div>"
      ],
      "text/plain": [
       "   recipe_id  user_id   submitted\n",
       "0     137739    47892  2005-09-16\n",
       "1      31490    26278  2002-06-17"
      ]
     },
     "execution_count": 12,
     "metadata": {},
     "output_type": "execute_result"
    }
   ],
   "source": [
    "# Create submitted_df dataframe\n",
    "submitted_df = raw_recipes_df[['id', 'contributor_id', 'submitted']].drop_duplicates()\n",
    "# Rename columns \n",
    "submitted_df = submitted_df.rename(columns={'id': 'recipe_id', 'contributor_id':'user_id'})\n",
    "# Save as csv file to NEO4J_IMPORT_DIR\n",
    "submitted_df.to_csv(os.path.join(NEO4J_IMPORT_DIR, 'submitted.csv'), index = False)\n",
    "# Show dataframe\n",
    "submitted_df.head(n=2)"
   ]
  },
  {
   "cell_type": "markdown",
   "metadata": {},
   "source": [
    "### User and Impression Related Graph Elements\n",
    "\n",
    "The reviewed relation is just given by the RAW_interactions.csv, hence we can keep it as it is with the following columns:\n",
    "1. `user_id`: user_id\n",
    "2. `recipe_id`: recipe_id\n",
    "3. `date`: date of interaction\n",
    "4. `rating`: given rating (0 to 5)\n",
    "5. `review`: review text"
   ]
  },
  {
   "cell_type": "code",
   "execution_count": 13,
   "metadata": {},
   "outputs": [
    {
     "name": "stdout",
     "output_type": "stream",
     "text": [
      "   user_id  recipe_id       date  rating  \\\n",
      "0    38094      40893 2003-02-17       4   \n",
      "2     8937      44394 2002-12-01       4   \n",
      "\n",
      "                                              review  \n",
      "0  Great with a salad. Cooked on top of stove for...  \n",
      "2  This worked very well and is EASY.  I used not...  \n",
      "   user_id  recipe_id       date  rating  \\\n",
      "4    57222      85009 2011-10-01       5   \n",
      "6   124416     120345 2011-08-06       0   \n",
      "\n",
      "                                              review  \n",
      "4  Made the cheddar bacon topping, adding a sprin...  \n",
      "6  Just an observation, so I will not rate.  I fo...  \n"
     ]
    }
   ],
   "source": [
    "# Read RAW_interactions.csv file into a DataFrame\n",
    "full_reviewed_df = pd.read_csv(os.path.join(SOURCE_DATA_PATH, 'RAW_interactions.csv'))\n",
    "\n",
    "# Convert the date column to datetime format if it's not already\n",
    "full_reviewed_df['date'] = pd.to_datetime(full_reviewed_df['date'])\n",
    "\n",
    "# Set a minimum number of interactions threshold\n",
    "min_interactions = 5\n",
    "# Filter users by minimum interaction count\n",
    "user_counts = full_reviewed_df['user_id'].value_counts()\n",
    "eligible_users = user_counts[user_counts >= min_interactions].index\n",
    "filtered_df = full_reviewed_df[full_reviewed_df['user_id'].isin(eligible_users)]\n",
    "\n",
    "# Determine the split date for, say, the last 20% of interactions\n",
    "split_date = filtered_df['date'].quantile(0.8)\n",
    "reviewed_df = filtered_df[filtered_df['date'] <= split_date]\n",
    "test_reviewed_df = filtered_df[filtered_df['date'] > split_date]\n",
    "\n",
    "# Ensure test users are also in train\n",
    "test_users_in_train = test_reviewed_df['user_id'].isin(reviewed_df['user_id'])\n",
    "test_reviewed_df = test_reviewed_df[test_users_in_train]\n",
    "\n",
    "# Create a copy to avoid SettingWithCopyWarning\n",
    "reviewed_df = reviewed_df.copy()\n",
    "# Set default values\n",
    "reviewed_df['review'] = reviewed_df['review'].fillna('No Review')\n",
    "# Remove backslashes from the 'review' column\n",
    "reviewed_df['review'] = reviewed_df['review'].str.replace('\\\\', '')\n",
    "\n",
    "# Save train_df and test_df as CSV files\n",
    "reviewed_df.to_csv(os.path.join(NEO4J_IMPORT_DIR, 'reviewed.csv'), index=False)\n",
    "test_reviewed_df.to_csv(os.path.join(NEO4J_IMPORT_DIR, 'test_reviewed.csv'), index=False)\n",
    "\n",
    "# Show dataframes\n",
    "print(reviewed_df.head(n=2))\n",
    "print(test_reviewed_df.head(n=2))"
   ]
  },
  {
   "cell_type": "code",
   "execution_count": 14,
   "metadata": {},
   "outputs": [
    {
     "data": {
      "text/plain": [
       "'\\n# Read RAW_recipes.csv file to raw_recipes_df dataframe\\nfull_reviewed_df = pd.read_csv(os.path.join(SOURCE_DATA_PATH, \\'RAW_interactions.csv\\'))\\n\\n# Split the dataframe into train and test sets\\nreviewed_df = full_reviewed_df.sample(frac=0.8, random_state=42)\\ntest_reviewed_df = full_reviewed_df.drop(reviewed_df.index)\\n\\n# Save test_reviewed_df as csv file to NEO4J_IMPORT_DIR\\ntest_reviewed_df.to_csv(os.path.join(NEO4J_IMPORT_DIR, \\'test_reviewed.csv\\'), index = False)\\n\\n# Print the length of the train and test sets to check if the split was successful\\nprint(f\"Initial set length: {len(full_reviewed_df)}\")\\nprint(f\"Train set length: {len(reviewed_df)}\")\\nprint(f\"Test set length: {len(test_reviewed_df)}\")\\n\\n# Set default values\\nreviewed_df[\\'review\\'] = reviewed_df[\\'review\\'].fillna(\\'No Review\\')\\n# Remove backslashes from the \\'review\\' column\\nreviewed_df[\\'review\\'] = reviewed_df[\\'review\\'].str.replace(\\'\\\\\\', \\'\\')\\n# Save as csv file to NEO4J_IMPORT_DIR\\nreviewed_df.to_csv(os.path.join(NEO4J_IMPORT_DIR, \\'reviewed.csv\\'), index = False)\\n# Show dataframe\\nreviewed_df.head(n=2)\\n'"
      ]
     },
     "execution_count": 14,
     "metadata": {},
     "output_type": "execute_result"
    }
   ],
   "source": [
    "'''\n",
    "# Read RAW_recipes.csv file to raw_recipes_df dataframe\n",
    "full_reviewed_df = pd.read_csv(os.path.join(SOURCE_DATA_PATH, 'RAW_interactions.csv'))\n",
    "\n",
    "# Split the dataframe into train and test sets\n",
    "reviewed_df = full_reviewed_df.sample(frac=0.8, random_state=42)\n",
    "test_reviewed_df = full_reviewed_df.drop(reviewed_df.index)\n",
    "\n",
    "# Save test_reviewed_df as csv file to NEO4J_IMPORT_DIR\n",
    "test_reviewed_df.to_csv(os.path.join(NEO4J_IMPORT_DIR, 'test_reviewed.csv'), index = False)\n",
    "\n",
    "# Print the length of the train and test sets to check if the split was successful\n",
    "print(f\"Initial set length: {len(full_reviewed_df)}\")\n",
    "print(f\"Train set length: {len(reviewed_df)}\")\n",
    "print(f\"Test set length: {len(test_reviewed_df)}\")\n",
    "\n",
    "# Set default values\n",
    "reviewed_df['review'] = reviewed_df['review'].fillna('No Review')\n",
    "# Remove backslashes from the 'review' column\n",
    "reviewed_df['review'] = reviewed_df['review'].str.replace('\\\\', '')\n",
    "# Save as csv file to NEO4J_IMPORT_DIR\n",
    "reviewed_df.to_csv(os.path.join(NEO4J_IMPORT_DIR, 'reviewed.csv'), index = False)\n",
    "# Show dataframe\n",
    "reviewed_df.head(n=2)\n",
    "'''"
   ]
  },
  {
   "cell_type": "markdown",
   "metadata": {},
   "source": [
    "#### User Nodes\n",
    "\n",
    "For the user nodes, we will just keep unique 'user_id' from the ratings data:"
   ]
  },
  {
   "cell_type": "code",
   "execution_count": 15,
   "metadata": {},
   "outputs": [
    {
     "data": {
      "text/html": [
       "<div>\n",
       "<style scoped>\n",
       "    .dataframe tbody tr th:only-of-type {\n",
       "        vertical-align: middle;\n",
       "    }\n",
       "\n",
       "    .dataframe tbody tr th {\n",
       "        vertical-align: top;\n",
       "    }\n",
       "\n",
       "    .dataframe thead th {\n",
       "        text-align: right;\n",
       "    }\n",
       "</style>\n",
       "<table border=\"1\" class=\"dataframe\">\n",
       "  <thead>\n",
       "    <tr style=\"text-align: right;\">\n",
       "      <th></th>\n",
       "      <th>id</th>\n",
       "    </tr>\n",
       "  </thead>\n",
       "  <tbody>\n",
       "    <tr>\n",
       "      <th>0</th>\n",
       "      <td>38094</td>\n",
       "    </tr>\n",
       "    <tr>\n",
       "      <th>2</th>\n",
       "      <td>8937</td>\n",
       "    </tr>\n",
       "  </tbody>\n",
       "</table>\n",
       "</div>"
      ],
      "text/plain": [
       "      id\n",
       "0  38094\n",
       "2   8937"
      ]
     },
     "execution_count": 15,
     "metadata": {},
     "output_type": "execute_result"
    }
   ],
   "source": [
    "# Create user dataframe\n",
    "user_df = reviewed_df[['user_id']].drop_duplicates().rename(columns={'user_id': 'id'})\n",
    "# Save as csv file to NEO4J_IMPORT_DIR\n",
    "user_df.to_csv(os.path.join(NEO4J_IMPORT_DIR, 'users.csv'), index = False)\n",
    "# Show dataframe\n",
    "user_df.head(n=2)"
   ]
  },
  {
   "cell_type": "markdown",
   "metadata": {},
   "source": [
    "## <a id=\"load-data\">Load Data Into Neo4j</a>\n",
    "\n",
    "In this section we will load the above transformed data into Neo4j. As a good rule of practice for Neo4j bulk loading,\n",
    "I have found it ideal if you can follow the below pattern. Note that for this to work, each node should have some sort\n",
    "of external unique id, or you must otherwise create one at ingest time.\n",
    "\n",
    "1. __Set a uniqueness constraint__ on a property for each node label\n",
    "2. __Load nodes__ using `MERGE` which is similar to an upsert pattern on the above uniqueness constraint and is very well optimized in Neo4j\n",
    "3. __Load relationships__ using `MATCH` and `MERGE` to find adjacent nodes on uniqueness constraint and upsert respectively"
   ]
  },
  {
   "cell_type": "code",
   "execution_count": 16,
   "metadata": {},
   "outputs": [
    {
     "name": "stdout",
     "output_type": "stream",
     "text": [
      "Could not find database properties file, using defaults\n"
     ]
    }
   ],
   "source": [
    "# Using an ini file for credentials, otherwise providing defaults\n",
    "HOST = 'bolt://localhost:7687'\n",
    "DATABASE = 'neo4j'\n",
    "PASSWORD = 'LU?vVtYf8])9;^z'\n",
    "\n",
    "if NEO4J_PROPERTIES_FILE is not None and os.path.exists(NEO4J_PROPERTIES_FILE):\n",
    "    config = configparser.RawConfigParser()\n",
    "    config.read(NEO4J_PROPERTIES_FILE)\n",
    "    HOST = config['NEO4J']['HOST']\n",
    "    DATABASE = config['NEO4J']['DATABASE']\n",
    "    PASSWORD = config['NEO4J']['PASSWORD']\n",
    "    print('Using custom database properties')\n",
    "else:\n",
    "    print('Could not find database properties file, using defaults')"
   ]
  },
  {
   "cell_type": "code",
   "execution_count": 17,
   "metadata": {},
   "outputs": [],
   "source": [
    "# helper function\n",
    "def run(driver, query, params=None):\n",
    "    with driver.session() as session:\n",
    "        if params is not None:\n",
    "            return [r for r in session.run(query, params)]\n",
    "        else:\n",
    "            return [r for r in session.run(query)]"
   ]
  },
  {
   "cell_type": "code",
   "execution_count": 18,
   "metadata": {},
   "outputs": [],
   "source": [
    "driver = GraphDatabase.driver(HOST, auth=(DATABASE, PASSWORD))"
   ]
  },
  {
   "cell_type": "markdown",
   "metadata": {},
   "source": [
    "### Set Uniqueness Constraints\n",
    "First, let's clear the database"
   ]
  },
  {
   "cell_type": "code",
   "execution_count": 19,
   "metadata": {},
   "outputs": [
    {
     "data": {
      "text/plain": [
       "[<Record updates=438778 executions=439 runtime=17 batches=440 failedBatches=0 batchErrors={} failedCommits=0 commitErrors={} wasTerminated=False>]"
      ]
     },
     "execution_count": 19,
     "metadata": {},
     "output_type": "execute_result"
    }
   ],
   "source": [
    "# Delete all previous nodes and relations\n",
    "run(driver, textwrap.dedent(\"\"\"\\\n",
    "    CALL apoc.periodic.commit(\n",
    "        \"MATCH (n)\n",
    "        WITH n LIMIT $limit\n",
    "        DETACH DELETE n \n",
    "        RETURN COUNT(*)\", \n",
    "    {limit:1000})\n",
    "    \"\"\"))"
   ]
  },
  {
   "cell_type": "markdown",
   "metadata": {},
   "source": [
    "### Set Uniqueness Constraints\n",
    "This step is critical for performant loading with merge patterns"
   ]
  },
  {
   "cell_type": "code",
   "execution_count": 20,
   "metadata": {},
   "outputs": [
    {
     "data": {
      "text/plain": [
       "[]"
      ]
     },
     "execution_count": 20,
     "metadata": {},
     "output_type": "execute_result"
    }
   ],
   "source": [
    "run(driver,'CREATE CONSTRAINT user_id_unique IF NOT EXISTS FOR (user:User) REQUIRE user.id  IS UNIQUE')\n",
    "run(driver,'CREATE CONSTRAINT recipe_id_unique IF NOT EXISTS FOR (recipe:Recipe) REQUIRE recipe.id IS UNIQUE')\n",
    "run(driver,'CREATE CONSTRAINT ingredient_id_unique IF NOT EXISTS FOR (ingredient:Ingredient) REQUIRE ingredient.id IS UNIQUE')"
   ]
  },
  {
   "cell_type": "markdown",
   "metadata": {},
   "source": [
    "### Load Nodes"
   ]
  },
  {
   "cell_type": "code",
   "execution_count": 21,
   "metadata": {},
   "outputs": [
    {
     "data": {
      "text/plain": [
       "[]"
      ]
     },
     "execution_count": 21,
     "metadata": {},
     "output_type": "execute_result"
    }
   ],
   "source": [
    "# User nodes\n",
    "run(driver, textwrap.dedent(\"\"\"\\\n",
    "    LOAD CSV WITH HEADERS FROM $file AS row\n",
    "    WITH row\n",
    "    CALL { \n",
    "        WITH row  \n",
    "        MERGE(user:User {id:row.id})\n",
    "    } IN TRANSACTIONS OF 10000 ROWS\n",
    "    \"\"\"),\n",
    "    params = {'file': os.path.join(NEO4j_IMPORT_PATH, 'users.csv')}\n",
    ")"
   ]
  },
  {
   "cell_type": "code",
   "execution_count": 22,
   "metadata": {},
   "outputs": [
    {
     "data": {
      "text/plain": [
       "[]"
      ]
     },
     "execution_count": 22,
     "metadata": {},
     "output_type": "execute_result"
    }
   ],
   "source": [
    "# Recipe nodes\n",
    "run(driver, textwrap.dedent(\"\"\"\\\n",
    "    LOAD CSV WITH HEADERS FROM $file AS row\n",
    "    WITH row\n",
    "    CALL { \n",
    "        WITH row\n",
    "        MERGE(recipe:Recipe {\n",
    "            id: row.id,\n",
    "            name: row.name,\n",
    "            minutes: row.minutes,\n",
    "            tags: row.tags,\n",
    "            nutrition: row.nutrition,  // apoc.convert.fromJsonList(row.nutrition)\n",
    "            n_steps: row.n_steps,\n",
    "            steps: row.steps,\n",
    "            description: row.description,\n",
    "            n_ingredients: row.n_ingredients })\n",
    "    } IN TRANSACTIONS OF 10000 ROWS\n",
    "    \"\"\"),\n",
    "    params = {'file': os.path.join(NEO4j_IMPORT_PATH, 'recipes.csv')}\n",
    ")"
   ]
  },
  {
   "cell_type": "code",
   "execution_count": 23,
   "metadata": {},
   "outputs": [
    {
     "data": {
      "text/plain": [
       "[]"
      ]
     },
     "execution_count": 23,
     "metadata": {},
     "output_type": "execute_result"
    }
   ],
   "source": [
    "# Ingredient nodes\n",
    "run(driver, textwrap.dedent(\"\"\"\\\n",
    "    LOAD CSV WITH HEADERS FROM $file AS row\n",
    "    WITH row\n",
    "    CALL { \n",
    "        WITH row\n",
    "        MERGE(ingredient:Ingredient {\n",
    "            id: row.id,\n",
    "            name: row.name })\n",
    "    } IN TRANSACTIONS OF 10000 ROWS\n",
    "    \"\"\"),\n",
    "    params = {'file': os.path.join(NEO4j_IMPORT_PATH, 'ingredients.csv')}\n",
    ")"
   ]
  },
  {
   "cell_type": "markdown",
   "metadata": {},
   "source": [
    "### Load Relationships"
   ]
  },
  {
   "cell_type": "code",
   "execution_count": 24,
   "metadata": {},
   "outputs": [
    {
     "data": {
      "text/plain": [
       "[]"
      ]
     },
     "execution_count": 24,
     "metadata": {},
     "output_type": "execute_result"
    }
   ],
   "source": [
    "# WithIngredients relationship\n",
    "run(driver, textwrap.dedent(\"\"\"\\\n",
    "    LOAD CSV WITH HEADERS FROM $file AS row\n",
    "    WITH row\n",
    "    CALL { \n",
    "        WITH row\n",
    "        MATCH(recipe:Recipe {id: row.recipe_id})\n",
    "        MATCH(ingredient:Ingredient {id: row.ingredient_id})\n",
    "        MERGE(recipe)-[r:WITH_INGREDIENTS]->(ingredient)\n",
    "    } IN TRANSACTIONS OF 10000 ROWS\n",
    "    \"\"\"),\n",
    "    params = {'file': os.path.join(NEO4j_IMPORT_PATH, 'with_ingredients.csv')}\n",
    ")"
   ]
  },
  {
   "cell_type": "code",
   "execution_count": 25,
   "metadata": {},
   "outputs": [
    {
     "data": {
      "text/plain": [
       "[]"
      ]
     },
     "execution_count": 25,
     "metadata": {},
     "output_type": "execute_result"
    }
   ],
   "source": [
    "# Submitted relationship\n",
    "run(driver, textwrap.dedent(\"\"\"\\\n",
    "    LOAD CSV WITH HEADERS FROM $file AS row\n",
    "    WITH row\n",
    "    CALL { \n",
    "        WITH row        \n",
    "        MATCH(user:User {id: row.user_id})\n",
    "        MATCH(recipe:Recipe {id: row.recipe_id})\n",
    "        MERGE(user)-[r:SUBMITTED {submitted: date(row.submitted)}]->(recipe)\n",
    "    } IN TRANSACTIONS OF 10000 ROWS\n",
    "    \"\"\"),\n",
    "    params = {'file': os.path.join(NEO4j_IMPORT_PATH, 'submitted.csv')}\n",
    ")"
   ]
  },
  {
   "cell_type": "code",
   "execution_count": 26,
   "metadata": {},
   "outputs": [
    {
     "data": {
      "text/plain": [
       "[<Record batches=70 total=697656 timeTaken=17 committedOperations=30000 failedOperations=667656 failedBatches=67 retries=0 errorMessages={\"ForsetiClient[transactionId=158097, clientId=69] can't acquire ExclusiveLock{owner=ForsetiClient[transactionId=158123, clientId=77]} on NODE_RELATIONSHIP_GROUP_DELETE(416250) because holders of that lock are waiting for ForsetiClient[transactionId=158097, clientId=69].\\n Wait list:ExclusiveLock[\\nClient[158123] waits for [ForsetiClient[transactionId=158097, clientId=69],ForsetiClient[transactionId=158120, clientId=74],ForsetiClient[transactionId=158106, clientId=61]]]\": 1, \"ForsetiClient[transactionId=158114, clientId=21] can't acquire ExclusiveLock{owner=ForsetiClient[transactionId=158106, clientId=61]} on NODE_RELATIONSHIP_GROUP_DELETE(416112) because holders of that lock are waiting for ForsetiClient[transactionId=158114, clientId=21].\\n Wait list:ExclusiveLock[\\nClient[158106] waits for [ForsetiClient[transactionId=158105, clientId=66],ForsetiClient[transactionId=158114, clientId=21]]]\": 1, \"ForsetiClient[transactionId=158121, clientId=75] can't acquire ExclusiveLock{owner=ForsetiClient[transactionId=158123, clientId=77]} on NODE_RELATIONSHIP_GROUP_DELETE(416250) because holders of that lock are waiting for ForsetiClient[transactionId=158121, clientId=75].\\n Wait list:ExclusiveLock[\\nClient[158123] waits for [ForsetiClient[transactionId=158121, clientId=75],ForsetiClient[transactionId=158106, clientId=61]]]\": 1, \"ForsetiClient[transactionId=158123, clientId=77] can't acquire ExclusiveLock{owner=ForsetiClient[transactionId=158106, clientId=61]} on NODE_RELATIONSHIP_GROUP_DELETE(418536) because holders of that lock are waiting for ForsetiClient[transactionId=158123, clientId=77].\\n Wait list:ExclusiveLock[\\nClient[158106] waits for [ForsetiClient[transactionId=158123, clientId=77]]]\": 1, \"ForsetiClient[transactionId=158077, clientId=11] can't acquire ExclusiveLock{owner=ForsetiClient[transactionId=158099, clientId=71]} on NODE_RELATIONSHIP_GROUP_DELETE(416439) because holders of that lock are waiting for ForsetiClient[transactionId=158077, clientId=11].\\n Wait list:ExclusiveLock[\\nClient[158099] waits for [ForsetiClient[transactionId=158098, clientId=70],ForsetiClient[transactionId=158077, clientId=11],ForsetiClient[transactionId=158090, clientId=63]]]\": 1, \"ForsetiClient[transactionId=158071, clientId=40] can't acquire ExclusiveLock{owner=ForsetiClient[transactionId=158098, clientId=70]} on NODE_RELATIONSHIP_GROUP_DELETE(416445) because holders of that lock are waiting for ForsetiClient[transactionId=158071, clientId=40].\\n Wait list:ExclusiveLock[\\nClient[158098] waits for [ForsetiClient[transactionId=158071, clientId=40],ForsetiClient[transactionId=158101, clientId=72]]]\": 1, \"ForsetiClient[transactionId=158092, clientId=7] can't acquire ExclusiveLock{owner=ForsetiClient[transactionId=158088, clientId=61]} on NODE_RELATIONSHIP_GROUP_DELETE(416445) because holders of that lock are waiting for ForsetiClient[transactionId=158092, clientId=7].\\n Wait list:ExclusiveLock[\\nClient[158088] waits for [ForsetiClient[transactionId=158094, clientId=66],ForsetiClient[transactionId=158095, clientId=67],ForsetiClient[transactionId=158065, clientId=3],ForsetiClient[transactionId=158092, clientId=7],ForsetiClient[transactionId=158082, clientId=57],ForsetiClient[transactionId=158087, clientId=60]]]\": 1, \"ForsetiClient[transactionId=158084, clientId=58] can't acquire ExclusiveLock{owner=ForsetiClient[transactionId=158098, clientId=70]} on NODE_RELATIONSHIP_GROUP_DELETE(417803) because holders of that lock are waiting for ForsetiClient[transactionId=158084, clientId=58].\\n Wait list:ExclusiveLock[\\nClient[158098] waits for [ForsetiClient[transactionId=158096, clientId=68],ForsetiClient[transactionId=158084, clientId=58]]]\": 1, \"ForsetiClient[transactionId=158112, clientId=57] can't acquire ExclusiveLock{owner=ForsetiClient[transactionId=158106, clientId=61]} on NODE_RELATIONSHIP_GROUP_DELETE(416471) because holders of that lock are waiting for ForsetiClient[transactionId=158112, clientId=57].\\n Wait list:ExclusiveLock[\\nClient[158106] waits for [ForsetiClient[transactionId=158112, clientId=57]]]\": 1, \"ForsetiClient[transactionId=158073, clientId=49] can't acquire ExclusiveLock{owner=ForsetiClient[transactionId=158098, clientId=70]} on NODE_RELATIONSHIP_GROUP_DELETE(416749) because holders of that lock are waiting for ForsetiClient[transactionId=158073, clientId=49].\\n Wait list:ExclusiveLock[\\nClient[158098] waits for [ForsetiClient[transactionId=158073, clientId=49],ForsetiClient[transactionId=158096, clientId=68],ForsetiClient[transactionId=158084, clientId=58]]]\": 1, \"ForsetiClient[transactionId=158065, clientId=3] can't acquire ExclusiveLock{owner=ForsetiClient[transactionId=158087, clientId=60]} on NODE_RELATIONSHIP_GROUP_DELETE(416038) because holders of that lock are waiting for ForsetiClient[transactionId=158065, clientId=3].\\n Wait list:ExclusiveLock[\\nClient[158087] waits for [ForsetiClient[transactionId=158065, clientId=3],ForsetiClient[transactionId=158079, clientId=54],ForsetiClient[transactionId=158082, clientId=57],ForsetiClient[transactionId=158088, clientId=61]]]\": 1, \"ForsetiClient[transactionId=158087, clientId=60] can't acquire ExclusiveLock{owner=ForsetiClient[transactionId=158079, clientId=54]} on NODE_RELATIONSHIP_GROUP_DELETE(424381) because holders of that lock are waiting for ForsetiClient[transactionId=158087, clientId=60].\\n Wait list:ExclusiveLock[\\nClient[158079] waits for [ForsetiClient[transactionId=158065, clientId=3],ForsetiClient[transactionId=158082, clientId=57],ForsetiClient[transactionId=158087, clientId=60],ForsetiClient[transactionId=158088, clientId=61]]]\": 1, \"ForsetiClient[transactionId=158095, clientId=67] can't acquire ExclusiveLock{owner=ForsetiClient[transactionId=158065, clientId=3]} on NODE_RELATIONSHIP_GROUP_DELETE(416019) because holders of that lock are waiting for ForsetiClient[transactionId=158095, clientId=67].\\n Wait list:ExclusiveLock[\\nClient[158065] waits for [ForsetiClient[transactionId=158095, clientId=67],ForsetiClient[transactionId=158087, clientId=60]]]\": 1, \"ForsetiClient[transactionId=158115, clientId=71] can't acquire ExclusiveLock{owner=ForsetiClient[transactionId=158106, clientId=61]} on NODE_RELATIONSHIP_GROUP_DELETE(416331) because holders of that lock are waiting for ForsetiClient[transactionId=158115, clientId=71].\\n Wait list:ExclusiveLock[\\nClient[158106] waits for [ForsetiClient[transactionId=158115, clientId=71]]]\": 1, \"ForsetiClient[transactionId=158105, clientId=66] can't acquire ExclusiveLock{owner=ForsetiClient[transactionId=158106, clientId=61]} on NODE_RELATIONSHIP_GROUP_DELETE(416112) because holders of that lock are waiting for ForsetiClient[transactionId=158105, clientId=66].\\n Wait list:ExclusiveLock[\\nClient[158106] waits for [ForsetiClient[transactionId=158105, clientId=66]]]\": 1, \"ForsetiClient[transactionId=158120, clientId=74] can't acquire ExclusiveLock{owner=ForsetiClient[transactionId=158107, clientId=60]} on NODE_RELATIONSHIP_GROUP_DELETE(416371) because holders of that lock are waiting for ForsetiClient[transactionId=158120, clientId=74].\\n Wait list:ExclusiveLock[\\nClient[158107] waits for [ForsetiClient[transactionId=158097, clientId=69],ForsetiClient[transactionId=158112, clientId=57],ForsetiClient[transactionId=158108, clientId=41],ForsetiClient[transactionId=158120, clientId=74],ForsetiClient[transactionId=158123, clientId=77],ForsetiClient[transactionId=158106, clientId=61]]]\": 1, \"ForsetiClient[transactionId=158109, clientId=64] can't acquire ExclusiveLock{owner=ForsetiClient[transactionId=158106, clientId=61]} on NODE_RELATIONSHIP_GROUP_DELETE(422380) because holders of that lock are waiting for ForsetiClient[transactionId=158109, clientId=64].\\n Wait list:ExclusiveLock[\\nClient[158106] waits for [ForsetiClient[transactionId=158109, clientId=64]]]\": 1, \"ForsetiClient[transactionId=158088, clientId=61] can't acquire ExclusiveLock{owner=ForsetiClient[transactionId=158082, clientId=57]} on NODE_RELATIONSHIP_GROUP_DELETE(416331) because holders of that lock are waiting for ForsetiClient[transactionId=158088, clientId=61].\\n Wait list:ExclusiveLock[\\nClient[158082] waits for [ForsetiClient[transactionId=158080, clientId=55],ForsetiClient[transactionId=158088, clientId=61]]]\": 1, \"ForsetiClient[transactionId=158083, clientId=50] can't acquire ExclusiveLock{owner=ForsetiClient[transactionId=158079, clientId=54]} on NODE_RELATIONSHIP_GROUP_DELETE(417727) because holders of that lock are waiting for ForsetiClient[transactionId=158083, clientId=50].\\n Wait list:ExclusiveLock[\\nClient[158079] waits for [ForsetiClient[transactionId=158073, clientId=49],ForsetiClient[transactionId=158083, clientId=50],ForsetiClient[transactionId=158066, clientId=21],ForsetiClient[transactionId=158090, clientId=63]]]\": 1, \"ForsetiClient[transactionId=158101, clientId=72] can't acquire ExclusiveLock{owner=ForsetiClient[transactionId=158098, clientId=70]} on NODE_RELATIONSHIP_GROUP_DELETE(416587) because holders of that lock are waiting for ForsetiClient[transactionId=158101, clientId=72].\\n Wait list:ExclusiveLock[\\nClient[158098] waits for [ForsetiClient[transactionId=158071, clientId=40],ForsetiClient[transactionId=158101, clientId=72]]]\": 1, \"ForsetiClient[transactionId=158111, clientId=3] can't acquire ExclusiveLock{owner=ForsetiClient[transactionId=158106, clientId=61]} on NODE_RELATIONSHIP_GROUP_DELETE(418659) because holders of that lock are waiting for ForsetiClient[transactionId=158111, clientId=3].\\n Wait list:ExclusiveLock[\\nClient[158106] waits for [ForsetiClient[transactionId=158111, clientId=3]]]\": 1, \"ForsetiClient[transactionId=158076, clientId=52] can't acquire ExclusiveLock{owner=ForsetiClient[transactionId=158094, clientId=66]} on NODE_RELATIONSHIP_GROUP_DELETE(416249) because holders of that lock are waiting for ForsetiClient[transactionId=158076, clientId=52].\\n Wait list:ExclusiveLock[\\nClient[158094] waits for [ForsetiClient[transactionId=158076, clientId=52],ForsetiClient[transactionId=158092, clientId=7],ForsetiClient[transactionId=158088, clientId=61]]]\": 1, \"ForsetiClient[transactionId=158069, clientId=41] can't acquire ExclusiveLock{owner=ForsetiClient[transactionId=158080, clientId=55]} on NODE_RELATIONSHIP_GROUP_DELETE(416243) because holders of that lock are waiting for ForsetiClient[transactionId=158069, clientId=41].\\n Wait list:ExclusiveLock[\\nClient[158080] waits for [ForsetiClient[transactionId=158066, clientId=21],ForsetiClient[transactionId=158069, clientId=41]]]\": 1, \"ForsetiClient[transactionId=158126, clientId=80] can't acquire ExclusiveLock{owner=ForsetiClient[transactionId=158128, clientId=82]} on NODE_RELATIONSHIP_GROUP_DELETE(416935) because holders of that lock are waiting for ForsetiClient[transactionId=158126, clientId=80].\\n Wait list:ExclusiveLock[\\nClient[158128] waits for [ForsetiClient[transactionId=158126, clientId=80],ForsetiClient[transactionId=158113, clientId=50],ForsetiClient[transactionId=158122, clientId=76]]]\": 1, \"ForsetiClient[transactionId=158080, clientId=55] can't acquire ExclusiveLock{owner=ForsetiClient[transactionId=158066, clientId=21]} on NODE_RELATIONSHIP_GROUP_DELETE(417648) because holders of that lock are waiting for ForsetiClient[transactionId=158080, clientId=55].\\n Wait list:ExclusiveLock[\\nClient[158066] waits for [ForsetiClient[transactionId=158080, clientId=55],ForsetiClient[transactionId=158081, clientId=56],ForsetiClient[transactionId=158069, clientId=41]]]\": 1, \"ForsetiClient[transactionId=158072, clientId=48] can't acquire ExclusiveLock{owner=ForsetiClient[transactionId=158067, clientId=37]} on NODE_RELATIONSHIP_GROUP_DELETE(416181) because holders of that lock are waiting for ForsetiClient[transactionId=158072, clientId=48].\\n Wait list:ExclusiveLock[\\nClient[158067] waits for [ForsetiClient[transactionId=158072, clientId=48]]]\": 1, \"ForsetiClient[transactionId=158129, clientId=83] can't acquire ExclusiveLock{owner=ForsetiClient[transactionId=158106, clientId=61]} on NODE_RELATIONSHIP_GROUP_DELETE(416752) because holders of that lock are waiting for ForsetiClient[transactionId=158129, clientId=83].\\n Wait list:ExclusiveLock[\\nClient[158106] waits for [ForsetiClient[transactionId=158105, clientId=66],ForsetiClient[transactionId=158129, clientId=83],ForsetiClient[transactionId=158118, clientId=73]]]\": 1, \"ForsetiClient[transactionId=158131, clientId=85] can't acquire ExclusiveLock{owner=ForsetiClient[transactionId=158106, clientId=61]} on NODE_RELATIONSHIP_GROUP_DELETE(416331) because holders of that lock are waiting for ForsetiClient[transactionId=158131, clientId=85].\\n Wait list:ExclusiveLock[\\nClient[158106] waits for [ForsetiClient[transactionId=158131, clientId=85]]]\": 1, \"ForsetiClient[transactionId=158094, clientId=66] can't acquire ExclusiveLock{owner=ForsetiClient[transactionId=158082, clientId=57]} on NODE_RELATIONSHIP_GROUP_DELETE(416331) because holders of that lock are waiting for ForsetiClient[transactionId=158094, clientId=66].\\n Wait list:ExclusiveLock[\\nClient[158082] waits for [ForsetiClient[transactionId=158094, clientId=66]]]\": 1, \"ForsetiClient[transactionId=158074, clientId=50] can't acquire ExclusiveLock{owner=ForsetiClient[transactionId=158067, clientId=37]} on NODE_RELATIONSHIP_GROUP_DELETE(416445) because holders of that lock are waiting for ForsetiClient[transactionId=158074, clientId=50].\\n Wait list:ExclusiveLock[\\nClient[158067] waits for [ForsetiClient[transactionId=158074, clientId=50]]]\": 1, \"ForsetiClient[transactionId=158134, clientId=70] can't acquire ExclusiveLock{owner=ForsetiClient[transactionId=158106, clientId=61]} on NODE_RELATIONSHIP_GROUP_DELETE(417110) because holders of that lock are waiting for ForsetiClient[transactionId=158134, clientId=70].\\n Wait list:ExclusiveLock[\\nClient[158106] waits for [ForsetiClient[transactionId=158111, clientId=3],ForsetiClient[transactionId=158134, clientId=70]]]\": 1, \"ForsetiClient[transactionId=158085, clientId=59] can't acquire ExclusiveLock{owner=ForsetiClient[transactionId=158098, clientId=70]} on NODE_RELATIONSHIP_GROUP_DELETE(418289) because holders of that lock are waiting for ForsetiClient[transactionId=158085, clientId=59].\\n Wait list:ExclusiveLock[\\nClient[158098] waits for [ForsetiClient[transactionId=158085, clientId=59]]]\": 1, \"ForsetiClient[transactionId=158081, clientId=56] can't acquire ExclusiveLock{owner=ForsetiClient[transactionId=158080, clientId=55]} on NODE_RELATIONSHIP_GROUP_DELETE(417511) because holders of that lock are waiting for ForsetiClient[transactionId=158081, clientId=56].\\n Wait list:ExclusiveLock[\\nClient[158080] waits for [ForsetiClient[transactionId=158066, clientId=21],ForsetiClient[transactionId=158081, clientId=56]]]\": 1, \"ForsetiClient[transactionId=158070, clientId=11] can't acquire ExclusiveLock{owner=ForsetiClient[transactionId=158067, clientId=37]} on NODE_RELATIONSHIP_GROUP_DELETE(416193) because holders of that lock are waiting for ForsetiClient[transactionId=158070, clientId=11].\\n Wait list:ExclusiveLock[\\nClient[158067] waits for [ForsetiClient[transactionId=158070, clientId=11]]]\": 1, \"ForsetiClient[transactionId=158082, clientId=57] can't acquire ExclusiveLock{owner=ForsetiClient[transactionId=158096, clientId=68]} on NODE_RELATIONSHIP_GROUP_DELETE(417123) because holders of that lock are waiting for ForsetiClient[transactionId=158082, clientId=57].\\n Wait list:ExclusiveLock[\\nClient[158096] waits for [ForsetiClient[transactionId=158091, clientId=64],ForsetiClient[transactionId=158079, clientId=54],ForsetiClient[transactionId=158080, clientId=55],ForsetiClient[transactionId=158082, clientId=57],ForsetiClient[transactionId=158090, clientId=63]]]\": 1, \"ForsetiClient[transactionId=158124, clientId=78] can't acquire ExclusiveLock{owner=ForsetiClient[transactionId=158097, clientId=69]} on NODE_RELATIONSHIP_GROUP_DELETE(416112) because holders of that lock are waiting for ForsetiClient[transactionId=158124, clientId=78].\\n Wait list:ExclusiveLock[\\nClient[158097] waits for [ForsetiClient[transactionId=158104, clientId=7],ForsetiClient[transactionId=158124, clientId=78],ForsetiClient[transactionId=158125, clientId=79]]]\": 1, \"ForsetiClient[transactionId=158107, clientId=60] can't acquire ExclusiveLock{owner=ForsetiClient[transactionId=158106, clientId=61]} on NODE_RELATIONSHIP_GROUP_DELETE(416331) because holders of that lock are waiting for ForsetiClient[transactionId=158107, clientId=60].\\n Wait list:ExclusiveLock[\\nClient[158106] waits for [ForsetiClient[transactionId=158107, clientId=60]]]\": 1, \"ForsetiClient[transactionId=158127, clientId=81] can't acquire ExclusiveLock{owner=ForsetiClient[transactionId=158106, clientId=61]} on NODE_RELATIONSHIP_GROUP_DELETE(417110) because holders of that lock are waiting for ForsetiClient[transactionId=158127, clientId=81].\\n Wait list:ExclusiveLock[\\nClient[158106] waits for [ForsetiClient[transactionId=158127, clientId=81],ForsetiClient[transactionId=158102, clientId=67]]]\": 1, \"ForsetiClient[transactionId=158136, clientId=79] can't acquire ExclusiveLock{owner=ForsetiClient[transactionId=158106, clientId=61]} on NODE_RELATIONSHIP_GROUP_DELETE(416341) because holders of that lock are waiting for ForsetiClient[transactionId=158136, clientId=79].\\n Wait list:ExclusiveLock[\\nClient[158106] waits for [ForsetiClient[transactionId=158136, clientId=79]]]\": 1, \"ForsetiClient[transactionId=158078, clientId=53] can't acquire ExclusiveLock{owner=ForsetiClient[transactionId=158066, clientId=21]} on NODE_RELATIONSHIP_GROUP_DELETE(416671) because holders of that lock are waiting for ForsetiClient[transactionId=158078, clientId=53].\\n Wait list:ExclusiveLock[\\nClient[158066] waits for [ForsetiClient[transactionId=158083, clientId=50],ForsetiClient[transactionId=158078, clientId=53],ForsetiClient[transactionId=158098, clientId=70]]]\": 1, \"ForsetiClient[transactionId=158108, clientId=41] can't acquire ExclusiveLock{owner=ForsetiClient[transactionId=158123, clientId=77]} on NODE_RELATIONSHIP_GROUP_DELETE(416452) because holders of that lock are waiting for ForsetiClient[transactionId=158108, clientId=41].\\n Wait list:ExclusiveLock[\\nClient[158123] waits for [ForsetiClient[transactionId=158097, clientId=69],ForsetiClient[transactionId=158104, clientId=7],ForsetiClient[transactionId=158112, clientId=57],ForsetiClient[transactionId=158108, clientId=41],ForsetiClient[transactionId=158120, clientId=74],ForsetiClient[transactionId=158107, clientId=60],ForsetiClient[transactionId=158106, clientId=61]]]\": 1, \"ForsetiClient[transactionId=158113, clientId=50] can't acquire ExclusiveLock{owner=ForsetiClient[transactionId=158127, clientId=81]} on NODE_RELATIONSHIP_GROUP_DELETE(416226) because holders of that lock are waiting for ForsetiClient[transactionId=158113, clientId=50].\\n Wait list:ExclusiveLock[\\nClient[158127] waits for [ForsetiClient[transactionId=158126, clientId=80],ForsetiClient[transactionId=158128, clientId=82],ForsetiClient[transactionId=158113, clientId=50],ForsetiClient[transactionId=158102, clientId=67],ForsetiClient[transactionId=158122, clientId=76],ForsetiClient[transactionId=158106, clientId=61]]]\": 1, \"ForsetiClient[transactionId=158099, clientId=71] can't acquire ExclusiveLock{owner=ForsetiClient[transactionId=158098, clientId=70]} on NODE_RELATIONSHIP_GROUP_DELETE(416100) because holders of that lock are waiting for ForsetiClient[transactionId=158099, clientId=71].\\n Wait list:ExclusiveLock[\\nClient[158098] waits for [ForsetiClient[transactionId=158099, clientId=71],ForsetiClient[transactionId=158085, clientId=59]]]\": 1, \"ForsetiClient[transactionId=158103, clientId=52] can't acquire ExclusiveLock{owner=ForsetiClient[transactionId=158106, clientId=61]} on NODE_RELATIONSHIP_GROUP_DELETE(417110) because holders of that lock are waiting for ForsetiClient[transactionId=158103, clientId=52].\\n Wait list:ExclusiveLock[\\nClient[158106] waits for [ForsetiClient[transactionId=158103, clientId=52]]]\": 1, \"ForsetiClient[transactionId=158068, clientId=7] can't acquire ExclusiveLock{owner=ForsetiClient[transactionId=158067, clientId=37]} on NODE_RELATIONSHIP_GROUP_DELETE(416055) because holders of that lock are waiting for ForsetiClient[transactionId=158068, clientId=7].\\n Wait list:ExclusiveLock[\\nClient[158067] waits for [ForsetiClient[transactionId=158068, clientId=7]]]\": 1, \"ForsetiClient[transactionId=158128, clientId=82] can't acquire ExclusiveLock{owner=ForsetiClient[transactionId=158107, clientId=60]} on NODE_RELATIONSHIP_GROUP_DELETE(417114) because holders of that lock are waiting for ForsetiClient[transactionId=158128, clientId=82].\\n Wait list:ExclusiveLock[\\nClient[158107] waits for [ForsetiClient[transactionId=158128, clientId=82],ForsetiClient[transactionId=158112, clientId=57],ForsetiClient[transactionId=158122, clientId=76]]]\": 1, \"ForsetiClient[transactionId=158090, clientId=63] can't acquire ExclusiveLock{owner=ForsetiClient[transactionId=158098, clientId=70]} on NODE_RELATIONSHIP_GROUP_DELETE(416491) because holders of that lock are waiting for ForsetiClient[transactionId=158090, clientId=63].\\n Wait list:ExclusiveLock[\\nClient[158098] waits for [ForsetiClient[transactionId=158077, clientId=11],ForsetiClient[transactionId=158090, clientId=63]]]\": 1, \"ForsetiClient[transactionId=158102, clientId=67] can't acquire ExclusiveLock{owner=ForsetiClient[transactionId=158106, clientId=61]} on NODE_RELATIONSHIP_GROUP_DELETE(416591) because holders of that lock are waiting for ForsetiClient[transactionId=158102, clientId=67].\\n Wait list:ExclusiveLock[\\nClient[158106] waits for [ForsetiClient[transactionId=158127, clientId=81],ForsetiClient[transactionId=158102, clientId=67]]]\": 1, \"ForsetiClient[transactionId=158079, clientId=54] can't acquire ExclusiveLock{owner=ForsetiClient[transactionId=158090, clientId=63]} on NODE_RELATIONSHIP_GROUP_DELETE(417109) because holders of that lock are waiting for ForsetiClient[transactionId=158079, clientId=54].\\n Wait list:ExclusiveLock[\\nClient[158090] waits for [ForsetiClient[transactionId=158086, clientId=48],ForsetiClient[transactionId=158073, clientId=49],ForsetiClient[transactionId=158075, clientId=51],ForsetiClient[transactionId=158098, clientId=70],ForsetiClient[transactionId=158079, clientId=54]]]\": 1, \"ForsetiClient[transactionId=158118, clientId=73] can't acquire ExclusiveLock{owner=ForsetiClient[transactionId=158106, clientId=61]} on NODE_RELATIONSHIP_GROUP_DELETE(416112) because holders of that lock are waiting for ForsetiClient[transactionId=158118, clientId=73].\\n Wait list:ExclusiveLock[\\nClient[158106] waits for [ForsetiClient[transactionId=158118, clientId=73]]]\": 1, \"ForsetiClient[transactionId=158104, clientId=7] can't acquire ExclusiveLock{owner=ForsetiClient[transactionId=158123, clientId=77]} on NODE_RELATIONSHIP_GROUP_DELETE(416250) because holders of that lock are waiting for ForsetiClient[transactionId=158104, clientId=7].\\n Wait list:ExclusiveLock[\\nClient[158123] waits for [ForsetiClient[transactionId=158097, clientId=69],ForsetiClient[transactionId=158104, clientId=7],ForsetiClient[transactionId=158120, clientId=74],ForsetiClient[transactionId=158107, clientId=60],ForsetiClient[transactionId=158106, clientId=61]]]\": 1, \"ForsetiClient[transactionId=158130, clientId=84] can't acquire ExclusiveLock{owner=ForsetiClient[transactionId=158106, clientId=61]} on NODE_RELATIONSHIP_GROUP_DELETE(416862) because holders of that lock are waiting for ForsetiClient[transactionId=158130, clientId=84].\\n Wait list:ExclusiveLock[\\nClient[158106] waits for [ForsetiClient[transactionId=158130, clientId=84]]]\": 1, \"ForsetiClient[transactionId=158100, clientId=37] can't acquire ExclusiveLock{owner=ForsetiClient[transactionId=158098, clientId=70]} on NODE_RELATIONSHIP_GROUP_DELETE(416203) because holders of that lock are waiting for ForsetiClient[transactionId=158100, clientId=37].\\n Wait list:ExclusiveLock[\\nClient[158098] waits for [ForsetiClient[transactionId=158100, clientId=37]]]\": 1, \"ForsetiClient[transactionId=158122, clientId=76] can't acquire ExclusiveLock{owner=ForsetiClient[transactionId=158113, clientId=50]} on NODE_RELATIONSHIP_GROUP_DELETE(416198) because holders of that lock are waiting for ForsetiClient[transactionId=158122, clientId=76].\\n Wait list:ExclusiveLock[\\nClient[158113] waits for [ForsetiClient[transactionId=158126, clientId=80],ForsetiClient[transactionId=158127, clientId=81],ForsetiClient[transactionId=158128, clientId=82],ForsetiClient[transactionId=158102, clientId=67],ForsetiClient[transactionId=158122, clientId=76],ForsetiClient[transactionId=158106, clientId=61]]]\": 1, \"ForsetiClient[transactionId=158117, clientId=72] can't acquire ExclusiveLock{owner=ForsetiClient[transactionId=158106, clientId=61]} on NODE_RELATIONSHIP_GROUP_DELETE(416112) because holders of that lock are waiting for ForsetiClient[transactionId=158117, clientId=72].\\n Wait list:ExclusiveLock[\\nClient[158106] waits for [ForsetiClient[transactionId=158119, clientId=55],ForsetiClient[transactionId=158117, clientId=72]]]\": 1, \"ForsetiClient[transactionId=158096, clientId=68] can't acquire ExclusiveLock{owner=ForsetiClient[transactionId=158098, clientId=70]} on NODE_RELATIONSHIP_GROUP_DELETE(416448) because holders of that lock are waiting for ForsetiClient[transactionId=158096, clientId=68].\\n Wait list:ExclusiveLock[\\nClient[158098] waits for [ForsetiClient[transactionId=158096, clientId=68],ForsetiClient[transactionId=158084, clientId=58]]]\": 1, \"ForsetiClient[transactionId=158125, clientId=79] can't acquire ExclusiveLock{owner=ForsetiClient[transactionId=158104, clientId=7]} on NODE_RELATIONSHIP_GROUP_DELETE(416100) because holders of that lock are waiting for ForsetiClient[transactionId=158125, clientId=79].\\n Wait list:ExclusiveLock[\\nClient[158104] waits for [ForsetiClient[transactionId=158097, clientId=69],ForsetiClient[transactionId=158116, clientId=11],ForsetiClient[transactionId=158123, clientId=77],ForsetiClient[transactionId=158124, clientId=78],ForsetiClient[transactionId=158125, clientId=79]]]\": 1, \"ForsetiClient[transactionId=158066, clientId=21] can't acquire ExclusiveLock{owner=ForsetiClient[transactionId=158098, clientId=70]} on NODE_RELATIONSHIP_GROUP_DELETE(416112) because holders of that lock are waiting for ForsetiClient[transactionId=158066, clientId=21].\\n Wait list:ExclusiveLock[\\nClient[158098] waits for [ForsetiClient[transactionId=158066, clientId=21],ForsetiClient[transactionId=158078, clientId=53]]]\": 1, \"ForsetiClient[transactionId=158086, clientId=48] can't acquire ExclusiveLock{owner=ForsetiClient[transactionId=158098, clientId=70]} on NODE_RELATIONSHIP_GROUP_DELETE(416267) because holders of that lock are waiting for ForsetiClient[transactionId=158086, clientId=48].\\n Wait list:ExclusiveLock[\\nClient[158098] waits for [ForsetiClient[transactionId=158086, clientId=48],ForsetiClient[transactionId=158075, clientId=51],ForsetiClient[transactionId=158079, clientId=54]]]\": 1, \"ForsetiClient[transactionId=158116, clientId=11] can't acquire ExclusiveLock{owner=ForsetiClient[transactionId=158097, clientId=69]} on NODE_RELATIONSHIP_GROUP_DELETE(416754) because holders of that lock are waiting for ForsetiClient[transactionId=158116, clientId=11].\\n Wait list:ExclusiveLock[\\nClient[158097] waits for [ForsetiClient[transactionId=158104, clientId=7],ForsetiClient[transactionId=158120, clientId=74],ForsetiClient[transactionId=158116, clientId=11],ForsetiClient[transactionId=158107, clientId=60],ForsetiClient[transactionId=158123, clientId=77]]]\": 1, \"ForsetiClient[transactionId=158119, clientId=55] can't acquire ExclusiveLock{owner=ForsetiClient[transactionId=158117, clientId=72]} on NODE_RELATIONSHIP_GROUP_DELETE(417370) because holders of that lock are waiting for ForsetiClient[transactionId=158119, clientId=55].\\n Wait list:ExclusiveLock[\\nClient[158117] waits for [ForsetiClient[transactionId=158119, clientId=55],ForsetiClient[transactionId=158106, clientId=61]]]\": 1, \"ForsetiClient[transactionId=158075, clientId=51] can't acquire ExclusiveLock{owner=ForsetiClient[transactionId=158086, clientId=48]} on NODE_RELATIONSHIP_GROUP_DELETE(416077) because holders of that lock are waiting for ForsetiClient[transactionId=158075, clientId=51].\\n Wait list:ExclusiveLock[\\nClient[158086] waits for [ForsetiClient[transactionId=158075, clientId=51],ForsetiClient[transactionId=158098, clientId=70],ForsetiClient[transactionId=158079, clientId=54]]]\": 1, \"ForsetiClient[transactionId=158089, clientId=62] can't acquire ExclusiveLock{owner=ForsetiClient[transactionId=158098, clientId=70]} on NODE_RELATIONSHIP_GROUP_DELETE(416203) because holders of that lock are waiting for ForsetiClient[transactionId=158089, clientId=62].\\n Wait list:ExclusiveLock[\\nClient[158098] waits for [ForsetiClient[transactionId=158089, clientId=62],ForsetiClient[transactionId=158090, clientId=63]]]\": 1, \"ForsetiClient[transactionId=158091, clientId=64] can't acquire ExclusiveLock{owner=ForsetiClient[transactionId=158082, clientId=57]} on NODE_RELATIONSHIP_GROUP_DELETE(416267) because holders of that lock are waiting for ForsetiClient[transactionId=158091, clientId=64].\\n Wait list:ExclusiveLock[\\nClient[158082] waits for [ForsetiClient[transactionId=158091, clientId=64],ForsetiClient[transactionId=158096, clientId=68],ForsetiClient[transactionId=158066, clientId=21],ForsetiClient[transactionId=158079, clientId=54],ForsetiClient[transactionId=158080, clientId=55],ForsetiClient[transactionId=158081, clientId=56],ForsetiClient[transactionId=158090, clientId=63]]]\": 1, \"ForsetiClient[transactionId=158110, clientId=55] can't acquire ExclusiveLock{owner=ForsetiClient[transactionId=158098, clientId=70]} on NODE_RELATIONSHIP_GROUP_DELETE(416685) because holders of that lock are waiting for ForsetiClient[transactionId=158110, clientId=55].\\n Wait list:ExclusiveLock[\\nClient[158098] waits for [ForsetiClient[transactionId=158110, clientId=55]]]\": 1, \"ForsetiClient[transactionId=158093, clientId=65] can't acquire ExclusiveLock{owner=ForsetiClient[transactionId=158098, clientId=70]} on NODE_RELATIONSHIP_GROUP_DELETE(416267) because holders of that lock are waiting for ForsetiClient[transactionId=158093, clientId=65].\\n Wait list:ExclusiveLock[\\nClient[158098] waits for [ForsetiClient[transactionId=158093, clientId=65]]]\": 1, \"ForsetiClient[transactionId=158133, clientId=86] can't acquire ExclusiveLock{owner=ForsetiClient[transactionId=158106, clientId=61]} on NODE_RELATIONSHIP_GROUP_DELETE(416248) because holders of that lock are waiting for ForsetiClient[transactionId=158133, clientId=86].\\n Wait list:ExclusiveLock[\\nClient[158106] waits for [ForsetiClient[transactionId=158105, clientId=66],ForsetiClient[transactionId=158133, clientId=86]]]\": 1} batch={'total': 70, 'errors': {\"org.neo4j.kernel.DeadlockDetectedException: ForsetiClient[transactionId=158090, clientId=63] can't acquire ExclusiveLock{owner=ForsetiClient[transactionId=158098, clientId=70]} on NODE_RELATIONSHIP_GROUP_DELETE(416491) because holders of that lock are waiting for ForsetiClient[transactionId=158090, clientId=63].\\n Wait list:ExclusiveLock[\\nClient[158098] waits for [ForsetiClient[transactionId=158077, clientId=11],ForsetiClient[transactionId=158090, clientId=63]]]\": 1, \"org.neo4j.kernel.DeadlockDetectedException: ForsetiClient[transactionId=158136, clientId=79] can't acquire ExclusiveLock{owner=ForsetiClient[transactionId=158106, clientId=61]} on NODE_RELATIONSHIP_GROUP_DELETE(416341) because holders of that lock are waiting for ForsetiClient[transactionId=158136, clientId=79].\\n Wait list:ExclusiveLock[\\nClient[158106] waits for [ForsetiClient[transactionId=158136, clientId=79]]]\": 1, \"org.neo4j.kernel.DeadlockDetectedException: ForsetiClient[transactionId=158128, clientId=82] can't acquire ExclusiveLock{owner=ForsetiClient[transactionId=158107, clientId=60]} on NODE_RELATIONSHIP_GROUP_DELETE(417114) because holders of that lock are waiting for ForsetiClient[transactionId=158128, clientId=82].\\n Wait list:ExclusiveLock[\\nClient[158107] waits for [ForsetiClient[transactionId=158128, clientId=82],ForsetiClient[transactionId=158112, clientId=57],ForsetiClient[transactionId=158122, clientId=76]]]\": 1, \"org.neo4j.kernel.DeadlockDetectedException: ForsetiClient[transactionId=158094, clientId=66] can't acquire ExclusiveLock{owner=ForsetiClient[transactionId=158082, clientId=57]} on NODE_RELATIONSHIP_GROUP_DELETE(416331) because holders of that lock are waiting for ForsetiClient[transactionId=158094, clientId=66].\\n Wait list:ExclusiveLock[\\nClient[158082] waits for [ForsetiClient[transactionId=158094, clientId=66]]]\": 1, \"org.neo4j.kernel.DeadlockDetectedException: ForsetiClient[transactionId=158131, clientId=85] can't acquire ExclusiveLock{owner=ForsetiClient[transactionId=158106, clientId=61]} on NODE_RELATIONSHIP_GROUP_DELETE(416331) because holders of that lock are waiting for ForsetiClient[transactionId=158131, clientId=85].\\n Wait list:ExclusiveLock[\\nClient[158106] waits for [ForsetiClient[transactionId=158131, clientId=85]]]\": 1, \"org.neo4j.kernel.DeadlockDetectedException: ForsetiClient[transactionId=158104, clientId=7] can't acquire ExclusiveLock{owner=ForsetiClient[transactionId=158123, clientId=77]} on NODE_RELATIONSHIP_GROUP_DELETE(416250) because holders of that lock are waiting for ForsetiClient[transactionId=158104, clientId=7].\\n Wait list:ExclusiveLock[\\nClient[158123] waits for [ForsetiClient[transactionId=158097, clientId=69],ForsetiClient[transactionId=158104, clientId=7],ForsetiClient[transactionId=158120, clientId=74],ForsetiClient[transactionId=158107, clientId=60],ForsetiClient[transactionId=158106, clientId=61]]]\": 1, \"org.neo4j.kernel.DeadlockDetectedException: ForsetiClient[transactionId=158127, clientId=81] can't acquire ExclusiveLock{owner=ForsetiClient[transactionId=158106, clientId=61]} on NODE_RELATIONSHIP_GROUP_DELETE(417110) because holders of that lock are waiting for ForsetiClient[transactionId=158127, clientId=81].\\n Wait list:ExclusiveLock[\\nClient[158106] waits for [ForsetiClient[transactionId=158127, clientId=81],ForsetiClient[transactionId=158102, clientId=67]]]\": 1, \"org.neo4j.kernel.DeadlockDetectedException: ForsetiClient[transactionId=158133, clientId=86] can't acquire ExclusiveLock{owner=ForsetiClient[transactionId=158106, clientId=61]} on NODE_RELATIONSHIP_GROUP_DELETE(416248) because holders of that lock are waiting for ForsetiClient[transactionId=158133, clientId=86].\\n Wait list:ExclusiveLock[\\nClient[158106] waits for [ForsetiClient[transactionId=158105, clientId=66],ForsetiClient[transactionId=158133, clientId=86]]]\": 1, \"org.neo4j.kernel.DeadlockDetectedException: ForsetiClient[transactionId=158125, clientId=79] can't acquire ExclusiveLock{owner=ForsetiClient[transactionId=158104, clientId=7]} on NODE_RELATIONSHIP_GROUP_DELETE(416100) because holders of that lock are waiting for ForsetiClient[transactionId=158125, clientId=79].\\n Wait list:ExclusiveLock[\\nClient[158104] waits for [ForsetiClient[transactionId=158097, clientId=69],ForsetiClient[transactionId=158116, clientId=11],ForsetiClient[transactionId=158123, clientId=77],ForsetiClient[transactionId=158124, clientId=78],ForsetiClient[transactionId=158125, clientId=79]]]\": 1, \"org.neo4j.kernel.DeadlockDetectedException: ForsetiClient[transactionId=158082, clientId=57] can't acquire ExclusiveLock{owner=ForsetiClient[transactionId=158096, clientId=68]} on NODE_RELATIONSHIP_GROUP_DELETE(417123) because holders of that lock are waiting for ForsetiClient[transactionId=158082, clientId=57].\\n Wait list:ExclusiveLock[\\nClient[158096] waits for [ForsetiClient[transactionId=158091, clientId=64],ForsetiClient[transactionId=158079, clientId=54],ForsetiClient[transactionId=158080, clientId=55],ForsetiClient[transactionId=158082, clientId=57],ForsetiClient[transactionId=158090, clientId=63]]]\": 1, \"org.neo4j.kernel.DeadlockDetectedException: ForsetiClient[transactionId=158103, clientId=52] can't acquire ExclusiveLock{owner=ForsetiClient[transactionId=158106, clientId=61]} on NODE_RELATIONSHIP_GROUP_DELETE(417110) because holders of that lock are waiting for ForsetiClient[transactionId=158103, clientId=52].\\n Wait list:ExclusiveLock[\\nClient[158106] waits for [ForsetiClient[transactionId=158103, clientId=52]]]\": 1, \"org.neo4j.kernel.DeadlockDetectedException: ForsetiClient[transactionId=158072, clientId=48] can't acquire ExclusiveLock{owner=ForsetiClient[transactionId=158067, clientId=37]} on NODE_RELATIONSHIP_GROUP_DELETE(416181) because holders of that lock are waiting for ForsetiClient[transactionId=158072, clientId=48].\\n Wait list:ExclusiveLock[\\nClient[158067] waits for [ForsetiClient[transactionId=158072, clientId=48]]]\": 1, \"org.neo4j.kernel.DeadlockDetectedException: ForsetiClient[transactionId=158101, clientId=72] can't acquire ExclusiveLock{owner=ForsetiClient[transactionId=158098, clientId=70]} on NODE_RELATIONSHIP_GROUP_DELETE(416587) because holders of that lock are waiting for ForsetiClient[transactionId=158101, clientId=72].\\n Wait list:ExclusiveLock[\\nClient[158098] waits for [ForsetiClient[transactionId=158071, clientId=40],ForsetiClient[transactionId=158101, clientId=72]]]\": 1, \"org.neo4j.kernel.DeadlockDetectedException: ForsetiClient[transactionId=158081, clientId=56] can't acquire ExclusiveLock{owner=ForsetiClient[transactionId=158080, clientId=55]} on NODE_RELATIONSHIP_GROUP_DELETE(417511) because holders of that lock are waiting for ForsetiClient[transactionId=158081, clientId=56].\\n Wait list:ExclusiveLock[\\nClient[158080] waits for [ForsetiClient[transactionId=158066, clientId=21],ForsetiClient[transactionId=158081, clientId=56]]]\": 1, \"org.neo4j.kernel.DeadlockDetectedException: ForsetiClient[transactionId=158087, clientId=60] can't acquire ExclusiveLock{owner=ForsetiClient[transactionId=158079, clientId=54]} on NODE_RELATIONSHIP_GROUP_DELETE(424381) because holders of that lock are waiting for ForsetiClient[transactionId=158087, clientId=60].\\n Wait list:ExclusiveLock[\\nClient[158079] waits for [ForsetiClient[transactionId=158065, clientId=3],ForsetiClient[transactionId=158082, clientId=57],ForsetiClient[transactionId=158087, clientId=60],ForsetiClient[transactionId=158088, clientId=61]]]\": 1, \"org.neo4j.kernel.DeadlockDetectedException: ForsetiClient[transactionId=158071, clientId=40] can't acquire ExclusiveLock{owner=ForsetiClient[transactionId=158098, clientId=70]} on NODE_RELATIONSHIP_GROUP_DELETE(416445) because holders of that lock are waiting for ForsetiClient[transactionId=158071, clientId=40].\\n Wait list:ExclusiveLock[\\nClient[158098] waits for [ForsetiClient[transactionId=158071, clientId=40],ForsetiClient[transactionId=158101, clientId=72]]]\": 1, \"org.neo4j.kernel.DeadlockDetectedException: ForsetiClient[transactionId=158074, clientId=50] can't acquire ExclusiveLock{owner=ForsetiClient[transactionId=158067, clientId=37]} on NODE_RELATIONSHIP_GROUP_DELETE(416445) because holders of that lock are waiting for ForsetiClient[transactionId=158074, clientId=50].\\n Wait list:ExclusiveLock[\\nClient[158067] waits for [ForsetiClient[transactionId=158074, clientId=50]]]\": 1, \"org.neo4j.kernel.DeadlockDetectedException: ForsetiClient[transactionId=158126, clientId=80] can't acquire ExclusiveLock{owner=ForsetiClient[transactionId=158128, clientId=82]} on NODE_RELATIONSHIP_GROUP_DELETE(416935) because holders of that lock are waiting for ForsetiClient[transactionId=158126, clientId=80].\\n Wait list:ExclusiveLock[\\nClient[158128] waits for [ForsetiClient[transactionId=158126, clientId=80],ForsetiClient[transactionId=158113, clientId=50],ForsetiClient[transactionId=158122, clientId=76]]]\": 1, \"org.neo4j.kernel.DeadlockDetectedException: ForsetiClient[transactionId=158085, clientId=59] can't acquire ExclusiveLock{owner=ForsetiClient[transactionId=158098, clientId=70]} on NODE_RELATIONSHIP_GROUP_DELETE(418289) because holders of that lock are waiting for ForsetiClient[transactionId=158085, clientId=59].\\n Wait list:ExclusiveLock[\\nClient[158098] waits for [ForsetiClient[transactionId=158085, clientId=59]]]\": 1, \"org.neo4j.kernel.DeadlockDetectedException: ForsetiClient[transactionId=158129, clientId=83] can't acquire ExclusiveLock{owner=ForsetiClient[transactionId=158106, clientId=61]} on NODE_RELATIONSHIP_GROUP_DELETE(416752) because holders of that lock are waiting for ForsetiClient[transactionId=158129, clientId=83].\\n Wait list:ExclusiveLock[\\nClient[158106] waits for [ForsetiClient[transactionId=158105, clientId=66],ForsetiClient[transactionId=158129, clientId=83],ForsetiClient[transactionId=158118, clientId=73]]]\": 1, \"org.neo4j.kernel.DeadlockDetectedException: ForsetiClient[transactionId=158089, clientId=62] can't acquire ExclusiveLock{owner=ForsetiClient[transactionId=158098, clientId=70]} on NODE_RELATIONSHIP_GROUP_DELETE(416203) because holders of that lock are waiting for ForsetiClient[transactionId=158089, clientId=62].\\n Wait list:ExclusiveLock[\\nClient[158098] waits for [ForsetiClient[transactionId=158089, clientId=62],ForsetiClient[transactionId=158090, clientId=63]]]\": 1, \"org.neo4j.kernel.DeadlockDetectedException: ForsetiClient[transactionId=158092, clientId=7] can't acquire ExclusiveLock{owner=ForsetiClient[transactionId=158088, clientId=61]} on NODE_RELATIONSHIP_GROUP_DELETE(416445) because holders of that lock are waiting for ForsetiClient[transactionId=158092, clientId=7].\\n Wait list:ExclusiveLock[\\nClient[158088] waits for [ForsetiClient[transactionId=158094, clientId=66],ForsetiClient[transactionId=158095, clientId=67],ForsetiClient[transactionId=158065, clientId=3],ForsetiClient[transactionId=158092, clientId=7],ForsetiClient[transactionId=158082, clientId=57],ForsetiClient[transactionId=158087, clientId=60]]]\": 1, \"org.neo4j.kernel.DeadlockDetectedException: ForsetiClient[transactionId=158095, clientId=67] can't acquire ExclusiveLock{owner=ForsetiClient[transactionId=158065, clientId=3]} on NODE_RELATIONSHIP_GROUP_DELETE(416019) because holders of that lock are waiting for ForsetiClient[transactionId=158095, clientId=67].\\n Wait list:ExclusiveLock[\\nClient[158065] waits for [ForsetiClient[transactionId=158095, clientId=67],ForsetiClient[transactionId=158087, clientId=60]]]\": 1, \"org.neo4j.kernel.DeadlockDetectedException: ForsetiClient[transactionId=158108, clientId=41] can't acquire ExclusiveLock{owner=ForsetiClient[transactionId=158123, clientId=77]} on NODE_RELATIONSHIP_GROUP_DELETE(416452) because holders of that lock are waiting for ForsetiClient[transactionId=158108, clientId=41].\\n Wait list:ExclusiveLock[\\nClient[158123] waits for [ForsetiClient[transactionId=158097, clientId=69],ForsetiClient[transactionId=158104, clientId=7],ForsetiClient[transactionId=158112, clientId=57],ForsetiClient[transactionId=158108, clientId=41],ForsetiClient[transactionId=158120, clientId=74],ForsetiClient[transactionId=158107, clientId=60],ForsetiClient[transactionId=158106, clientId=61]]]\": 1, \"org.neo4j.kernel.DeadlockDetectedException: ForsetiClient[transactionId=158109, clientId=64] can't acquire ExclusiveLock{owner=ForsetiClient[transactionId=158106, clientId=61]} on NODE_RELATIONSHIP_GROUP_DELETE(422380) because holders of that lock are waiting for ForsetiClient[transactionId=158109, clientId=64].\\n Wait list:ExclusiveLock[\\nClient[158106] waits for [ForsetiClient[transactionId=158109, clientId=64]]]\": 1, \"org.neo4j.kernel.DeadlockDetectedException: ForsetiClient[transactionId=158102, clientId=67] can't acquire ExclusiveLock{owner=ForsetiClient[transactionId=158106, clientId=61]} on NODE_RELATIONSHIP_GROUP_DELETE(416591) because holders of that lock are waiting for ForsetiClient[transactionId=158102, clientId=67].\\n Wait list:ExclusiveLock[\\nClient[158106] waits for [ForsetiClient[transactionId=158127, clientId=81],ForsetiClient[transactionId=158102, clientId=67]]]\": 1, \"org.neo4j.kernel.DeadlockDetectedException: ForsetiClient[transactionId=158068, clientId=7] can't acquire ExclusiveLock{owner=ForsetiClient[transactionId=158067, clientId=37]} on NODE_RELATIONSHIP_GROUP_DELETE(416055) because holders of that lock are waiting for ForsetiClient[transactionId=158068, clientId=7].\\n Wait list:ExclusiveLock[\\nClient[158067] waits for [ForsetiClient[transactionId=158068, clientId=7]]]\": 1, \"org.neo4j.kernel.DeadlockDetectedException: ForsetiClient[transactionId=158097, clientId=69] can't acquire ExclusiveLock{owner=ForsetiClient[transactionId=158123, clientId=77]} on NODE_RELATIONSHIP_GROUP_DELETE(416250) because holders of that lock are waiting for ForsetiClient[transactionId=158097, clientId=69].\\n Wait list:ExclusiveLock[\\nClient[158123] waits for [ForsetiClient[transactionId=158097, clientId=69],ForsetiClient[transactionId=158120, clientId=74],ForsetiClient[transactionId=158106, clientId=61]]]\": 1, \"org.neo4j.kernel.DeadlockDetectedException: ForsetiClient[transactionId=158093, clientId=65] can't acquire ExclusiveLock{owner=ForsetiClient[transactionId=158098, clientId=70]} on NODE_RELATIONSHIP_GROUP_DELETE(416267) because holders of that lock are waiting for ForsetiClient[transactionId=158093, clientId=65].\\n Wait list:ExclusiveLock[\\nClient[158098] waits for [ForsetiClient[transactionId=158093, clientId=65]]]\": 1, \"org.neo4j.kernel.DeadlockDetectedException: ForsetiClient[transactionId=158123, clientId=77] can't acquire ExclusiveLock{owner=ForsetiClient[transactionId=158106, clientId=61]} on NODE_RELATIONSHIP_GROUP_DELETE(418536) because holders of that lock are waiting for ForsetiClient[transactionId=158123, clientId=77].\\n Wait list:ExclusiveLock[\\nClient[158106] waits for [ForsetiClient[transactionId=158123, clientId=77]]]\": 1, \"org.neo4j.kernel.DeadlockDetectedException: ForsetiClient[transactionId=158114, clientId=21] can't acquire ExclusiveLock{owner=ForsetiClient[transactionId=158106, clientId=61]} on NODE_RELATIONSHIP_GROUP_DELETE(416112) because holders of that lock are waiting for ForsetiClient[transactionId=158114, clientId=21].\\n Wait list:ExclusiveLock[\\nClient[158106] waits for [ForsetiClient[transactionId=158105, clientId=66],ForsetiClient[transactionId=158114, clientId=21]]]\": 1, \"org.neo4j.kernel.DeadlockDetectedException: ForsetiClient[transactionId=158122, clientId=76] can't acquire ExclusiveLock{owner=ForsetiClient[transactionId=158113, clientId=50]} on NODE_RELATIONSHIP_GROUP_DELETE(416198) because holders of that lock are waiting for ForsetiClient[transactionId=158122, clientId=76].\\n Wait list:ExclusiveLock[\\nClient[158113] waits for [ForsetiClient[transactionId=158126, clientId=80],ForsetiClient[transactionId=158127, clientId=81],ForsetiClient[transactionId=158128, clientId=82],ForsetiClient[transactionId=158102, clientId=67],ForsetiClient[transactionId=158122, clientId=76],ForsetiClient[transactionId=158106, clientId=61]]]\": 1, \"org.neo4j.kernel.DeadlockDetectedException: ForsetiClient[transactionId=158078, clientId=53] can't acquire ExclusiveLock{owner=ForsetiClient[transactionId=158066, clientId=21]} on NODE_RELATIONSHIP_GROUP_DELETE(416671) because holders of that lock are waiting for ForsetiClient[transactionId=158078, clientId=53].\\n Wait list:ExclusiveLock[\\nClient[158066] waits for [ForsetiClient[transactionId=158083, clientId=50],ForsetiClient[transactionId=158078, clientId=53],ForsetiClient[transactionId=158098, clientId=70]]]\": 1, \"org.neo4j.kernel.DeadlockDetectedException: ForsetiClient[transactionId=158073, clientId=49] can't acquire ExclusiveLock{owner=ForsetiClient[transactionId=158098, clientId=70]} on NODE_RELATIONSHIP_GROUP_DELETE(416749) because holders of that lock are waiting for ForsetiClient[transactionId=158073, clientId=49].\\n Wait list:ExclusiveLock[\\nClient[158098] waits for [ForsetiClient[transactionId=158073, clientId=49],ForsetiClient[transactionId=158096, clientId=68],ForsetiClient[transactionId=158084, clientId=58]]]\": 1, \"org.neo4j.kernel.DeadlockDetectedException: ForsetiClient[transactionId=158083, clientId=50] can't acquire ExclusiveLock{owner=ForsetiClient[transactionId=158079, clientId=54]} on NODE_RELATIONSHIP_GROUP_DELETE(417727) because holders of that lock are waiting for ForsetiClient[transactionId=158083, clientId=50].\\n Wait list:ExclusiveLock[\\nClient[158079] waits for [ForsetiClient[transactionId=158073, clientId=49],ForsetiClient[transactionId=158083, clientId=50],ForsetiClient[transactionId=158066, clientId=21],ForsetiClient[transactionId=158090, clientId=63]]]\": 1, \"org.neo4j.kernel.DeadlockDetectedException: ForsetiClient[transactionId=158084, clientId=58] can't acquire ExclusiveLock{owner=ForsetiClient[transactionId=158098, clientId=70]} on NODE_RELATIONSHIP_GROUP_DELETE(417803) because holders of that lock are waiting for ForsetiClient[transactionId=158084, clientId=58].\\n Wait list:ExclusiveLock[\\nClient[158098] waits for [ForsetiClient[transactionId=158096, clientId=68],ForsetiClient[transactionId=158084, clientId=58]]]\": 1, \"org.neo4j.kernel.DeadlockDetectedException: ForsetiClient[transactionId=158065, clientId=3] can't acquire ExclusiveLock{owner=ForsetiClient[transactionId=158087, clientId=60]} on NODE_RELATIONSHIP_GROUP_DELETE(416038) because holders of that lock are waiting for ForsetiClient[transactionId=158065, clientId=3].\\n Wait list:ExclusiveLock[\\nClient[158087] waits for [ForsetiClient[transactionId=158065, clientId=3],ForsetiClient[transactionId=158079, clientId=54],ForsetiClient[transactionId=158082, clientId=57],ForsetiClient[transactionId=158088, clientId=61]]]\": 1, \"org.neo4j.kernel.DeadlockDetectedException: ForsetiClient[transactionId=158117, clientId=72] can't acquire ExclusiveLock{owner=ForsetiClient[transactionId=158106, clientId=61]} on NODE_RELATIONSHIP_GROUP_DELETE(416112) because holders of that lock are waiting for ForsetiClient[transactionId=158117, clientId=72].\\n Wait list:ExclusiveLock[\\nClient[158106] waits for [ForsetiClient[transactionId=158119, clientId=55],ForsetiClient[transactionId=158117, clientId=72]]]\": 1, \"org.neo4j.kernel.DeadlockDetectedException: ForsetiClient[transactionId=158120, clientId=74] can't acquire ExclusiveLock{owner=ForsetiClient[transactionId=158107, clientId=60]} on NODE_RELATIONSHIP_GROUP_DELETE(416371) because holders of that lock are waiting for ForsetiClient[transactionId=158120, clientId=74].\\n Wait list:ExclusiveLock[\\nClient[158107] waits for [ForsetiClient[transactionId=158097, clientId=69],ForsetiClient[transactionId=158112, clientId=57],ForsetiClient[transactionId=158108, clientId=41],ForsetiClient[transactionId=158120, clientId=74],ForsetiClient[transactionId=158123, clientId=77],ForsetiClient[transactionId=158106, clientId=61]]]\": 1, \"org.neo4j.kernel.DeadlockDetectedException: ForsetiClient[transactionId=158070, clientId=11] can't acquire ExclusiveLock{owner=ForsetiClient[transactionId=158067, clientId=37]} on NODE_RELATIONSHIP_GROUP_DELETE(416193) because holders of that lock are waiting for ForsetiClient[transactionId=158070, clientId=11].\\n Wait list:ExclusiveLock[\\nClient[158067] waits for [ForsetiClient[transactionId=158070, clientId=11]]]\": 1, \"org.neo4j.kernel.DeadlockDetectedException: ForsetiClient[transactionId=158069, clientId=41] can't acquire ExclusiveLock{owner=ForsetiClient[transactionId=158080, clientId=55]} on NODE_RELATIONSHIP_GROUP_DELETE(416243) because holders of that lock are waiting for ForsetiClient[transactionId=158069, clientId=41].\\n Wait list:ExclusiveLock[\\nClient[158080] waits for [ForsetiClient[transactionId=158066, clientId=21],ForsetiClient[transactionId=158069, clientId=41]]]\": 1, \"org.neo4j.kernel.DeadlockDetectedException: ForsetiClient[transactionId=158105, clientId=66] can't acquire ExclusiveLock{owner=ForsetiClient[transactionId=158106, clientId=61]} on NODE_RELATIONSHIP_GROUP_DELETE(416112) because holders of that lock are waiting for ForsetiClient[transactionId=158105, clientId=66].\\n Wait list:ExclusiveLock[\\nClient[158106] waits for [ForsetiClient[transactionId=158105, clientId=66]]]\": 1, \"org.neo4j.kernel.DeadlockDetectedException: ForsetiClient[transactionId=158115, clientId=71] can't acquire ExclusiveLock{owner=ForsetiClient[transactionId=158106, clientId=61]} on NODE_RELATIONSHIP_GROUP_DELETE(416331) because holders of that lock are waiting for ForsetiClient[transactionId=158115, clientId=71].\\n Wait list:ExclusiveLock[\\nClient[158106] waits for [ForsetiClient[transactionId=158115, clientId=71]]]\": 1, \"org.neo4j.kernel.DeadlockDetectedException: ForsetiClient[transactionId=158086, clientId=48] can't acquire ExclusiveLock{owner=ForsetiClient[transactionId=158098, clientId=70]} on NODE_RELATIONSHIP_GROUP_DELETE(416267) because holders of that lock are waiting for ForsetiClient[transactionId=158086, clientId=48].\\n Wait list:ExclusiveLock[\\nClient[158098] waits for [ForsetiClient[transactionId=158086, clientId=48],ForsetiClient[transactionId=158075, clientId=51],ForsetiClient[transactionId=158079, clientId=54]]]\": 1, \"org.neo4j.kernel.DeadlockDetectedException: ForsetiClient[transactionId=158096, clientId=68] can't acquire ExclusiveLock{owner=ForsetiClient[transactionId=158098, clientId=70]} on NODE_RELATIONSHIP_GROUP_DELETE(416448) because holders of that lock are waiting for ForsetiClient[transactionId=158096, clientId=68].\\n Wait list:ExclusiveLock[\\nClient[158098] waits for [ForsetiClient[transactionId=158096, clientId=68],ForsetiClient[transactionId=158084, clientId=58]]]\": 1, \"org.neo4j.kernel.DeadlockDetectedException: ForsetiClient[transactionId=158079, clientId=54] can't acquire ExclusiveLock{owner=ForsetiClient[transactionId=158090, clientId=63]} on NODE_RELATIONSHIP_GROUP_DELETE(417109) because holders of that lock are waiting for ForsetiClient[transactionId=158079, clientId=54].\\n Wait list:ExclusiveLock[\\nClient[158090] waits for [ForsetiClient[transactionId=158086, clientId=48],ForsetiClient[transactionId=158073, clientId=49],ForsetiClient[transactionId=158075, clientId=51],ForsetiClient[transactionId=158098, clientId=70],ForsetiClient[transactionId=158079, clientId=54]]]\": 1, \"org.neo4j.kernel.DeadlockDetectedException: ForsetiClient[transactionId=158107, clientId=60] can't acquire ExclusiveLock{owner=ForsetiClient[transactionId=158106, clientId=61]} on NODE_RELATIONSHIP_GROUP_DELETE(416331) because holders of that lock are waiting for ForsetiClient[transactionId=158107, clientId=60].\\n Wait list:ExclusiveLock[\\nClient[158106] waits for [ForsetiClient[transactionId=158107, clientId=60]]]\": 1, \"org.neo4j.kernel.DeadlockDetectedException: ForsetiClient[transactionId=158124, clientId=78] can't acquire ExclusiveLock{owner=ForsetiClient[transactionId=158097, clientId=69]} on NODE_RELATIONSHIP_GROUP_DELETE(416112) because holders of that lock are waiting for ForsetiClient[transactionId=158124, clientId=78].\\n Wait list:ExclusiveLock[\\nClient[158097] waits for [ForsetiClient[transactionId=158104, clientId=7],ForsetiClient[transactionId=158124, clientId=78],ForsetiClient[transactionId=158125, clientId=79]]]\": 1, \"org.neo4j.kernel.DeadlockDetectedException: ForsetiClient[transactionId=158076, clientId=52] can't acquire ExclusiveLock{owner=ForsetiClient[transactionId=158094, clientId=66]} on NODE_RELATIONSHIP_GROUP_DELETE(416249) because holders of that lock are waiting for ForsetiClient[transactionId=158076, clientId=52].\\n Wait list:ExclusiveLock[\\nClient[158094] waits for [ForsetiClient[transactionId=158076, clientId=52],ForsetiClient[transactionId=158092, clientId=7],ForsetiClient[transactionId=158088, clientId=61]]]\": 1, \"org.neo4j.kernel.DeadlockDetectedException: ForsetiClient[transactionId=158077, clientId=11] can't acquire ExclusiveLock{owner=ForsetiClient[transactionId=158099, clientId=71]} on NODE_RELATIONSHIP_GROUP_DELETE(416439) because holders of that lock are waiting for ForsetiClient[transactionId=158077, clientId=11].\\n Wait list:ExclusiveLock[\\nClient[158099] waits for [ForsetiClient[transactionId=158098, clientId=70],ForsetiClient[transactionId=158077, clientId=11],ForsetiClient[transactionId=158090, clientId=63]]]\": 1, \"org.neo4j.kernel.DeadlockDetectedException: ForsetiClient[transactionId=158130, clientId=84] can't acquire ExclusiveLock{owner=ForsetiClient[transactionId=158106, clientId=61]} on NODE_RELATIONSHIP_GROUP_DELETE(416862) because holders of that lock are waiting for ForsetiClient[transactionId=158130, clientId=84].\\n Wait list:ExclusiveLock[\\nClient[158106] waits for [ForsetiClient[transactionId=158130, clientId=84]]]\": 1, \"org.neo4j.kernel.DeadlockDetectedException: ForsetiClient[transactionId=158080, clientId=55] can't acquire ExclusiveLock{owner=ForsetiClient[transactionId=158066, clientId=21]} on NODE_RELATIONSHIP_GROUP_DELETE(417648) because holders of that lock are waiting for ForsetiClient[transactionId=158080, clientId=55].\\n Wait list:ExclusiveLock[\\nClient[158066] waits for [ForsetiClient[transactionId=158080, clientId=55],ForsetiClient[transactionId=158081, clientId=56],ForsetiClient[transactionId=158069, clientId=41]]]\": 1, \"org.neo4j.kernel.DeadlockDetectedException: ForsetiClient[transactionId=158121, clientId=75] can't acquire ExclusiveLock{owner=ForsetiClient[transactionId=158123, clientId=77]} on NODE_RELATIONSHIP_GROUP_DELETE(416250) because holders of that lock are waiting for ForsetiClient[transactionId=158121, clientId=75].\\n Wait list:ExclusiveLock[\\nClient[158123] waits for [ForsetiClient[transactionId=158121, clientId=75],ForsetiClient[transactionId=158106, clientId=61]]]\": 1, \"org.neo4j.kernel.DeadlockDetectedException: ForsetiClient[transactionId=158066, clientId=21] can't acquire ExclusiveLock{owner=ForsetiClient[transactionId=158098, clientId=70]} on NODE_RELATIONSHIP_GROUP_DELETE(416112) because holders of that lock are waiting for ForsetiClient[transactionId=158066, clientId=21].\\n Wait list:ExclusiveLock[\\nClient[158098] waits for [ForsetiClient[transactionId=158066, clientId=21],ForsetiClient[transactionId=158078, clientId=53]]]\": 1, \"org.neo4j.kernel.DeadlockDetectedException: ForsetiClient[transactionId=158112, clientId=57] can't acquire ExclusiveLock{owner=ForsetiClient[transactionId=158106, clientId=61]} on NODE_RELATIONSHIP_GROUP_DELETE(416471) because holders of that lock are waiting for ForsetiClient[transactionId=158112, clientId=57].\\n Wait list:ExclusiveLock[\\nClient[158106] waits for [ForsetiClient[transactionId=158112, clientId=57]]]\": 1, \"org.neo4j.kernel.DeadlockDetectedException: ForsetiClient[transactionId=158099, clientId=71] can't acquire ExclusiveLock{owner=ForsetiClient[transactionId=158098, clientId=70]} on NODE_RELATIONSHIP_GROUP_DELETE(416100) because holders of that lock are waiting for ForsetiClient[transactionId=158099, clientId=71].\\n Wait list:ExclusiveLock[\\nClient[158098] waits for [ForsetiClient[transactionId=158099, clientId=71],ForsetiClient[transactionId=158085, clientId=59]]]\": 1, \"org.neo4j.kernel.DeadlockDetectedException: ForsetiClient[transactionId=158118, clientId=73] can't acquire ExclusiveLock{owner=ForsetiClient[transactionId=158106, clientId=61]} on NODE_RELATIONSHIP_GROUP_DELETE(416112) because holders of that lock are waiting for ForsetiClient[transactionId=158118, clientId=73].\\n Wait list:ExclusiveLock[\\nClient[158106] waits for [ForsetiClient[transactionId=158118, clientId=73]]]\": 1, \"org.neo4j.kernel.DeadlockDetectedException: ForsetiClient[transactionId=158100, clientId=37] can't acquire ExclusiveLock{owner=ForsetiClient[transactionId=158098, clientId=70]} on NODE_RELATIONSHIP_GROUP_DELETE(416203) because holders of that lock are waiting for ForsetiClient[transactionId=158100, clientId=37].\\n Wait list:ExclusiveLock[\\nClient[158098] waits for [ForsetiClient[transactionId=158100, clientId=37]]]\": 1, \"org.neo4j.kernel.DeadlockDetectedException: ForsetiClient[transactionId=158119, clientId=55] can't acquire ExclusiveLock{owner=ForsetiClient[transactionId=158117, clientId=72]} on NODE_RELATIONSHIP_GROUP_DELETE(417370) because holders of that lock are waiting for ForsetiClient[transactionId=158119, clientId=55].\\n Wait list:ExclusiveLock[\\nClient[158117] waits for [ForsetiClient[transactionId=158119, clientId=55],ForsetiClient[transactionId=158106, clientId=61]]]\": 1, \"org.neo4j.kernel.DeadlockDetectedException: ForsetiClient[transactionId=158116, clientId=11] can't acquire ExclusiveLock{owner=ForsetiClient[transactionId=158097, clientId=69]} on NODE_RELATIONSHIP_GROUP_DELETE(416754) because holders of that lock are waiting for ForsetiClient[transactionId=158116, clientId=11].\\n Wait list:ExclusiveLock[\\nClient[158097] waits for [ForsetiClient[transactionId=158104, clientId=7],ForsetiClient[transactionId=158120, clientId=74],ForsetiClient[transactionId=158116, clientId=11],ForsetiClient[transactionId=158107, clientId=60],ForsetiClient[transactionId=158123, clientId=77]]]\": 1, \"org.neo4j.kernel.DeadlockDetectedException: ForsetiClient[transactionId=158075, clientId=51] can't acquire ExclusiveLock{owner=ForsetiClient[transactionId=158086, clientId=48]} on NODE_RELATIONSHIP_GROUP_DELETE(416077) because holders of that lock are waiting for ForsetiClient[transactionId=158075, clientId=51].\\n Wait list:ExclusiveLock[\\nClient[158086] waits for [ForsetiClient[transactionId=158075, clientId=51],ForsetiClient[transactionId=158098, clientId=70],ForsetiClient[transactionId=158079, clientId=54]]]\": 1, \"org.neo4j.kernel.DeadlockDetectedException: ForsetiClient[transactionId=158088, clientId=61] can't acquire ExclusiveLock{owner=ForsetiClient[transactionId=158082, clientId=57]} on NODE_RELATIONSHIP_GROUP_DELETE(416331) because holders of that lock are waiting for ForsetiClient[transactionId=158088, clientId=61].\\n Wait list:ExclusiveLock[\\nClient[158082] waits for [ForsetiClient[transactionId=158080, clientId=55],ForsetiClient[transactionId=158088, clientId=61]]]\": 1, \"org.neo4j.kernel.DeadlockDetectedException: ForsetiClient[transactionId=158091, clientId=64] can't acquire ExclusiveLock{owner=ForsetiClient[transactionId=158082, clientId=57]} on NODE_RELATIONSHIP_GROUP_DELETE(416267) because holders of that lock are waiting for ForsetiClient[transactionId=158091, clientId=64].\\n Wait list:ExclusiveLock[\\nClient[158082] waits for [ForsetiClient[transactionId=158091, clientId=64],ForsetiClient[transactionId=158096, clientId=68],ForsetiClient[transactionId=158066, clientId=21],ForsetiClient[transactionId=158079, clientId=54],ForsetiClient[transactionId=158080, clientId=55],ForsetiClient[transactionId=158081, clientId=56],ForsetiClient[transactionId=158090, clientId=63]]]\": 1, \"org.neo4j.kernel.DeadlockDetectedException: ForsetiClient[transactionId=158134, clientId=70] can't acquire ExclusiveLock{owner=ForsetiClient[transactionId=158106, clientId=61]} on NODE_RELATIONSHIP_GROUP_DELETE(417110) because holders of that lock are waiting for ForsetiClient[transactionId=158134, clientId=70].\\n Wait list:ExclusiveLock[\\nClient[158106] waits for [ForsetiClient[transactionId=158111, clientId=3],ForsetiClient[transactionId=158134, clientId=70]]]\": 1, \"org.neo4j.kernel.DeadlockDetectedException: ForsetiClient[transactionId=158113, clientId=50] can't acquire ExclusiveLock{owner=ForsetiClient[transactionId=158127, clientId=81]} on NODE_RELATIONSHIP_GROUP_DELETE(416226) because holders of that lock are waiting for ForsetiClient[transactionId=158113, clientId=50].\\n Wait list:ExclusiveLock[\\nClient[158127] waits for [ForsetiClient[transactionId=158126, clientId=80],ForsetiClient[transactionId=158128, clientId=82],ForsetiClient[transactionId=158113, clientId=50],ForsetiClient[transactionId=158102, clientId=67],ForsetiClient[transactionId=158122, clientId=76],ForsetiClient[transactionId=158106, clientId=61]]]\": 1, \"org.neo4j.kernel.DeadlockDetectedException: ForsetiClient[transactionId=158111, clientId=3] can't acquire ExclusiveLock{owner=ForsetiClient[transactionId=158106, clientId=61]} on NODE_RELATIONSHIP_GROUP_DELETE(418659) because holders of that lock are waiting for ForsetiClient[transactionId=158111, clientId=3].\\n Wait list:ExclusiveLock[\\nClient[158106] waits for [ForsetiClient[transactionId=158111, clientId=3]]]\": 1, \"org.neo4j.kernel.DeadlockDetectedException: ForsetiClient[transactionId=158110, clientId=55] can't acquire ExclusiveLock{owner=ForsetiClient[transactionId=158098, clientId=70]} on NODE_RELATIONSHIP_GROUP_DELETE(416685) because holders of that lock are waiting for ForsetiClient[transactionId=158110, clientId=55].\\n Wait list:ExclusiveLock[\\nClient[158098] waits for [ForsetiClient[transactionId=158110, clientId=55]]]\": 1}, 'committed': 3, 'failed': 67} operations={'total': 697656, 'errors': {\"ForsetiClient[transactionId=158097, clientId=69] can't acquire ExclusiveLock{owner=ForsetiClient[transactionId=158123, clientId=77]} on NODE_RELATIONSHIP_GROUP_DELETE(416250) because holders of that lock are waiting for ForsetiClient[transactionId=158097, clientId=69].\\n Wait list:ExclusiveLock[\\nClient[158123] waits for [ForsetiClient[transactionId=158097, clientId=69],ForsetiClient[transactionId=158120, clientId=74],ForsetiClient[transactionId=158106, clientId=61]]]\": 1, \"ForsetiClient[transactionId=158114, clientId=21] can't acquire ExclusiveLock{owner=ForsetiClient[transactionId=158106, clientId=61]} on NODE_RELATIONSHIP_GROUP_DELETE(416112) because holders of that lock are waiting for ForsetiClient[transactionId=158114, clientId=21].\\n Wait list:ExclusiveLock[\\nClient[158106] waits for [ForsetiClient[transactionId=158105, clientId=66],ForsetiClient[transactionId=158114, clientId=21]]]\": 1, \"ForsetiClient[transactionId=158121, clientId=75] can't acquire ExclusiveLock{owner=ForsetiClient[transactionId=158123, clientId=77]} on NODE_RELATIONSHIP_GROUP_DELETE(416250) because holders of that lock are waiting for ForsetiClient[transactionId=158121, clientId=75].\\n Wait list:ExclusiveLock[\\nClient[158123] waits for [ForsetiClient[transactionId=158121, clientId=75],ForsetiClient[transactionId=158106, clientId=61]]]\": 1, \"ForsetiClient[transactionId=158123, clientId=77] can't acquire ExclusiveLock{owner=ForsetiClient[transactionId=158106, clientId=61]} on NODE_RELATIONSHIP_GROUP_DELETE(418536) because holders of that lock are waiting for ForsetiClient[transactionId=158123, clientId=77].\\n Wait list:ExclusiveLock[\\nClient[158106] waits for [ForsetiClient[transactionId=158123, clientId=77]]]\": 1, \"ForsetiClient[transactionId=158077, clientId=11] can't acquire ExclusiveLock{owner=ForsetiClient[transactionId=158099, clientId=71]} on NODE_RELATIONSHIP_GROUP_DELETE(416439) because holders of that lock are waiting for ForsetiClient[transactionId=158077, clientId=11].\\n Wait list:ExclusiveLock[\\nClient[158099] waits for [ForsetiClient[transactionId=158098, clientId=70],ForsetiClient[transactionId=158077, clientId=11],ForsetiClient[transactionId=158090, clientId=63]]]\": 1, \"ForsetiClient[transactionId=158071, clientId=40] can't acquire ExclusiveLock{owner=ForsetiClient[transactionId=158098, clientId=70]} on NODE_RELATIONSHIP_GROUP_DELETE(416445) because holders of that lock are waiting for ForsetiClient[transactionId=158071, clientId=40].\\n Wait list:ExclusiveLock[\\nClient[158098] waits for [ForsetiClient[transactionId=158071, clientId=40],ForsetiClient[transactionId=158101, clientId=72]]]\": 1, \"ForsetiClient[transactionId=158092, clientId=7] can't acquire ExclusiveLock{owner=ForsetiClient[transactionId=158088, clientId=61]} on NODE_RELATIONSHIP_GROUP_DELETE(416445) because holders of that lock are waiting for ForsetiClient[transactionId=158092, clientId=7].\\n Wait list:ExclusiveLock[\\nClient[158088] waits for [ForsetiClient[transactionId=158094, clientId=66],ForsetiClient[transactionId=158095, clientId=67],ForsetiClient[transactionId=158065, clientId=3],ForsetiClient[transactionId=158092, clientId=7],ForsetiClient[transactionId=158082, clientId=57],ForsetiClient[transactionId=158087, clientId=60]]]\": 1, \"ForsetiClient[transactionId=158084, clientId=58] can't acquire ExclusiveLock{owner=ForsetiClient[transactionId=158098, clientId=70]} on NODE_RELATIONSHIP_GROUP_DELETE(417803) because holders of that lock are waiting for ForsetiClient[transactionId=158084, clientId=58].\\n Wait list:ExclusiveLock[\\nClient[158098] waits for [ForsetiClient[transactionId=158096, clientId=68],ForsetiClient[transactionId=158084, clientId=58]]]\": 1, \"ForsetiClient[transactionId=158112, clientId=57] can't acquire ExclusiveLock{owner=ForsetiClient[transactionId=158106, clientId=61]} on NODE_RELATIONSHIP_GROUP_DELETE(416471) because holders of that lock are waiting for ForsetiClient[transactionId=158112, clientId=57].\\n Wait list:ExclusiveLock[\\nClient[158106] waits for [ForsetiClient[transactionId=158112, clientId=57]]]\": 1, \"ForsetiClient[transactionId=158073, clientId=49] can't acquire ExclusiveLock{owner=ForsetiClient[transactionId=158098, clientId=70]} on NODE_RELATIONSHIP_GROUP_DELETE(416749) because holders of that lock are waiting for ForsetiClient[transactionId=158073, clientId=49].\\n Wait list:ExclusiveLock[\\nClient[158098] waits for [ForsetiClient[transactionId=158073, clientId=49],ForsetiClient[transactionId=158096, clientId=68],ForsetiClient[transactionId=158084, clientId=58]]]\": 1, \"ForsetiClient[transactionId=158065, clientId=3] can't acquire ExclusiveLock{owner=ForsetiClient[transactionId=158087, clientId=60]} on NODE_RELATIONSHIP_GROUP_DELETE(416038) because holders of that lock are waiting for ForsetiClient[transactionId=158065, clientId=3].\\n Wait list:ExclusiveLock[\\nClient[158087] waits for [ForsetiClient[transactionId=158065, clientId=3],ForsetiClient[transactionId=158079, clientId=54],ForsetiClient[transactionId=158082, clientId=57],ForsetiClient[transactionId=158088, clientId=61]]]\": 1, \"ForsetiClient[transactionId=158087, clientId=60] can't acquire ExclusiveLock{owner=ForsetiClient[transactionId=158079, clientId=54]} on NODE_RELATIONSHIP_GROUP_DELETE(424381) because holders of that lock are waiting for ForsetiClient[transactionId=158087, clientId=60].\\n Wait list:ExclusiveLock[\\nClient[158079] waits for [ForsetiClient[transactionId=158065, clientId=3],ForsetiClient[transactionId=158082, clientId=57],ForsetiClient[transactionId=158087, clientId=60],ForsetiClient[transactionId=158088, clientId=61]]]\": 1, \"ForsetiClient[transactionId=158095, clientId=67] can't acquire ExclusiveLock{owner=ForsetiClient[transactionId=158065, clientId=3]} on NODE_RELATIONSHIP_GROUP_DELETE(416019) because holders of that lock are waiting for ForsetiClient[transactionId=158095, clientId=67].\\n Wait list:ExclusiveLock[\\nClient[158065] waits for [ForsetiClient[transactionId=158095, clientId=67],ForsetiClient[transactionId=158087, clientId=60]]]\": 1, \"ForsetiClient[transactionId=158115, clientId=71] can't acquire ExclusiveLock{owner=ForsetiClient[transactionId=158106, clientId=61]} on NODE_RELATIONSHIP_GROUP_DELETE(416331) because holders of that lock are waiting for ForsetiClient[transactionId=158115, clientId=71].\\n Wait list:ExclusiveLock[\\nClient[158106] waits for [ForsetiClient[transactionId=158115, clientId=71]]]\": 1, \"ForsetiClient[transactionId=158105, clientId=66] can't acquire ExclusiveLock{owner=ForsetiClient[transactionId=158106, clientId=61]} on NODE_RELATIONSHIP_GROUP_DELETE(416112) because holders of that lock are waiting for ForsetiClient[transactionId=158105, clientId=66].\\n Wait list:ExclusiveLock[\\nClient[158106] waits for [ForsetiClient[transactionId=158105, clientId=66]]]\": 1, \"ForsetiClient[transactionId=158120, clientId=74] can't acquire ExclusiveLock{owner=ForsetiClient[transactionId=158107, clientId=60]} on NODE_RELATIONSHIP_GROUP_DELETE(416371) because holders of that lock are waiting for ForsetiClient[transactionId=158120, clientId=74].\\n Wait list:ExclusiveLock[\\nClient[158107] waits for [ForsetiClient[transactionId=158097, clientId=69],ForsetiClient[transactionId=158112, clientId=57],ForsetiClient[transactionId=158108, clientId=41],ForsetiClient[transactionId=158120, clientId=74],ForsetiClient[transactionId=158123, clientId=77],ForsetiClient[transactionId=158106, clientId=61]]]\": 1, \"ForsetiClient[transactionId=158109, clientId=64] can't acquire ExclusiveLock{owner=ForsetiClient[transactionId=158106, clientId=61]} on NODE_RELATIONSHIP_GROUP_DELETE(422380) because holders of that lock are waiting for ForsetiClient[transactionId=158109, clientId=64].\\n Wait list:ExclusiveLock[\\nClient[158106] waits for [ForsetiClient[transactionId=158109, clientId=64]]]\": 1, \"ForsetiClient[transactionId=158088, clientId=61] can't acquire ExclusiveLock{owner=ForsetiClient[transactionId=158082, clientId=57]} on NODE_RELATIONSHIP_GROUP_DELETE(416331) because holders of that lock are waiting for ForsetiClient[transactionId=158088, clientId=61].\\n Wait list:ExclusiveLock[\\nClient[158082] waits for [ForsetiClient[transactionId=158080, clientId=55],ForsetiClient[transactionId=158088, clientId=61]]]\": 1, \"ForsetiClient[transactionId=158083, clientId=50] can't acquire ExclusiveLock{owner=ForsetiClient[transactionId=158079, clientId=54]} on NODE_RELATIONSHIP_GROUP_DELETE(417727) because holders of that lock are waiting for ForsetiClient[transactionId=158083, clientId=50].\\n Wait list:ExclusiveLock[\\nClient[158079] waits for [ForsetiClient[transactionId=158073, clientId=49],ForsetiClient[transactionId=158083, clientId=50],ForsetiClient[transactionId=158066, clientId=21],ForsetiClient[transactionId=158090, clientId=63]]]\": 1, \"ForsetiClient[transactionId=158101, clientId=72] can't acquire ExclusiveLock{owner=ForsetiClient[transactionId=158098, clientId=70]} on NODE_RELATIONSHIP_GROUP_DELETE(416587) because holders of that lock are waiting for ForsetiClient[transactionId=158101, clientId=72].\\n Wait list:ExclusiveLock[\\nClient[158098] waits for [ForsetiClient[transactionId=158071, clientId=40],ForsetiClient[transactionId=158101, clientId=72]]]\": 1, \"ForsetiClient[transactionId=158111, clientId=3] can't acquire ExclusiveLock{owner=ForsetiClient[transactionId=158106, clientId=61]} on NODE_RELATIONSHIP_GROUP_DELETE(418659) because holders of that lock are waiting for ForsetiClient[transactionId=158111, clientId=3].\\n Wait list:ExclusiveLock[\\nClient[158106] waits for [ForsetiClient[transactionId=158111, clientId=3]]]\": 1, \"ForsetiClient[transactionId=158076, clientId=52] can't acquire ExclusiveLock{owner=ForsetiClient[transactionId=158094, clientId=66]} on NODE_RELATIONSHIP_GROUP_DELETE(416249) because holders of that lock are waiting for ForsetiClient[transactionId=158076, clientId=52].\\n Wait list:ExclusiveLock[\\nClient[158094] waits for [ForsetiClient[transactionId=158076, clientId=52],ForsetiClient[transactionId=158092, clientId=7],ForsetiClient[transactionId=158088, clientId=61]]]\": 1, \"ForsetiClient[transactionId=158069, clientId=41] can't acquire ExclusiveLock{owner=ForsetiClient[transactionId=158080, clientId=55]} on NODE_RELATIONSHIP_GROUP_DELETE(416243) because holders of that lock are waiting for ForsetiClient[transactionId=158069, clientId=41].\\n Wait list:ExclusiveLock[\\nClient[158080] waits for [ForsetiClient[transactionId=158066, clientId=21],ForsetiClient[transactionId=158069, clientId=41]]]\": 1, \"ForsetiClient[transactionId=158126, clientId=80] can't acquire ExclusiveLock{owner=ForsetiClient[transactionId=158128, clientId=82]} on NODE_RELATIONSHIP_GROUP_DELETE(416935) because holders of that lock are waiting for ForsetiClient[transactionId=158126, clientId=80].\\n Wait list:ExclusiveLock[\\nClient[158128] waits for [ForsetiClient[transactionId=158126, clientId=80],ForsetiClient[transactionId=158113, clientId=50],ForsetiClient[transactionId=158122, clientId=76]]]\": 1, \"ForsetiClient[transactionId=158080, clientId=55] can't acquire ExclusiveLock{owner=ForsetiClient[transactionId=158066, clientId=21]} on NODE_RELATIONSHIP_GROUP_DELETE(417648) because holders of that lock are waiting for ForsetiClient[transactionId=158080, clientId=55].\\n Wait list:ExclusiveLock[\\nClient[158066] waits for [ForsetiClient[transactionId=158080, clientId=55],ForsetiClient[transactionId=158081, clientId=56],ForsetiClient[transactionId=158069, clientId=41]]]\": 1, \"ForsetiClient[transactionId=158072, clientId=48] can't acquire ExclusiveLock{owner=ForsetiClient[transactionId=158067, clientId=37]} on NODE_RELATIONSHIP_GROUP_DELETE(416181) because holders of that lock are waiting for ForsetiClient[transactionId=158072, clientId=48].\\n Wait list:ExclusiveLock[\\nClient[158067] waits for [ForsetiClient[transactionId=158072, clientId=48]]]\": 1, \"ForsetiClient[transactionId=158129, clientId=83] can't acquire ExclusiveLock{owner=ForsetiClient[transactionId=158106, clientId=61]} on NODE_RELATIONSHIP_GROUP_DELETE(416752) because holders of that lock are waiting for ForsetiClient[transactionId=158129, clientId=83].\\n Wait list:ExclusiveLock[\\nClient[158106] waits for [ForsetiClient[transactionId=158105, clientId=66],ForsetiClient[transactionId=158129, clientId=83],ForsetiClient[transactionId=158118, clientId=73]]]\": 1, \"ForsetiClient[transactionId=158131, clientId=85] can't acquire ExclusiveLock{owner=ForsetiClient[transactionId=158106, clientId=61]} on NODE_RELATIONSHIP_GROUP_DELETE(416331) because holders of that lock are waiting for ForsetiClient[transactionId=158131, clientId=85].\\n Wait list:ExclusiveLock[\\nClient[158106] waits for [ForsetiClient[transactionId=158131, clientId=85]]]\": 1, \"ForsetiClient[transactionId=158094, clientId=66] can't acquire ExclusiveLock{owner=ForsetiClient[transactionId=158082, clientId=57]} on NODE_RELATIONSHIP_GROUP_DELETE(416331) because holders of that lock are waiting for ForsetiClient[transactionId=158094, clientId=66].\\n Wait list:ExclusiveLock[\\nClient[158082] waits for [ForsetiClient[transactionId=158094, clientId=66]]]\": 1, \"ForsetiClient[transactionId=158074, clientId=50] can't acquire ExclusiveLock{owner=ForsetiClient[transactionId=158067, clientId=37]} on NODE_RELATIONSHIP_GROUP_DELETE(416445) because holders of that lock are waiting for ForsetiClient[transactionId=158074, clientId=50].\\n Wait list:ExclusiveLock[\\nClient[158067] waits for [ForsetiClient[transactionId=158074, clientId=50]]]\": 1, \"ForsetiClient[transactionId=158134, clientId=70] can't acquire ExclusiveLock{owner=ForsetiClient[transactionId=158106, clientId=61]} on NODE_RELATIONSHIP_GROUP_DELETE(417110) because holders of that lock are waiting for ForsetiClient[transactionId=158134, clientId=70].\\n Wait list:ExclusiveLock[\\nClient[158106] waits for [ForsetiClient[transactionId=158111, clientId=3],ForsetiClient[transactionId=158134, clientId=70]]]\": 1, \"ForsetiClient[transactionId=158085, clientId=59] can't acquire ExclusiveLock{owner=ForsetiClient[transactionId=158098, clientId=70]} on NODE_RELATIONSHIP_GROUP_DELETE(418289) because holders of that lock are waiting for ForsetiClient[transactionId=158085, clientId=59].\\n Wait list:ExclusiveLock[\\nClient[158098] waits for [ForsetiClient[transactionId=158085, clientId=59]]]\": 1, \"ForsetiClient[transactionId=158081, clientId=56] can't acquire ExclusiveLock{owner=ForsetiClient[transactionId=158080, clientId=55]} on NODE_RELATIONSHIP_GROUP_DELETE(417511) because holders of that lock are waiting for ForsetiClient[transactionId=158081, clientId=56].\\n Wait list:ExclusiveLock[\\nClient[158080] waits for [ForsetiClient[transactionId=158066, clientId=21],ForsetiClient[transactionId=158081, clientId=56]]]\": 1, \"ForsetiClient[transactionId=158070, clientId=11] can't acquire ExclusiveLock{owner=ForsetiClient[transactionId=158067, clientId=37]} on NODE_RELATIONSHIP_GROUP_DELETE(416193) because holders of that lock are waiting for ForsetiClient[transactionId=158070, clientId=11].\\n Wait list:ExclusiveLock[\\nClient[158067] waits for [ForsetiClient[transactionId=158070, clientId=11]]]\": 1, \"ForsetiClient[transactionId=158082, clientId=57] can't acquire ExclusiveLock{owner=ForsetiClient[transactionId=158096, clientId=68]} on NODE_RELATIONSHIP_GROUP_DELETE(417123) because holders of that lock are waiting for ForsetiClient[transactionId=158082, clientId=57].\\n Wait list:ExclusiveLock[\\nClient[158096] waits for [ForsetiClient[transactionId=158091, clientId=64],ForsetiClient[transactionId=158079, clientId=54],ForsetiClient[transactionId=158080, clientId=55],ForsetiClient[transactionId=158082, clientId=57],ForsetiClient[transactionId=158090, clientId=63]]]\": 1, \"ForsetiClient[transactionId=158124, clientId=78] can't acquire ExclusiveLock{owner=ForsetiClient[transactionId=158097, clientId=69]} on NODE_RELATIONSHIP_GROUP_DELETE(416112) because holders of that lock are waiting for ForsetiClient[transactionId=158124, clientId=78].\\n Wait list:ExclusiveLock[\\nClient[158097] waits for [ForsetiClient[transactionId=158104, clientId=7],ForsetiClient[transactionId=158124, clientId=78],ForsetiClient[transactionId=158125, clientId=79]]]\": 1, \"ForsetiClient[transactionId=158107, clientId=60] can't acquire ExclusiveLock{owner=ForsetiClient[transactionId=158106, clientId=61]} on NODE_RELATIONSHIP_GROUP_DELETE(416331) because holders of that lock are waiting for ForsetiClient[transactionId=158107, clientId=60].\\n Wait list:ExclusiveLock[\\nClient[158106] waits for [ForsetiClient[transactionId=158107, clientId=60]]]\": 1, \"ForsetiClient[transactionId=158127, clientId=81] can't acquire ExclusiveLock{owner=ForsetiClient[transactionId=158106, clientId=61]} on NODE_RELATIONSHIP_GROUP_DELETE(417110) because holders of that lock are waiting for ForsetiClient[transactionId=158127, clientId=81].\\n Wait list:ExclusiveLock[\\nClient[158106] waits for [ForsetiClient[transactionId=158127, clientId=81],ForsetiClient[transactionId=158102, clientId=67]]]\": 1, \"ForsetiClient[transactionId=158136, clientId=79] can't acquire ExclusiveLock{owner=ForsetiClient[transactionId=158106, clientId=61]} on NODE_RELATIONSHIP_GROUP_DELETE(416341) because holders of that lock are waiting for ForsetiClient[transactionId=158136, clientId=79].\\n Wait list:ExclusiveLock[\\nClient[158106] waits for [ForsetiClient[transactionId=158136, clientId=79]]]\": 1, \"ForsetiClient[transactionId=158078, clientId=53] can't acquire ExclusiveLock{owner=ForsetiClient[transactionId=158066, clientId=21]} on NODE_RELATIONSHIP_GROUP_DELETE(416671) because holders of that lock are waiting for ForsetiClient[transactionId=158078, clientId=53].\\n Wait list:ExclusiveLock[\\nClient[158066] waits for [ForsetiClient[transactionId=158083, clientId=50],ForsetiClient[transactionId=158078, clientId=53],ForsetiClient[transactionId=158098, clientId=70]]]\": 1, \"ForsetiClient[transactionId=158108, clientId=41] can't acquire ExclusiveLock{owner=ForsetiClient[transactionId=158123, clientId=77]} on NODE_RELATIONSHIP_GROUP_DELETE(416452) because holders of that lock are waiting for ForsetiClient[transactionId=158108, clientId=41].\\n Wait list:ExclusiveLock[\\nClient[158123] waits for [ForsetiClient[transactionId=158097, clientId=69],ForsetiClient[transactionId=158104, clientId=7],ForsetiClient[transactionId=158112, clientId=57],ForsetiClient[transactionId=158108, clientId=41],ForsetiClient[transactionId=158120, clientId=74],ForsetiClient[transactionId=158107, clientId=60],ForsetiClient[transactionId=158106, clientId=61]]]\": 1, \"ForsetiClient[transactionId=158113, clientId=50] can't acquire ExclusiveLock{owner=ForsetiClient[transactionId=158127, clientId=81]} on NODE_RELATIONSHIP_GROUP_DELETE(416226) because holders of that lock are waiting for ForsetiClient[transactionId=158113, clientId=50].\\n Wait list:ExclusiveLock[\\nClient[158127] waits for [ForsetiClient[transactionId=158126, clientId=80],ForsetiClient[transactionId=158128, clientId=82],ForsetiClient[transactionId=158113, clientId=50],ForsetiClient[transactionId=158102, clientId=67],ForsetiClient[transactionId=158122, clientId=76],ForsetiClient[transactionId=158106, clientId=61]]]\": 1, \"ForsetiClient[transactionId=158099, clientId=71] can't acquire ExclusiveLock{owner=ForsetiClient[transactionId=158098, clientId=70]} on NODE_RELATIONSHIP_GROUP_DELETE(416100) because holders of that lock are waiting for ForsetiClient[transactionId=158099, clientId=71].\\n Wait list:ExclusiveLock[\\nClient[158098] waits for [ForsetiClient[transactionId=158099, clientId=71],ForsetiClient[transactionId=158085, clientId=59]]]\": 1, \"ForsetiClient[transactionId=158103, clientId=52] can't acquire ExclusiveLock{owner=ForsetiClient[transactionId=158106, clientId=61]} on NODE_RELATIONSHIP_GROUP_DELETE(417110) because holders of that lock are waiting for ForsetiClient[transactionId=158103, clientId=52].\\n Wait list:ExclusiveLock[\\nClient[158106] waits for [ForsetiClient[transactionId=158103, clientId=52]]]\": 1, \"ForsetiClient[transactionId=158068, clientId=7] can't acquire ExclusiveLock{owner=ForsetiClient[transactionId=158067, clientId=37]} on NODE_RELATIONSHIP_GROUP_DELETE(416055) because holders of that lock are waiting for ForsetiClient[transactionId=158068, clientId=7].\\n Wait list:ExclusiveLock[\\nClient[158067] waits for [ForsetiClient[transactionId=158068, clientId=7]]]\": 1, \"ForsetiClient[transactionId=158128, clientId=82] can't acquire ExclusiveLock{owner=ForsetiClient[transactionId=158107, clientId=60]} on NODE_RELATIONSHIP_GROUP_DELETE(417114) because holders of that lock are waiting for ForsetiClient[transactionId=158128, clientId=82].\\n Wait list:ExclusiveLock[\\nClient[158107] waits for [ForsetiClient[transactionId=158128, clientId=82],ForsetiClient[transactionId=158112, clientId=57],ForsetiClient[transactionId=158122, clientId=76]]]\": 1, \"ForsetiClient[transactionId=158090, clientId=63] can't acquire ExclusiveLock{owner=ForsetiClient[transactionId=158098, clientId=70]} on NODE_RELATIONSHIP_GROUP_DELETE(416491) because holders of that lock are waiting for ForsetiClient[transactionId=158090, clientId=63].\\n Wait list:ExclusiveLock[\\nClient[158098] waits for [ForsetiClient[transactionId=158077, clientId=11],ForsetiClient[transactionId=158090, clientId=63]]]\": 1, \"ForsetiClient[transactionId=158102, clientId=67] can't acquire ExclusiveLock{owner=ForsetiClient[transactionId=158106, clientId=61]} on NODE_RELATIONSHIP_GROUP_DELETE(416591) because holders of that lock are waiting for ForsetiClient[transactionId=158102, clientId=67].\\n Wait list:ExclusiveLock[\\nClient[158106] waits for [ForsetiClient[transactionId=158127, clientId=81],ForsetiClient[transactionId=158102, clientId=67]]]\": 1, \"ForsetiClient[transactionId=158079, clientId=54] can't acquire ExclusiveLock{owner=ForsetiClient[transactionId=158090, clientId=63]} on NODE_RELATIONSHIP_GROUP_DELETE(417109) because holders of that lock are waiting for ForsetiClient[transactionId=158079, clientId=54].\\n Wait list:ExclusiveLock[\\nClient[158090] waits for [ForsetiClient[transactionId=158086, clientId=48],ForsetiClient[transactionId=158073, clientId=49],ForsetiClient[transactionId=158075, clientId=51],ForsetiClient[transactionId=158098, clientId=70],ForsetiClient[transactionId=158079, clientId=54]]]\": 1, \"ForsetiClient[transactionId=158118, clientId=73] can't acquire ExclusiveLock{owner=ForsetiClient[transactionId=158106, clientId=61]} on NODE_RELATIONSHIP_GROUP_DELETE(416112) because holders of that lock are waiting for ForsetiClient[transactionId=158118, clientId=73].\\n Wait list:ExclusiveLock[\\nClient[158106] waits for [ForsetiClient[transactionId=158118, clientId=73]]]\": 1, \"ForsetiClient[transactionId=158104, clientId=7] can't acquire ExclusiveLock{owner=ForsetiClient[transactionId=158123, clientId=77]} on NODE_RELATIONSHIP_GROUP_DELETE(416250) because holders of that lock are waiting for ForsetiClient[transactionId=158104, clientId=7].\\n Wait list:ExclusiveLock[\\nClient[158123] waits for [ForsetiClient[transactionId=158097, clientId=69],ForsetiClient[transactionId=158104, clientId=7],ForsetiClient[transactionId=158120, clientId=74],ForsetiClient[transactionId=158107, clientId=60],ForsetiClient[transactionId=158106, clientId=61]]]\": 1, \"ForsetiClient[transactionId=158130, clientId=84] can't acquire ExclusiveLock{owner=ForsetiClient[transactionId=158106, clientId=61]} on NODE_RELATIONSHIP_GROUP_DELETE(416862) because holders of that lock are waiting for ForsetiClient[transactionId=158130, clientId=84].\\n Wait list:ExclusiveLock[\\nClient[158106] waits for [ForsetiClient[transactionId=158130, clientId=84]]]\": 1, \"ForsetiClient[transactionId=158100, clientId=37] can't acquire ExclusiveLock{owner=ForsetiClient[transactionId=158098, clientId=70]} on NODE_RELATIONSHIP_GROUP_DELETE(416203) because holders of that lock are waiting for ForsetiClient[transactionId=158100, clientId=37].\\n Wait list:ExclusiveLock[\\nClient[158098] waits for [ForsetiClient[transactionId=158100, clientId=37]]]\": 1, \"ForsetiClient[transactionId=158122, clientId=76] can't acquire ExclusiveLock{owner=ForsetiClient[transactionId=158113, clientId=50]} on NODE_RELATIONSHIP_GROUP_DELETE(416198) because holders of that lock are waiting for ForsetiClient[transactionId=158122, clientId=76].\\n Wait list:ExclusiveLock[\\nClient[158113] waits for [ForsetiClient[transactionId=158126, clientId=80],ForsetiClient[transactionId=158127, clientId=81],ForsetiClient[transactionId=158128, clientId=82],ForsetiClient[transactionId=158102, clientId=67],ForsetiClient[transactionId=158122, clientId=76],ForsetiClient[transactionId=158106, clientId=61]]]\": 1, \"ForsetiClient[transactionId=158117, clientId=72] can't acquire ExclusiveLock{owner=ForsetiClient[transactionId=158106, clientId=61]} on NODE_RELATIONSHIP_GROUP_DELETE(416112) because holders of that lock are waiting for ForsetiClient[transactionId=158117, clientId=72].\\n Wait list:ExclusiveLock[\\nClient[158106] waits for [ForsetiClient[transactionId=158119, clientId=55],ForsetiClient[transactionId=158117, clientId=72]]]\": 1, \"ForsetiClient[transactionId=158096, clientId=68] can't acquire ExclusiveLock{owner=ForsetiClient[transactionId=158098, clientId=70]} on NODE_RELATIONSHIP_GROUP_DELETE(416448) because holders of that lock are waiting for ForsetiClient[transactionId=158096, clientId=68].\\n Wait list:ExclusiveLock[\\nClient[158098] waits for [ForsetiClient[transactionId=158096, clientId=68],ForsetiClient[transactionId=158084, clientId=58]]]\": 1, \"ForsetiClient[transactionId=158125, clientId=79] can't acquire ExclusiveLock{owner=ForsetiClient[transactionId=158104, clientId=7]} on NODE_RELATIONSHIP_GROUP_DELETE(416100) because holders of that lock are waiting for ForsetiClient[transactionId=158125, clientId=79].\\n Wait list:ExclusiveLock[\\nClient[158104] waits for [ForsetiClient[transactionId=158097, clientId=69],ForsetiClient[transactionId=158116, clientId=11],ForsetiClient[transactionId=158123, clientId=77],ForsetiClient[transactionId=158124, clientId=78],ForsetiClient[transactionId=158125, clientId=79]]]\": 1, \"ForsetiClient[transactionId=158066, clientId=21] can't acquire ExclusiveLock{owner=ForsetiClient[transactionId=158098, clientId=70]} on NODE_RELATIONSHIP_GROUP_DELETE(416112) because holders of that lock are waiting for ForsetiClient[transactionId=158066, clientId=21].\\n Wait list:ExclusiveLock[\\nClient[158098] waits for [ForsetiClient[transactionId=158066, clientId=21],ForsetiClient[transactionId=158078, clientId=53]]]\": 1, \"ForsetiClient[transactionId=158086, clientId=48] can't acquire ExclusiveLock{owner=ForsetiClient[transactionId=158098, clientId=70]} on NODE_RELATIONSHIP_GROUP_DELETE(416267) because holders of that lock are waiting for ForsetiClient[transactionId=158086, clientId=48].\\n Wait list:ExclusiveLock[\\nClient[158098] waits for [ForsetiClient[transactionId=158086, clientId=48],ForsetiClient[transactionId=158075, clientId=51],ForsetiClient[transactionId=158079, clientId=54]]]\": 1, \"ForsetiClient[transactionId=158116, clientId=11] can't acquire ExclusiveLock{owner=ForsetiClient[transactionId=158097, clientId=69]} on NODE_RELATIONSHIP_GROUP_DELETE(416754) because holders of that lock are waiting for ForsetiClient[transactionId=158116, clientId=11].\\n Wait list:ExclusiveLock[\\nClient[158097] waits for [ForsetiClient[transactionId=158104, clientId=7],ForsetiClient[transactionId=158120, clientId=74],ForsetiClient[transactionId=158116, clientId=11],ForsetiClient[transactionId=158107, clientId=60],ForsetiClient[transactionId=158123, clientId=77]]]\": 1, \"ForsetiClient[transactionId=158119, clientId=55] can't acquire ExclusiveLock{owner=ForsetiClient[transactionId=158117, clientId=72]} on NODE_RELATIONSHIP_GROUP_DELETE(417370) because holders of that lock are waiting for ForsetiClient[transactionId=158119, clientId=55].\\n Wait list:ExclusiveLock[\\nClient[158117] waits for [ForsetiClient[transactionId=158119, clientId=55],ForsetiClient[transactionId=158106, clientId=61]]]\": 1, \"ForsetiClient[transactionId=158075, clientId=51] can't acquire ExclusiveLock{owner=ForsetiClient[transactionId=158086, clientId=48]} on NODE_RELATIONSHIP_GROUP_DELETE(416077) because holders of that lock are waiting for ForsetiClient[transactionId=158075, clientId=51].\\n Wait list:ExclusiveLock[\\nClient[158086] waits for [ForsetiClient[transactionId=158075, clientId=51],ForsetiClient[transactionId=158098, clientId=70],ForsetiClient[transactionId=158079, clientId=54]]]\": 1, \"ForsetiClient[transactionId=158089, clientId=62] can't acquire ExclusiveLock{owner=ForsetiClient[transactionId=158098, clientId=70]} on NODE_RELATIONSHIP_GROUP_DELETE(416203) because holders of that lock are waiting for ForsetiClient[transactionId=158089, clientId=62].\\n Wait list:ExclusiveLock[\\nClient[158098] waits for [ForsetiClient[transactionId=158089, clientId=62],ForsetiClient[transactionId=158090, clientId=63]]]\": 1, \"ForsetiClient[transactionId=158091, clientId=64] can't acquire ExclusiveLock{owner=ForsetiClient[transactionId=158082, clientId=57]} on NODE_RELATIONSHIP_GROUP_DELETE(416267) because holders of that lock are waiting for ForsetiClient[transactionId=158091, clientId=64].\\n Wait list:ExclusiveLock[\\nClient[158082] waits for [ForsetiClient[transactionId=158091, clientId=64],ForsetiClient[transactionId=158096, clientId=68],ForsetiClient[transactionId=158066, clientId=21],ForsetiClient[transactionId=158079, clientId=54],ForsetiClient[transactionId=158080, clientId=55],ForsetiClient[transactionId=158081, clientId=56],ForsetiClient[transactionId=158090, clientId=63]]]\": 1, \"ForsetiClient[transactionId=158110, clientId=55] can't acquire ExclusiveLock{owner=ForsetiClient[transactionId=158098, clientId=70]} on NODE_RELATIONSHIP_GROUP_DELETE(416685) because holders of that lock are waiting for ForsetiClient[transactionId=158110, clientId=55].\\n Wait list:ExclusiveLock[\\nClient[158098] waits for [ForsetiClient[transactionId=158110, clientId=55]]]\": 1, \"ForsetiClient[transactionId=158093, clientId=65] can't acquire ExclusiveLock{owner=ForsetiClient[transactionId=158098, clientId=70]} on NODE_RELATIONSHIP_GROUP_DELETE(416267) because holders of that lock are waiting for ForsetiClient[transactionId=158093, clientId=65].\\n Wait list:ExclusiveLock[\\nClient[158098] waits for [ForsetiClient[transactionId=158093, clientId=65]]]\": 1, \"ForsetiClient[transactionId=158133, clientId=86] can't acquire ExclusiveLock{owner=ForsetiClient[transactionId=158106, clientId=61]} on NODE_RELATIONSHIP_GROUP_DELETE(416248) because holders of that lock are waiting for ForsetiClient[transactionId=158133, clientId=86].\\n Wait list:ExclusiveLock[\\nClient[158106] waits for [ForsetiClient[transactionId=158105, clientId=66],ForsetiClient[transactionId=158133, clientId=86]]]\": 1}, 'committed': 30000, 'failed': 667656} wasTerminated=False failedParams={} updateStatistics={'relationshipsDeleted': 0, 'relationshipsCreated': 30000, 'nodesDeleted': 0, 'nodesCreated': 0, 'labelsRemoved': 0, 'labelsAdded': 0, 'propertiesSet': 90000}>]"
      ]
     },
     "execution_count": 26,
     "metadata": {},
     "output_type": "execute_result"
    }
   ],
   "source": [
    "# Rewiewed relationship\n",
    "run(driver, textwrap.dedent(\"\"\"\\\n",
    "    CALL apoc.periodic.iterate(\n",
    "        'LOAD CSV WITH HEADERS FROM $file AS row RETURN row',\n",
    "        'MERGE (user:User {id: row.user_id})\n",
    "        MERGE (recipe:Recipe {id: row.recipe_id})\n",
    "        MERGE (user)-[r:REVIEWED {\n",
    "            date: date(row.date),\n",
    "            rating: toInteger(row.rating),\n",
    "            review: row.review\n",
    "        }]->(recipe)',\n",
    "        {batchSize:10000, parallel:true, params: {file: $file}}\n",
    "    )\n",
    "    \"\"\"),\n",
    "    params = {'file': os.path.join(NEO4j_IMPORT_PATH, 'reviewed.csv')}\n",
    ")"
   ]
  },
  {
   "cell_type": "code",
   "execution_count": 27,
   "metadata": {},
   "outputs": [],
   "source": [
    "driver.close()"
   ]
  }
 ],
 "metadata": {
  "kernelspec": {
   "display_name": "Python 3",
   "language": "python",
   "name": "python3"
  },
  "language_info": {
   "codemirror_mode": {
    "name": "ipython",
    "version": 3
   },
   "file_extension": ".py",
   "mimetype": "text/x-python",
   "name": "python",
   "nbconvert_exporter": "python",
   "pygments_lexer": "ipython3",
   "version": "3.10.12"
  },
  "orig_nbformat": 4
 },
 "nbformat": 4,
 "nbformat_minor": 2
}
